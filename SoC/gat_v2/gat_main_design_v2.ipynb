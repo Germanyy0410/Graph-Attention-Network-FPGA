{
 "cells": [
  {
   "cell_type": "markdown",
   "id": "cf4b7613",
   "metadata": {
    "extensions": {
     "jupyter_dashboards": {
      "version": 1,
      "views": {
       "default_view": {
        "col": 0,
        "height": 2,
        "row": 0,
        "width": 12
       }
      }
     }
    }
   },
   "source": [
    "| Register Name                | Interface       | Slave Segment  | Master Base Address | Range  | Master High Address |\n",
    "|------------------------------|----------------|---------------|---------------------|--------|---------------------|\n",
    "| Sysreg                       | S00_AXI        | S00_AXI_reg   | 0xA001_0000        | 64K    | 0xA001_FFFF        |\n",
    "| AXI CDMA S_AXI_LITE          | S_AXI_LITE     | Reg           | 0xA000_0000        | 64K    | 0xA000_FFFF        |\n",
    "| Output Data (bram_ctrl)      | S_AXI          | Mem0          | 0xE800_0000        | 256K   | 0xD003_FFFF        |\n",
    "| h_data (bram_ctrl)           | S_AXI          | Mem0          | 0xE000_0000        | 1M     | 0xE00F_FFFF        |\n",
    "| node_info (bram_ctrl)        | S_AXI          | Mem0          | 0xE200_0000        | 64K    | 0xE200_FFFF        |\n",
    "| wgt_a (bram_ctrl)            | S_AXI          | Mem0          | 0xE400_0000        | 128K   | 0xE401_FFFF        |\n",
    "| DDR Low                      | S_AXI_HP0_FPD  | HP0_DDR_LOW   | 0x0000_0000        | 2G     | 0x7FFF_FFFF        |\n",
    "| QSPI                         | S_AXI_HP0_FPD  | HP0_QSPI      | 0xC100_0000        | 16M    | 0xC1FF_FFFF        |\n",
    "\n",
    "\n"
   ]
  },
  {
   "cell_type": "code",
   "execution_count": 1,
   "id": "29db1d33",
   "metadata": {},
   "outputs": [
    {
     "data": {
      "application/javascript": "\ntry {\nrequire(['notebook/js/codecell'], function(codecell) {\n  codecell.CodeCell.options_default.highlight_modes[\n      'magic_text/x-csrc'] = {'reg':[/^%%microblaze/]};\n  Jupyter.notebook.events.one('kernel_ready.Kernel', function(){\n      Jupyter.notebook.get_cells().map(function(cell){\n          if (cell.cell_type == 'code'){ cell.auto_highlight(); } }) ;\n  });\n});\n} catch (e) {};\n"
     },
     "metadata": {},
     "output_type": "display_data"
    },
    {
     "data": {
      "application/javascript": "\ntry {\nrequire(['notebook/js/codecell'], function(codecell) {\n  codecell.CodeCell.options_default.highlight_modes[\n      'magic_text/x-csrc'] = {'reg':[/^%%pybind11/]};\n  Jupyter.notebook.events.one('kernel_ready.Kernel', function(){\n      Jupyter.notebook.get_cells().map(function(cell){\n          if (cell.cell_type == 'code'){ cell.auto_highlight(); } }) ;\n  });\n});\n} catch (e) {};\n"
     },
     "metadata": {},
     "output_type": "display_data"
    }
   ],
   "source": [
    "import os\n",
    "import sys\n",
    "import time\n",
    "import pynq\n",
    "from pynq import Overlay, allocate, MMIO\n",
    "import numpy as np\n",
    "from pynq_cdma import CDMA\n",
    "from pprint import pprint\n",
    "from prettytable import PrettyTable"
   ]
  },
  {
   "cell_type": "code",
   "execution_count": 2,
   "id": "36e0427b",
   "metadata": {},
   "outputs": [],
   "source": [
    "# DATASET = \"Cora\"\n",
    "DATASET = \"CiteSeer\""
   ]
  },
  {
   "cell_type": "code",
   "execution_count": 3,
   "id": "60f5b77b",
   "metadata": {},
   "outputs": [],
   "source": [
    "dataset = DATASET.lower()\n",
    "os.environ[\"DATASET\"] = DATASET\n",
    "os.environ[\"GATHOME\"] = '/root/GAT_FPGA/gat_v2'\n",
    "os.environ[\"DATASET_PATH\"] = f'/root/GAT_FPGA/gat_v2/data/{dataset}/'\n",
    "gat_main_path = os.getenv(\"GATHOME\")\n",
    "gat_dataset_path = os.getenv(\"DATASET_PATH\")"
   ]
  },
  {
   "cell_type": "code",
   "execution_count": 4,
   "id": "9d100b8b",
   "metadata": {},
   "outputs": [
    {
     "name": "stdout",
     "output_type": "stream",
     "text": [
      "DONE\n"
     ]
    }
   ],
   "source": [
    "sys.path.append(os.path.abspath(\"/root/GAT_FPGA/misc\"))\n",
    "from log import log\n",
    "from LoadData import LoadData\n",
    "from BRAM import BRAM\n",
    "\n",
    "from LoadData import binary_to_decimal, decimal_to_binary\n",
    "from Helper import *\n",
    "from Validate import validate_input, validate_output\n",
    "from Accelerator import Accelerator\n",
    "from Quantization import *\n",
    "print(\"DONE\")"
   ]
  },
  {
   "cell_type": "code",
   "execution_count": 5,
   "id": "d92d8443",
   "metadata": {
    "extensions": {
     "jupyter_dashboards": {
      "version": 1,
      "views": {
       "default_view": {
        "hidden": true
       }
      }
     }
    }
   },
   "outputs": [
    {
     "name": "stdout",
     "output_type": "stream",
     "text": [
      "214.283571\n"
     ]
    }
   ],
   "source": [
    "print(pynq.ps.Clocks.fclk0_mhz)"
   ]
  },
  {
   "cell_type": "markdown",
   "id": "47b82420",
   "metadata": {},
   "source": [
    "# Select Dataset"
   ]
  },
  {
   "cell_type": "code",
   "execution_count": 6,
   "id": "ce8accf1",
   "metadata": {},
   "outputs": [
    {
     "data": {
      "text/plain": [
       "{'GAT': {'hiddenChannel': 16, 'head': 1},\n",
       " 'model': {'savePath': '/root/GAT_FPGA/model/citeseer_model.pth',\n",
       "  'scaleMin': -127,\n",
       "  'scaleMax': 127},\n",
       " 'dataset': {'root': 'data/Planetoid',\n",
       "  'name': 'CiteSeer',\n",
       "  'normalization': False}}"
      ]
     },
     "execution_count": 6,
     "metadata": {},
     "output_type": "execute_result"
    }
   ],
   "source": [
    "GlobalConfiguration"
   ]
  },
  {
   "cell_type": "code",
   "execution_count": 7,
   "id": "aa02499e",
   "metadata": {},
   "outputs": [],
   "source": [
    "layer_1 = 0\n",
    "layer_2 = 1\n",
    "full_layer = 2"
   ]
  },
  {
   "cell_type": "code",
   "execution_count": 8,
   "id": "37aa2390",
   "metadata": {},
   "outputs": [],
   "source": [
    "if DATASET == \"Cora\":\n",
    "    H_DATA_DEPTH_LAYER1, WEIGHT_DEPTH_LAYER1, NODE_INFO_DEPTH, FEAT_DEPTH_LAYER1 = 242101, 23086, 13264, 43328\n",
    "    H_DATA_DEPTH_LAYER2, WEIGHT_DEPTH_LAYER2, FEAT_DEPTH_LAYER2 = 212224, 126, 18956\n",
    "\n",
    "elif DATASET == \"CiteSeer\":\n",
    "    H_DATA_DEPTH_LAYER1, WEIGHT_DEPTH_LAYER1, NODE_INFO_DEPTH, FEAT_DEPTH_LAYER1 = 399089, 59388, 12383, 52464\n",
    "    H_DATA_DEPTH_LAYER2, WEIGHT_DEPTH_LAYER2, FEAT_DEPTH_LAYER2 = 198128, 108, 19674"
   ]
  },
  {
   "cell_type": "code",
   "execution_count": 9,
   "id": "9da68a46",
   "metadata": {},
   "outputs": [],
   "source": [
    "h_data_bram    = BRAM(0xE0000000, H_DATA_DEPTH_LAYER1)\n",
    "node_info_bram = BRAM(0xE2000000, NODE_INFO_DEPTH)\n",
    "weight_bram    = BRAM(0xE4000000, WEIGHT_DEPTH_LAYER1)\n",
    "subgraph_index_bram = BRAM(0xE6000000, NODE_INFO_DEPTH)\n",
    "feat_out_bram  = BRAM(0xE8000000, FEAT_DEPTH_LAYER2)\n",
    "\n",
    "BramLayer1 = {\n",
    "    \"h_data\"    : h_data_bram,\n",
    "    \"node_info\" : node_info_bram,\n",
    "    \"weight\"    : weight_bram,\n",
    "    \"subgraph_index\": subgraph_index_bram,\n",
    "    \"feat_out\"  : feat_out_bram\n",
    "}"
   ]
  },
  {
   "cell_type": "code",
   "execution_count": 10,
   "id": "784a94ec",
   "metadata": {},
   "outputs": [],
   "source": [
    "h_data_bram2  = BRAM(0xE0000000, H_DATA_DEPTH_LAYER2)\n",
    "weight_bram2  = BRAM(0xE4000000, WEIGHT_DEPTH_LAYER2)\n",
    "feat_out_bram = BRAM(0xE8000000, FEAT_DEPTH_LAYER2)\n",
    "\n",
    "BramLayer2 = {\n",
    "    \"h_data\"   : h_data_bram2,\n",
    "    \"weight\"   : weight_bram2,\n",
    "    \"feat_out\" : feat_out_bram\n",
    "}"
   ]
  },
  {
   "cell_type": "code",
   "execution_count": 11,
   "id": "8f6c05d1",
   "metadata": {},
   "outputs": [],
   "source": [
    "sysreg_ip = {\n",
    "    \"BASE_ADDR\": 0x00A0010000,\n",
    "    \"RANGE\"    : 64*1024\n",
    "}\n",
    "\n",
    "REG = {\n",
    "    \"gat_layer\"          : 0,\n",
    "    \"gat_load_done\"      : 4,\n",
    "    \"wgt_load_done\"      : 4,\n",
    "    \"h_data_load_done\"   : 8,\n",
    "    \"node_info_load_done\": 12,\n",
    "    \"gat_ready\"          : 16,\n",
    "    \"i_gat_debug_1\"      : 20,\n",
    "    \"i_gat_debug_2\"      : 24,\n",
    "    \"i_gat_debug_3\"      : 28,\n",
    "}"
   ]
  },
  {
   "cell_type": "markdown",
   "id": "1a47b69c",
   "metadata": {
    "extensions": {
     "jupyter_dashboards": {
      "version": 1,
      "views": {
       "default_view": {
        "col": 0,
        "height": 2,
        "row": 26,
        "width": 12
       }
      }
     }
    }
   },
   "source": [
    "## Prepare Data"
   ]
  },
  {
   "cell_type": "code",
   "execution_count": 12,
   "id": "02900038",
   "metadata": {},
   "outputs": [
    {
     "name": "stdout",
     "output_type": "stream",
     "text": [
      "Model parameters loaded from /root/GAT_FPGA/model/citeseer_model.pth\n"
     ]
    }
   ],
   "source": [
    "# Software\n",
    "data_loader_instance = DatasetLoaderV2()\n",
    "gat_instance = GATV2(data_loader_instance)\n",
    "model_instance = BuildModelV2(gat_instance)"
   ]
  },
  {
   "cell_type": "code",
   "execution_count": 13,
   "id": "e4192013",
   "metadata": {},
   "outputs": [],
   "source": [
    "overlay_gat = Overlay(f\"{gat_dataset_path}hw/design_gat_wrapper.bit\")"
   ]
  },
  {
   "cell_type": "markdown",
   "id": "8847c255",
   "metadata": {},
   "source": [
    "## Layer 1"
   ]
  },
  {
   "cell_type": "code",
   "execution_count": 14,
   "id": "9abcd711",
   "metadata": {
    "scrolled": true
   },
   "outputs": [],
   "source": [
    "accelerator = Accelerator(overlay_gat, sysreg_ip, BramLayer1)"
   ]
  },
  {
   "cell_type": "code",
   "execution_count": 15,
   "id": "e7c64b26",
   "metadata": {
    "scrolled": false
   },
   "outputs": [
    {
     "name": "stdout",
     "output_type": "stream",
     "text": [
      "[LoadData] : reading /root/GAT_FPGA/gat_v2/data/citeseer//layer_1/input/h_data.txt\n",
      "[LoadData] : reading /root/GAT_FPGA/gat_v2/data/citeseer//layer_1/input/node_info.txt\n",
      "[LoadData] : reading /root/GAT_FPGA/gat_v2/data/citeseer//layer_1/input/weight.txt\n",
      "[LoadData] : reading /root/GAT_FPGA/gat_v2/data/citeseer//layer_1/input/subgraph_index.txt\n",
      "\n",
      "[Accelerator] :  Transfering Time = 10.509 ms\n",
      "[Accelerator] :  Execution Time = 3.58 ms\n",
      "\n",
      "DONE\n"
     ]
    }
   ],
   "source": [
    "accelerator.prepare_data(full_layer)\n",
    "accelerator.transfer(full_layer)"
   ]
  },
  {
   "cell_type": "code",
   "execution_count": 16,
   "id": "96008ab2",
   "metadata": {},
   "outputs": [
    {
     "name": "stdout",
     "output_type": "stream",
     "text": [
      "[80.0, 192.0, 0.0, 494.0, 0.0, 61.0, 1023.8333435058594, 3016.3333282470703, 1331.0, 0.0, 0.0, 611.4999847412109, 0.0, 0.0, 639.0, 102.0, 0.0, 1780.0, 0.0, 86.66667175292969]\n"
     ]
    }
   ],
   "source": [
    "print(accelerator.result_final_layer[:20])"
   ]
  },
  {
   "cell_type": "markdown",
   "id": "9ab37ed3",
   "metadata": {},
   "source": [
    "## Layer 2"
   ]
  },
  {
   "cell_type": "code",
   "execution_count": 17,
   "id": "fa3c6853",
   "metadata": {},
   "outputs": [
    {
     "name": "stdout",
     "output_type": "stream",
     "text": [
      "======================= LAYER 2 VALIDATION =======================\n",
      "\n",
      "📊 [SUMMARY] → INFO: 15379 \t WARNING: 2953 \t ERROR: 1342\n",
      "==================================================================\n",
      "\n"
     ]
    }
   ],
   "source": [
    "validate_output(accelerator.result_final_layer, f\"{gat_dataset_path}/layer_2/\", report_status=\"NONE\")"
   ]
  },
  {
   "cell_type": "markdown",
   "id": "14ecd4e0",
   "metadata": {},
   "source": [
    "## Result"
   ]
  },
  {
   "cell_type": "code",
   "execution_count": 18,
   "id": "9cbaf673",
   "metadata": {},
   "outputs": [
    {
     "name": "stdout",
     "output_type": "stream",
     "text": [
      "torch.Size([3327, 3703])\n",
      "\n",
      "===================== FEATURE CLASSIFICATION =====================\n",
      "- Dataset : \u001b[91mCiteSeer\u001b[0m - v2.0\n",
      "- Golden  : tensor([3, 1, 5,  ..., 3, 1, 5])\n",
      "- DUT     : tensor([3, 1, 5,  ..., 2, 1, 5])\n",
      " => Accuracy = \u001b[92m66.3\u001b[0m % (663 / 1000)\n",
      "==================================================================\n"
     ]
    }
   ],
   "source": [
    "handle_classification(accelerator.result_final_layer, data_loader_instance, 2)"
   ]
  },
  {
   "cell_type": "markdown",
   "id": "d60c1afa",
   "metadata": {},
   "source": [
    "### Debugger"
   ]
  },
  {
   "cell_type": "code",
   "execution_count": 19,
   "id": "4b9536bb",
   "metadata": {},
   "outputs": [
    {
     "name": "stdout",
     "output_type": "stream",
     "text": [
      "Last modified: 14:04 - 22/04\n"
     ]
    }
   ],
   "source": [
    "format_print(accelerator.sysreg.read(REG[\"i_gat_debug_3\"]))"
   ]
  },
  {
   "cell_type": "code",
   "execution_count": 20,
   "id": "b4906bb6",
   "metadata": {},
   "outputs": [],
   "source": [
    "# import matplotlib.pyplot as plt\n",
    "# from sklearn.manifold import TSNE\n",
    "# import numpy as np"
   ]
  }
 ],
 "metadata": {
  "extensions": {
   "jupyter_dashboards": {
    "activeView": "default_view",
    "version": 1,
    "views": {
     "default_view": {
      "cellMargin": 10,
      "defaultCellHeight": 40,
      "maxColumns": 12,
      "name": "active_view",
      "type": "grid"
     }
    }
   }
  },
  "kernelspec": {
   "display_name": "Python 3 (ipykernel)",
   "language": "python",
   "name": "python3"
  },
  "language_info": {
   "codemirror_mode": {
    "name": "ipython",
    "version": 3
   },
   "file_extension": ".py",
   "mimetype": "text/x-python",
   "name": "python",
   "nbconvert_exporter": "python",
   "pygments_lexer": "ipython3",
   "version": "3.8.10"
  }
 },
 "nbformat": 4,
 "nbformat_minor": 5
}
