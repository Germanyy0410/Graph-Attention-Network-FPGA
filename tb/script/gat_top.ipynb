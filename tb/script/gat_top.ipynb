{
 "cells": [
  {
   "cell_type": "code",
   "execution_count": 91,
   "metadata": {},
   "outputs": [],
   "source": [
    "import os\n",
    "import math\n",
    "import random\n",
    "from pprint import pprint"
   ]
  },
  {
   "cell_type": "markdown",
   "metadata": {},
   "source": [
    "#### 0. Configuration\n",
    "*(Modify here only)*"
   ]
  },
  {
   "cell_type": "code",
   "execution_count": 92,
   "metadata": {},
   "outputs": [],
   "source": [
    "params = {\n",
    "  \"H_NUM_OF_ROWS\" : 200,\n",
    "  \"H_NUM_OF_COLS\" : 21,         # WARNING: Do not set as powers of 2.\n",
    "\n",
    "  \"W_NUM_OF_ROWS\" : 21,\n",
    "  \"W_NUM_OF_COLS\" : 16,\n",
    "\n",
    "  \"NUM_OF_NODES\"  : 18,          # WARNING: Do not set as powers of 2.\n",
    "}"
   ]
  },
  {
   "cell_type": "code",
   "execution_count": 93,
   "metadata": {},
   "outputs": [],
   "source": [
    "CORA_DATASET_ENABLE = 1         # 1: enable for Cora dataset    0: enable for other dataset\n",
    "UPDATE_INPUT_TXT    = 1         # 1: update inputs/*.txt        0: do not update inputs/*.txt"
   ]
  },
  {
   "cell_type": "markdown",
   "metadata": {},
   "source": [
    "#### 1. Random Inputs"
   ]
  },
  {
   "cell_type": "code",
   "execution_count": 94,
   "metadata": {},
   "outputs": [],
   "source": [
    "params.update({\n",
    "  \"H_DATA_DEPTH\"    : 0,                                # số lượng col_idx tổng cộng\n",
    "  \"NODE_INFO_DEPTH\" : 0,                                # số lượng node tổng cộng\n",
    "  \"WEIGHT_DEPTH\"    : 0,                                # = W_ROWS * W_COLS\n",
    "  \"WH_DEPTH\"        : 0,                                # = số lượng node tổng cộng\n",
    "  \"A_DEPTH\"         : params[\"W_NUM_OF_COLS\"] * 2,      # = W_COLS * 2\n",
    "})"
   ]
  },
  {
   "cell_type": "code",
   "execution_count": 95,
   "metadata": {
    "notebookRunGroups": {
     "groupValue": "2"
    }
   },
   "outputs": [],
   "source": [
    "def random_matrix(rows, cols, sparsity_percent, min=-127, max=127):\n",
    "  neg_percent = 20\n",
    "  total_elements = rows * cols\n",
    "  num_zeros = int(total_elements * sparsity_percent / 100)\n",
    "  num_non_zeros = total_elements - num_zeros\n",
    "\n",
    "  num_negatives = int(num_non_zeros * neg_percent / 100)\n",
    "  num_positives = num_non_zeros - num_negatives\n",
    "\n",
    "  matrix_elements = (\n",
    "      [0] * num_zeros +\n",
    "      [random.randint(min, -1) for _ in range(num_negatives)] +\n",
    "      [random.randint(1, max) for _ in range(num_positives)]\n",
    "  )\n",
    "\n",
    "  random.shuffle(matrix_elements)\n",
    "\n",
    "  sparse_matrix = []\n",
    "  for i in range(rows):\n",
    "    sparse_matrix.append(matrix_elements[i * cols:(i + 1) * cols])\n",
    "\n",
    "  # Ensure no row is completely zero\n",
    "  for row in sparse_matrix:\n",
    "    if all(value == 0 for value in row):\n",
    "      row[random.randint(0, cols - 1)] = random.randint(1, 9)\n",
    "\n",
    "  return sparse_matrix"
   ]
  },
  {
   "cell_type": "markdown",
   "metadata": {},
   "source": [
    "##### Weight\n"
   ]
  },
  {
   "cell_type": "code",
   "execution_count": 96,
   "metadata": {},
   "outputs": [],
   "source": [
    "weight = random_matrix(params[\"W_NUM_OF_ROWS\"], params[\"W_NUM_OF_COLS\"], 0, -31, 31)"
   ]
  },
  {
   "cell_type": "markdown",
   "metadata": {},
   "source": [
    "##### Weight Vector a"
   ]
  },
  {
   "cell_type": "code",
   "execution_count": 97,
   "metadata": {},
   "outputs": [],
   "source": [
    "# a = [1 if i < params[\"A_DEPTH\"] / 2 else 2 for i in range(params[\"A_DEPTH\"])]\n",
    "a = random_matrix(1, params[\"A_DEPTH\"], 0)[0]\n",
    "\n",
    "midpoint = len(a) // 2\n",
    "a_1 = a[:midpoint]\n",
    "a_2 = a[midpoint:]"
   ]
  },
  {
   "cell_type": "markdown",
   "metadata": {},
   "source": [
    "##### SubGraph"
   ]
  },
  {
   "cell_type": "code",
   "execution_count": 98,
   "metadata": {
    "notebookRunGroups": {
     "groupValue": "1"
    }
   },
   "outputs": [],
   "source": [
    "subGraph = []\n",
    "sub_row = random.randint(2, params[\"NUM_OF_NODES\"])\n",
    "sub_cnt = 0\n",
    "source_node_list = []\n",
    "while sub_cnt < params[\"H_NUM_OF_ROWS\"]:\n",
    "  sub_row = random.randint(2, params[\"NUM_OF_NODES\"])\n",
    "  sub_cnt += sub_row\n",
    "  if sub_cnt >= params[\"H_NUM_OF_ROWS\"]:\n",
    "    sub_row = sub_row - (sub_cnt - params[\"H_NUM_OF_ROWS\"])\n",
    "    if sub_row == 1:\n",
    "      sub_row = 2\n",
    "      for item in subGraph:\n",
    "        if len(item) >= 3:\n",
    "          item.pop(-1)\n",
    "          break\n",
    "  subG = random_matrix(sub_row, params[\"H_NUM_OF_COLS\"], 50, -15, 15)\n",
    "  if (CORA_DATASET_ENABLE):\n",
    "    subG = [[1 if x != 0 else 0 for x in row] for row in subG]\n",
    "  subGraph.append(subG)"
   ]
  },
  {
   "cell_type": "markdown",
   "metadata": {},
   "source": [
    "##### Feature"
   ]
  },
  {
   "cell_type": "code",
   "execution_count": 99,
   "metadata": {},
   "outputs": [],
   "source": [
    "feature = []\n",
    "for i in range(len(subGraph)):\n",
    "  feature += subGraph[i]"
   ]
  },
  {
   "cell_type": "markdown",
   "metadata": {},
   "source": [
    "#### 2. Calculation"
   ]
  },
  {
   "cell_type": "markdown",
   "metadata": {},
   "source": [
    "##### SPMM"
   ]
  },
  {
   "cell_type": "code",
   "execution_count": 100,
   "metadata": {
    "notebookRunGroups": {
     "groupValue": "2"
    }
   },
   "outputs": [],
   "source": [
    "wh = [[0 for _ in range(len(weight[0]))] for _ in range(len(feature))]\n",
    "for i in range(len(feature)):\n",
    "  for j in range(len(weight[0])):\n",
    "    for k in range(len(weight)):\n",
    "      if (feature[i][k] != 0):\n",
    "        wh[i][j] += feature[i][k] * weight[k][j]\n",
    "\n",
    "def matrix_multiplication(subgraph, weight_matrix):\n",
    "  rows = len(subgraph)\n",
    "  cols = len(weight_matrix[0])\n",
    "  common_dim = len(weight_matrix)\n",
    "\n",
    "  result_matrix = [[0 for _ in range(cols)] for _ in range(rows)]\n",
    "\n",
    "  for i in range(rows):\n",
    "    for j in range(cols):\n",
    "      for k in range(common_dim):\n",
    "        result_matrix[i][j] += subgraph[i][k] * weight_matrix[k][j]\n",
    "  return result_matrix\n",
    "\n",
    "WH = []\n",
    "for i in range(len(subGraph)):\n",
    "\twh = matrix_multiplication(subGraph[i], weight)\n",
    "\tWH.append(wh)"
   ]
  },
  {
   "cell_type": "markdown",
   "metadata": {},
   "source": [
    "##### DMVM"
   ]
  },
  {
   "cell_type": "code",
   "execution_count": 101,
   "metadata": {},
   "outputs": [],
   "source": [
    "DMVM = []\n",
    "COEF = []\n",
    "\n",
    "for wh in WH:\n",
    "  src = 0\n",
    "  dmvm_subgraph = []\n",
    "  coef_subgraph = []\n",
    "  for idx, row in enumerate(wh):\n",
    "    dst       = 0\n",
    "    node_row  = []\n",
    "    a_in      = a_1 if idx == 0 else a_2\n",
    "\n",
    "    # multiply\n",
    "    for i in range(len(row)):\n",
    "      node_row.append(row[i] * a_in[i])\n",
    "\n",
    "    # add\n",
    "    product_len = len(row)\n",
    "    while product_len > 1:\n",
    "      for j in range(len(row)):\n",
    "        if (2*j+1) < product_len:\n",
    "          node_row[j] = node_row[2*j] + node_row[2*j+1]\n",
    "      product_len /= 2\n",
    "    dst = node_row[0]\n",
    "\n",
    "    # final\n",
    "    if (idx == 0):\n",
    "      src = dst\n",
    "    dmvm_subgraph.append(dst)\n",
    "\n",
    "    if (src + dst < 0):\n",
    "      coef_subgraph.append(0)\n",
    "    else:\n",
    "      if ((src + dst) // pow(2, 12) > 0):\n",
    "        coef_subgraph.append((src + dst) // pow(2, 12))\n",
    "      else:\n",
    "        coef_subgraph.append(0)\n",
    "  DMVM.append(dmvm_subgraph)\n",
    "  COEF.append(coef_subgraph)"
   ]
  },
  {
   "cell_type": "markdown",
   "metadata": {},
   "source": [
    "##### Softmax"
   ]
  },
  {
   "cell_type": "code",
   "execution_count": 102,
   "metadata": {},
   "outputs": [],
   "source": [
    "def binary_of_2_power_x(x):\n",
    "  if not (0 <= x <= 127):\n",
    "    raise ValueError(\"Input x must be in the range 0 to 127\")\n",
    "  result = 2 ** x\n",
    "  binary_representation = bin(result)[2:]  # Convert to binary and strip '0b'\n",
    "  binary_representation = binary_representation.zfill(103)  # Pad to 103 bits\n",
    "\n",
    "  return binary_representation"
   ]
  },
  {
   "cell_type": "code",
   "execution_count": 103,
   "metadata": {},
   "outputs": [],
   "source": [
    "SOFTMAX = []\n",
    "DIVIDEND = []\n",
    "DIVISOR = []\n",
    "SM_NUM_NODE = []\n",
    "EXP_ALPHA = []\n",
    "for subgraph in COEF:\n",
    "  softmax = []\n",
    "  sum = 0\n",
    "  exp = []\n",
    "  sum_exp = 0\n",
    "\n",
    "  for ele in subgraph:\n",
    "    softmax.append(pow(2, ele))\n",
    "    sum += pow(2, ele)\n",
    "    exp.append(math.exp(ele))\n",
    "    sum_exp += math.exp(ele)\n",
    "\n",
    "  for i in range(len(softmax)):\n",
    "    DIVIDEND.append(softmax[i])\n",
    "    softmax[i] = softmax[i] / sum\n",
    "    exp[i] = exp[i] / sum_exp\n",
    "\n",
    "  DIVISOR.append(sum)\n",
    "  SM_NUM_NODE.append(len(softmax))\n",
    "  SOFTMAX.append(softmax)\n",
    "  EXP_ALPHA.append(exp)"
   ]
  },
  {
   "cell_type": "markdown",
   "metadata": {},
   "source": [
    "##### Aggregator"
   ]
  },
  {
   "cell_type": "code",
   "execution_count": 104,
   "metadata": {},
   "outputs": [],
   "source": [
    "NEW_FEATURE = []\n",
    "\n",
    "for idx, wh in enumerate(WH):\n",
    "  sub_feature = []\n",
    "  for sub_idx, row in enumerate(wh):\n",
    "    node_row = []\n",
    "    for i in range (len(row)):\n",
    "      node_row.append(row[i] * SOFTMAX[idx][sub_idx])\n",
    "    sub_feature.append(node_row)\n",
    "  new_feature = []\n",
    "\n",
    "  for i in range(16):\n",
    "    sum = 0\n",
    "    for row in sub_feature:\n",
    "      sum += row[i]\n",
    "    new_feature.append(sum)\n",
    "\n",
    "  for idx, ele in enumerate(new_feature):\n",
    "    new_feature[idx] = round(ele, 4)\n",
    "\n",
    "  NEW_FEATURE.append(new_feature)\n"
   ]
  },
  {
   "cell_type": "markdown",
   "metadata": {},
   "source": [
    "#### 3. GCSR Structure"
   ]
  },
  {
   "cell_type": "code",
   "execution_count": 105,
   "metadata": {},
   "outputs": [],
   "source": [
    "source_node_list = []\n",
    "num_nodes_subgraph = []\n",
    "node_info = []\n",
    "col_idx = []\n",
    "value = []\n",
    "non_zero_ele = []\n",
    "\n",
    "row_length_bits = math.ceil(math.log2(params[\"H_NUM_OF_COLS\"]))\n",
    "num_of_nodes_bits = math.ceil(math.log2(params[\"NUM_OF_NODES\"]))\n",
    "\n",
    "for i in range(len(subGraph)):\n",
    "  source_node = subGraph[i][0]\n",
    "  num_node = len(subGraph[i])\n",
    "  source_node_list.append(source_node)\n",
    "  num_nodes_subgraph.append(num_node)\n",
    "  node_info_list = []\n",
    "  for j in range(len(subGraph[i])):\n",
    "    if j == 0:\n",
    "      flag = '1'\n",
    "    else:\n",
    "      flag = '0'\n",
    "    non_zero_values = [ele for k, ele in enumerate(subGraph[i][j]) if ele != 0]\n",
    "    # print(\"Non Zero Values = \", non_zero_values)\n",
    "    row_length = len(non_zero_values)\n",
    "    node_info_bin = (f\"{row_length:0{row_length_bits}b}\"f\"{num_node:0{num_of_nodes_bits}b}\" f\"{flag}\")\n",
    "    node_info_list.append(node_info_bin)\n",
    "\n",
    "  node_info.append(node_info_list)\n",
    "\n",
    "def decode_node_info(node_info_string):\n",
    "  # Extract each part from the string\n",
    "  flag_bits = 1\n",
    "  row_length = int(node_info_string[:row_length_bits], 2)\n",
    "  num_of_nodes = int(node_info_string[row_length_bits:row_length_bits+num_of_nodes_bits], 2)\n",
    "\n",
    "  flag = node_info_string[-flag_bits:]  # '1' for source node, '0' for neighbor node\n",
    "\n",
    "  # Return a dictionary for better readability\n",
    "  return {\n",
    "    'row_length': row_length,\n",
    "    'num_of_nodes': num_of_nodes,\n",
    "    'is_source_node': flag == '1'\n",
    "  }\n",
    "\n",
    "# Example usage\n",
    "decoded_node_info = []\n",
    "for nd_info in node_info:\n",
    "  decoded_info = [decode_node_info(info) for info in nd_info]\n",
    "  decoded_node_info.append(decoded_info)\n",
    "# pprint(decoded_node_info)"
   ]
  },
  {
   "cell_type": "code",
   "execution_count": 106,
   "metadata": {},
   "outputs": [],
   "source": [
    "def extract_from_raw(raw_list):\n",
    "\tcol_idx = []\n",
    "\tvalue = []\n",
    "\tnode_info = []\n",
    "\tfor row in raw_list:\n",
    "\t\tnon_zero_elements = [(j, ele) for j, ele in enumerate(row) if ele != 0]\n",
    "\t\tcol_idx.extend([idx for idx, _ in non_zero_elements])\n",
    "\t\tvalue.extend([val for _, val in non_zero_elements])\n",
    "\t\trow_len = len(non_zero_elements)\n",
    "\n",
    "\treturn col_idx, value"
   ]
  },
  {
   "cell_type": "markdown",
   "metadata": {},
   "source": [
    "#### 4. SubGraph"
   ]
  },
  {
   "cell_type": "code",
   "execution_count": 107,
   "metadata": {},
   "outputs": [],
   "source": [
    "GRAPH = {}\n",
    "idx = 0\n",
    "\n",
    "for i in range(len(subGraph)):\n",
    "  col_idx_, value_ = extract_from_raw(subGraph[i])\n",
    "  GRAPH[i] = {\"raw\" : subGraph[i], \"col_idx\" : col_idx_, \"value\" : value_, \"node_info\" : node_info[i], \"WH\": WH[i],  \"DMVM\": DMVM[i], \"Coef\": COEF[i], \"Softmax\": SOFTMAX[i], \"New Feature\": NEW_FEATURE[i]}"
   ]
  },
  {
   "cell_type": "code",
   "execution_count": 108,
   "metadata": {},
   "outputs": [],
   "source": [
    "colors = {\n",
    "  \"raw\": \"\\033[91m\",          # Red\n",
    "  \"col_idx\": \"\\033[92m\",      # Green\n",
    "  \"value\": \"\\033[93m\",        # Yellow\n",
    "  \"node_info\": \"\\033[94m\",    # Blue\n",
    "  \"WH\": \"\\033[95m\",           # Magenta\n",
    "  \"DMVM\": \"\\033[96m\",         # Cyan\n",
    "  \"Coef\": \"\\033[97m\",         # White\n",
    "  \"Softmax\": \"\\033[1;91m\",      # Bright Black (Gray)\n",
    "  \"Aggregator\": \"\\033[1;94m\", # Bright Blue (a lighter shade of blue)\n",
    "  \"New Feature\": \"\\033[95m\", # Bright Blue (a lighter shade of blue)\n",
    "  \"reset\": \"\\033[0m\"          # Reset color\n",
    "}\n",
    "\n",
    "def print_sub_graphs():\n",
    "  for subgraph in GRAPH.values():\n",
    "    print(\"-\" * 90)\n",
    "    for i in range(len(subgraph[\"raw\"])):\n",
    "      if i == 0:\n",
    "        print(f\"{colors['raw']}raw\\t\\t{subgraph['raw'][i]}{colors['reset']}\")\n",
    "      else:\n",
    "        print(f\"{colors['raw']}\\t\\t{subgraph['raw'][i]}{colors['reset']}\")\n",
    "\n",
    "    print(f\"{colors['col_idx']}col_idx\\t\\t{subgraph['col_idx']}{colors['reset']}\")\n",
    "    print(f\"{colors['value']}value\\t\\t{subgraph['value']}{colors['reset']}\")\n",
    "    print(f\"{colors['node_info']}node_info\\t{subgraph['node_info']}{colors['reset']}\")\n",
    "\n",
    "    for i in range(len(subgraph[\"WH\"])):\n",
    "      if i == 0:\n",
    "        print(f\"{colors['WH']}SPMM\\t\\t{subgraph['WH'][i]}{colors['reset']}\")\n",
    "      else:\n",
    "        print(f\"{colors['WH']}\\t\\t{subgraph['WH'][i]}{colors['reset']}\")\n",
    "\n",
    "    print(f\"{colors['DMVM']}DMVM\\t\\t{[subgraph['DMVM'][idx] for idx in range(len(subgraph['raw']))]}{colors['reset']}\")\n",
    "    print(f\"{colors['Coef']}COEF\\t\\t{[subgraph['Coef'][idx] for idx in range(len(subgraph['raw']))]}{colors['reset']}\")\n",
    "    print(f\"{colors['Softmax']}SOFTMAX\\t\\t{[subgraph['Softmax'][idx] for idx in range(len(subgraph['raw']))]}{colors['reset']}\")\n",
    "\n",
    "    print(f\"{colors['New Feature']}New Feature\\t{subgraph['New Feature']}{colors['reset']}\")\n",
    "\n",
    "    print(\"-\" * 90)"
   ]
  },
  {
   "cell_type": "markdown",
   "metadata": {},
   "source": [
    "#### 5. Update Testbench"
   ]
  },
  {
   "cell_type": "code",
   "execution_count": 109,
   "metadata": {},
   "outputs": [],
   "source": [
    "root_path         = os.path.abspath(\"../../\").replace(\"\\\\\", \"/\")\n",
    "tb_path           = os.path.join(root_path, \"tb\").replace(\"\\\\\", \"/\")\n",
    "filename          = os.path.join(root_path, \"tb/gat_top_tb.sv\").replace(\"\\\\\", \"/\")\n",
    "file_path_input   = os.path.join(root_path, \"tb/input\").replace(\"\\\\\", \"/\")\n",
    "file_path_output  = os.path.join(root_path, \"tb/output\")\n",
    "params_pkg_file   = os.path.join(root_path, \"rtl/inc/gat_pkg.sv\").replace(\"\\\\\", \"/\")"
   ]
  },
  {
   "cell_type": "code",
   "execution_count": 110,
   "metadata": {},
   "outputs": [],
   "source": [
    "def decimal_to_binary(number, bit_length):\n",
    "  if number < 0:\n",
    "    number = (1 << bit_length) + number  # Handle negative numbers with two's complement\n",
    "  binary_representation = bin(number & ((1 << bit_length) - 1))[2:]  # Mask to bit_length bits\n",
    "  return binary_representation.zfill(bit_length)"
   ]
  },
  {
   "cell_type": "code",
   "execution_count": 111,
   "metadata": {},
   "outputs": [],
   "source": [
    "wrt_data = []\n",
    "wrt_node_info = []\n",
    "\n",
    "for key, value in GRAPH.items():\n",
    "  wrt_node_info.append(value[\"node_info\"])\n",
    "\n",
    "  data_bin = []\n",
    "  for i in range(len(value[\"value\"])):\n",
    "    col_idx_bin = decimal_to_binary(value[\"col_idx\"][i], math.ceil(math.log2(params[\"H_NUM_OF_COLS\"])))\n",
    "    value_bin = decimal_to_binary(value[\"value\"][i], 8)\n",
    "    data_bin.append(col_idx_bin + value_bin)\n",
    "  wrt_data.append(data_bin)"
   ]
  },
  {
   "cell_type": "code",
   "execution_count": 112,
   "metadata": {},
   "outputs": [],
   "source": [
    "def flatten_list(nested_list):\n",
    "  flattened = []\n",
    "  for item in nested_list:\n",
    "    if isinstance(item, list):\n",
    "      flattened.extend(flatten_list(item))\n",
    "    else:\n",
    "      flattened.append(item)\n",
    "  return flattened\n",
    "\n",
    "def generate_input(file_path, data_list):\n",
    "  data = flatten_list(data_list)\n",
    "  with open(file_path, 'w') as file:\n",
    "    print(f\" open {file_path}\" )\n",
    "    for item in data:\n",
    "      file.write(f\"{item}\\n\")"
   ]
  },
  {
   "cell_type": "code",
   "execution_count": 113,
   "metadata": {},
   "outputs": [],
   "source": [
    "def decimal_to_binary(value, num_bits, signed=False):\n",
    "    if signed:\n",
    "        min_val = -(2 ** (num_bits - 1))\n",
    "        max_val = (2 ** (num_bits - 1)) - 1\n",
    "        if not (min_val <= value <= max_val):\n",
    "            raise ValueError(f\"Value {value} cannot be represented in {num_bits} signed bits.\")\n",
    "        if value < 0:\n",
    "            value = (1 << num_bits) + value  # Two's complement\n",
    "    else:\n",
    "        if not (0 <= value < (1 << num_bits)):\n",
    "            raise ValueError(f\"Value {value} cannot be represented in {num_bits} unsigned bits.\")\n",
    "    return f\"{value:0{num_bits}b}\""
   ]
  },
  {
   "cell_type": "code",
   "execution_count": 114,
   "metadata": {},
   "outputs": [],
   "source": [
    "def dec_to_fxp(decimal_num, is_signed, int_bits, frac_bits):\n",
    "  if is_signed and decimal_num < 0:\n",
    "    total_bits = int_bits + frac_bits\n",
    "    decimal_num += (1 << total_bits)\n",
    "  scaled_num = round(decimal_num * (1 << frac_bits))\n",
    "  binary_rep = f'{scaled_num:0{int_bits + frac_bits}b}'\n",
    "  return binary_rep\n",
    "\n",
    "def generate_golden_output(file_path, data_list):\n",
    "  data = flatten_list(data_list)\n",
    "  with open(file_path, 'w') as file:\n",
    "    print(f\" open {file_path}\" )\n",
    "    for item in data:\n",
    "      file.write(f\"{item}\\n\")"
   ]
  },
  {
   "cell_type": "markdown",
   "metadata": {},
   "source": [
    "##### Inputs & Outputs"
   ]
  },
  {
   "cell_type": "code",
   "execution_count": null,
   "metadata": {},
   "outputs": [],
   "source": [
    "if (UPDATE_INPUT_TXT):\n",
    "  generate_input(file_path_input + \"/h_data.txt\", wrt_data)\n",
    "  generate_input(file_path_input + \"/node_info.txt\", wrt_node_info)\n",
    "  generate_input(file_path_input + \"/weight.txt\", weight)\n",
    "  generate_input(file_path_input + \"/a.txt\", a)\n",
    "\n",
    "generate_golden_output(file_path_output + \"/SPMM/wh.txt\", WH)\n",
    "generate_golden_output(file_path_output + \"/DMVM/dmvm.txt\", DMVM)\n",
    "generate_golden_output(file_path_output + \"/DMVM/coef.txt\", COEF)\n",
    "generate_golden_output(file_path_output + \"/softmax/alpha.txt\", SOFTMAX)\n",
    "generate_golden_output(file_path_output + \"/softmax/divisor.txt\", DIVISOR)\n",
    "generate_golden_output(file_path_output + \"/softmax/dividend.txt\", DIVIDEND)\n",
    "generate_golden_output(file_path_output + \"/softmax/num_nodes.txt\", SM_NUM_NODE)\n",
    "generate_golden_output(file_path_output + \"/softmax/exp_alpha.txt\", EXP_ALPHA)\n",
    "generate_golden_output(file_path_output + \"/aggregator/new_feature.txt\", NEW_FEATURE)"
   ]
  },
  {
   "cell_type": "code",
   "execution_count": 116,
   "metadata": {},
   "outputs": [],
   "source": [
    "_value = [len(item) for item in wrt_data]\n",
    "len_value = 0\n",
    "for val in _value:\n",
    "  len_value += val\n",
    "\n",
    "_node_info = [len(item) for item in wrt_node_info]\n",
    "len_node_info = 0\n",
    "for node in _node_info:\n",
    "  len_node_info += node\n",
    "\n",
    "params[\"H_DATA_DEPTH\"] = len_value\n",
    "params[\"NODE_INFO_DEPTH\"] = len_node_info\n",
    "params[\"WEIGHT_DEPTH\"] = params[\"W_NUM_OF_ROWS\"] * params[\"W_NUM_OF_COLS\"]\n",
    "params[\"WH_DEPTH\"] = len_node_info\n",
    "params[\"A_DEPTH\"] = params[\"W_NUM_OF_COLS\"] * 2"
   ]
  },
  {
   "cell_type": "code",
   "execution_count": 117,
   "metadata": {},
   "outputs": [],
   "source": [
    "config_params = {\n",
    "  \"H_NUM_SPARSE_DATA\" : params[\"H_DATA_DEPTH\"],\n",
    "  \"TOTAL_NODES\"       : params[\"H_NUM_OF_ROWS\"],\n",
    "  \"NUM_FEATURE_IN\"    : params[\"W_NUM_OF_ROWS\"],\n",
    "  \"NUM_FEATURE_OUT\"   : params[\"W_NUM_OF_COLS\"],\n",
    "  \"NUM_SUBGRAPHS\"     : len(GRAPH),\n",
    "  \"MAX_NODES\"         : params[\"NUM_OF_NODES\"],\n",
    "}"
   ]
  },
  {
   "cell_type": "markdown",
   "metadata": {},
   "source": [
    "##### Parameters"
   ]
  },
  {
   "cell_type": "code",
   "execution_count": 118,
   "metadata": {},
   "outputs": [],
   "source": [
    "def update_parameters_in_ifdef(params_pkg_file, parameters, ifdef_condition=\"SIMULATION\"):\n",
    "  with open(params_pkg_file, 'r') as file:\n",
    "    file_data = file.readlines()\n",
    "\n",
    "  in_ifdef_block = False  # Track if we're inside the target `ifdef` block\n",
    "  for i, line in enumerate(file_data):\n",
    "    # Check for the start of the `ifdef block\n",
    "    if f\"`ifdef {ifdef_condition}\" in line:\n",
    "      in_ifdef_block = True\n",
    "      continue\n",
    "\n",
    "    # Check for the end of the `ifdef block\n",
    "    if in_ifdef_block and \"`else\" in line:\n",
    "      in_ifdef_block = False\n",
    "      continue\n",
    "\n",
    "    # Update parameters only within the `ifdef block\n",
    "    if in_ifdef_block:\n",
    "      for param, new_value in parameters.items():\n",
    "        found_param = f\"parameter {param}\"\n",
    "        if found_param in line:\n",
    "          parts = line.split('=')\n",
    "          if len(parts) == 2:  # Ensure the line has an '=' sign\n",
    "            file_data[i] = f\"{parts[0]}= {new_value};\\n\"\n",
    "\n",
    "  # Write back the updated content\n",
    "  with open(params_pkg_file, 'w') as file:\n",
    "    file.writelines(file_data)\n",
    "\n",
    "# Example usage\n",
    "if UPDATE_INPUT_TXT:\n",
    "  update_parameters_in_ifdef(params_pkg_file, config_params)"
   ]
  },
  {
   "cell_type": "markdown",
   "metadata": {},
   "source": [
    "##### Root Path"
   ]
  },
  {
   "cell_type": "code",
   "execution_count": 119,
   "metadata": {},
   "outputs": [],
   "source": [
    "def update_root_path(filename, root_path):\n",
    "  with open(filename, 'r') as file:\n",
    "    file_data = file.readlines()\n",
    "\n",
    "  for i, line in enumerate(file_data):\n",
    "    if \"localparam string ROOT_PATH\" in line:\n",
    "      file_data[i] = f\"\\tlocalparam string ROOT_PATH = \\\"{root_path}\\\";\\n\"\n",
    "\n",
    "  with open(filename, 'w') as file:\n",
    "      file.writelines(file_data)\n",
    "\n",
    "update_root_path(filename, tb_path)"
   ]
  },
  {
   "cell_type": "markdown",
   "metadata": {},
   "source": [
    "#### 6. Debug Console"
   ]
  },
  {
   "cell_type": "code",
   "execution_count": null,
   "metadata": {},
   "outputs": [],
   "source": [
    "print_sub_graphs()"
   ]
  }
 ],
 "metadata": {
  "kernelspec": {
   "display_name": "Python 3",
   "language": "python",
   "name": "python3"
  },
  "language_info": {
   "codemirror_mode": {
    "name": "ipython",
    "version": 3
   },
   "file_extension": ".py",
   "mimetype": "text/x-python",
   "name": "python",
   "nbconvert_exporter": "python",
   "pygments_lexer": "ipython3",
   "version": "3.12.8"
  }
 },
 "nbformat": 4,
 "nbformat_minor": 2
}
