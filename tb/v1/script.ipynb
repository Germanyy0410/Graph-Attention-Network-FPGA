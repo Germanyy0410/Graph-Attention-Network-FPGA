{
 "cells": [
  {
   "cell_type": "code",
   "execution_count": 38,
   "metadata": {},
   "outputs": [],
   "source": [
    "import math\n",
    "import random\n",
    "from pprint import pprint"
   ]
  },
  {
   "cell_type": "markdown",
   "metadata": {},
   "source": [
    "I. Random Input & Calculations"
   ]
  },
  {
   "cell_type": "markdown",
   "metadata": {},
   "source": [
    "1. Random Input"
   ]
  },
  {
   "cell_type": "code",
   "execution_count": 39,
   "metadata": {
    "notebookRunGroups": {
     "groupValue": "2"
    }
   },
   "outputs": [],
   "source": [
    "def random_matrix(rows, cols, sparsity_percent):\n",
    "\ttotal_elements = rows * cols\n",
    "\tnum_zeros = int(total_elements * sparsity_percent / 100)\n",
    "\tnum_non_zeros = total_elements - num_zeros\n",
    "\tmatrix_elements = [0] * num_zeros + [random.randint(1, 5) for _ in range(num_non_zeros)]\n",
    "\trandom.shuffle(matrix_elements)\n",
    "\tsparse_matrix = []\n",
    "\tfor i in range(rows):\n",
    "\t\tsparse_matrix.append(matrix_elements[i * cols:(i + 1) * cols])\n",
    "\tfor row in sparse_matrix:\n",
    "\t\tif all(value == 0 for value in row):\n",
    "\t\t\trow[random.randint(0, cols - 1)] = random.randint(1, 9)\n",
    "\treturn sparse_matrix"
   ]
  },
  {
   "cell_type": "code",
   "execution_count": 40,
   "metadata": {
    "notebookRunGroups": {
     "groupValue": "1"
    }
   },
   "outputs": [],
   "source": [
    "params = {\n",
    "  \"H_NUM_OF_ROWS\": 10,\n",
    "  \"H_NUM_OF_COLS\": 4,\n",
    "  \"W_NUM_OF_ROWS\": 4,\n",
    "  \"W_NUM_OF_COLS\": 16,\n",
    "  \"NUM_OF_NODES\": 5,\n",
    "  \"A_DEPTH\": 32\n",
    "}\n",
    "\n",
    "feature = random_matrix(params[\"H_NUM_OF_ROWS\"], params[\"H_NUM_OF_COLS\"],50)\n",
    "weight = random_matrix(params[\"W_NUM_OF_ROWS\"], params[\"W_NUM_OF_COLS\"], 0)\n",
    "a = [1 if i < params[\"A_DEPTH\"] / 2 else 2 for i in range(params[\"A_DEPTH\"])]\n",
    "# a = random_matrix(1, params[\"A_DEPTH\"], 0)[0]"
   ]
  },
  {
   "cell_type": "markdown",
   "metadata": {},
   "source": [
    "2. SPMM"
   ]
  },
  {
   "cell_type": "code",
   "execution_count": 41,
   "metadata": {},
   "outputs": [],
   "source": [
    "wh = [[0 for _ in range(len(weight[0]))] for _ in range(len(feature))]\n",
    "for i in range(len(feature)):\n",
    "  for j in range(len(weight[0])):\n",
    "    for k in range(len(weight)):\n",
    "      wh[i][j] += feature[i][k] * weight[k][j]"
   ]
  },
  {
   "cell_type": "code",
   "execution_count": 54,
   "metadata": {},
   "outputs": [
    {
     "name": "stdout",
     "output_type": "stream",
     "text": [
      "[[6, 6, 3, 3, 15, 6, 6, 15, 9, 3, 12, 3, 3, 6, 12, 9],\n",
      " [34, 30, 37, 41, 45, 46, 30, 41, 43, 33, 60, 29, 25, 42, 40, 35],\n",
      " [22, 31, 21, 32, 10, 32, 15, 18, 28, 25, 26, 18, 23, 23, 13, 25],\n",
      " [14, 27, 25, 28, 18, 28, 9, 12, 26, 21, 20, 16, 31, 11, 23, 17],\n",
      " [16, 16, 12, 20, 4, 20, 12, 12, 16, 16, 20, 12, 8, 20, 4, 16],\n",
      " [18, 33, 19, 24, 30, 28, 13, 30, 32, 19, 26, 14, 29, 13, 31, 27],\n",
      " [12, 15, 10, 15, 9, 16, 9, 13, 15, 12, 16, 9, 10, 13, 9, 14],\n",
      " [6, 7, 13, 12, 10, 12, 5, 4, 10, 9, 12, 8, 11, 7, 11, 5],\n",
      " [4, 10, 6, 8, 4, 8, 2, 4, 8, 6, 4, 4, 10, 2, 6, 6],\n",
      " [18, 25, 23, 24, 34, 28, 15, 28, 30, 19, 32, 16, 25, 17, 33, 23]]\n",
      "[[0, 0, 3, 0],\n",
      " [0, 4, 5, 4],\n",
      " [3, 4, 0, 0],\n",
      " [5, 0, 0, 2],\n",
      " [0, 4, 0, 0],\n",
      " [5, 0, 4, 0],\n",
      " [1, 2, 1, 0],\n",
      " [1, 0, 0, 2],\n",
      " [2, 0, 0, 0],\n",
      " [3, 0, 4, 2]]\n",
      "[[2, 5, 3, 4, 2, 4, 1, 2, 4, 3, 2, 2, 5, 1, 3, 3],\n",
      " [4, 4, 3, 5, 1, 5, 3, 3, 4, 4, 5, 3, 2, 5, 1, 4],\n",
      " [2, 2, 1, 1, 5, 2, 2, 5, 3, 1, 4, 1, 1, 2, 4, 3],\n",
      " [2, 1, 5, 4, 4, 4, 2, 1, 3, 3, 5, 3, 3, 3, 4, 1]]\n"
     ]
    }
   ],
   "source": [
    "green = \"\\033[92m\"\n",
    "reset = \"\\033[0m\"\n",
    "\n",
    "# def print_matrices_in_columns(feature, weight, wh):\n",
    "#     max_rows = max(len(feature), len(weight), len(wh))\n",
    "#     print(\"-\" * 123)\n",
    "#     header = \"\\tWH\\t\\t\\t\\t\\t\\tFeature\\t\\t\\t\\t\\t\\tWeight\"\n",
    "#     print(header)\n",
    "#     print(\"-\" * 123)\n",
    "\n",
    "\n",
    "#     for i in range(max_rows):\n",
    "#         feature_row = feature[i] if i < len(feature) else [\" \"] * len(feature[0])\n",
    "#         weight_row = weight[i] if i < len(weight) else [\" \"] * len(weight[0])\n",
    "#         result_row = wh[i] if i < len(wh) else [\" \"] * len(wh[0])\n",
    "\n",
    "#         formatted_feature_row = \" | \".join(f\"{green}{str(value):<5}{reset}\" if value != 0 else f\"{str(value):<5}\" for value in feature_row)\n",
    "#         formatted_weight_row = \" | \".join(f\"{str(value):<5}\" for value in weight_row)\n",
    "#         formatted_result_row = \" | \".join(f\"{str(value):<5}\" for value in result_row)\n",
    "\n",
    "#         print(\"| \" + formatted_result_row + \" | \" + \" \" * 10 + \" | \" + formatted_feature_row + \" | \" + \" \" * 10 + \" | \" + formatted_weight_row + \" | \")\n",
    "\n",
    "#     print(\"-\" * 123)\n",
    "# print_matrices_in_columns(feature, weight, wh)\n",
    "\n",
    "pprint(wh)\n",
    "\n",
    "pprint(feature)\n",
    "\n",
    "pprint(weight)"
   ]
  },
  {
   "cell_type": "markdown",
   "metadata": {},
   "source": [
    "3. DMVM"
   ]
  },
  {
   "cell_type": "code",
   "execution_count": 43,
   "metadata": {},
   "outputs": [
    {
     "name": "stdout",
     "output_type": "stream",
     "text": [
      "DMVM =  [117, 1222, 724, 652, 448, 386, 394, 284, 184, 780]\n",
      "Coef =  [234, 1339, 841, 769, 565, 772, 780, 670, 570, 1166]\n"
     ]
    }
   ],
   "source": [
    "midpoint = len(a) // 2\n",
    "a_1 = a[:midpoint]\n",
    "a_2 = a[midpoint:]\n",
    "\n",
    "dmvm = []\n",
    "coef = []\n",
    "\n",
    "for index, row in enumerate(wh):\n",
    "  sum = 0\n",
    "  for i in range(len(row)):\n",
    "    if index % params[\"NUM_OF_NODES\"] == 0:\n",
    "      sum += row[i] * a_1[i]\n",
    "    else:\n",
    "      sum += row[i] * a_2[i]\n",
    "  dmvm.append(sum)\n",
    "print(\"DMVM = \", dmvm)\n",
    "for i in range(len(dmvm)):\n",
    "  coef.append(dmvm[i] + dmvm[int(i / params[\"NUM_OF_NODES\"]) * params[\"NUM_OF_NODES\"]])\n",
    "print(\"Coef = \", coef)"
   ]
  },
  {
   "cell_type": "markdown",
   "metadata": {},
   "source": [
    "II. Code Generator"
   ]
  },
  {
   "cell_type": "markdown",
   "metadata": {},
   "source": [
    "1. GCSR structure"
   ]
  },
  {
   "cell_type": "code",
   "execution_count": 44,
   "metadata": {},
   "outputs": [],
   "source": [
    "num_of_nodes = params[\"NUM_OF_NODES\"]\n",
    "col_idx, value, node_info = [], [], []\n",
    "\n",
    "row_length = []\n",
    "row_length_bits = math.ceil(math.log2(len(feature[0])))+1\n",
    "num_of_nodes_bits = math.ceil(math.log2(num_of_nodes))+1\n",
    "flag_bits = 1\n",
    "\n",
    "for i, row in enumerate(feature):\n",
    "  non_zero_elements = [(j, ele) for j, ele in enumerate(row) if ele != 0]\n",
    "  col_idx.extend([idx for idx, _ in non_zero_elements])\n",
    "  value.extend([val for _, val in non_zero_elements])\n",
    "\n",
    "  row_len = len(non_zero_elements)\n",
    "  row_length.append(row_len)\n",
    "  flag = '1' if i % params[\"NUM_OF_NODES\"]== 0 else '0'\n",
    "  node_info_bin = (\n",
    "    f\"{row_len:0{row_length_bits}b}\"\n",
    "    f\"{num_of_nodes:0{num_of_nodes_bits}b}\"\n",
    "    f\"{flag}\"\n",
    "  )\n",
    "  node_info.append(node_info_bin)"
   ]
  },
  {
   "cell_type": "code",
   "execution_count": 45,
   "metadata": {},
   "outputs": [
    {
     "name": "stdout",
     "output_type": "stream",
     "text": [
      "0     | 0     | \u001b[92m3    \u001b[0m | 0    \n",
      "0     | \u001b[92m4    \u001b[0m | \u001b[92m5    \u001b[0m | \u001b[92m4    \u001b[0m\n",
      "\u001b[92m3    \u001b[0m | \u001b[92m4    \u001b[0m | 0     | 0    \n",
      "\u001b[92m5    \u001b[0m | 0     | 0     | \u001b[92m2    \u001b[0m\n",
      "0     | \u001b[92m4    \u001b[0m | 0     | 0    \n",
      "\u001b[92m5    \u001b[0m | 0     | \u001b[92m4    \u001b[0m | 0    \n",
      "\u001b[92m1    \u001b[0m | \u001b[92m2    \u001b[0m | \u001b[92m1    \u001b[0m | 0    \n",
      "\u001b[92m1    \u001b[0m | 0     | 0     | \u001b[92m2    \u001b[0m\n",
      "\u001b[92m2    \u001b[0m | 0     | 0     | 0    \n",
      "\u001b[92m3    \u001b[0m | 0     | \u001b[92m4    \u001b[0m | \u001b[92m2    \u001b[0m\n",
      "col_idx    =  [2, 1, 2, 3, 0, 1, 0, 3, 1, 0, 2, 0, 1, 2, 0, 3, 0, 0, 2, 3]\n",
      "value      =  [3, 4, 5, 4, 3, 4, 5, 2, 4, 5, 4, 1, 2, 1, 1, 2, 2, 3, 4, 2]\n",
      "row_length =  [1, 3, 2, 2, 1, 2, 3, 2, 1, 3]\n",
      "node_info  =  ['00101011', '01101010', '01001010', '01001010', '00101010', '01001011', '01101010', '01001010', '00101010', '01101010']\n"
     ]
    }
   ],
   "source": [
    "for row in feature:\n",
    "\trow_str = \" | \".join(f\"{green}{str(item):<5}{reset}\" if item != 0 else f\"{str(item):<5}\" for item in row)\n",
    "\tprint(row_str)\n",
    "\n",
    "print(\"col_idx    = \", col_idx)\n",
    "print(\"value      = \", value)\n",
    "print(\"row_length = \", row_length)\n",
    "print(\"node_info  = \", node_info)"
   ]
  },
  {
   "cell_type": "markdown",
   "metadata": {},
   "source": [
    "2. Code"
   ]
  },
  {
   "cell_type": "code",
   "execution_count": 46,
   "metadata": {},
   "outputs": [],
   "source": [
    "def feature_code_generator():\n",
    "  addr = 0\n",
    "  script = \"\\tinitial begin\\n\"\n",
    "  script += \"\\t\\tH_col_idx_BRAM_ena = 1'b1;\\n\\t\\tH_col_idx_BRAM_load_done = 1'b0;\\n\"\n",
    "  script += \"\\t\\tH_value_BRAM_ena = 1'b1;\\n\\t\\tH_value_BRAM_load_done = 1'b0;\\n\\n\"\n",
    "\n",
    "  for col, val in zip(col_idx, value):\n",
    "    script += f\"\\t\\tH_col_idx_BRAM_din = {col};\\n\"\n",
    "    script += f\"\\t\\tH_value_BRAM_din = {val};\\n\"\n",
    "    script += f\"\\t\\tH_col_idx_BRAM_addra = {addr};\\n\"\n",
    "    script += f\"\\t\\tH_value_BRAM_addra = {addr};\\n\\n\"\n",
    "    script += \"\\t\\t#20.01;\\n\"\n",
    "    addr += 1\n",
    "\n",
    "  script += \"\\t\\tH_col_idx_BRAM_ena = 1'b0;\\n\\t\\tH_col_idx_BRAM_load_done = 1'b1;\\n\"\n",
    "  script += \"\\t\\tH_value_BRAM_ena = 1'b0;\\n\\t\\tH_value_BRAM_load_done = 1'b1;\\n\"\n",
    "  script += \"\\tend\\n\\n\"\n",
    "\n",
    "  addr = 0\n",
    "  script += \"\\tinitial begin\\n\"\n",
    "  script += \"\\t\\tH_node_info_BRAM_ena = 1'b1;\\n\\t\\tH_node_info_BRAM_load_done = 1'b0;\\n\\n\"\n",
    "  for info in node_info:\n",
    "    script += f\"\\t\\tH_node_info_BRAM_din = {row_length_bits + num_of_nodes_bits + flag_bits}'b{info};\\n\"\n",
    "    script += f\"\\t\\tH_node_info_BRAM_addra = {addr};\\n\\n\"\n",
    "    script += \"\\t\\t#20.01;\\n\"\n",
    "    addr += 1\n",
    "\n",
    "  script += \"\\t\\tH_node_info_BRAM_ena = 1'b0;\\n\\t\\tH_node_info_BRAM_load_done = 1'b1;\\n\"\n",
    "  script += \"\\tend\\n\"\n",
    "  return script"
   ]
  },
  {
   "cell_type": "code",
   "execution_count": 47,
   "metadata": {},
   "outputs": [],
   "source": [
    "def weight_code_generator():\n",
    "  addr = 0\n",
    "  script = \"\\n\\tinitial begin\\n\"\n",
    "  script += \"\\t\\tWeight_BRAM_ena = 1'b1;\\n\\t\\tWeight_BRAM_load_done = 1'b0;\\n\\n\"\n",
    "\n",
    "  for row in weight:\n",
    "    for val in row:\n",
    "      script += f\"\\t\\tWeight_BRAM_din = {val};\\n\"\n",
    "      script += f\"\\t\\tWeight_BRAM_addra = {addr};\\n\\n\"\n",
    "      script += \"\\t\\t#20.01;\\n\"\n",
    "      addr += 1\n",
    "\n",
    "  script += \"\\t\\tWeight_BRAM_ena = 1'b0;\\n\\t\\tWeight_BRAM_load_done = 1'b1;\\n\"\n",
    "  script += \"\\tend\"\n",
    "  return script"
   ]
  },
  {
   "cell_type": "code",
   "execution_count": 48,
   "metadata": {},
   "outputs": [],
   "source": [
    "def a_code_generator():\n",
    "  addr = 0\n",
    "  script = \"\\n\\tinitial begin\\n\"\n",
    "  script += \"\\t\\ta_BRAM_ena = 1'b1;\\n\\t\\ta_BRAM_load_done = 1'b0;\\n\\n\"\n",
    "\n",
    "  for val in a:\n",
    "    script += f\"\\t\\ta_BRAM_din = {val};\\n\"\n",
    "    script += f\"\\t\\ta_BRAM_addra = {addr};\\n\\n\"\n",
    "    script += \"\\t\\t#20.01;\\n\"\n",
    "    addr += 1\n",
    "\n",
    "  script += \"\\t\\ta_BRAM_ena = 1'b0;\\n\\t\\ta_BRAM_load_done = 1'b1;\\n\"\n",
    "  script += \"\\tend\"\n",
    "  return script"
   ]
  },
  {
   "cell_type": "markdown",
   "metadata": {},
   "source": [
    "III. Update code into testbench"
   ]
  },
  {
   "cell_type": "code",
   "execution_count": 49,
   "metadata": {},
   "outputs": [],
   "source": [
    "filename = \"D:/VLSI/Capstone/tb/top_tb.sv\""
   ]
  },
  {
   "cell_type": "code",
   "execution_count": 50,
   "metadata": {},
   "outputs": [],
   "source": [
    "def update_input(filename, start_marker, end_marker, new_content):\n",
    "  with open(filename, 'r') as file:\n",
    "    file_data = file.read()\n",
    "\n",
    "  start_index = file_data.find(start_marker)\n",
    "  end_index = file_data.find(end_marker, start_index)\n",
    "\n",
    "  updated_data = (\n",
    "    file_data[:start_index + len(start_marker)] + \"\\n\" + new_content + \"\\n\\t\" + file_data[end_index:]\n",
    "  )\n",
    "  with open(filename, 'w') as file:\n",
    "    file.write(updated_data)\n",
    "\n",
    "start_marker  = \"// ---------------- Input ----------------\"\n",
    "end_marker    = \"// ---------------------------------------\"\n",
    "new_content = feature_code_generator() + weight_code_generator() + a_code_generator()\n",
    "update_input(filename, start_marker, end_marker, new_content)"
   ]
  },
  {
   "cell_type": "code",
   "execution_count": 51,
   "metadata": {},
   "outputs": [],
   "source": [
    "def update_parameters(filename, parameters):\n",
    "  with open(filename, 'r') as file:\n",
    "    file_data = file.readlines()\n",
    "\n",
    "  for i, line in enumerate(file_data):\n",
    "    for param, new_value in parameters.items():\n",
    "      found_param = \"parameter \" + param\n",
    "      if found_param in line:\n",
    "        file_data[i] = f\"  parameter {param}\\t\\t\\t= {new_value},\\n\"\n",
    "\n",
    "  with open(filename, 'w') as file:\n",
    "      file.writelines(file_data)\n",
    "\n",
    "update_parameters(filename, params)"
   ]
  },
  {
   "cell_type": "code",
   "execution_count": 52,
   "metadata": {},
   "outputs": [],
   "source": [
    "def write_list_to_file(file_path, data_list):\n",
    "  with open(file_path, 'w') as file:\n",
    "    for item in data_list:\n",
    "      file.write(f\"{item}\\n\")\n",
    "\n",
    "write_list_to_file(\"inputs/col_idx.txt\", col_idx)\n",
    "write_list_to_file(\"inputs/value.txt\", value)\n",
    "write_list_to_file(\"inputs/node_info.txt\", node_info)"
   ]
  }
 ],
 "metadata": {
  "kernelspec": {
   "display_name": "Python 3",
   "language": "python",
   "name": "python3"
  },
  "language_info": {
   "codemirror_mode": {
    "name": "ipython",
    "version": 3
   },
   "file_extension": ".py",
   "mimetype": "text/x-python",
   "name": "python",
   "nbconvert_exporter": "python",
   "pygments_lexer": "ipython3",
   "version": "3.12.7"
  }
 },
 "nbformat": 4,
 "nbformat_minor": 2
}
