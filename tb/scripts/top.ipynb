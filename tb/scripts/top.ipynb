{
 "cells": [
  {
   "cell_type": "code",
   "execution_count": 444,
   "metadata": {},
   "outputs": [],
   "source": [
    "import os\n",
    "import math\n",
    "import random\n",
    "from pprint import pprint"
   ]
  },
  {
   "cell_type": "markdown",
   "metadata": {},
   "source": [
    "#### 0. Configuration\n",
    "*(Modify here only)*"
   ]
  },
  {
   "cell_type": "code",
   "execution_count": 445,
   "metadata": {},
   "outputs": [],
   "source": [
    "params = {\n",
    "  \"H_NUM_OF_ROWS\" : 100,\n",
    "  \"H_NUM_OF_COLS\" : 10,         # WARNING: Do not set as powers of 2.\n",
    "\n",
    "  \"W_NUM_OF_ROWS\" : 10,\n",
    "  \"W_NUM_OF_COLS\" : 16,\n",
    "\n",
    "  \"NUM_OF_NODES\"  : 6,          # WARNING: Do not set as powers of 2.\n",
    "}"
   ]
  },
  {
   "cell_type": "code",
   "execution_count": 446,
   "metadata": {},
   "outputs": [],
   "source": [
    "CORA_DATASET_ENABLE = 1         # 1: enable for Cora dataset    0: enable for other dataset\n",
    "UPDATE_INPUT_TXT    = 1         # 1: update inputs/*.txt        0: do not update inputs/*.txt"
   ]
  },
  {
   "cell_type": "markdown",
   "metadata": {},
   "source": [
    "#### 1. Random Inputs"
   ]
  },
  {
   "cell_type": "code",
   "execution_count": 447,
   "metadata": {},
   "outputs": [],
   "source": [
    "params.update({\n",
    "  \"H_DATA_DEPTH\"    : 0,                                # số lượng col_idx tổng cộng\n",
    "  \"NODE_INFO_DEPTH\" : 0,                                # số lượng node tổng cộng\n",
    "  \"WEIGHT_DEPTH\"    : 0,                                # = W_ROWS * W_COLS\n",
    "  \"WH_DEPTH\"        : 0,                                # = số lượng node tổng cộng\n",
    "  \"A_DEPTH\"         : params[\"W_NUM_OF_COLS\"] * 2,      # = W_COLS * 2\n",
    "})"
   ]
  },
  {
   "cell_type": "code",
   "execution_count": 448,
   "metadata": {
    "notebookRunGroups": {
     "groupValue": "2"
    }
   },
   "outputs": [],
   "source": [
    "def random_matrix(rows, cols, sparsity_percent, min=-127, max=127):\n",
    "  neg_percent = 20\n",
    "  total_elements = rows * cols\n",
    "  num_zeros = int(total_elements * sparsity_percent / 100)\n",
    "  num_non_zeros = total_elements - num_zeros\n",
    "\n",
    "  num_negatives = int(num_non_zeros * neg_percent / 100)\n",
    "  num_positives = num_non_zeros - num_negatives\n",
    "\n",
    "  matrix_elements = (\n",
    "      [0] * num_zeros +\n",
    "      [random.randint(min, -1) for _ in range(num_negatives)] +\n",
    "      [random.randint(1, max) for _ in range(num_positives)]\n",
    "  )\n",
    "\n",
    "  random.shuffle(matrix_elements)\n",
    "\n",
    "  sparse_matrix = []\n",
    "  for i in range(rows):\n",
    "    sparse_matrix.append(matrix_elements[i * cols:(i + 1) * cols])\n",
    "\n",
    "  # Ensure no row is completely zero\n",
    "  for row in sparse_matrix:\n",
    "    if all(value == 0 for value in row):\n",
    "      row[random.randint(0, cols - 1)] = random.randint(1, 9)\n",
    "\n",
    "  return sparse_matrix"
   ]
  },
  {
   "cell_type": "markdown",
   "metadata": {},
   "source": [
    "##### Weight\n"
   ]
  },
  {
   "cell_type": "code",
   "execution_count": 449,
   "metadata": {},
   "outputs": [],
   "source": [
    "weight = random_matrix(params[\"W_NUM_OF_ROWS\"], params[\"W_NUM_OF_COLS\"], 0, -31, 31)"
   ]
  },
  {
   "cell_type": "markdown",
   "metadata": {},
   "source": [
    "##### Weight Vector a"
   ]
  },
  {
   "cell_type": "code",
   "execution_count": 450,
   "metadata": {},
   "outputs": [],
   "source": [
    "# a = [1 if i < params[\"A_DEPTH\"] / 2 else 2 for i in range(params[\"A_DEPTH\"])]\n",
    "a = random_matrix(1, params[\"A_DEPTH\"], 0)[0]\n",
    "\n",
    "midpoint = len(a) // 2\n",
    "a_1 = a[:midpoint]\n",
    "a_2 = a[midpoint:]"
   ]
  },
  {
   "cell_type": "markdown",
   "metadata": {},
   "source": [
    "##### SubGraph"
   ]
  },
  {
   "cell_type": "code",
   "execution_count": 451,
   "metadata": {
    "notebookRunGroups": {
     "groupValue": "1"
    }
   },
   "outputs": [],
   "source": [
    "subGraph = []\n",
    "sub_row = random.randint(2, params[\"NUM_OF_NODES\"])\n",
    "sub_cnt = 0\n",
    "source_node_list = []\n",
    "while sub_cnt < params[\"H_NUM_OF_ROWS\"]:\n",
    "  sub_row = random.randint(2, params[\"NUM_OF_NODES\"])\n",
    "  sub_cnt += sub_row\n",
    "  if sub_cnt >= params[\"H_NUM_OF_ROWS\"]:\n",
    "    sub_row = sub_row - (sub_cnt - params[\"H_NUM_OF_ROWS\"])\n",
    "    if sub_row == 1:\n",
    "      sub_row = 2\n",
    "      for item in subGraph:\n",
    "        if len(item) >= 3:\n",
    "          item.pop(-1)\n",
    "          break\n",
    "  subG = random_matrix(sub_row, params[\"H_NUM_OF_COLS\"], 50, -15, 15)\n",
    "  if (CORA_DATASET_ENABLE):\n",
    "    subG = [[1 if x != 0 else 0 for x in row] for row in subG]\n",
    "  subGraph.append(subG)"
   ]
  },
  {
   "cell_type": "markdown",
   "metadata": {},
   "source": [
    "##### Feature"
   ]
  },
  {
   "cell_type": "code",
   "execution_count": 452,
   "metadata": {},
   "outputs": [],
   "source": [
    "feature = []\n",
    "for i in range(len(subGraph)):\n",
    "  feature += subGraph[i]"
   ]
  },
  {
   "cell_type": "markdown",
   "metadata": {},
   "source": [
    "#### 2. Calculation"
   ]
  },
  {
   "cell_type": "markdown",
   "metadata": {},
   "source": [
    "Convert and calculate in binary format."
   ]
  },
  {
   "cell_type": "code",
   "execution_count": 453,
   "metadata": {},
   "outputs": [],
   "source": [
    "def decimal_to_binary(num):\n",
    "  if num < 0:\n",
    "    num = (1 << 8) + num\n",
    "  return format(num & 0xFF, '08b')\n",
    "\n",
    "def binary_to_decimal(bin_str):\n",
    "  num = int(bin_str, 2)\n",
    "  if bin_str[0] == '1':\n",
    "    num -= (1 << 8)\n",
    "  return num\n",
    "\n",
    "def sum_binary(a, b):\n",
    "  a = a.zfill(8)\n",
    "  b = b.zfill(8)\n",
    "  result = ''\n",
    "  carry = 0\n",
    "  for i in range(7, -1, -1):\n",
    "    bit_sum = int(a[i]) + int(b[i]) + carry\n",
    "    result = str(bit_sum % 2) + result\n",
    "    carry = bit_sum // 2\n",
    "  result = str(carry) + result\n",
    "  return result"
   ]
  },
  {
   "cell_type": "markdown",
   "metadata": {},
   "source": [
    "`sum_calc` and `product_calc` must be used to calculate."
   ]
  },
  {
   "cell_type": "code",
   "execution_count": 454,
   "metadata": {},
   "outputs": [],
   "source": [
    "def sum_calc(a, b):\n",
    "  a_bin   = decimal_to_binary(a)\n",
    "  b_bin   = decimal_to_binary(b)\n",
    "  res_bin = sum_binary(a_bin, b_bin)\n",
    "  if (a + b >= 128 or a + b <= -128):\n",
    "    return binary_to_decimal(res_bin[:-1])\n",
    "  return binary_to_decimal(res_bin[1:])\n",
    "\n",
    "def product_calc(a, b):\n",
    "  return math.floor((a * b) / 128)"
   ]
  },
  {
   "cell_type": "markdown",
   "metadata": {},
   "source": [
    "##### SPMM"
   ]
  },
  {
   "cell_type": "code",
   "execution_count": 455,
   "metadata": {
    "notebookRunGroups": {
     "groupValue": "2"
    }
   },
   "outputs": [],
   "source": [
    "wh = [[0 for _ in range(len(weight[0]))] for _ in range(len(feature))]\n",
    "for i in range(len(feature)):\n",
    "  for j in range(len(weight[0])):\n",
    "    for k in range(len(weight)):\n",
    "      if (feature[i][k] != 0):\n",
    "        wh[i][j] += feature[i][k] * weight[k][j]\n",
    "        # wh[i][j] = sum_calc(wh[i][j], product_calc(feature[i][k], weight[k][j]))\n",
    "\n",
    "def matrix_multiplication(subgraph, weight_matrix):\n",
    "  rows = len(subgraph)\n",
    "  cols = len(weight_matrix[0])\n",
    "  common_dim = len(weight_matrix)\n",
    "\n",
    "  result_matrix = [[0 for _ in range(cols)] for _ in range(rows)]\n",
    "\n",
    "  for i in range(rows):\n",
    "    for j in range(cols):\n",
    "      for k in range(common_dim):\n",
    "        result_matrix[i][j] += subgraph[i][k] * weight_matrix[k][j]\n",
    "        # result_matrix[i][j] = sum_calc(result_matrix[i][j], product_calc(subgraph[i][k], weight_matrix[k][j]))\n",
    "  return result_matrix\n",
    "\n",
    "WH = []\n",
    "for i in range(len(subGraph)):\n",
    "\twh = matrix_multiplication(subGraph[i], weight)\n",
    "\tWH.append(wh)"
   ]
  },
  {
   "cell_type": "markdown",
   "metadata": {},
   "source": [
    "##### DMVM"
   ]
  },
  {
   "cell_type": "code",
   "execution_count": 456,
   "metadata": {},
   "outputs": [],
   "source": [
    "DMVM = []\n",
    "COEF = []\n",
    "\n",
    "for wh in WH:\n",
    "  src = 0\n",
    "  dmvm_subgraph = []\n",
    "  coef_subgraph = []\n",
    "  for idx, row in enumerate(wh):\n",
    "    dst       = 0\n",
    "    node_row  = []\n",
    "    a_in      = a_1 if idx == 0 else a_2\n",
    "\n",
    "    # multiply\n",
    "    for i in range(len(row)):\n",
    "      # node_row.append(product_calc(row[i], a_in[i]))\n",
    "      node_row.append(row[i] * a_in[i])\n",
    "\n",
    "    # add\n",
    "    product_len = len(row)\n",
    "    while product_len > 1:\n",
    "      for j in range(len(row)):\n",
    "        if (2*j+1) < product_len:\n",
    "          # node_row[j] = sum_calc(node_row[2*j], node_row[2*j+1])\n",
    "          node_row[j] = node_row[2*j] + node_row[2*j+1]\n",
    "      product_len /= 2\n",
    "    dst = node_row[0]\n",
    "\n",
    "    # final\n",
    "    if (idx == 0):\n",
    "      src = dst\n",
    "    dmvm_subgraph.append(dst)\n",
    "\n",
    "    if (src + dst < 0):\n",
    "      coef_subgraph.append(0)\n",
    "    else:\n",
    "      coef_subgraph.append((src + dst) // pow(2, 12))\n",
    "  DMVM.append(dmvm_subgraph)\n",
    "  COEF.append(coef_subgraph)"
   ]
  },
  {
   "cell_type": "markdown",
   "metadata": {},
   "source": [
    "##### Softmax"
   ]
  },
  {
   "cell_type": "code",
   "execution_count": 457,
   "metadata": {},
   "outputs": [],
   "source": [
    "SOFTMAX = []\n",
    "for subgraph in COEF:\n",
    "  softmax = []\n",
    "  sum = 0\n",
    "  for ele in subgraph:\n",
    "    softmax.append(pow(2, ele))\n",
    "    sum += pow(2, ele)\n",
    "  for i in range(len(softmax)):\n",
    "    softmax[i] = softmax[i] / sum\n",
    "  SOFTMAX.append(softmax)"
   ]
  },
  {
   "cell_type": "markdown",
   "metadata": {},
   "source": [
    "Extend each size to `NUM_OF_NODES`"
   ]
  },
  {
   "cell_type": "code",
   "execution_count": 458,
   "metadata": {},
   "outputs": [],
   "source": [
    "DMVM    = [dmvm + [-1] * (params[\"NUM_OF_NODES\"] - len(dmvm)) for dmvm in DMVM]\n",
    "COEF    = [coef + [-1] * (params[\"NUM_OF_NODES\"] - len(coef)) for coef in COEF]\n",
    "SOFTMAX = [softmax + [-1] * (params[\"NUM_OF_NODES\"] - len(softmax)) for softmax in SOFTMAX]"
   ]
  },
  {
   "cell_type": "markdown",
   "metadata": {},
   "source": [
    "##### Aggregator"
   ]
  },
  {
   "cell_type": "code",
   "execution_count": 459,
   "metadata": {},
   "outputs": [],
   "source": [
    "# TODO:"
   ]
  },
  {
   "cell_type": "markdown",
   "metadata": {},
   "source": [
    "#### 3. GCSR structure"
   ]
  },
  {
   "cell_type": "code",
   "execution_count": 460,
   "metadata": {},
   "outputs": [],
   "source": [
    "source_node_list = []\n",
    "num_nodes_subgraph = []\n",
    "node_info = []\n",
    "col_idx = []\n",
    "value = []\n",
    "non_zero_ele = []\n",
    "\n",
    "row_length_bits = math.ceil(math.log2(params[\"H_NUM_OF_COLS\"]))\n",
    "num_of_nodes_bits = math.ceil(math.log2(params[\"NUM_OF_NODES\"]))\n",
    "\n",
    "for i in range(len(subGraph)):\n",
    "  source_node = subGraph[i][0]\n",
    "  num_node = len(subGraph[i])\n",
    "  source_node_list.append(source_node)\n",
    "  num_nodes_subgraph.append(num_node)\n",
    "  node_info_list = []\n",
    "  for j in range(len(subGraph[i])):\n",
    "    if j == 0:\n",
    "      flag = '1'\n",
    "    else:\n",
    "      flag = '0'\n",
    "    non_zero_values = [ele for k, ele in enumerate(subGraph[i][j]) if ele != 0]\n",
    "    # print(\"Non Zero Values = \", non_zero_values)\n",
    "    row_length = len(non_zero_values)\n",
    "    node_info_bin = (f\"{row_length:0{row_length_bits}b}\"f\"{num_node:0{num_of_nodes_bits}b}\" f\"{flag}\")\n",
    "    node_info_list.append(node_info_bin)\n",
    "\n",
    "  node_info.append(node_info_list)\n",
    "\n",
    "def decode_node_info(node_info_string):\n",
    "  # Extract each part from the string\n",
    "  flag_bits = 1\n",
    "  row_length = int(node_info_string[:row_length_bits], 2)\n",
    "  num_of_nodes = int(node_info_string[row_length_bits:row_length_bits+num_of_nodes_bits], 2)\n",
    "\n",
    "  flag = node_info_string[-flag_bits:]  # '1' for source node, '0' for neighbor node\n",
    "\n",
    "  # Return a dictionary for better readability\n",
    "  return {\n",
    "    'row_length': row_length,\n",
    "    'num_of_nodes': num_of_nodes,\n",
    "    'is_source_node': flag == '1'\n",
    "  }\n",
    "\n",
    "# Example usage\n",
    "decoded_node_info = []\n",
    "for nd_info in node_info:\n",
    "  decoded_info = [decode_node_info(info) for info in nd_info]\n",
    "  decoded_node_info.append(decoded_info)\n",
    "# pprint(decoded_node_info)"
   ]
  },
  {
   "cell_type": "code",
   "execution_count": 461,
   "metadata": {},
   "outputs": [],
   "source": [
    "def extract_from_raw(raw_list):\n",
    "\tcol_idx = []\n",
    "\tvalue = []\n",
    "\tnode_info = []\n",
    "\tfor row in raw_list:\n",
    "\t\tnon_zero_elements = [(j, ele) for j, ele in enumerate(row) if ele != 0]\n",
    "\t\tcol_idx.extend([idx for idx, _ in non_zero_elements])\n",
    "\t\tvalue.extend([val for _, val in non_zero_elements])\n",
    "\t\trow_len = len(non_zero_elements)\n",
    "\n",
    "\treturn col_idx, value"
   ]
  },
  {
   "cell_type": "markdown",
   "metadata": {},
   "source": [
    "#### 4. SubGraph"
   ]
  },
  {
   "cell_type": "code",
   "execution_count": 462,
   "metadata": {},
   "outputs": [],
   "source": [
    "GRAPH = {}\n",
    "idx = 0\n",
    "\n",
    "for i in range(len(subGraph)):\n",
    "  col_idx_, value_ = extract_from_raw(subGraph[i])\n",
    "  GRAPH[i] = {\"raw\" : subGraph[i], \"col_idx\" : col_idx_, \"value\" : value_, \"node_info\" : node_info[i], \"WH\": WH[i],  \"DMVM\": DMVM[i], \"Coef\": COEF[i], \"Softmax\": SOFTMAX[i]}"
   ]
  },
  {
   "cell_type": "code",
   "execution_count": 463,
   "metadata": {},
   "outputs": [],
   "source": [
    "colors = {\n",
    "  \"raw\": \"\\033[91m\",          # Red\n",
    "  \"col_idx\": \"\\033[92m\",      # Green\n",
    "  \"value\": \"\\033[93m\",        # Yellow\n",
    "  \"node_info\": \"\\033[94m\",    # Blue\n",
    "  \"WH\": \"\\033[95m\",           # Magenta\n",
    "  \"DMVM\": \"\\033[96m\",         # Cyan\n",
    "  \"Coef\": \"\\033[97m\",         # White\n",
    "  \"Softmax\": \"\\033[1;91m\",      # Bright Black (Gray)\n",
    "  \"Aggregator\": \"\\033[1;94m\", # Bright Blue (a lighter shade of blue)\n",
    "  \"reset\": \"\\033[0m\"          # Reset color\n",
    "}\n",
    "\n",
    "def print_sub_graphs():\n",
    "  for subgraph in GRAPH.values():\n",
    "    print(\"-\" * 90)\n",
    "    for i in range(len(subgraph[\"raw\"])):\n",
    "      if i == 0:\n",
    "        print(f\"{colors['raw']}raw\\t\\t{subgraph['raw'][i]}{colors['reset']}\")\n",
    "      else:\n",
    "        print(f\"{colors['raw']}\\t\\t{subgraph['raw'][i]}{colors['reset']}\")\n",
    "\n",
    "    print(f\"{colors['col_idx']}col_idx\\t\\t{subgraph['col_idx']}{colors['reset']}\")\n",
    "    print(f\"{colors['value']}value\\t\\t{subgraph['value']}{colors['reset']}\")\n",
    "    print(f\"{colors['node_info']}node_info\\t{subgraph['node_info']}{colors['reset']}\")\n",
    "\n",
    "    for i in range(len(subgraph[\"WH\"])):\n",
    "      if i == 0:\n",
    "        print(f\"{colors['WH']}SPMM\\t\\t{subgraph['WH'][i]}{colors['reset']}\")\n",
    "      else:\n",
    "        print(f\"{colors['WH']}\\t\\t{subgraph['WH'][i]}{colors['reset']}\")\n",
    "\n",
    "    print(f\"{colors['DMVM']}DMVM\\t\\t{[subgraph['DMVM'][idx] for idx in range(len(subgraph['raw']))]}{colors['reset']}\")\n",
    "    print(f\"{colors['Coef']}COEF\\t\\t{[subgraph['Coef'][idx] for idx in range(len(subgraph['raw']))]}{colors['reset']}\")\n",
    "    print(f\"{colors['Softmax']}SOFTMAX\\t\\t{[subgraph['Softmax'][idx] for idx in range(len(subgraph['raw']))]}{colors['reset']}\")\n",
    "    print(\"-\" * 90)"
   ]
  },
  {
   "cell_type": "markdown",
   "metadata": {},
   "source": [
    "#### 5. SubGraph Information"
   ]
  },
  {
   "cell_type": "code",
   "execution_count": 464,
   "metadata": {},
   "outputs": [
    {
     "name": "stdout",
     "output_type": "stream",
     "text": [
      "------------------------------------------------------------------------------------------\n",
      "\u001b[91mraw\t\t[0, 1, 1, 0, 1, 0, 0, 1, 1, 0]\u001b[0m\n",
      "\u001b[91m\t\t[1, 0, 1, 0, 0, 0, 0, 1, 1, 1]\u001b[0m\n",
      "\u001b[91m\t\t[0, 1, 0, 0, 1, 1, 1, 1, 0, 1]\u001b[0m\n",
      "\u001b[91m\t\t[0, 1, 0, 1, 1, 0, 0, 0, 0, 0]\u001b[0m\n",
      "\u001b[91m\t\t[1, 0, 0, 1, 1, 1, 0, 1, 1, 0]\u001b[0m\n",
      "\u001b[92mcol_idx\t\t[1, 2, 4, 7, 8, 0, 2, 7, 8, 9, 1, 4, 5, 6, 7, 9, 1, 3, 4, 0, 3, 4, 5, 7, 8]\u001b[0m\n",
      "\u001b[93mvalue\t\t[1, 1, 1, 1, 1, 1, 1, 1, 1, 1, 1, 1, 1, 1, 1, 1, 1, 1, 1, 1, 1, 1, 1, 1, 1]\u001b[0m\n",
      "\u001b[94mnode_info\t['01011011', '01011010', '01101010', '00111010', '01101010']\u001b[0m\n",
      "\u001b[95mSPMM\t\t[45, 59, 35, 34, 96, 52, 31, 94, 107, -26, 27, 105, 38, 41, -32, 63]\u001b[0m\n",
      "\u001b[95m\t\t[50, -12, 70, 75, 97, 51, -5, 46, 128, 13, 9, 95, 29, 42, -13, 19]\u001b[0m\n",
      "\u001b[95m\t\t[3, 36, 32, 42, 51, 107, 23, 132, 106, 21, 39, 121, 59, 42, 5, 75]\u001b[0m\n",
      "\u001b[95m\t\t[32, 57, 1, 10, 64, 70, 51, 73, 19, -28, 40, 58, 47, 39, 26, 60]\u001b[0m\n",
      "\u001b[95m\t\t[58, 53, 98, 101, 118, 109, 51, 66, 93, 22, 86, 75, 71, 57, 92, 43]\u001b[0m\n",
      "\u001b[96mDMVM\t\t[39540, 36991, 49898, 27151, 55004]\u001b[0m\n",
      "\u001b[97mCOEF\t\t[19, 18, 21, 16, 23]\u001b[0m\n",
      "\u001b[1;91mSOFTMAX\t\t[0.046242774566473986, 0.023121387283236993, 0.18497109826589594, 0.005780346820809248, 0.7398843930635838]\u001b[0m\n",
      "------------------------------------------------------------------------------------------\n",
      "------------------------------------------------------------------------------------------\n",
      "\u001b[91mraw\t\t[0, 0, 1, 1, 0, 0, 1, 0, 0, 1]\u001b[0m\n",
      "\u001b[91m\t\t[1, 0, 1, 0, 0, 1, 0, 1, 1, 1]\u001b[0m\n",
      "\u001b[92mcol_idx\t\t[2, 3, 6, 9, 0, 2, 5, 7, 8, 9]\u001b[0m\n",
      "\u001b[93mvalue\t\t[1, 1, 1, 1, 1, 1, 1, 1, 1, 1]\u001b[0m\n",
      "\u001b[94mnode_info\t['01000101', '01100100']\u001b[0m\n",
      "\u001b[95mSPMM\t\t[3, 38, 48, 57, 35, 61, 6, 85, 40, 23, -3, 84, 65, 36, -1, 62]\u001b[0m\n",
      "\u001b[95m\t\t[41, 5, 79, 83, 113, 81, -2, 68, 135, 30, 34, 106, 39, 52, 11, 24]\u001b[0m\n",
      "\u001b[96mDMVM\t\t[23293, 45558]\u001b[0m\n",
      "\u001b[97mCOEF\t\t[11, 16]\u001b[0m\n",
      "\u001b[1;91mSOFTMAX\t\t[0.030303030303030304, 0.9696969696969697]\u001b[0m\n",
      "------------------------------------------------------------------------------------------\n",
      "------------------------------------------------------------------------------------------\n",
      "\u001b[91mraw\t\t[0, 0, 1, 1, 0, 1, 0, 1, 1, 1]\u001b[0m\n",
      "\u001b[91m\t\t[0, 0, 1, 0, 0, 0, 1, 0, 1, 1]\u001b[0m\n",
      "\u001b[91m\t\t[0, 1, 0, 0, 1, 0, 1, 0, 1, 0]\u001b[0m\n",
      "\u001b[91m\t\t[1, 0, 1, 0, 1, 1, 0, 1, 1, 0]\u001b[0m\n",
      "\u001b[92mcol_idx\t\t[2, 3, 5, 7, 8, 9, 2, 6, 8, 9, 1, 4, 6, 8, 0, 2, 4, 5, 7, 8]\u001b[0m\n",
      "\u001b[93mvalue\t\t[1, 1, 1, 1, 1, 1, 1, 1, 1, 1, 1, 1, 1, 1, 1, 1, 1, 1, 1, 1]\u001b[0m\n",
      "\u001b[94mnode_info\t['01101001', '01001000', '01001000', '01101000']\u001b[0m\n",
      "\u001b[95mSPMM\t\t[46, 54, 94, 79, 120, 83, 35, 114, 92, 59, 52, 97, 64, 64, 9, 31]\u001b[0m\n",
      "\u001b[95m\t\t[-13, 46, 56, 42, 25, 57, -3, 56, 76, 40, -19, 91, 59, 17, -15, 61]\u001b[0m\n",
      "\u001b[95m\t\t[-15, 79, 24, 11, 26, 88, 43, 59, 60, -4, 28, 84, 69, 16, 18, 90]\u001b[0m\n",
      "\u001b[95m\t\t[50, 42, 80, 95, 109, 77, 4, 65, 131, -2, 39, 101, 45, 45, 42, 51]\u001b[0m\n",
      "\u001b[96mDMVM\t\t[37373, 36970, 37240, 49969]\u001b[0m\n",
      "\u001b[97mCOEF\t\t[18, 18, 18, 21]\u001b[0m\n",
      "\u001b[1;91mSOFTMAX\t\t[0.09090909090909091, 0.09090909090909091, 0.09090909090909091, 0.7272727272727273]\u001b[0m\n",
      "------------------------------------------------------------------------------------------\n",
      "------------------------------------------------------------------------------------------\n",
      "\u001b[91mraw\t\t[1, 0, 0, 1, 0, 1, 1, 0, 0, 0]\u001b[0m\n",
      "\u001b[91m\t\t[1, 1, 0, 0, 0, 0, 1, 1, 1, 1]\u001b[0m\n",
      "\u001b[92mcol_idx\t\t[0, 3, 5, 6, 0, 1, 6, 7, 8, 9]\u001b[0m\n",
      "\u001b[93mvalue\t\t[1, 1, 1, 1, 1, 1, 1, 1, 1, 1]\u001b[0m\n",
      "\u001b[94mnode_info\t['01000101', '01100100']\u001b[0m\n",
      "\u001b[95mSPMM\t\t[-11, 28, 53, 70, 43, 102, 27, 41, 23, 7, 71, 49, 69, 38, 82, 49]\u001b[0m\n",
      "\u001b[95m\t\t[8, -2, 52, 48, 74, 108, 36, 67, 121, 8, 55, 112, 61, 44, -5, 52]\u001b[0m\n",
      "\u001b[96mDMVM\t\t[31432, 43111]\u001b[0m\n",
      "\u001b[97mCOEF\t\t[15, 18]\u001b[0m\n",
      "\u001b[1;91mSOFTMAX\t\t[0.1111111111111111, 0.8888888888888888]\u001b[0m\n",
      "------------------------------------------------------------------------------------------\n",
      "------------------------------------------------------------------------------------------\n",
      "\u001b[91mraw\t\t[0, 0, 1, 0, 1, 0, 1, 0, 1, 1]\u001b[0m\n",
      "\u001b[91m\t\t[1, 1, 0, 0, 1, 0, 0, 1, 1, 1]\u001b[0m\n",
      "\u001b[91m\t\t[1, 0, 0, 1, 0, 1, 0, 0, 0, 1]\u001b[0m\n",
      "\u001b[91m\t\t[0, 1, 0, 0, 0, 1, 1, 0, 1, 1]\u001b[0m\n",
      "\u001b[92mcol_idx\t\t[2, 4, 6, 8, 9, 0, 1, 4, 7, 8, 9, 0, 3, 5, 9, 1, 5, 6, 8, 9]\u001b[0m\n",
      "\u001b[93mvalue\t\t[1, 1, 1, 1, 1, 1, 1, 1, 1, 1, 1, 1, 1, 1, 1, 1, 1, 1, 1, 1]\u001b[0m\n",
      "\u001b[94mnode_info\t['01011001', '01101000', '01001000', '01011000']\u001b[0m\n",
      "\u001b[95mSPMM\t\t[4, 72, 64, 59, 31, 72, -5, 74, 101, 36, -34, 115, 72, 18, 9, 91]\u001b[0m\n",
      "\u001b[95m\t\t[56, 10, 45, 49, 108, 101, 33, 70, 141, -3, 36, 117, 46, 49, 13, 51]\u001b[0m\n",
      "\u001b[95m\t\t[28, 3, 45, 59, 81, 99, 18, 47, 47, 28, 47, 59, 48, 50, 69, 21]\u001b[0m\n",
      "\u001b[95m\t\t[-33, 59, 32, 7, 46, 122, 40, 84, 71, 45, 48, 100, 73, 33, 11, 68]\u001b[0m\n",
      "\u001b[96mDMVM\t\t[32651, 46997, 34402, 41396]\u001b[0m\n",
      "\u001b[97mCOEF\t\t[15, 19, 16, 18]\u001b[0m\n",
      "\u001b[1;91mSOFTMAX\t\t[0.037037037037037035, 0.5925925925925926, 0.07407407407407407, 0.2962962962962963]\u001b[0m\n",
      "------------------------------------------------------------------------------------------\n",
      "------------------------------------------------------------------------------------------\n",
      "\u001b[91mraw\t\t[1, 0, 0, 1, 0, 0, 0, 0, 1, 0]\u001b[0m\n",
      "\u001b[91m\t\t[0, 1, 1, 0, 1, 0, 0, 1, 1, 0]\u001b[0m\n",
      "\u001b[91m\t\t[0, 0, 1, 0, 1, 1, 1, 1, 0, 1]\u001b[0m\n",
      "\u001b[91m\t\t[1, 1, 0, 0, 1, 1, 1, 0, 1, 1]\u001b[0m\n",
      "\u001b[91m\t\t[0, 1, 1, 0, 0, 0, 1, 1, 0, 1]\u001b[0m\n",
      "\u001b[91m\t\t[0, 1, 1, 1, 0, 0, 0, 0, 1, 0]\u001b[0m\n",
      "\u001b[92mcol_idx\t\t[0, 3, 8, 1, 2, 4, 7, 8, 2, 4, 5, 6, 7, 9, 0, 1, 4, 5, 6, 8, 9, 1, 2, 6, 7, 9, 1, 2, 3, 8]\u001b[0m\n",
      "\u001b[93mvalue\t\t[1, 1, 1, 1, 1, 1, 1, 1, 1, 1, 1, 1, 1, 1, 1, 1, 1, 1, 1, 1, 1, 1, 1, 1, 1, 1, 1, 1, 1, 1]\u001b[0m\n",
      "\u001b[94mnode_info\t['00111101', '01011100', '01101100', '01111100', '01011100', '01001100']\u001b[0m\n",
      "\u001b[95mSPMM\t\t[30, 28, 59, 52, 76, 72, 44, 0, 31, 6, 56, 31, 53, 35, 63, 22]\u001b[0m\n",
      "\u001b[95m\t\t[45, 59, 35, 34, 96, 52, 31, 94, 107, -26, 27, 105, 38, 41, -32, 63]\u001b[0m\n",
      "\u001b[95m\t\t[14, 40, 65, 85, 46, 72, -17, 126, 118, 33, -3, 123, 55, 36, 3, 73]\u001b[0m\n",
      "\u001b[95m\t\t[-4, 59, 47, 49, 76, 161, 31, 81, 123, 18, 45, 138, 89, 44, 62, 101]\u001b[0m\n",
      "\u001b[95m\t\t[4, 5, 19, 32, 51, 56, 5, 116, 96, -10, 12, 117, 38, 41, -68, 58]\u001b[0m\n",
      "\u001b[95m\t\t[25, 74, 27, 14, 101, 71, 57, 75, 36, -19, 52, 77, 58, 51, -12, 57]\u001b[0m\n",
      "\u001b[96mDMVM\t\t[31634, 38307, 54039, 60552, 33239, 29977]\u001b[0m\n",
      "\u001b[97mCOEF\t\t[15, 17, 20, 22, 15, 15]\u001b[0m\n",
      "\u001b[1;91mSOFTMAX\t\t[0.005988023952095809, 0.023952095808383235, 0.19161676646706588, 0.7664670658682635, 0.005988023952095809, 0.005988023952095809]\u001b[0m\n",
      "------------------------------------------------------------------------------------------\n",
      "------------------------------------------------------------------------------------------\n",
      "\u001b[91mraw\t\t[0, 0, 0, 0, 0, 1, 1, 0, 0, 1]\u001b[0m\n",
      "\u001b[91m\t\t[0, 0, 0, 1, 1, 0, 1, 1, 0, 0]\u001b[0m\n",
      "\u001b[91m\t\t[0, 1, 1, 0, 1, 1, 0, 1, 0, 1]\u001b[0m\n",
      "\u001b[91m\t\t[0, 1, 1, 0, 0, 1, 1, 1, 0, 1]\u001b[0m\n",
      "\u001b[91m\t\t[0, 1, 1, 0, 0, 1, 1, 0, 1, 1]\u001b[0m\n",
      "\u001b[91m\t\t[0, 0, 1, 0, 1, 0, 1, 0, 1, 1]\u001b[0m\n",
      "\u001b[92mcol_idx\t\t[5, 6, 9, 3, 4, 6, 7, 1, 2, 4, 5, 7, 9, 1, 2, 5, 6, 7, 9, 1, 2, 5, 6, 8, 9, 2, 4, 6, 8, 9]\u001b[0m\n",
      "\u001b[93mvalue\t\t[1, 1, 1, 1, 1, 1, 1, 1, 1, 1, 1, 1, 1, 1, 1, 1, 1, 1, 1, 1, 1, 1, 1, 1, 1, 1, 1, 1, 1, 1]\u001b[0m\n",
      "\u001b[94mnode_info\t['00111101', '01001100', '01101100', '01101100', '01101100', '01011100']\u001b[0m\n",
      "\u001b[95mSPMM\t\t[-32, 20, 31, 29, -2, 71, -4, 58, 41, 52, 9, 59, 45, 14, 23, 39]\u001b[0m\n",
      "\u001b[95m\t\t[23, 45, 67, 78, 29, 55, 35, 84, 44, 12, 39, 57, 64, 30, 36, 57]\u001b[0m\n",
      "\u001b[95m\t\t[43, 34, 21, 41, 101, 79, 5, 141, 123, -4, 18, 133, 33, 56, -26, 62]\u001b[0m\n",
      "\u001b[95m\t\t[-5, 22, 28, 40, 67, 86, 8, 138, 103, 7, 37, 128, 48, 51, -44, 63]\u001b[0m\n",
      "\u001b[95m\t\t[-24, 71, 36, 22, 68, 116, 23, 108, 93, 27, 31, 131, 75, 43, -14, 86]\u001b[0m\n",
      "\u001b[95m\t\t[4, 72, 64, 59, 31, 72, -5, 74, 101, 36, -34, 115, 72, 18, 9, 91]\u001b[0m\n",
      "\u001b[96mDMVM\t\t[10994, 40771, 45692, 41806, 47451, 51117]\u001b[0m\n",
      "\u001b[97mCOEF\t\t[5, 12, 13, 12, 14, 15]\u001b[0m\n",
      "\u001b[1;91mSOFTMAX\t\t[0.0004880429477794046, 0.06246949731576379, 0.12493899463152758, 0.06246949731576379, 0.24987798926305516, 0.4997559785261103]\u001b[0m\n",
      "------------------------------------------------------------------------------------------\n",
      "------------------------------------------------------------------------------------------\n",
      "\u001b[91mraw\t\t[0, 0, 1, 0, 1, 0, 0, 0, 1, 0]\u001b[0m\n",
      "\u001b[91m\t\t[1, 1, 0, 0, 1, 1, 1, 0, 0, 0]\u001b[0m\n",
      "\u001b[91m\t\t[1, 1, 0, 1, 0, 1, 0, 1, 0, 1]\u001b[0m\n",
      "\u001b[91m\t\t[1, 1, 0, 0, 1, 0, 0, 1, 1, 1]\u001b[0m\n",
      "\u001b[92mcol_idx\t\t[2, 4, 8, 0, 1, 4, 5, 6, 0, 1, 3, 5, 7, 9, 0, 1, 4, 7, 8, 9]\u001b[0m\n",
      "\u001b[93mvalue\t\t[1, 1, 1, 1, 1, 1, 1, 1, 1, 1, 1, 1, 1, 1, 1, 1, 1, 1, 1, 1]\u001b[0m\n",
      "\u001b[94mnode_info\t['00111001', '01011000', '01101000', '01101000']\u001b[0m\n",
      "\u001b[95mSPMM\t\t[27, 69, 42, 38, 49, 31, 2, 38, 67, 1, -18, 67, 37, 14, 10, 57]\u001b[0m\n",
      "\u001b[95m\t\t[-13, 39, 10, 38, 45, 120, 18, 64, 74, -33, 51, 97, 60, 33, 58, 89]\u001b[0m\n",
      "\u001b[95m\t\t[46, -7, 38, 55, 128, 120, 47, 103, 87, 1, 92, 97, 49, 77, 27, 27]\u001b[0m\n",
      "\u001b[95m\t\t[56, 10, 45, 49, 108, 101, 33, 70, 141, -3, 36, 117, 46, 49, 13, 51]\u001b[0m\n",
      "\u001b[96mDMVM\t\t[28170, 39898, 41589, 46997]\u001b[0m\n",
      "\u001b[97mCOEF\t\t[13, 16, 17, 18]\u001b[0m\n",
      "\u001b[1;91mSOFTMAX\t\t[0.017543859649122806, 0.14035087719298245, 0.2807017543859649, 0.5614035087719298]\u001b[0m\n",
      "------------------------------------------------------------------------------------------\n",
      "------------------------------------------------------------------------------------------\n",
      "\u001b[91mraw\t\t[0, 1, 0, 0, 1, 0, 1, 1, 0, 1]\u001b[0m\n",
      "\u001b[91m\t\t[1, 0, 1, 1, 1, 1, 0, 1, 0, 1]\u001b[0m\n",
      "\u001b[91m\t\t[0, 0, 0, 0, 1, 0, 0, 0, 1, 1]\u001b[0m\n",
      "\u001b[92mcol_idx\t\t[1, 4, 6, 7, 9, 0, 2, 3, 4, 5, 7, 9, 4, 8, 9]\u001b[0m\n",
      "\u001b[93mvalue\t\t[1, 1, 1, 1, 1, 1, 1, 1, 1, 1, 1, 1, 1, 1, 1]\u001b[0m\n",
      "\u001b[94mnode_info\t['01010111', '01110110', '00110110']\u001b[0m\n",
      "\u001b[95mSPMM\t\t[12, 19, 23, 34, 35, 77, 20, 110, 99, 4, 14, 110, 49, 32, -19, 70]\u001b[0m\n",
      "\u001b[95m\t\t[74, 23, 79, 115, 129, 100, 5, 115, 124, 9, 35, 123, 58, 72, 49, 55]\u001b[0m\n",
      "\u001b[95m\t\t[26, 46, 45, 28, 37, 56, 11, 35, 74, 47, -21, 65, 42, 12, 28, 42]\u001b[0m\n",
      "\u001b[96mDMVM\t\t[25666, 59877, 34801]\u001b[0m\n",
      "\u001b[97mCOEF\t\t[12, 20, 14]\u001b[0m\n",
      "\u001b[1;91mSOFTMAX\t\t[0.0038314176245210726, 0.9808429118773946, 0.01532567049808429]\u001b[0m\n",
      "------------------------------------------------------------------------------------------\n",
      "------------------------------------------------------------------------------------------\n",
      "\u001b[91mraw\t\t[1, 1, 1, 0, 0, 0, 1, 1, 1, 0]\u001b[0m\n",
      "\u001b[91m\t\t[0, 1, 0, 0, 0, 1, 1, 1, 0, 0]\u001b[0m\n",
      "\u001b[91m\t\t[1, 1, 1, 1, 0, 1, 0, 0, 0, 0]\u001b[0m\n",
      "\u001b[92mcol_idx\t\t[0, 1, 2, 6, 7, 8, 1, 5, 6, 7, 0, 1, 2, 3, 5]\u001b[0m\n",
      "\u001b[93mvalue\t\t[1, 1, 1, 1, 1, 1, 1, 1, 1, 1, 1, 1, 1, 1, 1]\u001b[0m\n",
      "\u001b[94mnode_info\t['01100111', '01000110', '01010110']\u001b[0m\n",
      "\u001b[95mSPMM\t\t[9, 21, 49, 58, 86, 83, 27, 70, 114, -38, 58, 114, 56, 46, -23, 67]\u001b[0m\n",
      "\u001b[95m\t\t[-22, 21, 17, 20, 35, 73, 33, 93, 52, -3, 74, 68, 39, 33, -12, 42]\u001b[0m\n",
      "\u001b[95m\t\t[27, 34, 13, 41, 120, 103, 32, 80, 50, -48, 75, 90, 49, 68, 28, 56]\u001b[0m\n",
      "\u001b[96mDMVM\t\t[43045, 26015, 32635]\u001b[0m\n",
      "\u001b[97mCOEF\t\t[21, 16, 18]\u001b[0m\n",
      "\u001b[1;91mSOFTMAX\t\t[0.8648648648648649, 0.02702702702702703, 0.10810810810810811]\u001b[0m\n",
      "------------------------------------------------------------------------------------------\n",
      "------------------------------------------------------------------------------------------\n",
      "\u001b[91mraw\t\t[0, 0, 0, 0, 0, 1, 1, 1, 0, 1]\u001b[0m\n",
      "\u001b[91m\t\t[0, 0, 1, 1, 1, 1, 0, 1, 0, 0]\u001b[0m\n",
      "\u001b[91m\t\t[0, 1, 1, 1, 1, 1, 0, 0, 0, 1]\u001b[0m\n",
      "\u001b[91m\t\t[0, 1, 0, 1, 0, 0, 1, 1, 0, 1]\u001b[0m\n",
      "\u001b[92mcol_idx\t\t[5, 6, 7, 9, 2, 3, 4, 5, 7, 1, 2, 3, 4, 5, 9, 1, 3, 6, 7, 9]\u001b[0m\n",
      "\u001b[93mvalue\t\t[1, 1, 1, 1, 1, 1, 1, 1, 1, 1, 1, 1, 1, 1, 1, 1, 1, 1, 1, 1]\u001b[0m\n",
      "\u001b[94mnode_info\t['01001001', '01011000', '01101000', '01011000']\u001b[0m\n",
      "\u001b[95mSPMM\t\t[-12, 2, 53, 53, 18, 63, 2, 84, 71, 55, 29, 68, 40, 25, 4, 25]\u001b[0m\n",
      "\u001b[95m\t\t[54, 60, 65, 85, 95, 57, 20, 115, 68, 4, 43, 80, 48, 54, 29, 49]\u001b[0m\n",
      "\u001b[95m\t\t[40, 75, 21, 38, 112, 113, 29, 140, 77, -1, 28, 129, 66, 67, 18, 86]\u001b[0m\n",
      "\u001b[95m\t\t[12, 16, 37, 38, 60, 88, 52, 117, 58, 14, 59, 91, 64, 53, -18, 50]\u001b[0m\n",
      "\u001b[96mDMVM\t\t[11846, 45132, 51509, 38274]\u001b[0m\n",
      "\u001b[97mCOEF\t\t[5, 13, 15, 12]\u001b[0m\n",
      "\u001b[1;91mSOFTMAX\t\t[0.0007097232079489, 0.1816891412349184, 0.7267565649396736, 0.0908445706174592]\u001b[0m\n",
      "------------------------------------------------------------------------------------------\n",
      "------------------------------------------------------------------------------------------\n",
      "\u001b[91mraw\t\t[1, 1, 1, 0, 0, 1, 0, 1, 1, 0]\u001b[0m\n",
      "\u001b[91m\t\t[1, 1, 1, 1, 0, 0, 0, 1, 0, 0]\u001b[0m\n",
      "\u001b[91m\t\t[1, 1, 0, 0, 1, 1, 1, 1, 0, 1]\u001b[0m\n",
      "\u001b[91m\t\t[0, 0, 0, 1, 1, 0, 0, 0, 0, 1]\u001b[0m\n",
      "\u001b[91m\t\t[0, 1, 0, 1, 0, 0, 1, 0, 1, 0]\u001b[0m\n",
      "\u001b[91m\t\t[0, 1, 1, 0, 0, 1, 0, 1, 0, 1]\u001b[0m\n",
      "\u001b[92mcol_idx\t\t[0, 1, 2, 5, 7, 8, 0, 1, 2, 3, 7, 0, 1, 4, 5, 6, 7, 9, 3, 4, 9, 1, 3, 6, 8, 1, 2, 5, 7, 9]\u001b[0m\n",
      "\u001b[93mvalue\t\t[1, 1, 1, 1, 1, 1, 1, 1, 1, 1, 1, 1, 1, 1, 1, 1, 1, 1, 1, 1, 1, 1, 1, 1, 1, 1, 1, 1, 1, 1]\u001b[0m\n",
      "\u001b[94mnode_info\t['01101101', '01011100', '01111100', '00111100', '01001100', '01011100']\u001b[0m\n",
      "\u001b[95mSPMM\t\t[31, 24, 43, 50, 130, 91, 29, 77, 116, -28, 79, 106, 38, 60, -5, 41]\u001b[0m\n",
      "\u001b[95m\t\t[56, -1, 26, 57, 124, 65, 35, 84, 73, -62, 70, 88, 34, 69, -15, 37]\u001b[0m\n",
      "\u001b[95m\t\t[15, 10, 39, 67, 75, 131, 16, 111, 133, -2, 51, 135, 62, 52, 32, 78]\u001b[0m\n",
      "\u001b[95m\t\t[42, 38, 37, 43, 47, 60, 20, 64, 38, 30, -5, 58, 48, 31, 42, 43]\u001b[0m\n",
      "\u001b[95m\t\t[-15, 76, 38, 15, 51, 99, 75, 66, 19, 6, 73, 65, 84, 37, 19, 70]\u001b[0m\n",
      "\u001b[95m\t\t[26, 8, 13, 24, 95, 64, 7, 123, 98, 0, 33, 109, 20, 55, -50, 32]\u001b[0m\n",
      "\u001b[96mDMVM\t\t[45131, 29341, 54907, 34973, 34183, 31545]\u001b[0m\n",
      "\u001b[97mCOEF\t\t[22, 18, 24, 19, 19, 18]\u001b[0m\n",
      "\u001b[1;91mSOFTMAX\t\t[0.18604651162790697, 0.011627906976744186, 0.7441860465116279, 0.023255813953488372, 0.023255813953488372, 0.011627906976744186]\u001b[0m\n",
      "------------------------------------------------------------------------------------------\n",
      "------------------------------------------------------------------------------------------\n",
      "\u001b[91mraw\t\t[1, 1, 0, 0, 0, 0, 1, 1, 0, 1]\u001b[0m\n",
      "\u001b[91m\t\t[0, 1, 1, 0, 0, 0, 1, 0, 0, 1]\u001b[0m\n",
      "\u001b[91m\t\t[0, 1, 0, 1, 0, 0, 0, 1, 0, 0]\u001b[0m\n",
      "\u001b[91m\t\t[0, 0, 0, 1, 1, 0, 1, 1, 0, 1]\u001b[0m\n",
      "\u001b[91m\t\t[0, 1, 1, 0, 1, 0, 1, 1, 1, 0]\u001b[0m\n",
      "\u001b[91m\t\t[1, 0, 1, 0, 0, 1, 1, 1, 1, 1]\u001b[0m\n",
      "\u001b[92mcol_idx\t\t[0, 1, 6, 7, 9, 1, 2, 6, 9, 1, 3, 7, 3, 4, 6, 7, 9, 1, 2, 4, 6, 7, 8, 0, 2, 5, 6, 7, 8, 9]\u001b[0m\n",
      "\u001b[93mvalue\t\t[1, 1, 1, 1, 1, 1, 1, 1, 1, 1, 1, 1, 1, 1, 1, 1, 1, 1, 1, 1, 1, 1, 1, 1, 1, 1, 1, 1, 1, 1]\u001b[0m\n",
      "\u001b[94mnode_info\t['01011101', '01001100', '00111100', '01011100', '01101100', '01111100']\u001b[0m\n",
      "\u001b[95mSPMM\t\t[7, -33, 22, 42, 53, 86, 15, 71, 101, -15, 41, 100, 39, 41, -16, 43]\u001b[0m\n",
      "\u001b[95m\t\t[-16, 23, -3, 8, 31, 64, -1, 90, 66, -13, -8, 108, 43, 30, -49, 72]\u001b[0m\n",
      "\u001b[95m\t\t[35, 13, 15, 17, 78, 47, 59, 81, 24, -21, 75, 43, 29, 49, -17, 16]\u001b[0m\n",
      "\u001b[95m\t\t[31, 34, 74, 83, 39, 74, 27, 105, 73, 40, 19, 86, 71, 38, 29, 60]\u001b[0m\n",
      "\u001b[95m\t\t[14, 73, 50, 50, 68, 74, 32, 109, 112, -19, 31, 124, 66, 37, -26, 94]\u001b[0m\n",
      "\u001b[95m\t\t[10, 19, 94, 99, 85, 103, -1, 83, 140, 37, 38, 125, 67, 48, 17, 55]\u001b[0m\n",
      "\u001b[96mDMVM\t\t[24744, 27966, 18277, 50507, 48568, 55819]\u001b[0m\n",
      "\u001b[97mCOEF\t\t[12, 12, 10, 18, 17, 19]\u001b[0m\n",
      "\u001b[1;91mSOFTMAX\t\t[0.004419889502762431, 0.004419889502762431, 0.0011049723756906078, 0.2828729281767956, 0.1414364640883978, 0.5657458563535912]\u001b[0m\n",
      "------------------------------------------------------------------------------------------\n",
      "------------------------------------------------------------------------------------------\n",
      "\u001b[91mraw\t\t[0, 1, 0, 0, 0, 0, 1, 1, 1, 1]\u001b[0m\n",
      "\u001b[91m\t\t[1, 0, 1, 1, 1, 0, 0, 0, 1, 0]\u001b[0m\n",
      "\u001b[91m\t\t[1, 1, 0, 0, 0, 0, 1, 1, 1, 0]\u001b[0m\n",
      "\u001b[91m\t\t[0, 0, 0, 0, 1, 1, 0, 1, 1, 1]\u001b[0m\n",
      "\u001b[92mcol_idx\t\t[1, 6, 7, 8, 9, 0, 2, 3, 4, 8, 0, 1, 6, 7, 8, 4, 5, 7, 8, 9]\u001b[0m\n",
      "\u001b[93mvalue\t\t[1, 1, 1, 1, 1, 1, 1, 1, 1, 1, 1, 1, 1, 1, 1, 1, 1, 1, 1, 1]\u001b[0m\n",
      "\u001b[94mnode_info\t['01011001', '01011000', '01011000', '01011000']\u001b[0m\n",
      "\u001b[95mSPMM\t\t[-4, 24, 45, 23, 50, 84, 43, 88, 94, 31, 43, 98, 58, 34, -32, 49]\u001b[0m\n",
      "\u001b[95m\t\t[56, 66, 71, 84, 104, 81, 25, 42, 78, -16, 24, 86, 68, 46, 62, 70]\u001b[0m\n",
      "\u001b[95m\t\t[0, 9, 45, 43, 64, 89, 44, 46, 92, -20, 75, 83, 54, 36, 2, 49]\u001b[0m\n",
      "\u001b[95m\t\t[37, 45, 76, 60, 73, 78, 20, 83, 111, 67, 24, 85, 47, 33, 33, 33]\u001b[0m\n",
      "\u001b[96mDMVM\t\t[26993, 47219, 33375, 48641]\u001b[0m\n",
      "\u001b[97mCOEF\t\t[13, 18, 14, 18]\u001b[0m\n",
      "\u001b[1;91mSOFTMAX\t\t[0.014925373134328358, 0.47761194029850745, 0.029850746268656716, 0.47761194029850745]\u001b[0m\n",
      "------------------------------------------------------------------------------------------\n",
      "------------------------------------------------------------------------------------------\n",
      "\u001b[91mraw\t\t[1, 0, 0, 1, 1, 0, 0, 1, 0, 1]\u001b[0m\n",
      "\u001b[91m\t\t[0, 0, 1, 1, 0, 1, 0, 1, 1, 0]\u001b[0m\n",
      "\u001b[92mcol_idx\t\t[0, 3, 4, 7, 9, 2, 3, 5, 7, 8]\u001b[0m\n",
      "\u001b[93mvalue\t\t[1, 1, 1, 1, 1, 1, 1, 1, 1, 1]\u001b[0m\n",
      "\u001b[94mnode_info\t['01010101', '01010100']\u001b[0m\n",
      "\u001b[95mSPMM\t\t[74, -6, 66, 92, 91, 76, 19, 69, 95, 10, 27, 81, 46, 52, 50, 32]\u001b[0m\n",
      "\u001b[95m\t\t[38, 65, 87, 74, 110, 64, 43, 93, 63, 31, 72, 68, 57, 56, 16, 28]\u001b[0m\n",
      "\u001b[96mDMVM\t\t[31213, 41903]\u001b[0m\n",
      "\u001b[97mCOEF\t\t[15, 17]\u001b[0m\n",
      "\u001b[1;91mSOFTMAX\t\t[0.2, 0.8]\u001b[0m\n",
      "------------------------------------------------------------------------------------------\n",
      "------------------------------------------------------------------------------------------\n",
      "\u001b[91mraw\t\t[0, 0, 1, 1, 0, 0, 0, 0, 1, 1]\u001b[0m\n",
      "\u001b[91m\t\t[0, 1, 0, 1, 1, 0, 0, 1, 0, 0]\u001b[0m\n",
      "\u001b[91m\t\t[1, 0, 1, 0, 0, 1, 1, 0, 1, 0]\u001b[0m\n",
      "\u001b[91m\t\t[1, 1, 0, 1, 1, 0, 1, 1, 1, 0]\u001b[0m\n",
      "\u001b[91m\t\t[1, 0, 1, 1, 1, 0, 0, 0, 0, 1]\u001b[0m\n",
      "\u001b[92mcol_idx\t\t[2, 3, 8, 9, 1, 3, 4, 7, 0, 2, 5, 6, 8, 0, 1, 3, 4, 6, 7, 8, 0, 2, 3, 4, 9]\u001b[0m\n",
      "\u001b[93mvalue\t\t[1, 1, 1, 1, 1, 1, 1, 1, 1, 1, 1, 1, 1, 1, 1, 1, 1, 1, 1, 1, 1, 1, 1, 1, 1]\u001b[0m\n",
      "\u001b[94mnode_info\t['01001011', '01001010', '01011010', '01111010', '01011010']\u001b[0m\n",
      "\u001b[95mSPMM\t\t[35, 55, 63, 47, 84, 61, 26, 66, 55, 39, 7, 77, 59, 43, 4, 40]\u001b[0m\n",
      "\u001b[95m\t\t[52, 39, 23, 34, 84, 62, 57, 99, 49, -25, 60, 67, 42, 50, 7, 46]\u001b[0m\n",
      "\u001b[95m\t\t[-18, 48, 65, 70, 55, 92, 1, 36, 81, 6, 38, 87, 65, 29, 43, 66]\u001b[0m\n",
      "\u001b[95m\t\t[34, 58, 75, 81, 101, 130, 72, 89, 101, -18, 90, 112, 95, 59, 51, 89]\u001b[0m\n",
      "\u001b[95m\t\t[63, 24, 48, 83, 93, 78, -4, 67, 87, -11, -10, 103, 53, 51, 44, 64]\u001b[0m\n",
      "\u001b[96mDMVM\t\t[30008, 32424, 40810, 58612, 46037]\u001b[0m\n",
      "\u001b[97mCOEF\t\t[14, 15, 17, 21, 18]\u001b[0m\n",
      "\u001b[1;91mSOFTMAX\t\t[0.0064516129032258064, 0.012903225806451613, 0.05161290322580645, 0.8258064516129032, 0.1032258064516129]\u001b[0m\n",
      "------------------------------------------------------------------------------------------\n",
      "------------------------------------------------------------------------------------------\n",
      "\u001b[91mraw\t\t[0, 1, 1, 0, 1, 1, 0, 1, 1, 0]\u001b[0m\n",
      "\u001b[91m\t\t[0, 1, 0, 0, 1, 0, 0, 1, 1, 0]\u001b[0m\n",
      "\u001b[91m\t\t[0, 1, 1, 1, 0, 1, 1, 0, 1, 1]\u001b[0m\n",
      "\u001b[91m\t\t[0, 1, 1, 0, 1, 0, 0, 0, 0, 0]\u001b[0m\n",
      "\u001b[91m\t\t[0, 0, 1, 1, 1, 1, 0, 1, 0, 0]\u001b[0m\n",
      "\u001b[92mcol_idx\t\t[1, 2, 4, 5, 7, 8, 1, 4, 7, 8, 1, 2, 3, 5, 6, 8, 9, 1, 2, 4, 2, 3, 4, 5, 7]\u001b[0m\n",
      "\u001b[93mvalue\t\t[1, 1, 1, 1, 1, 1, 1, 1, 1, 1, 1, 1, 1, 1, 1, 1, 1, 1, 1, 1, 1, 1, 1, 1, 1]\u001b[0m\n",
      "\u001b[94mnode_info\t['01101011', '01001010', '01111010', '00111010', '01011010']\u001b[0m\n",
      "\u001b[95mSPMM\t\t[36, 76, 44, 42, 112, 82, 34, 116, 114, -9, 52, 116, 48, 51, -8, 68]\u001b[0m\n",
      "\u001b[95m\t\t[36, 47, 31, 19, 74, 58, 48, 70, 85, -8, 44, 74, 36, 31, -7, 45]\u001b[0m\n",
      "\u001b[95m\t\t[-7, 94, 58, 43, 99, 142, 53, 133, 77, 33, 61, 136, 103, 65, 11, 96]\u001b[0m\n",
      "\u001b[95m\t\t[24, 46, -17, 4, 55, 38, 4, 72, 57, -52, -7, 84, 21, 27, -24, 68]\u001b[0m\n",
      "\u001b[95m\t\t[54, 60, 65, 85, 95, 57, 20, 115, 68, 4, 43, 80, 48, 54, 29, 49]\u001b[0m\n",
      "\u001b[96mDMVM\t\t[46053, 32252, 58541, 22116, 45132]\u001b[0m\n",
      "\u001b[97mCOEF\t\t[22, 19, 25, 16, 22]\u001b[0m\n",
      "\u001b[1;91mSOFTMAX\t\t[0.09861325115562404, 0.012326656394453005, 0.7889060092449923, 0.0015408320493066256, 0.09861325115562404]\u001b[0m\n",
      "------------------------------------------------------------------------------------------\n",
      "------------------------------------------------------------------------------------------\n",
      "\u001b[91mraw\t\t[1, 0, 1, 1, 0, 1, 0, 1, 1, 1]\u001b[0m\n",
      "\u001b[91m\t\t[1, 0, 1, 1, 1, 0, 0, 1, 0, 0]\u001b[0m\n",
      "\u001b[91m\t\t[1, 0, 0, 1, 0, 0, 0, 0, 1, 0]\u001b[0m\n",
      "\u001b[92mcol_idx\t\t[0, 2, 3, 5, 7, 8, 9, 0, 2, 3, 4, 7, 0, 3, 8]\u001b[0m\n",
      "\u001b[93mvalue\t\t[1, 1, 1, 1, 1, 1, 1, 1, 1, 1, 1, 1, 1, 1, 1]\u001b[0m\n",
      "\u001b[94mnode_info\t['01110111', '01010110', '00110110']\u001b[0m\n",
      "\u001b[95mSPMM\t\t[58, 28, 101, 104, 144, 107, 28, 93, 119, 36, 64, 111, 67, 74, 36, 34]\u001b[0m\n",
      "\u001b[95m\t\t[75, 17, 63, 102, 103, 51, 10, 72, 88, -36, 30, 83, 41, 54, 32, 47]\u001b[0m\n",
      "\u001b[95m\t\t[30, 28, 59, 52, 76, 72, 44, 0, 31, 6, 56, 31, 53, 35, 63, 22]\u001b[0m\n",
      "\u001b[96mDMVM\t\t[46266, 41574, 27017]\u001b[0m\n",
      "\u001b[97mCOEF\t\t[22, 21, 17]\u001b[0m\n",
      "\u001b[1;91mSOFTMAX\t\t[0.6530612244897959, 0.32653061224489793, 0.02040816326530612]\u001b[0m\n",
      "------------------------------------------------------------------------------------------\n",
      "------------------------------------------------------------------------------------------\n",
      "\u001b[91mraw\t\t[0, 1, 1, 0, 0, 1, 0, 1, 1, 1]\u001b[0m\n",
      "\u001b[91m\t\t[1, 0, 0, 0, 0, 1, 1, 0, 0, 0]\u001b[0m\n",
      "\u001b[91m\t\t[0, 0, 1, 1, 1, 0, 0, 0, 1, 1]\u001b[0m\n",
      "\u001b[91m\t\t[1, 0, 1, 0, 1, 0, 1, 0, 1, 1]\u001b[0m\n",
      "\u001b[92mcol_idx\t\t[1, 2, 5, 7, 8, 9, 0, 5, 6, 2, 3, 4, 8, 9, 0, 2, 4, 6, 8, 9]\u001b[0m\n",
      "\u001b[93mvalue\t\t[1, 1, 1, 1, 1, 1, 1, 1, 1, 1, 1, 1, 1, 1, 1, 1, 1, 1, 1, 1]\u001b[0m\n",
      "\u001b[94mnode_info\t['01101001', '00111000', '01011000', '01101000']\u001b[0m\n",
      "\u001b[95mSPMM\t\t[27, 39, 43, 30, 116, 86, 28, 119, 118, 23, 47, 121, 42, 58, -39, 41]\u001b[0m\n",
      "\u001b[95m\t\t[-28, 5, 31, 49, 12, 76, -3, 16, 39, 1, 41, 44, 41, 16, 57, 39]\u001b[0m\n",
      "\u001b[95m\t\t[52, 81, 71, 64, 90, 76, 24, 84, 80, 35, -8, 101, 72, 44, 28, 70]\u001b[0m\n",
      "\u001b[95m\t\t[16, 46, 71, 84, 55, 96, -12, 53, 128, 13, -22, 129, 75, 28, 36, 94]\u001b[0m\n",
      "\u001b[96mDMVM\t\t[36292, 23837, 51946, 56126]\u001b[0m\n",
      "\u001b[97mCOEF\t\t[17, 14, 21, 22]\u001b[0m\n",
      "\u001b[1;91mSOFTMAX\t\t[0.020356234096692113, 0.002544529262086514, 0.3256997455470738, 0.6513994910941476]\u001b[0m\n",
      "------------------------------------------------------------------------------------------\n",
      "------------------------------------------------------------------------------------------\n",
      "\u001b[91mraw\t\t[1, 0, 0, 0, 1, 0, 1, 0, 0, 0]\u001b[0m\n",
      "\u001b[91m\t\t[0, 0, 1, 0, 1, 1, 1, 1, 0, 0]\u001b[0m\n",
      "\u001b[91m\t\t[1, 1, 0, 0, 1, 1, 0, 0, 0, 0]\u001b[0m\n",
      "\u001b[91m\t\t[0, 1, 0, 0, 1, 0, 0, 0, 1, 1]\u001b[0m\n",
      "\u001b[91m\t\t[0, 1, 1, 0, 1, 1, 1, 0, 1, 1]\u001b[0m\n",
      "\u001b[91m\t\t[0, 0, 1, 0, 1, 1, 1, 1, 1, 1]\u001b[0m\n",
      "\u001b[92mcol_idx\t\t[0, 4, 6, 2, 4, 5, 6, 7, 0, 1, 4, 5, 1, 4, 8, 9, 1, 2, 4, 5, 6, 8, 9, 2, 4, 5, 6, 7, 8, 9]\u001b[0m\n",
      "\u001b[93mvalue\t\t[1, 1, 1, 1, 1, 1, 1, 1, 1, 1, 1, 1, 1, 1, 1, 1, 1, 1, 1, 1, 1, 1, 1, 1, 1, 1, 1, 1, 1, 1]\u001b[0m\n",
      "\u001b[94mnode_info\t['00111101', '01011100', '01001100', '01001100', '01111100', '01111100']\u001b[0m\n",
      "\u001b[95mSPMM\t\t[-2, 14, 30, 58, 2, 61, -8, 12, 57, -20, 1, 57, 44, 7, 57, 64]\u001b[0m\n",
      "\u001b[95m\t\t[6, 51, 58, 80, 36, 53, -9, 105, 89, 5, 17, 94, 48, 28, 10, 70]\u001b[0m\n",
      "\u001b[95m\t\t[18, 25, -5, 22, 73, 98, 17, 49, 69, -40, 47, 78, 32, 37, 52, 58]\u001b[0m\n",
      "\u001b[95m\t\t[24, 54, 16, 0, 64, 85, 34, 65, 84, 17, 4, 94, 48, 28, 5, 62]\u001b[0m\n",
      "\u001b[95m\t\t[-7, 97, 44, 39, 74, 131, 21, 126, 118, 23, 16, 155, 88, 44, 10, 116]\u001b[0m\n",
      "\u001b[95m\t\t[15, 71, 95, 91, 67, 94, 4, 122, 138, 56, 11, 135, 77, 39, 14, 82]\u001b[0m\n",
      "\u001b[96mDMVM\t\t[23135, 44303, 29637, 36715, 61598, 64957]\u001b[0m\n",
      "\u001b[97mCOEF\t\t[11, 16, 12, 14, 20, 21]\u001b[0m\n",
      "\u001b[1;91mSOFTMAX\t\t[0.0006333122229259025, 0.02026599113362888, 0.001266624445851805, 0.00506649778340722, 0.32425585813806207, 0.6485117162761241]\u001b[0m\n",
      "------------------------------------------------------------------------------------------\n",
      "------------------------------------------------------------------------------------------\n",
      "\u001b[91mraw\t\t[0, 1, 1, 0, 0, 1, 1, 0, 1, 0]\u001b[0m\n",
      "\u001b[91m\t\t[0, 0, 0, 0, 0, 0, 1, 0, 1, 1]\u001b[0m\n",
      "\u001b[91m\t\t[1, 1, 1, 1, 0, 0, 1, 0, 1, 1]\u001b[0m\n",
      "\u001b[92mcol_idx\t\t[1, 2, 5, 6, 8, 6, 8, 9, 0, 1, 2, 3, 6, 8, 9]\u001b[0m\n",
      "\u001b[93mvalue\t\t[1, 1, 1, 1, 1, 1, 1, 1, 1, 1, 1, 1, 1, 1, 1]\u001b[0m\n",
      "\u001b[94mnode_info\t['01010111', '00110110', '01110110']\u001b[0m\n",
      "\u001b[95mSPMM\t\t[-32, 82, 29, 17, 58, 97, 31, 87, 64, -1, 51, 102, 68, 35, -7, 83]\u001b[0m\n",
      "\u001b[95m\t\t[-22, 34, 52, 27, 3, 63, 14, 32, 54, 58, -2, 60, 57, 7, 10, 43]\u001b[0m\n",
      "\u001b[95m\t\t[14, 51, 56, 60, 107, 136, 43, 90, 97, -7, 48, 139, 96, 65, 14, 94]\u001b[0m\n",
      "\u001b[96mDMVM\t\t[39813, 30915, 54983]\u001b[0m\n",
      "\u001b[97mCOEF\t\t[19, 17, 23]\u001b[0m\n",
      "\u001b[1;91mSOFTMAX\t\t[0.057971014492753624, 0.014492753623188406, 0.927536231884058]\u001b[0m\n",
      "------------------------------------------------------------------------------------------\n",
      "------------------------------------------------------------------------------------------\n",
      "\u001b[91mraw\t\t[0, 1, 1, 0, 1, 0, 1, 1, 1, 1]\u001b[0m\n",
      "\u001b[91m\t\t[0, 0, 0, 0, 0, 0, 0, 0, 1, 1]\u001b[0m\n",
      "\u001b[91m\t\t[0, 0, 1, 1, 0, 0, 1, 1, 1, 0]\u001b[0m\n",
      "\u001b[91m\t\t[1, 0, 1, 1, 1, 1, 0, 0, 0, 1]\u001b[0m\n",
      "\u001b[92mcol_idx\t\t[1, 2, 4, 6, 7, 8, 9, 8, 9, 2, 3, 6, 7, 8, 0, 2, 3, 4, 5, 9]\u001b[0m\n",
      "\u001b[93mvalue\t\t[1, 1, 1, 1, 1, 1, 1, 1, 1, 1, 1, 1, 1, 1, 1, 1, 1, 1, 1, 1]\u001b[0m\n",
      "\u001b[94mnode_info\t['01111001', '00101000', '01011000', '01101000']\u001b[0m\n",
      "\u001b[95mSPMM\t\t[22, 62, 57, 55, 78, 93, 24, 130, 141, 9, 11, 153, 73, 45, -33, 97]\u001b[0m\n",
      "\u001b[95m\t\t[9, 20, 37, 11, 31, 41, 13, 17, 49, 51, -6, 41, 29, 11, 4, 12]\u001b[0m\n",
      "\u001b[95m\t\t[16, 62, 93, 82, 66, 56, 41, 86, 61, 21, 51, 76, 75, 42, -2, 54]\u001b[0m\n",
      "\u001b[95m\t\t[54, 41, 57, 91, 109, 108, -1, 89, 94, 6, 15, 114, 63, 61, 68, 69]\u001b[0m\n",
      "\u001b[96mDMVM\t\t[44021, 20654, 43597, 54604]\u001b[0m\n",
      "\u001b[97mCOEF\t\t[21, 15, 21, 24]\u001b[0m\n",
      "\u001b[1;91mSOFTMAX\t\t[0.0998439937597504, 0.0015600624024961, 0.0998439937597504, 0.7987519500780031]\u001b[0m\n",
      "------------------------------------------------------------------------------------------\n",
      "------------------------------------------------------------------------------------------\n",
      "\u001b[91mraw\t\t[0, 0, 1, 0, 0, 1, 0, 1, 0, 1]\u001b[0m\n",
      "\u001b[91m\t\t[0, 0, 0, 1, 0, 0, 1, 0, 0, 1]\u001b[0m\n",
      "\u001b[91m\t\t[0, 1, 0, 1, 1, 1, 1, 1, 1, 1]\u001b[0m\n",
      "\u001b[92mcol_idx\t\t[2, 5, 7, 9, 3, 6, 9, 1, 3, 4, 5, 6, 7, 8, 9]\u001b[0m\n",
      "\u001b[93mvalue\t\t[1, 1, 1, 1, 1, 1, 1, 1, 1, 1, 1, 1, 1, 1, 1]\u001b[0m\n",
      "\u001b[94mnode_info\t['01000111', '00110110', '10000110']\u001b[0m\n",
      "\u001b[95mSPMM\t\t[28, 0, 42, 52, 68, 35, -16, 93, 88, 30, 8, 80, 14, 39, -27, 12]\u001b[0m\n",
      "\u001b[95m\t\t[-6, 26, 44, 42, 13, 67, 23, 61, 18, 41, 14, 53, 63, 26, 24, 44]\u001b[0m\n",
      "\u001b[95m\t\t[21, 90, 84, 69, 103, 155, 74, 153, 110, 50, 83, 138, 109, 67, 41, 94]\u001b[0m\n",
      "\u001b[96mDMVM\t\t[14632, 31087, 71906]\u001b[0m\n",
      "\u001b[97mCOEF\t\t[7, 11, 21]\u001b[0m\n",
      "\u001b[1;91mSOFTMAX\t\t[6.097189195780745e-05, 0.0009755502713249192, 0.9989634778367172]\u001b[0m\n",
      "------------------------------------------------------------------------------------------\n",
      "------------------------------------------------------------------------------------------\n",
      "\u001b[91mraw\t\t[0, 1, 0, 0, 1, 1, 0, 1, 0, 1]\u001b[0m\n",
      "\u001b[91m\t\t[1, 0, 1, 1, 0, 0, 1, 1, 0, 0]\u001b[0m\n",
      "\u001b[91m\t\t[1, 1, 0, 0, 1, 1, 0, 1, 0, 0]\u001b[0m\n",
      "\u001b[91m\t\t[0, 1, 1, 0, 1, 0, 1, 0, 1, 0]\u001b[0m\n",
      "\u001b[92mcol_idx\t\t[1, 4, 5, 7, 9, 0, 2, 3, 6, 7, 0, 1, 4, 5, 7, 1, 2, 4, 6, 8]\u001b[0m\n",
      "\u001b[93mvalue\t\t[1, 1, 1, 1, 1, 1, 1, 1, 1, 1, 1, 1, 1, 1, 1, 1, 1, 1, 1, 1]\u001b[0m\n",
      "\u001b[94mnode_info\t['01011001', '01011000', '01011000', '01011000']\u001b[0m\n",
      "\u001b[95mSPMM\t\t[34, 22, 17, 26, 79, 85, 22, 117, 101, 14, 35, 102, 31, 46, -1, 44]\u001b[0m\n",
      "\u001b[95m\t\t[27, 5, 70, 101, 69, 58, 13, 69, 68, -25, 49, 78, 56, 49, 14, 48]\u001b[0m\n",
      "\u001b[95m\t\t[38, 7, 17, 46, 93, 90, 23, 75, 99, -37, 67, 87, 27, 48, 33, 44]\u001b[0m\n",
      "\u001b[95m\t\t[-6, 91, 28, 26, 48, 82, 26, 83, 82, -22, 11, 115, 71, 26, -7, 108]\u001b[0m\n",
      "\u001b[96mDMVM\t\t[27752, 37688, 34910, 43295]\u001b[0m\n",
      "\u001b[97mCOEF\t\t[13, 15, 15, 17]\u001b[0m\n",
      "\u001b[1;91mSOFTMAX\t\t[0.04, 0.16, 0.16, 0.64]\u001b[0m\n",
      "------------------------------------------------------------------------------------------\n",
      "------------------------------------------------------------------------------------------\n",
      "\u001b[91mraw\t\t[0, 1, 1, 1, 1, 0, 1, 1, 0, 1]\u001b[0m\n",
      "\u001b[91m\t\t[0, 1, 0, 1, 0, 0, 0, 0, 0, 1]\u001b[0m\n",
      "\u001b[92mcol_idx\t\t[1, 2, 3, 4, 6, 7, 9, 1, 3, 9]\u001b[0m\n",
      "\u001b[93mvalue\t\t[1, 1, 1, 1, 1, 1, 1, 1, 1, 1]\u001b[0m\n",
      "\u001b[94mnode_info\t['01110101', '00110100']\u001b[0m\n",
      "\u001b[95mSPMM\t\t[38, 54, 49, 70, 88, 97, 33, 159, 105, -8, 27, 146, 79, 64, -19, 98]\u001b[0m\n",
      "\u001b[95m\t\t[23, 20, 0, -2, 68, 74, 45, 76, 23, 4, 35, 63, 41, 46, -5, 33]\u001b[0m\n",
      "\u001b[96mDMVM\t\t[44478, 22740]\u001b[0m\n",
      "\u001b[97mCOEF\t\t[21, 16]\u001b[0m\n",
      "\u001b[1;91mSOFTMAX\t\t[0.9696969696969697, 0.030303030303030304]\u001b[0m\n",
      "------------------------------------------------------------------------------------------\n"
     ]
    }
   ],
   "source": [
    "print_sub_graphs()"
   ]
  },
  {
   "cell_type": "markdown",
   "metadata": {},
   "source": [
    "#### 6. Update testbench"
   ]
  },
  {
   "cell_type": "code",
   "execution_count": 465,
   "metadata": {},
   "outputs": [],
   "source": [
    "root_path       = os.path.abspath(\"../../\").replace(\"\\\\\", \"/\")\n",
    "filename        = os.path.join(root_path, \"tb/top_tb.sv\").replace(\"\\\\\", \"/\")\n",
    "file_path_input = os.path.join(root_path, \"tb/inputs\").replace(\"\\\\\", \"/\")\n",
    "params_pkg_file = os.path.join(root_path, \"rtl/others/pkgs/params_pkg.sv\").replace(\"\\\\\", \"/\")"
   ]
  },
  {
   "cell_type": "code",
   "execution_count": 466,
   "metadata": {},
   "outputs": [
    {
     "name": "stdout",
     "output_type": "stream",
     "text": [
      "d:/VLSI/Capstone/tb/inputs\n"
     ]
    }
   ],
   "source": [
    "print(file_path_input)"
   ]
  },
  {
   "cell_type": "markdown",
   "metadata": {},
   "source": [
    "##### Inputs"
   ]
  },
  {
   "cell_type": "code",
   "execution_count": 467,
   "metadata": {},
   "outputs": [],
   "source": [
    "def decimal_to_binary(number, bit_length):\n",
    "  if number < 0:\n",
    "    number = (1 << bit_length) + number  # Handle negative numbers with two's complement\n",
    "  binary_representation = bin(number & ((1 << bit_length) - 1))[2:]  # Mask to bit_length bits\n",
    "  return binary_representation.zfill(bit_length)"
   ]
  },
  {
   "cell_type": "code",
   "execution_count": 468,
   "metadata": {},
   "outputs": [],
   "source": [
    "wrt_col_idx = []\n",
    "wrt_value = []\n",
    "wrt_data = []\n",
    "wrt_node_info = []\n",
    "\n",
    "for key, value in GRAPH.items():\n",
    "  wrt_node_info.append(value[\"node_info\"])\n",
    "\n",
    "  data_bin = []\n",
    "  for i in range(len(value[\"value\"])):\n",
    "    col_idx_bin = decimal_to_binary(value[\"col_idx\"][i], math.ceil(math.log2(params[\"H_NUM_OF_COLS\"])))\n",
    "    value_bin = decimal_to_binary(value[\"value\"][i], 8)\n",
    "    data_bin.append(col_idx_bin + value_bin)\n",
    "  wrt_data.append(data_bin)"
   ]
  },
  {
   "cell_type": "code",
   "execution_count": 469,
   "metadata": {},
   "outputs": [
    {
     "name": "stdout",
     "output_type": "stream",
     "text": [
      " open d:/VLSI/Capstone/tb/inputs/h_data.txt\n",
      " open d:/VLSI/Capstone/tb/inputs/node_info.txt\n",
      " open d:/VLSI/Capstone/tb/inputs/weight.txt\n",
      " open d:/VLSI/Capstone/tb/inputs/a.txt\n"
     ]
    }
   ],
   "source": [
    "def write_list_to_file(file_path, data_list):\n",
    "  with open(file_path, 'w') as file:\n",
    "    print(f\" open {file_path}\" )\n",
    "    for item in data_list:\n",
    "      for it in item:\n",
    "        file.write(f\"{it}\\n\")\n",
    "def write_list_to_file2(file_path, data_list):\n",
    "  with open(file_path, 'w') as file:\n",
    "    print(f\" open {file_path}\" )\n",
    "    for item in data_list:\n",
    "      file.write(f\"{item}\\n\")\n",
    "\n",
    "if (UPDATE_INPUT_TXT):\n",
    "  write_list_to_file(file_path_input + \"/h_data.txt\", wrt_data)\n",
    "  write_list_to_file(file_path_input + \"/node_info.txt\", wrt_node_info)\n",
    "  write_list_to_file(file_path_input + \"/weight.txt\", weight)\n",
    "  write_list_to_file2(file_path_input + \"/a.txt\", a)"
   ]
  },
  {
   "cell_type": "code",
   "execution_count": 470,
   "metadata": {},
   "outputs": [
    {
     "name": "stdout",
     "output_type": "stream",
     "text": [
      " open d:/VLSI/Capstone\\tb/outputs//WH.txt\n"
     ]
    }
   ],
   "source": [
    "#14/11/2024\n",
    "file_path_output = os.path.join(root_path, \"tb/outputs/\")\n",
    "wh_output = []\n",
    "for _WH in WH:\n",
    "  for _wh in _WH:\n",
    "    for wh in _wh:\n",
    "      wh_output.append(wh)\n",
    "write_list_to_file2(file_path_output + \"/WH.txt\", wh_output)"
   ]
  },
  {
   "cell_type": "markdown",
   "metadata": {},
   "source": [
    "##### Parameters"
   ]
  },
  {
   "cell_type": "code",
   "execution_count": 471,
   "metadata": {},
   "outputs": [
    {
     "name": "stdout",
     "output_type": "stream",
     "text": [
      "{'A_DEPTH': 32,\n",
      " 'H_DATA_DEPTH': 500,\n",
      " 'H_NUM_OF_COLS': 10,\n",
      " 'H_NUM_OF_ROWS': 100,\n",
      " 'NODE_INFO_DEPTH': 100,\n",
      " 'NUM_OF_NODES': 6,\n",
      " 'WEIGHT_DEPTH': 160,\n",
      " 'WH_DEPTH': 100,\n",
      " 'W_NUM_OF_COLS': 16,\n",
      " 'W_NUM_OF_ROWS': 10}\n"
     ]
    }
   ],
   "source": [
    "_value = [len(item) for item in wrt_data]\n",
    "len_value = 0\n",
    "for val in _value:\n",
    "  len_value += val\n",
    "\n",
    "_node_info = [len(item) for item in wrt_node_info]\n",
    "len_node_info = 0\n",
    "for node in _node_info:\n",
    "  len_node_info += node\n",
    "\n",
    "params[\"H_DATA_DEPTH\"] = len_value\n",
    "params[\"NODE_INFO_DEPTH\"] = len_node_info\n",
    "params[\"WEIGHT_DEPTH\"] = params[\"W_NUM_OF_ROWS\"] * params[\"W_NUM_OF_COLS\"]\n",
    "params[\"WH_DEPTH\"] = len_node_info\n",
    "params[\"A_DEPTH\"] = params[\"W_NUM_OF_COLS\"] * 2\n",
    "pprint(params)"
   ]
  },
  {
   "cell_type": "code",
   "execution_count": 472,
   "metadata": {},
   "outputs": [],
   "source": [
    "config_params = {\n",
    "  \"H_NUM_SPARSE_DATA\" : params[\"H_DATA_DEPTH\"],\n",
    "  \"TOTAL_NODES\"       : params[\"H_NUM_OF_ROWS\"],\n",
    "  \"NUM_FEATURE_IN\"    : params[\"W_NUM_OF_ROWS\"],\n",
    "  \"NUM_FEATURE_OUT\"   : params[\"W_NUM_OF_COLS\"],\n",
    "  \"NUM_SUBGRAPHS\"     : len(GRAPH),\n",
    "  \"MAX_NODES\"         : params[\"NUM_OF_NODES\"],\n",
    "}"
   ]
  },
  {
   "cell_type": "code",
   "execution_count": 473,
   "metadata": {},
   "outputs": [],
   "source": [
    "def update_parameters(params_pkg_file, parameters):\n",
    "  # Read the file content\n",
    "  with open(params_pkg_file, 'r') as file:\n",
    "    file_data = file.readlines()\n",
    "\n",
    "  for i, line in enumerate(file_data):\n",
    "    for param, new_value in parameters.items():\n",
    "      found_param = f\"parameter {param}\"\n",
    "      if found_param in line:\n",
    "        parts = line.split('=')\n",
    "        if len(parts) == 2:  # Ensure the line has an '=' sign\n",
    "          file_data[i] = f\"{parts[0]}= {new_value};\\n\"\n",
    "\n",
    "  with open(params_pkg_file, 'w') as file:\n",
    "    file.writelines(file_data)\n",
    "\n",
    "if (UPDATE_INPUT_TXT):\n",
    "  update_parameters(params_pkg_file, config_params)"
   ]
  },
  {
   "cell_type": "markdown",
   "metadata": {},
   "source": [
    "##### Root Path"
   ]
  },
  {
   "cell_type": "code",
   "execution_count": 474,
   "metadata": {},
   "outputs": [],
   "source": [
    "def update_root_path(filename, root_path):\n",
    "  with open(filename, 'r') as file:\n",
    "    file_data = file.readlines()\n",
    "\n",
    "  for i, line in enumerate(file_data):\n",
    "    if \"localparam string ROOT_PATH\" in line:\n",
    "      file_data[i] = f\"\\tlocalparam string ROOT_PATH = \\\"{root_path}\\\";\\n\"\n",
    "\n",
    "  with open(filename, 'w') as file:\n",
    "      file.writelines(file_data)\n",
    "\n",
    "update_root_path(filename, root_path)"
   ]
  }
 ],
 "metadata": {
  "kernelspec": {
   "display_name": "Python 3",
   "language": "python",
   "name": "python3"
  },
  "language_info": {
   "codemirror_mode": {
    "name": "ipython",
    "version": 3
   },
   "file_extension": ".py",
   "mimetype": "text/x-python",
   "name": "python",
   "nbconvert_exporter": "python",
   "pygments_lexer": "ipython3",
   "version": "3.12.8"
  }
 },
 "nbformat": 4,
 "nbformat_minor": 2
}
