{
 "cells": [
  {
   "cell_type": "code",
   "execution_count": 32,
   "metadata": {},
   "outputs": [],
   "source": [
    "import os\n",
    "import math\n",
    "import random\n",
    "from pprint import pprint"
   ]
  },
  {
   "cell_type": "markdown",
   "metadata": {},
   "source": [
    "#### 0. Configuration\n",
    "*(Modify here only)*"
   ]
  },
  {
   "cell_type": "code",
   "execution_count": 33,
   "metadata": {},
   "outputs": [],
   "source": [
    "params = {\n",
    "  \"H_NUM_OF_ROWS\" : 100,\n",
    "  \"H_NUM_OF_COLS\" : 10,         # WARNING: Do not set as powers of 2.\n",
    "\n",
    "  \"W_NUM_OF_ROWS\" : 10,\n",
    "  \"W_NUM_OF_COLS\" : 16,\n",
    "\n",
    "  \"NUM_OF_NODES\"  : 6,          # WARNING: Do not set as powers of 2.\n",
    "}"
   ]
  },
  {
   "cell_type": "code",
   "execution_count": 34,
   "metadata": {},
   "outputs": [],
   "source": [
    "CORA_DATASET_ENABLE = 1         # 1: enable for Cora dataset    0: enable for other dataset\n",
    "UPDATE_INPUT_TXT    = 1         # 1: update inputs/*.txt        0: do not update inputs/*.txt"
   ]
  },
  {
   "cell_type": "markdown",
   "metadata": {},
   "source": [
    "#### 1. Random Inputs"
   ]
  },
  {
   "cell_type": "code",
   "execution_count": 35,
   "metadata": {},
   "outputs": [],
   "source": [
    "params.update({\n",
    "  \"H_DATA_DEPTH\"    : 0,                                # số lượng col_idx tổng cộng\n",
    "  \"NODE_INFO_DEPTH\" : 0,                                # số lượng node tổng cộng\n",
    "  \"WEIGHT_DEPTH\"    : 0,                                # = W_ROWS * W_COLS\n",
    "  \"WH_DEPTH\"        : 0,                                # = số lượng node tổng cộng\n",
    "  \"A_DEPTH\"         : params[\"W_NUM_OF_COLS\"] * 2,      # = W_COLS * 2\n",
    "})"
   ]
  },
  {
   "cell_type": "code",
   "execution_count": 36,
   "metadata": {
    "notebookRunGroups": {
     "groupValue": "2"
    }
   },
   "outputs": [],
   "source": [
    "def random_matrix(rows, cols, sparsity_percent, min=-127, max=127):\n",
    "  neg_percent = 20\n",
    "  total_elements = rows * cols\n",
    "  num_zeros = int(total_elements * sparsity_percent / 100)\n",
    "  num_non_zeros = total_elements - num_zeros\n",
    "\n",
    "  num_negatives = int(num_non_zeros * neg_percent / 100)\n",
    "  num_positives = num_non_zeros - num_negatives\n",
    "\n",
    "  matrix_elements = (\n",
    "      [0] * num_zeros +\n",
    "      [random.randint(min, -1) for _ in range(num_negatives)] +\n",
    "      [random.randint(1, max) for _ in range(num_positives)]\n",
    "  )\n",
    "\n",
    "  random.shuffle(matrix_elements)\n",
    "\n",
    "  sparse_matrix = []\n",
    "  for i in range(rows):\n",
    "    sparse_matrix.append(matrix_elements[i * cols:(i + 1) * cols])\n",
    "\n",
    "  # Ensure no row is completely zero\n",
    "  for row in sparse_matrix:\n",
    "    if all(value == 0 for value in row):\n",
    "      row[random.randint(0, cols - 1)] = random.randint(1, 9)\n",
    "\n",
    "  return sparse_matrix"
   ]
  },
  {
   "cell_type": "markdown",
   "metadata": {},
   "source": [
    "##### Weight\n"
   ]
  },
  {
   "cell_type": "code",
   "execution_count": 37,
   "metadata": {},
   "outputs": [],
   "source": [
    "weight = random_matrix(params[\"W_NUM_OF_ROWS\"], params[\"W_NUM_OF_COLS\"], 0, -31, 31)"
   ]
  },
  {
   "cell_type": "markdown",
   "metadata": {},
   "source": [
    "##### Weight Vector a"
   ]
  },
  {
   "cell_type": "code",
   "execution_count": 38,
   "metadata": {},
   "outputs": [],
   "source": [
    "# a = [1 if i < params[\"A_DEPTH\"] / 2 else 2 for i in range(params[\"A_DEPTH\"])]\n",
    "a = random_matrix(1, params[\"A_DEPTH\"], 0)[0]\n",
    "\n",
    "midpoint = len(a) // 2\n",
    "a_1 = a[:midpoint]\n",
    "a_2 = a[midpoint:]"
   ]
  },
  {
   "cell_type": "markdown",
   "metadata": {},
   "source": [
    "##### SubGraph"
   ]
  },
  {
   "cell_type": "code",
   "execution_count": 39,
   "metadata": {
    "notebookRunGroups": {
     "groupValue": "1"
    }
   },
   "outputs": [],
   "source": [
    "subGraph = []\n",
    "sub_row = random.randint(2, params[\"NUM_OF_NODES\"])\n",
    "sub_cnt = 0\n",
    "source_node_list = []\n",
    "while sub_cnt < params[\"H_NUM_OF_ROWS\"]:\n",
    "  sub_row = random.randint(2, params[\"NUM_OF_NODES\"])\n",
    "  sub_cnt += sub_row\n",
    "  if sub_cnt >= params[\"H_NUM_OF_ROWS\"]:\n",
    "    sub_row = sub_row - (sub_cnt - params[\"H_NUM_OF_ROWS\"])\n",
    "    if sub_row == 1:\n",
    "      sub_row = 2\n",
    "      for item in subGraph:\n",
    "        if len(item) >= 3:\n",
    "          item.pop(-1)\n",
    "          break\n",
    "  subG = random_matrix(sub_row, params[\"H_NUM_OF_COLS\"], 50, -15, 15)\n",
    "  if (CORA_DATASET_ENABLE):\n",
    "    subG = [[1 if x != 0 else 0 for x in row] for row in subG]\n",
    "  subGraph.append(subG)"
   ]
  },
  {
   "cell_type": "markdown",
   "metadata": {},
   "source": [
    "##### Feature"
   ]
  },
  {
   "cell_type": "code",
   "execution_count": 40,
   "metadata": {},
   "outputs": [],
   "source": [
    "feature = []\n",
    "for i in range(len(subGraph)):\n",
    "  feature += subGraph[i]"
   ]
  },
  {
   "cell_type": "markdown",
   "metadata": {},
   "source": [
    "#### 2. Calculation"
   ]
  },
  {
   "cell_type": "markdown",
   "metadata": {},
   "source": [
    "Convert and calculate in binary format."
   ]
  },
  {
   "cell_type": "code",
   "execution_count": 41,
   "metadata": {},
   "outputs": [],
   "source": [
    "def decimal_to_binary(num):\n",
    "  if num < 0:\n",
    "    num = (1 << 8) + num\n",
    "  return format(num & 0xFF, '08b')\n",
    "\n",
    "def binary_to_decimal(bin_str):\n",
    "  num = int(bin_str, 2)\n",
    "  if bin_str[0] == '1':\n",
    "    num -= (1 << 8)\n",
    "  return num\n",
    "\n",
    "def sum_binary(a, b):\n",
    "  a = a.zfill(8)\n",
    "  b = b.zfill(8)\n",
    "  result = ''\n",
    "  carry = 0\n",
    "  for i in range(7, -1, -1):\n",
    "    bit_sum = int(a[i]) + int(b[i]) + carry\n",
    "    result = str(bit_sum % 2) + result\n",
    "    carry = bit_sum // 2\n",
    "  result = str(carry) + result\n",
    "  return result"
   ]
  },
  {
   "cell_type": "markdown",
   "metadata": {},
   "source": [
    "`sum_calc` and `product_calc` must be used to calculate."
   ]
  },
  {
   "cell_type": "code",
   "execution_count": 42,
   "metadata": {},
   "outputs": [],
   "source": [
    "def sum_calc(a, b):\n",
    "  a_bin   = decimal_to_binary(a)\n",
    "  b_bin   = decimal_to_binary(b)\n",
    "  res_bin = sum_binary(a_bin, b_bin)\n",
    "  if (a + b >= 128 or a + b <= -128):\n",
    "    return binary_to_decimal(res_bin[:-1])\n",
    "  return binary_to_decimal(res_bin[1:])\n",
    "\n",
    "def product_calc(a, b):\n",
    "  return math.floor((a * b) / 128)"
   ]
  },
  {
   "cell_type": "markdown",
   "metadata": {},
   "source": [
    "##### SPMM"
   ]
  },
  {
   "cell_type": "code",
   "execution_count": 43,
   "metadata": {
    "notebookRunGroups": {
     "groupValue": "2"
    }
   },
   "outputs": [],
   "source": [
    "wh = [[0 for _ in range(len(weight[0]))] for _ in range(len(feature))]\n",
    "for i in range(len(feature)):\n",
    "  for j in range(len(weight[0])):\n",
    "    for k in range(len(weight)):\n",
    "      if (feature[i][k] != 0):\n",
    "        wh[i][j] += feature[i][k] * weight[k][j]\n",
    "        # wh[i][j] = sum_calc(wh[i][j], product_calc(feature[i][k], weight[k][j]))\n",
    "\n",
    "def matrix_multiplication(subgraph, weight_matrix):\n",
    "  rows = len(subgraph)\n",
    "  cols = len(weight_matrix[0])\n",
    "  common_dim = len(weight_matrix)\n",
    "\n",
    "  result_matrix = [[0 for _ in range(cols)] for _ in range(rows)]\n",
    "\n",
    "  for i in range(rows):\n",
    "    for j in range(cols):\n",
    "      for k in range(common_dim):\n",
    "        result_matrix[i][j] += subgraph[i][k] * weight_matrix[k][j]\n",
    "        # result_matrix[i][j] = sum_calc(result_matrix[i][j], product_calc(subgraph[i][k], weight_matrix[k][j]))\n",
    "  return result_matrix\n",
    "\n",
    "WH = []\n",
    "for i in range(len(subGraph)):\n",
    "\twh = matrix_multiplication(subGraph[i], weight)\n",
    "\tWH.append(wh)"
   ]
  },
  {
   "cell_type": "markdown",
   "metadata": {},
   "source": [
    "##### DMVM"
   ]
  },
  {
   "cell_type": "code",
   "execution_count": 44,
   "metadata": {},
   "outputs": [],
   "source": [
    "DMVM = []\n",
    "COEF = []\n",
    "\n",
    "for wh in WH:\n",
    "  src = 0\n",
    "  dmvm_subgraph = []\n",
    "  coef_subgraph = []\n",
    "  for idx, row in enumerate(wh):\n",
    "    dst       = 0\n",
    "    node_row  = []\n",
    "    a_in      = a_1 if idx == 0 else a_2\n",
    "\n",
    "    # multiply\n",
    "    for i in range(len(row)):\n",
    "      # node_row.append(product_calc(row[i], a_in[i]))\n",
    "      node_row.append(row[i] * a_in[i])\n",
    "\n",
    "    # add\n",
    "    product_len = len(row)\n",
    "    while product_len > 1:\n",
    "      for j in range(len(row)):\n",
    "        if (2*j+1) < product_len:\n",
    "          # node_row[j] = sum_calc(node_row[2*j], node_row[2*j+1])\n",
    "          node_row[j] = node_row[2*j] + node_row[2*j+1]\n",
    "      product_len /= 2\n",
    "    dst = node_row[0]\n",
    "\n",
    "    # final\n",
    "    if (idx == 0):\n",
    "      src = dst\n",
    "    dmvm_subgraph.append(dst)\n",
    "\n",
    "    if (src + dst < 0):\n",
    "      coef_subgraph.append(0)\n",
    "    else:\n",
    "      coef_subgraph.append((src + dst) // pow(2, 12))\n",
    "  DMVM.append(dmvm_subgraph)\n",
    "  COEF.append(coef_subgraph)"
   ]
  },
  {
   "cell_type": "markdown",
   "metadata": {},
   "source": [
    "##### Softmax"
   ]
  },
  {
   "cell_type": "code",
   "execution_count": 45,
   "metadata": {},
   "outputs": [],
   "source": [
    "SOFTMAX = []\n",
    "for subgraph in COEF:\n",
    "  softmax = []\n",
    "  sum = 0\n",
    "  for ele in subgraph:\n",
    "    softmax.append(pow(2, ele))\n",
    "    sum += pow(2, ele)\n",
    "  for i in range(len(softmax)):\n",
    "    softmax[i] = softmax[i] / sum\n",
    "  SOFTMAX.append(softmax)"
   ]
  },
  {
   "cell_type": "markdown",
   "metadata": {},
   "source": [
    "Extend each size to `NUM_OF_NODES`"
   ]
  },
  {
   "cell_type": "code",
   "execution_count": 15,
   "metadata": {},
   "outputs": [],
   "source": []
  },
  {
   "cell_type": "markdown",
   "metadata": {},
   "source": [
    "##### Aggregator"
   ]
  },
  {
   "cell_type": "code",
   "execution_count": 46,
   "metadata": {},
   "outputs": [],
   "source": [
    "# TODO:"
   ]
  },
  {
   "cell_type": "markdown",
   "metadata": {},
   "source": [
    "#### 3. GCSR structure"
   ]
  },
  {
   "cell_type": "code",
   "execution_count": 47,
   "metadata": {},
   "outputs": [],
   "source": [
    "source_node_list = []\n",
    "num_nodes_subgraph = []\n",
    "node_info = []\n",
    "col_idx = []\n",
    "value = []\n",
    "non_zero_ele = []\n",
    "\n",
    "row_length_bits = math.ceil(math.log2(params[\"H_NUM_OF_COLS\"]))\n",
    "num_of_nodes_bits = math.ceil(math.log2(params[\"NUM_OF_NODES\"]))\n",
    "\n",
    "for i in range(len(subGraph)):\n",
    "  source_node = subGraph[i][0]\n",
    "  num_node = len(subGraph[i])\n",
    "  source_node_list.append(source_node)\n",
    "  num_nodes_subgraph.append(num_node)\n",
    "  node_info_list = []\n",
    "  for j in range(len(subGraph[i])):\n",
    "    if j == 0:\n",
    "      flag = '1'\n",
    "    else:\n",
    "      flag = '0'\n",
    "    non_zero_values = [ele for k, ele in enumerate(subGraph[i][j]) if ele != 0]\n",
    "    # print(\"Non Zero Values = \", non_zero_values)\n",
    "    row_length = len(non_zero_values)\n",
    "    node_info_bin = (f\"{row_length:0{row_length_bits}b}\"f\"{num_node:0{num_of_nodes_bits}b}\" f\"{flag}\")\n",
    "    node_info_list.append(node_info_bin)\n",
    "\n",
    "  node_info.append(node_info_list)\n",
    "\n",
    "def decode_node_info(node_info_string):\n",
    "  # Extract each part from the string\n",
    "  flag_bits = 1\n",
    "  row_length = int(node_info_string[:row_length_bits], 2)\n",
    "  num_of_nodes = int(node_info_string[row_length_bits:row_length_bits+num_of_nodes_bits], 2)\n",
    "\n",
    "  flag = node_info_string[-flag_bits:]  # '1' for source node, '0' for neighbor node\n",
    "\n",
    "  # Return a dictionary for better readability\n",
    "  return {\n",
    "    'row_length': row_length,\n",
    "    'num_of_nodes': num_of_nodes,\n",
    "    'is_source_node': flag == '1'\n",
    "  }\n",
    "\n",
    "# Example usage\n",
    "decoded_node_info = []\n",
    "for nd_info in node_info:\n",
    "  decoded_info = [decode_node_info(info) for info in nd_info]\n",
    "  decoded_node_info.append(decoded_info)\n",
    "# pprint(decoded_node_info)"
   ]
  },
  {
   "cell_type": "code",
   "execution_count": 48,
   "metadata": {},
   "outputs": [],
   "source": [
    "def extract_from_raw(raw_list):\n",
    "\tcol_idx = []\n",
    "\tvalue = []\n",
    "\tnode_info = []\n",
    "\tfor row in raw_list:\n",
    "\t\tnon_zero_elements = [(j, ele) for j, ele in enumerate(row) if ele != 0]\n",
    "\t\tcol_idx.extend([idx for idx, _ in non_zero_elements])\n",
    "\t\tvalue.extend([val for _, val in non_zero_elements])\n",
    "\t\trow_len = len(non_zero_elements)\n",
    "\n",
    "\treturn col_idx, value"
   ]
  },
  {
   "cell_type": "markdown",
   "metadata": {},
   "source": [
    "#### 4. SubGraph"
   ]
  },
  {
   "cell_type": "code",
   "execution_count": 49,
   "metadata": {},
   "outputs": [],
   "source": [
    "GRAPH = {}\n",
    "idx = 0\n",
    "\n",
    "for i in range(len(subGraph)):\n",
    "  col_idx_, value_ = extract_from_raw(subGraph[i])\n",
    "  GRAPH[i] = {\"raw\" : subGraph[i], \"col_idx\" : col_idx_, \"value\" : value_, \"node_info\" : node_info[i], \"WH\": WH[i],  \"DMVM\": DMVM[i], \"Coef\": COEF[i], \"Softmax\": SOFTMAX[i]}"
   ]
  },
  {
   "cell_type": "code",
   "execution_count": 50,
   "metadata": {},
   "outputs": [],
   "source": [
    "colors = {\n",
    "  \"raw\": \"\\033[91m\",          # Red\n",
    "  \"col_idx\": \"\\033[92m\",      # Green\n",
    "  \"value\": \"\\033[93m\",        # Yellow\n",
    "  \"node_info\": \"\\033[94m\",    # Blue\n",
    "  \"WH\": \"\\033[95m\",           # Magenta\n",
    "  \"DMVM\": \"\\033[96m\",         # Cyan\n",
    "  \"Coef\": \"\\033[97m\",         # White\n",
    "  \"Softmax\": \"\\033[1;91m\",      # Bright Black (Gray)\n",
    "  \"Aggregator\": \"\\033[1;94m\", # Bright Blue (a lighter shade of blue)\n",
    "  \"reset\": \"\\033[0m\"          # Reset color\n",
    "}\n",
    "\n",
    "def print_sub_graphs():\n",
    "  for subgraph in GRAPH.values():\n",
    "    print(\"-\" * 90)\n",
    "    for i in range(len(subgraph[\"raw\"])):\n",
    "      if i == 0:\n",
    "        print(f\"{colors['raw']}raw\\t\\t{subgraph['raw'][i]}{colors['reset']}\")\n",
    "      else:\n",
    "        print(f\"{colors['raw']}\\t\\t{subgraph['raw'][i]}{colors['reset']}\")\n",
    "\n",
    "    print(f\"{colors['col_idx']}col_idx\\t\\t{subgraph['col_idx']}{colors['reset']}\")\n",
    "    print(f\"{colors['value']}value\\t\\t{subgraph['value']}{colors['reset']}\")\n",
    "    print(f\"{colors['node_info']}node_info\\t{subgraph['node_info']}{colors['reset']}\")\n",
    "\n",
    "    for i in range(len(subgraph[\"WH\"])):\n",
    "      if i == 0:\n",
    "        print(f\"{colors['WH']}SPMM\\t\\t{subgraph['WH'][i]}{colors['reset']}\")\n",
    "      else:\n",
    "        print(f\"{colors['WH']}\\t\\t{subgraph['WH'][i]}{colors['reset']}\")\n",
    "\n",
    "    print(f\"{colors['DMVM']}DMVM\\t\\t{[subgraph['DMVM'][idx] for idx in range(len(subgraph['raw']))]}{colors['reset']}\")\n",
    "    print(f\"{colors['Coef']}COEF\\t\\t{[subgraph['Coef'][idx] for idx in range(len(subgraph['raw']))]}{colors['reset']}\")\n",
    "    print(f\"{colors['Softmax']}SOFTMAX\\t\\t{[subgraph['Softmax'][idx] for idx in range(len(subgraph['raw']))]}{colors['reset']}\")\n",
    "    print(\"-\" * 90)"
   ]
  },
  {
   "cell_type": "markdown",
   "metadata": {},
   "source": [
    "#### 5. SubGraph Information"
   ]
  },
  {
   "cell_type": "code",
   "execution_count": 51,
   "metadata": {},
   "outputs": [
    {
     "name": "stdout",
     "output_type": "stream",
     "text": [
      "------------------------------------------------------------------------------------------\n",
      "\u001b[91mraw\t\t[0, 0, 1, 1, 1, 1, 0, 1, 0, 0]\u001b[0m\n",
      "\u001b[91m\t\t[1, 1, 1, 0, 0, 0, 1, 1, 0, 0]\u001b[0m\n",
      "\u001b[91m\t\t[0, 1, 0, 1, 1, 1, 0, 1, 1, 0]\u001b[0m\n",
      "\u001b[91m\t\t[0, 1, 1, 0, 1, 1, 0, 0, 0, 0]\u001b[0m\n",
      "\u001b[92mcol_idx\t\t[2, 3, 4, 5, 7, 0, 1, 2, 6, 7, 1, 3, 4, 5, 7, 8, 1, 2, 4, 5]\u001b[0m\n",
      "\u001b[93mvalue\t\t[1, 1, 1, 1, 1, 1, 1, 1, 1, 1, 1, 1, 1, 1, 1, 1, 1, 1, 1, 1]\u001b[0m\n",
      "\u001b[94mnode_info\t['01011001', '01011000', '01101000', '01001000']\u001b[0m\n",
      "\u001b[95mSPMM\t\t[93, 53, 71, 25, 10, 15, 19, 51, 108, 57, 52, 43, 8, 23, 85, 61]\u001b[0m\n",
      "\u001b[95m\t\t[35, 52, 43, -26, -15, -4, 8, 0, 109, 52, 57, 96, 29, 62, 60, 7]\u001b[0m\n",
      "\u001b[95m\t\t[116, 67, 64, 25, 28, 94, 44, 49, 132, 86, 105, 50, -12, 64, 75, -7]\u001b[0m\n",
      "\u001b[95m\t\t[86, 31, 69, 15, 9, 40, 30, 26, 83, 105, 50, 66, -14, 37, 62, 19]\u001b[0m\n",
      "\u001b[96mDMVM\t\t[22650, 6387, 36206, 24065]\u001b[0m\n",
      "\u001b[97mCOEF\t\t[11, 7, 14, 11]\u001b[0m\n",
      "\u001b[1;91mSOFTMAX\t\t[0.09937888198757763, 0.006211180124223602, 0.7950310559006211, 0.09937888198757763]\u001b[0m\n",
      "------------------------------------------------------------------------------------------\n",
      "------------------------------------------------------------------------------------------\n",
      "\u001b[91mraw\t\t[0, 0, 0, 0, 1, 1, 0, 0, 0, 0]\u001b[0m\n",
      "\u001b[91m\t\t[0, 0, 0, 1, 0, 1, 0, 0, 0, 0]\u001b[0m\n",
      "\u001b[91m\t\t[1, 1, 0, 1, 0, 1, 1, 1, 1, 0]\u001b[0m\n",
      "\u001b[91m\t\t[1, 1, 1, 0, 1, 1, 0, 0, 1, 1]\u001b[0m\n",
      "\u001b[91m\t\t[1, 1, 0, 1, 1, 1, 1, 1, 0, 0]\u001b[0m\n",
      "\u001b[92mcol_idx\t\t[4, 5, 3, 5, 0, 1, 3, 5, 6, 7, 8, 0, 1, 2, 4, 5, 8, 9, 0, 1, 3, 4, 5, 6, 7]\u001b[0m\n",
      "\u001b[93mvalue\t\t[1, 1, 1, 1, 1, 1, 1, 1, 1, 1, 1, 1, 1, 1, 1, 1, 1, 1, 1, 1, 1, 1, 1, 1, 1]\u001b[0m\n",
      "\u001b[94mnode_info\t['00101011', '00101010', '01111010', '01111010', '01111010']\u001b[0m\n",
      "\u001b[95mSPMM\t\t[49, 28, 28, 29, 39, 37, 12, 21, 33, 54, 40, 30, -25, 3, 35, 32]\u001b[0m\n",
      "\u001b[95m\t\t[38, 29, 12, 36, 15, 47, 22, 35, 46, 42, 34, -19, 12, -9, 30, 17]\u001b[0m\n",
      "\u001b[95m\t\t[71, 86, 34, 4, 26, 94, 46, 30, 152, 93, 116, 66, 32, 64, 77, -19]\u001b[0m\n",
      "\u001b[95m\t\t[96, 53, 78, -11, 34, 98, 71, 46, 126, 166, 63, 102, -26, 57, 106, -3]\u001b[0m\n",
      "\u001b[95m\t\t[92, 100, 52, 31, 36, 78, 34, 40, 150, 97, 127, 86, -12, 60, 81, 34]\u001b[0m\n",
      "\u001b[96mDMVM\t\t[6816, 21909, 33528, 33245, 40017]\u001b[0m\n",
      "\u001b[97mCOEF\t\t[3, 7, 9, 9, 11]\u001b[0m\n",
      "\u001b[1;91mSOFTMAX\t\t[0.0024937655860349127, 0.0399002493765586, 0.1596009975062344, 0.1596009975062344, 0.6384039900249376]\u001b[0m\n",
      "------------------------------------------------------------------------------------------\n",
      "------------------------------------------------------------------------------------------\n",
      "\u001b[91mraw\t\t[0, 0, 0, 0, 1, 0, 1, 1, 0, 0]\u001b[0m\n",
      "\u001b[91m\t\t[1, 0, 0, 0, 0, 1, 1, 0, 1, 0]\u001b[0m\n",
      "\u001b[91m\t\t[0, 1, 1, 1, 1, 0, 1, 1, 1, 1]\u001b[0m\n",
      "\u001b[92mcol_idx\t\t[4, 6, 7, 0, 5, 6, 8, 1, 2, 3, 4, 6, 7, 8, 9]\u001b[0m\n",
      "\u001b[93mvalue\t\t[1, 1, 1, 1, 1, 1, 1, 1, 1, 1, 1, 1, 1, 1, 1]\u001b[0m\n",
      "\u001b[94mnode_info\t['00110111', '01000110', '10000110']\u001b[0m\n",
      "\u001b[95mSPMM\t\t[51, 58, 27, 4, 22, -6, -1, -14, 64, 3, 49, 61, -2, 36, 36, 11]\u001b[0m\n",
      "\u001b[95m\t\t[14, 46, 4, -18, 41, 63, 39, -1, 73, 81, 58, 53, 32, 18, 48, -11]\u001b[0m\n",
      "\u001b[95m\t\t[140, 93, 86, -13, 0, 66, 77, 16, 175, 105, 68, 85, 14, 86, 105, -48]\u001b[0m\n",
      "\u001b[96mDMVM\t\t[11495, 19445, 23354]\u001b[0m\n",
      "\u001b[97mCOEF\t\t[5, 7, 8]\u001b[0m\n",
      "\u001b[1;91mSOFTMAX\t\t[0.07692307692307693, 0.3076923076923077, 0.6153846153846154]\u001b[0m\n",
      "------------------------------------------------------------------------------------------\n",
      "------------------------------------------------------------------------------------------\n",
      "\u001b[91mraw\t\t[1, 1, 0, 1, 0, 1, 1, 0, 1, 0]\u001b[0m\n",
      "\u001b[91m\t\t[0, 0, 1, 1, 1, 1, 0, 0, 0, 1]\u001b[0m\n",
      "\u001b[91m\t\t[0, 0, 0, 1, 1, 1, 0, 1, 1, 1]\u001b[0m\n",
      "\u001b[91m\t\t[0, 1, 0, 0, 0, 0, 1, 0, 0, 0]\u001b[0m\n",
      "\u001b[91m\t\t[0, 1, 1, 0, 1, 0, 1, 1, 1, 0]\u001b[0m\n",
      "\u001b[92mcol_idx\t\t[0, 1, 3, 5, 6, 8, 2, 3, 4, 5, 9, 3, 4, 5, 7, 8, 9, 1, 6, 1, 2, 4, 6, 7, 8]\u001b[0m\n",
      "\u001b[93mvalue\t\t[1, 1, 1, 1, 1, 1, 1, 1, 1, 1, 1, 1, 1, 1, 1, 1, 1, 1, 1, 1, 1, 1, 1, 1, 1]\u001b[0m\n",
      "\u001b[94mnode_info\t['01101011', '01011010', '01101010', '00101010', '01101010']\u001b[0m\n",
      "\u001b[95mSPMM\t\t[59, 69, 26, -4, 23, 111, 71, 23, 131, 123, 98, 49, 27, 47, 61, -29]\u001b[0m\n",
      "\u001b[95m\t\t[103, 55, 67, 32, 21, 55, 56, 51, 97, 106, 24, 29, -11, 8, 90, 29]\u001b[0m\n",
      "\u001b[95m\t\t[113, 77, 54, 34, 50, 89, 47, 53, 115, 75, 67, 35, -15, 36, 93, -4]\u001b[0m\n",
      "\u001b[95m\t\t[33, 37, 9, 1, -3, 29, 20, -25, 52, 39, 41, 35, 13, 38, 8, -46]\u001b[0m\n",
      "\u001b[95m\t\t[98, 60, 74, -36, -4, 23, 42, -12, 134, 74, 66, 104, 22, 85, 74, -33]\u001b[0m\n",
      "\u001b[96mDMVM\t\t[16196, 29494, 33906, 8133, 10751]\u001b[0m\n",
      "\u001b[97mCOEF\t\t[7, 11, 12, 5, 6]\u001b[0m\n",
      "\u001b[1;91mSOFTMAX\t\t[0.020100502512562814, 0.32160804020100503, 0.6432160804020101, 0.005025125628140704, 0.010050251256281407]\u001b[0m\n",
      "------------------------------------------------------------------------------------------\n",
      "------------------------------------------------------------------------------------------\n",
      "\u001b[91mraw\t\t[1, 0, 0, 0, 1, 0, 0, 1, 0, 0]\u001b[0m\n",
      "\u001b[91m\t\t[1, 1, 1, 1, 0, 1, 0, 1, 1, 0]\u001b[0m\n",
      "\u001b[91m\t\t[0, 0, 1, 1, 0, 1, 1, 0, 1, 0]\u001b[0m\n",
      "\u001b[92mcol_idx\t\t[0, 4, 7, 0, 1, 2, 3, 5, 7, 8, 2, 3, 5, 6, 8]\u001b[0m\n",
      "\u001b[93mvalue\t\t[1, 1, 1, 1, 1, 1, 1, 1, 1, 1, 1, 1, 1, 1, 1]\u001b[0m\n",
      "\u001b[94mnode_info\t['00110111', '01110110', '01010110']\u001b[0m\n",
      "\u001b[95mSPMM\t\t[21, 34, 31, -6, 24, 2, -8, 30, 52, 16, 52, 70, -37, 31, 43, 63]\u001b[0m\n",
      "\u001b[95m\t\t[75, 52, 66, -11, -1, 68, 44, 60, 150, 105, 85, 67, 30, 60, 96, 14]\u001b[0m\n",
      "\u001b[95m\t\t[68, 50, 40, -15, 2, 49, 67, 6, 114, 92, 36, 23, 71, 18, 70, -23]\u001b[0m\n",
      "\u001b[96mDMVM\t\t[4257, 28064, 19090]\u001b[0m\n",
      "\u001b[97mCOEF\t\t[2, 7, 5]\u001b[0m\n",
      "\u001b[1;91mSOFTMAX\t\t[0.024390243902439025, 0.7804878048780488, 0.1951219512195122]\u001b[0m\n",
      "------------------------------------------------------------------------------------------\n",
      "------------------------------------------------------------------------------------------\n",
      "\u001b[91mraw\t\t[0, 0, 1, 1, 0, 1, 0, 0, 1, 1]\u001b[0m\n",
      "\u001b[91m\t\t[0, 0, 0, 1, 1, 1, 1, 0, 0, 0]\u001b[0m\n",
      "\u001b[91m\t\t[0, 0, 0, 1, 1, 1, 1, 1, 1, 0]\u001b[0m\n",
      "\u001b[91m\t\t[0, 1, 0, 1, 1, 1, 0, 0, 0, 1]\u001b[0m\n",
      "\u001b[91m\t\t[0, 0, 0, 1, 1, 1, 0, 1, 0, 1]\u001b[0m\n",
      "\u001b[92mcol_idx\t\t[2, 3, 5, 8, 9, 3, 4, 5, 6, 3, 4, 5, 6, 7, 8, 1, 3, 4, 5, 9, 3, 4, 5, 7, 9]\u001b[0m\n",
      "\u001b[93mvalue\t\t[1, 1, 1, 1, 1, 1, 1, 1, 1, 1, 1, 1, 1, 1, 1, 1, 1, 1, 1, 1, 1, 1, 1, 1, 1]\u001b[0m\n",
      "\u001b[94mnode_info\t['01011011', '01001010', '01101010', '01011010', '01011010']\u001b[0m\n",
      "\u001b[95mSPMM\t\t[82, 41, 49, 5, 11, 71, 68, 41, 99, 102, 13, 9, 33, 12, 86, -24]\u001b[0m\n",
      "\u001b[95m\t\t[77, 70, 31, 32, 34, 58, 46, 14, 89, 75, 65, 25, 5, 10, 50, 18]\u001b[0m\n",
      "\u001b[95m\t\t[99, 86, 45, 14, 41, 67, 46, 18, 130, 65, 90, 49, 23, 42, 77, -3]\u001b[0m\n",
      "\u001b[95m\t\t[116, 70, 54, 58, 35, 108, 56, 52, 101, 115, 70, 29, -44, 34, 69, -8]\u001b[0m\n",
      "\u001b[95m\t\t[103, 78, 48, 60, 46, 63, 22, 56, 95, 55, 60, 28, -28, 21, 82, 27]\u001b[0m\n",
      "\u001b[96mDMVM\t\t[18982, 30084, 29991, 41173, 33179]\u001b[0m\n",
      "\u001b[97mCOEF\t\t[9, 11, 11, 14, 12]\u001b[0m\n",
      "\u001b[1;91mSOFTMAX\t\t[0.02040816326530612, 0.08163265306122448, 0.08163265306122448, 0.6530612244897959, 0.16326530612244897]\u001b[0m\n",
      "------------------------------------------------------------------------------------------\n",
      "------------------------------------------------------------------------------------------\n",
      "\u001b[91mraw\t\t[0, 1, 1, 0, 1, 1, 0, 0, 1, 0]\u001b[0m\n",
      "\u001b[91m\t\t[1, 1, 1, 0, 0, 1, 1, 1, 1, 1]\u001b[0m\n",
      "\u001b[91m\t\t[0, 0, 0, 0, 1, 0, 1, 0, 1, 1]\u001b[0m\n",
      "\u001b[91m\t\t[0, 0, 0, 1, 1, 1, 0, 0, 0, 1]\u001b[0m\n",
      "\u001b[91m\t\t[1, 0, 0, 0, 1, 0, 0, 0, 1, 1]\u001b[0m\n",
      "\u001b[92mcol_idx\t\t[1, 2, 4, 5, 8, 0, 1, 2, 5, 6, 7, 8, 9, 4, 6, 8, 9, 3, 4, 5, 9, 0, 4, 8, 9]\u001b[0m\n",
      "\u001b[93mvalue\t\t[1, 1, 1, 1, 1, 1, 1, 1, 1, 1, 1, 1, 1, 1, 1, 1, 1, 1, 1, 1, 1, 1, 1, 1, 1]\u001b[0m\n",
      "\u001b[94mnode_info\t['01011011', '10001010', '01001010', '01001010', '01001010']\u001b[0m\n",
      "\u001b[95mSPMM\t\t[96, 30, 75, -11, 13, 66, 55, 23, 103, 125, 57, 73, -1, 52, 73, -12]\u001b[0m\n",
      "\u001b[95m\t\t[85, 85, 57, -9, 28, 72, 44, 18, 154, 121, 76, 109, 34, 71, 112, -36]\u001b[0m\n",
      "\u001b[95m\t\t[71, 59, 29, -15, 37, 60, 61, -17, 73, 72, 28, 54, -8, 36, 52, -52]\u001b[0m\n",
      "\u001b[95m\t\t[91, 61, 40, 52, 43, 80, 47, 49, 74, 85, 42, 11, -33, 4, 66, 17]\u001b[0m\n",
      "\u001b[95m\t\t[41, 35, 33, -25, 39, 68, 54, 27, 61, 85, 31, 63, -43, 31, 59, 0]\u001b[0m\n",
      "\u001b[96mDMVM\t\t[18134, 26168, 13776, 33999, 16396]\u001b[0m\n",
      "\u001b[97mCOEF\t\t[8, 10, 7, 12, 8]\u001b[0m\n",
      "\u001b[1;91mSOFTMAX\t\t[0.044444444444444446, 0.17777777777777778, 0.022222222222222223, 0.7111111111111111, 0.044444444444444446]\u001b[0m\n",
      "------------------------------------------------------------------------------------------\n",
      "------------------------------------------------------------------------------------------\n",
      "\u001b[91mraw\t\t[1, 0, 1, 0, 1, 1, 1, 0, 0, 0]\u001b[0m\n",
      "\u001b[91m\t\t[0, 1, 0, 0, 0, 1, 0, 1, 0, 1]\u001b[0m\n",
      "\u001b[91m\t\t[0, 0, 1, 0, 1, 0, 1, 1, 1, 1]\u001b[0m\n",
      "\u001b[92mcol_idx\t\t[0, 2, 4, 5, 6, 1, 5, 7, 9, 2, 4, 6, 7, 8, 9]\u001b[0m\n",
      "\u001b[93mvalue\t\t[1, 1, 1, 1, 1, 1, 1, 1, 1, 1, 1, 1, 1, 1, 1]\u001b[0m\n",
      "\u001b[94mnode_info\t['01010111', '01000110', '01100110']\u001b[0m\n",
      "\u001b[95mSPMM\t\t[47, 54, 49, -11, 29, 22, 36, 11, 94, 106, 51, 91, 10, 18, 76, 54]\u001b[0m\n",
      "\u001b[95m\t\t[77, 60, 30, 57, 34, 61, -5, 31, 73, 49, 58, 41, -14, 41, 60, -27]\u001b[0m\n",
      "\u001b[95m\t\t[95, 70, 64, -27, 18, 18, 45, -8, 117, 63, 28, 89, 19, 57, 92, -30]\u001b[0m\n",
      "\u001b[96mDMVM\t\t[10343, 25408, 8451]\u001b[0m\n",
      "\u001b[97mCOEF\t\t[5, 8, 4]\u001b[0m\n",
      "\u001b[1;91mSOFTMAX\t\t[0.10526315789473684, 0.8421052631578947, 0.05263157894736842]\u001b[0m\n",
      "------------------------------------------------------------------------------------------\n",
      "------------------------------------------------------------------------------------------\n",
      "\u001b[91mraw\t\t[1, 1, 1, 1, 0, 0, 0, 0, 0, 1]\u001b[0m\n",
      "\u001b[91m\t\t[1, 0, 0, 0, 1, 1, 1, 0, 1, 0]\u001b[0m\n",
      "\u001b[92mcol_idx\t\t[0, 1, 2, 3, 9, 0, 4, 5, 6, 8]\u001b[0m\n",
      "\u001b[93mvalue\t\t[1, 1, 1, 1, 1, 1, 1, 1, 1, 1]\u001b[0m\n",
      "\u001b[94mnode_info\t['01010101', '01010100']\u001b[0m\n",
      "\u001b[95mSPMM\t\t[57, 40, 52, -6, -19, 55, 57, 49, 104, 104, 28, 43, -8, 38, 70, 3]\u001b[0m\n",
      "\u001b[95m\t\t[45, 59, 28, -17, 55, 73, 52, 6, 91, 105, 76, 80, 1, 29, 63, 11]\u001b[0m\n",
      "\u001b[96mDMVM\t\t[10242, 26661]\u001b[0m\n",
      "\u001b[97mCOEF\t\t[5, 9]\u001b[0m\n",
      "\u001b[1;91mSOFTMAX\t\t[0.058823529411764705, 0.9411764705882353]\u001b[0m\n",
      "------------------------------------------------------------------------------------------\n",
      "------------------------------------------------------------------------------------------\n",
      "\u001b[91mraw\t\t[0, 0, 0, 1, 0, 1, 0, 1, 1, 1]\u001b[0m\n",
      "\u001b[91m\t\t[1, 1, 1, 0, 1, 0, 0, 0, 1, 0]\u001b[0m\n",
      "\u001b[91m\t\t[1, 0, 1, 0, 1, 1, 0, 0, 1, 1]\u001b[0m\n",
      "\u001b[91m\t\t[0, 1, 0, 0, 0, 0, 0, 1, 1, 1]\u001b[0m\n",
      "\u001b[92mcol_idx\t\t[3, 5, 7, 8, 9, 0, 1, 2, 4, 8, 0, 2, 4, 5, 8, 9, 1, 7, 8, 9]\u001b[0m\n",
      "\u001b[93mvalue\t\t[1, 1, 1, 1, 1, 1, 1, 1, 1, 1, 1, 1, 1, 1, 1, 1, 1, 1, 1, 1]\u001b[0m\n",
      "\u001b[94mnode_info\t['01011001', '01011000', '01101000', '01001000']\u001b[0m\n",
      "\u001b[95mSPMM\t\t[82, 64, 30, 33, 36, 79, 34, 46, 97, 51, 49, 8, 16, 25, 78, -26]\u001b[0m\n",
      "\u001b[95m\t\t[56, 19, 70, -54, -5, 48, 60, 25, 101, 117, 51, 96, -18, 63, 65, 9]\u001b[0m\n",
      "\u001b[95m\t\t[71, 44, 64, -17, 42, 70, 62, 43, 99, 136, 35, 84, -15, 27, 103, 22]\u001b[0m\n",
      "\u001b[95m\t\t[69, 44, 32, 3, 13, 60, 21, 14, 78, 39, 43, 45, -7, 64, 51, -68]\u001b[0m\n",
      "\u001b[96mDMVM\t\t[20737, 14191, 26071, 11955]\u001b[0m\n",
      "\u001b[97mCOEF\t\t[10, 8, 11, 7]\u001b[0m\n",
      "\u001b[1;91mSOFTMAX\t\t[0.2962962962962963, 0.07407407407407407, 0.5925925925925926, 0.037037037037037035]\u001b[0m\n",
      "------------------------------------------------------------------------------------------\n",
      "------------------------------------------------------------------------------------------\n",
      "\u001b[91mraw\t\t[1, 1, 1, 0, 0, 1, 0, 0, 1, 1]\u001b[0m\n",
      "\u001b[91m\t\t[0, 0, 0, 0, 0, 1, 0, 0, 0, 0]\u001b[0m\n",
      "\u001b[91m\t\t[1, 1, 0, 0, 1, 1, 1, 1, 1, 0]\u001b[0m\n",
      "\u001b[91m\t\t[1, 1, 1, 0, 1, 1, 0, 0, 0, 1]\u001b[0m\n",
      "\u001b[92mcol_idx\t\t[0, 1, 2, 5, 8, 9, 5, 0, 1, 4, 5, 6, 7, 8, 0, 1, 2, 4, 5, 9]\u001b[0m\n",
      "\u001b[93mvalue\t\t[1, 1, 1, 1, 1, 1, 1, 1, 1, 1, 1, 1, 1, 1, 1, 1, 1, 1, 1, 1]\u001b[0m\n",
      "\u001b[94mnode_info\t['01101001', '00011000', '01111000', '01101000']\u001b[0m\n",
      "\u001b[95mSPMM\t\t[65, 40, 54, -12, 20, 88, 58, 39, 108, 142, 45, 75, 5, 46, 91, -25]\u001b[0m\n",
      "\u001b[95m\t\t[18, 15, 4, 28, 25, 27, -1, 14, 15, 30, 22, 3, 6, -8, 20, 10]\u001b[0m\n",
      "\u001b[95m\t\t[82, 85, 50, -3, 50, 84, 36, 16, 139, 105, 122, 115, -5, 76, 82, -4]\u001b[0m\n",
      "\u001b[95m\t\t[86, 54, 72, 15, 30, 72, 46, 49, 106, 146, 56, 95, -39, 42, 95, 28]\u001b[0m\n",
      "\u001b[96mDMVM\t\t[13002, 14180, 33015, 32518]\u001b[0m\n",
      "\u001b[97mCOEF\t\t[6, 6, 11, 11]\u001b[0m\n",
      "\u001b[1;91mSOFTMAX\t\t[0.015151515151515152, 0.015151515151515152, 0.48484848484848486, 0.48484848484848486]\u001b[0m\n",
      "------------------------------------------------------------------------------------------\n",
      "------------------------------------------------------------------------------------------\n",
      "\u001b[91mraw\t\t[1, 0, 0, 1, 0, 1, 0, 0, 1, 1]\u001b[0m\n",
      "\u001b[91m\t\t[0, 0, 1, 0, 0, 0, 1, 1, 1, 0]\u001b[0m\n",
      "\u001b[91m\t\t[1, 0, 1, 0, 0, 0, 0, 1, 1, 1]\u001b[0m\n",
      "\u001b[91m\t\t[0, 0, 1, 1, 0, 1, 1, 0, 1, 1]\u001b[0m\n",
      "\u001b[91m\t\t[1, 0, 0, 0, 0, 1, 0, 0, 1, 1]\u001b[0m\n",
      "\u001b[91m\t\t[0, 1, 1, 0, 0, 1, 1, 0, 1, 1]\u001b[0m\n",
      "\u001b[92mcol_idx\t\t[0, 3, 5, 8, 9, 2, 6, 7, 8, 0, 2, 7, 8, 9, 2, 3, 5, 6, 8, 9, 0, 5, 8, 9, 1, 2, 5, 6, 8, 9]\u001b[0m\n",
      "\u001b[93mvalue\t\t[1, 1, 1, 1, 1, 1, 1, 1, 1, 1, 1, 1, 1, 1, 1, 1, 1, 1, 1, 1, 1, 1, 1, 1, 1, 1, 1, 1, 1, 1]\u001b[0m\n",
      "\u001b[94mnode_info\t['01011101', '01001100', '01011100', '01101100', '01001100', '01101100']\u001b[0m\n",
      "\u001b[95mSPMM\t\t[48, 51, 21, 10, 40, 105, 63, 55, 89, 103, 47, 17, 0, 11, 74, -5]\u001b[0m\n",
      "\u001b[95m\t\t[42, 38, 36, -43, -10, -15, 20, -22, 89, 20, 20, 59, 64, 44, 56, -30]\u001b[0m\n",
      "\u001b[95m\t\t[34, 33, 44, -38, 6, 16, 25, 29, 87, 52, 13, 71, 15, 41, 84, 0]\u001b[0m\n",
      "\u001b[95m\t\t[90, 69, 44, 0, 16, 72, 79, 13, 124, 111, 26, 26, 57, 20, 91, -45]\u001b[0m\n",
      "\u001b[95m\t\t[28, 37, 13, 2, 50, 85, 40, 34, 58, 91, 35, 39, -6, 12, 64, -12]\u001b[0m\n",
      "\u001b[95m\t\t[95, 64, 50, -2, 18, 80, 65, -5, 120, 129, 42, 66, 40, 51, 84, -77]\u001b[0m\n",
      "\u001b[96mDMVM\t\t[10618, -3639, 3855, 23964, 23360, 23409]\u001b[0m\n",
      "\u001b[97mCOEF\t\t[5, 1, 3, 8, 8, 8]\u001b[0m\n",
      "\u001b[1;91mSOFTMAX\t\t[0.03950617283950617, 0.0024691358024691358, 0.009876543209876543, 0.3160493827160494, 0.3160493827160494, 0.3160493827160494]\u001b[0m\n",
      "------------------------------------------------------------------------------------------\n",
      "------------------------------------------------------------------------------------------\n",
      "\u001b[91mraw\t\t[1, 0, 0, 1, 0, 1, 0, 0, 0, 0]\u001b[0m\n",
      "\u001b[91m\t\t[1, 1, 1, 0, 0, 1, 1, 0, 1, 1]\u001b[0m\n",
      "\u001b[92mcol_idx\t\t[0, 3, 5, 0, 1, 2, 5, 6, 8, 9]\u001b[0m\n",
      "\u001b[93mvalue\t\t[1, 1, 1, 1, 1, 1, 1, 1, 1, 1]\u001b[0m\n",
      "\u001b[94mnode_info\t['00110101', '01110100']\u001b[0m\n",
      "\u001b[95mSPMM\t\t[16, 33, 11, 21, 22, 56, 26, 51, 59, 64, 50, 7, 1, -6, 42, 48]\u001b[0m\n",
      "\u001b[95m\t\t[73, 68, 49, -17, 25, 89, 69, 11, 133, 151, 58, 92, 29, 54, 96, -46]\u001b[0m\n",
      "\u001b[96mDMVM\t\t[6004, 26988]\u001b[0m\n",
      "\u001b[97mCOEF\t\t[2, 8]\u001b[0m\n",
      "\u001b[1;91mSOFTMAX\t\t[0.015384615384615385, 0.9846153846153847]\u001b[0m\n",
      "------------------------------------------------------------------------------------------\n",
      "------------------------------------------------------------------------------------------\n",
      "\u001b[91mraw\t\t[0, 1, 1, 0, 0, 1, 1, 0, 1, 0]\u001b[0m\n",
      "\u001b[91m\t\t[1, 0, 0, 0, 1, 0, 1, 0, 0, 1]\u001b[0m\n",
      "\u001b[91m\t\t[1, 0, 1, 1, 1, 1, 0, 1, 0, 0]\u001b[0m\n",
      "\u001b[91m\t\t[1, 0, 1, 0, 0, 0, 0, 1, 1, 1]\u001b[0m\n",
      "\u001b[92mcol_idx\t\t[1, 2, 5, 6, 8, 0, 4, 6, 9, 0, 2, 3, 4, 5, 7, 0, 2, 7, 8, 9]\u001b[0m\n",
      "\u001b[93mvalue\t\t[1, 1, 1, 1, 1, 1, 1, 1, 1, 1, 1, 1, 1, 1, 1, 1, 1, 1, 1, 1]\u001b[0m\n",
      "\u001b[94mnode_info\t['01011001', '01001000', '01101000', '01011000']\u001b[0m\n",
      "\u001b[95mSPMM\t\t[73, 45, 46, -17, 4, 57, 53, -12, 110, 110, 52, 63, 54, 49, 63, -55]\u001b[0m\n",
      "\u001b[95m\t\t[39, 64, 22, -4, 40, 43, 40, 2, 66, 74, 37, 73, -32, 24, 53, 10]\u001b[0m\n",
      "\u001b[95m\t\t[71, 57, 70, 10, 17, 24, 23, 67, 121, 79, 68, 69, -3, 26, 97, 92]\u001b[0m\n",
      "\u001b[95m\t\t[34, 33, 44, -38, 6, 16, 25, 29, 87, 52, 13, 71, 15, 41, 84, 0]\u001b[0m\n",
      "\u001b[96mDMVM\t\t[19159, 16628, 27379, 3855]\u001b[0m\n",
      "\u001b[97mCOEF\t\t[9, 8, 11, 5]\u001b[0m\n",
      "\u001b[1;91mSOFTMAX\t\t[0.1797752808988764, 0.0898876404494382, 0.7191011235955056, 0.011235955056179775]\u001b[0m\n",
      "------------------------------------------------------------------------------------------\n",
      "------------------------------------------------------------------------------------------\n",
      "\u001b[91mraw\t\t[1, 0, 0, 1, 0, 0, 0, 1, 1, 1]\u001b[0m\n",
      "\u001b[91m\t\t[0, 1, 0, 0, 1, 1, 1, 1, 1, 0]\u001b[0m\n",
      "\u001b[91m\t\t[0, 1, 1, 0, 0, 0, 1, 0, 1, 1]\u001b[0m\n",
      "\u001b[91m\t\t[0, 1, 0, 1, 1, 0, 0, 0, 0, 1]\u001b[0m\n",
      "\u001b[91m\t\t[1, 0, 1, 1, 1, 0, 0, 0, 1, 0]\u001b[0m\n",
      "\u001b[92mcol_idx\t\t[0, 3, 7, 8, 9, 1, 4, 5, 6, 7, 8, 1, 2, 6, 8, 9, 1, 3, 4, 9, 0, 2, 3, 4, 8]\u001b[0m\n",
      "\u001b[93mvalue\t\t[1, 1, 1, 1, 1, 1, 1, 1, 1, 1, 1, 1, 1, 1, 1, 1, 1, 1, 1, 1, 1, 1, 1, 1, 1]\u001b[0m\n",
      "\u001b[94mnode_info\t['01011011', '01101010', '01011010', '01001010', '01011010']\u001b[0m\n",
      "\u001b[95mSPMM\t\t[42, 53, 25, -10, 18, 61, 39, 48, 95, 43, 43, 31, -1, 36, 70, -5]\u001b[0m\n",
      "\u001b[95m\t\t[104, 81, 51, 12, 43, 75, 32, 0, 126, 83, 106, 89, 6, 73, 70, -35]\u001b[0m\n",
      "\u001b[95m\t\t[77, 49, 46, -30, -7, 53, 66, -19, 105, 99, 20, 63, 34, 59, 64, -87]\u001b[0m\n",
      "\u001b[95m\t\t[98, 55, 50, 30, 10, 81, 57, 38, 86, 85, 48, 26, -50, 42, 49, -18]\u001b[0m\n",
      "\u001b[95m\t\t[51, 24, 64, -52, -7, 40, 74, 43, 105, 99, 35, 56, -1, 32, 72, 41]\u001b[0m\n",
      "\u001b[96mDMVM\t\t[12084, 29436, 9229, 26993, 14746]\u001b[0m\n",
      "\u001b[97mCOEF\t\t[5, 10, 5, 9, 6]\u001b[0m\n",
      "\u001b[1;91mSOFTMAX\t\t[0.019230769230769232, 0.6153846153846154, 0.019230769230769232, 0.3076923076923077, 0.038461538461538464]\u001b[0m\n",
      "------------------------------------------------------------------------------------------\n",
      "------------------------------------------------------------------------------------------\n",
      "\u001b[91mraw\t\t[0, 0, 1, 1, 1, 1, 1, 0, 0, 1]\u001b[0m\n",
      "\u001b[91m\t\t[1, 0, 1, 1, 0, 0, 0, 1, 1, 0]\u001b[0m\n",
      "\u001b[91m\t\t[1, 0, 0, 1, 0, 1, 1, 0, 0, 1]\u001b[0m\n",
      "\u001b[91m\t\t[0, 0, 1, 0, 1, 0, 0, 0, 1, 1]\u001b[0m\n",
      "\u001b[91m\t\t[1, 1, 1, 1, 1, 1, 0, 0, 1, 0]\u001b[0m\n",
      "\u001b[91m\t\t[1, 0, 0, 0, 0, 0, 1, 1, 0, 0]\u001b[0m\n",
      "\u001b[92mcol_idx\t\t[2, 3, 4, 5, 6, 9, 0, 2, 3, 7, 8, 0, 3, 5, 6, 9, 2, 4, 8, 9, 0, 1, 2, 3, 4, 5, 8, 0, 6, 7]\u001b[0m\n",
      "\u001b[93mvalue\t\t[1, 1, 1, 1, 1, 1, 1, 1, 1, 1, 1, 1, 1, 1, 1, 1, 1, 1, 1, 1, 1, 1, 1, 1, 1, 1, 1, 1, 1, 1]\u001b[0m\n",
      "\u001b[94mnode_info\t['01101101', '01011100', '01011100', '01001100', '01111100', '00111100']\u001b[0m\n",
      "\u001b[95mSPMM\t\t[111, 83, 62, 27, 26, 56, 67, 23, 122, 115, 37, 46, 13, 16, 95, 8]\u001b[0m\n",
      "\u001b[95m\t\t[32, 28, 48, -45, -18, 13, 36, 43, 108, 45, 35, 46, 35, 38, 73, 29]\u001b[0m\n",
      "\u001b[95m\t\t[46, 80, 10, 31, 41, 80, 49, 30, 94, 92, 53, 27, 11, 4, 68, 5]\u001b[0m\n",
      "\u001b[95m\t\t[75, 25, 61, -30, 10, 34, 59, 13, 71, 84, -3, 55, -10, 32, 71, -19]\u001b[0m\n",
      "\u001b[95m\t\t[94, 48, 82, -18, 10, 95, 82, 60, 147, 159, 85, 77, -6, 54, 95, 26]\u001b[0m\n",
      "\u001b[95m\t\t[-2, 49, 2, -12, 15, -7, -10, -5, 59, 1, 47, 60, 18, 28, 33, 20]\u001b[0m\n",
      "\u001b[96mDMVM\t\t[20850, 6710, 31321, 8312, 36100, 3718]\u001b[0m\n",
      "\u001b[97mCOEF\t\t[10, 6, 12, 7, 13, 5]\u001b[0m\n",
      "\u001b[1;91mSOFTMAX\t\t[0.07565011820330969, 0.004728132387706856, 0.30260047281323876, 0.009456264775413711, 0.6052009456264775, 0.002364066193853428]\u001b[0m\n",
      "------------------------------------------------------------------------------------------\n",
      "------------------------------------------------------------------------------------------\n",
      "\u001b[91mraw\t\t[1, 0, 1, 1, 1, 0, 0, 0, 1, 0]\u001b[0m\n",
      "\u001b[91m\t\t[1, 0, 1, 1, 0, 1, 0, 1, 0, 1]\u001b[0m\n",
      "\u001b[91m\t\t[0, 1, 0, 1, 0, 1, 1, 0, 1, 0]\u001b[0m\n",
      "\u001b[91m\t\t[1, 1, 0, 0, 0, 0, 0, 0, 1, 1]\u001b[0m\n",
      "\u001b[91m\t\t[0, 0, 0, 1, 1, 0, 1, 0, 1, 1]\u001b[0m\n",
      "\u001b[92mcol_idx\t\t[0, 2, 3, 4, 8, 0, 2, 3, 5, 7, 9, 1, 3, 5, 6, 8, 0, 1, 8, 9, 3, 4, 6, 8, 9]\u001b[0m\n",
      "\u001b[93mvalue\t\t[1, 1, 1, 1, 1, 1, 1, 1, 1, 1, 1, 1, 1, 1, 1, 1, 1, 1, 1, 1, 1, 1, 1, 1, 1]\u001b[0m\n",
      "\u001b[94mnode_info\t['01011011', '01101010', '01011010', '01001010', '01011010']\u001b[0m\n",
      "\u001b[95mSPMM\t\t[51, 24, 64, -52, -7, 40, 74, 43, 105, 99, 35, 56, -1, 32, 72, 41]\u001b[0m\n",
      "\u001b[95m\t\t[62, 63, 50, 24, 17, 37, 22, 67, 113, 74, 40, 45, 14, 17, 103, 48]\u001b[0m\n",
      "\u001b[95m\t\t[81, 65, 27, 11, 16, 102, 67, 7, 118, 101, 82, 23, 38, 44, 49, -60]\u001b[0m\n",
      "\u001b[95m\t\t[35, 31, 23, -20, 17, 86, 50, 23, 70, 91, 41, 54, -23, 50, 47, -47]\u001b[0m\n",
      "\u001b[95m\t\t[91, 73, 37, -7, 27, 80, 84, 4, 104, 84, 40, 32, -2, 35, 62, -45]\u001b[0m\n",
      "\u001b[96mDMVM\t\t[11436, 25037, 30769, 16354, 21505]\u001b[0m\n",
      "\u001b[97mCOEF\t\t[5, 8, 10, 6, 8]\u001b[0m\n",
      "\u001b[1;91mSOFTMAX\t\t[0.0196078431372549, 0.1568627450980392, 0.6274509803921569, 0.0392156862745098, 0.1568627450980392]\u001b[0m\n",
      "------------------------------------------------------------------------------------------\n",
      "------------------------------------------------------------------------------------------\n",
      "\u001b[91mraw\t\t[0, 1, 1, 0, 1, 0, 0, 0, 1, 1]\u001b[0m\n",
      "\u001b[91m\t\t[1, 0, 0, 1, 0, 1, 0, 0, 0, 0]\u001b[0m\n",
      "\u001b[91m\t\t[1, 0, 1, 1, 0, 0, 0, 1, 1, 1]\u001b[0m\n",
      "\u001b[91m\t\t[0, 1, 0, 1, 0, 1, 0, 1, 1, 0]\u001b[0m\n",
      "\u001b[91m\t\t[0, 1, 1, 0, 1, 0, 1, 1, 0, 1]\u001b[0m\n",
      "\u001b[92mcol_idx\t\t[1, 2, 4, 8, 9, 0, 3, 5, 0, 2, 3, 7, 8, 9, 1, 3, 5, 7, 8, 1, 2, 4, 6, 7, 9]\u001b[0m\n",
      "\u001b[93mvalue\t\t[1, 1, 1, 1, 1, 1, 1, 1, 1, 1, 1, 1, 1, 1, 1, 1, 1, 1, 1, 1, 1, 1, 1, 1, 1]\u001b[0m\n",
      "\u001b[94mnode_info\t['01011011', '00111010', '01101010', '01011010', '01101010']\u001b[0m\n",
      "\u001b[95mSPMM\t\t[100, 34, 75, -24, 2, 62, 68, 16, 98, 114, 25, 73, -21, 62, 74, -44]\u001b[0m\n",
      "\u001b[95m\t\t[16, 33, 11, 21, 22, 56, 26, 51, 59, 64, 50, 7, 1, -6, 42, 48]\u001b[0m\n",
      "\u001b[95m\t\t[54, 47, 52, -30, -4, 36, 48, 50, 118, 64, 25, 49, 21, 40, 94, 7]\u001b[0m\n",
      "\u001b[95m\t\t[85, 54, 40, 24, 14, 84, 31, 42, 114, 62, 87, 23, 19, 53, 60, -29]\u001b[0m\n",
      "\u001b[95m\t\t[110, 80, 72, 5, 6, 20, 29, -2, 124, 73, 49, 100, -5, 72, 84, -24]\u001b[0m\n",
      "\u001b[96mDMVM\t\t[14587, 25488, 11584, 28990, 14898]\u001b[0m\n",
      "\u001b[97mCOEF\t\t[7, 9, 6, 10, 7]\u001b[0m\n",
      "\u001b[1;91mSOFTMAX\t\t[0.06896551724137931, 0.27586206896551724, 0.034482758620689655, 0.5517241379310345, 0.06896551724137931]\u001b[0m\n",
      "------------------------------------------------------------------------------------------\n",
      "------------------------------------------------------------------------------------------\n",
      "\u001b[91mraw\t\t[0, 0, 1, 1, 0, 0, 1, 0, 1, 0]\u001b[0m\n",
      "\u001b[91m\t\t[0, 0, 1, 1, 0, 1, 0, 1, 1, 0]\u001b[0m\n",
      "\u001b[91m\t\t[1, 0, 0, 0, 1, 0, 0, 1, 1, 1]\u001b[0m\n",
      "\u001b[91m\t\t[1, 1, 0, 0, 1, 1, 0, 1, 1, 0]\u001b[0m\n",
      "\u001b[92mcol_idx\t\t[2, 3, 6, 8, 2, 3, 5, 7, 8, 0, 4, 7, 8, 9, 0, 1, 4, 5, 7, 8]\u001b[0m\n",
      "\u001b[93mvalue\t\t[1, 1, 1, 1, 1, 1, 1, 1, 1, 1, 1, 1, 1, 1, 1, 1, 1, 1, 1, 1]\u001b[0m\n",
      "\u001b[94mnode_info\t['01001001', '01011000', '01011000', '01101000']\u001b[0m\n",
      "\u001b[95mSPMM\t\t[50, 35, 36, -43, -23, 22, 68, -8, 99, 62, 14, 20, 65, 26, 50, -33]\u001b[0m\n",
      "\u001b[95m\t\t[72, 39, 53, -2, 0, 31, 31, 41, 110, 53, 41, 23, 52, 27, 81, 8]\u001b[0m\n",
      "\u001b[95m\t\t[53, 52, 41, -17, 42, 51, 29, 34, 82, 55, 49, 80, -38, 48, 75, 10]\u001b[0m\n",
      "\u001b[95m\t\t[74, 57, 55, 2, 45, 83, 25, 44, 114, 96, 109, 98, -29, 68, 77, 17]\u001b[0m\n",
      "\u001b[96mDMVM\t\t[16486, 17311, 15576, 32056]\u001b[0m\n",
      "\u001b[97mCOEF\t\t[8, 8, 7, 11]\u001b[0m\n",
      "\u001b[1;91mSOFTMAX\t\t[0.09523809523809523, 0.09523809523809523, 0.047619047619047616, 0.7619047619047619]\u001b[0m\n",
      "------------------------------------------------------------------------------------------\n",
      "------------------------------------------------------------------------------------------\n",
      "\u001b[91mraw\t\t[0, 1, 0, 1, 1, 0, 1, 1, 0, 1]\u001b[0m\n",
      "\u001b[91m\t\t[1, 1, 0, 0, 1, 0, 1, 1, 1, 0]\u001b[0m\n",
      "\u001b[91m\t\t[1, 1, 0, 0, 0, 1, 0, 0, 0, 1]\u001b[0m\n",
      "\u001b[91m\t\t[1, 1, 1, 0, 1, 0, 0, 1, 0, 1]\u001b[0m\n",
      "\u001b[91m\t\t[0, 1, 1, 0, 0, 0, 1, 0, 0, 0]\u001b[0m\n",
      "\u001b[92mcol_idx\t\t[1, 3, 4, 6, 7, 9, 0, 1, 4, 6, 7, 8, 0, 1, 5, 9, 0, 1, 2, 4, 7, 9, 1, 2, 6]\u001b[0m\n",
      "\u001b[93mvalue\t\t[1, 1, 1, 1, 1, 1, 1, 1, 1, 1, 1, 1, 1, 1, 1, 1, 1, 1, 1, 1, 1, 1, 1, 1, 1]\u001b[0m\n",
      "\u001b[94mnode_info\t['01101011', '01101010', '01001010', '01101010', '00111010']\u001b[0m\n",
      "\u001b[95mSPMM\t\t[118, 100, 53, 33, 18, 65, 43, 17, 132, 64, 79, 60, -21, 67, 70, -29]\u001b[0m\n",
      "\u001b[95m\t\t[64, 70, 46, -31, 25, 57, 37, 2, 124, 75, 100, 112, -11, 84, 62, -14]\u001b[0m\n",
      "\u001b[95m\t\t[43, 47, 21, 34, 38, 87, 24, 40, 65, 101, 56, 50, -30, 27, 56, -6]\u001b[0m\n",
      "\u001b[95m\t\t[80, 56, 76, -5, 8, 28, 22, 42, 112, 86, 52, 109, -40, 67, 91, 28]\u001b[0m\n",
      "\u001b[95m\t\t[45, 31, 36, -19, -25, 4, 29, -23, 75, 60, 23, 53, 35, 42, 32, -34]\u001b[0m\n",
      "\u001b[96mDMVM\t\t[21423, 18835, 29807, 17518, 3628]\u001b[0m\n",
      "\u001b[97mCOEF\t\t[10, 9, 12, 9, 6]\u001b[0m\n",
      "\u001b[1;91mSOFTMAX\t\t[0.16494845360824742, 0.08247422680412371, 0.6597938144329897, 0.08247422680412371, 0.010309278350515464]\u001b[0m\n",
      "------------------------------------------------------------------------------------------\n",
      "------------------------------------------------------------------------------------------\n",
      "\u001b[91mraw\t\t[0, 1, 0, 0, 1, 0, 0, 1, 1, 0]\u001b[0m\n",
      "\u001b[91m\t\t[1, 0, 0, 0, 1, 0, 1, 0, 0, 0]\u001b[0m\n",
      "\u001b[91m\t\t[1, 1, 1, 1, 1, 1, 1, 1, 1, 0]\u001b[0m\n",
      "\u001b[91m\t\t[1, 0, 0, 1, 0, 1, 0, 1, 0, 0]\u001b[0m\n",
      "\u001b[91m\t\t[1, 0, 1, 1, 1, 0, 0, 1, 0, 0]\u001b[0m\n",
      "\u001b[92mcol_idx\t\t[1, 4, 7, 8, 0, 4, 6, 0, 1, 2, 3, 4, 5, 6, 7, 8, 0, 3, 5, 7, 0, 2, 3, 4, 7]\u001b[0m\n",
      "\u001b[93mvalue\t\t[1, 1, 1, 1, 1, 1, 1, 1, 1, 1, 1, 1, 1, 1, 1, 1, 1, 1, 1, 1, 1, 1, 1, 1, 1]\u001b[0m\n",
      "\u001b[94mnode_info\t['01001011', '00111010', '10011010', '01001010', '01011010']\u001b[0m\n",
      "\u001b[95mSPMM\t\t[78, 38, 52, -11, 13, 47, 22, 14, 86, 44, 71, 69, -24, 73, 45, -24]\u001b[0m\n",
      "\u001b[95m\t\t[17, 45, 18, -19, 26, 20, 28, -5, 56, 55, 47, 70, -18, 22, 32, 32]\u001b[0m\n",
      "\u001b[95m\t\t[114, 93, 85, -15, 18, 79, 68, 39, 193, 138, 116, 111, 23, 79, 116, 15]\u001b[0m\n",
      "\u001b[95m\t\t[28, 50, 19, 29, 25, 39, 1, 58, 80, 34, 68, 24, 6, 11, 58, 58]\u001b[0m\n",
      "\u001b[95m\t\t[53, 42, 66, -18, -8, -3, 24, 53, 106, 49, 46, 66, -9, 34, 77, 82]\u001b[0m\n",
      "\u001b[96mDMVM\t\t[15261, 11754, 36239, 24668, 13199]\u001b[0m\n",
      "\u001b[97mCOEF\t\t[7, 6, 12, 9, 6]\u001b[0m\n",
      "\u001b[1;91mSOFTMAX\t\t[0.02631578947368421, 0.013157894736842105, 0.8421052631578947, 0.10526315789473684, 0.013157894736842105]\u001b[0m\n",
      "------------------------------------------------------------------------------------------\n",
      "------------------------------------------------------------------------------------------\n",
      "\u001b[91mraw\t\t[1, 0, 1, 1, 0, 0, 1, 0, 0, 0]\u001b[0m\n",
      "\u001b[91m\t\t[0, 1, 1, 0, 0, 1, 0, 1, 1, 1]\u001b[0m\n",
      "\u001b[92mcol_idx\t\t[0, 2, 3, 6, 1, 2, 5, 7, 8, 9]\u001b[0m\n",
      "\u001b[93mvalue\t\t[1, 1, 1, 1, 1, 1, 1, 1, 1, 1]\u001b[0m\n",
      "\u001b[94mnode_info\t['01000101', '01100100']\u001b[0m\n",
      "\u001b[95mSPMM\t\t[18, 40, 29, -32, -20, 5, 47, 11, 92, 64, 23, 39, 41, 14, 51, 29]\u001b[0m\n",
      "\u001b[95m\t\t[99, 53, 63, 11, 16, 62, 29, 30, 116, 90, 47, 66, 21, 60, 95, -46]\u001b[0m\n",
      "\u001b[96mDMVM\t\t[8928, 21630]\u001b[0m\n",
      "\u001b[97mCOEF\t\t[4, 7]\u001b[0m\n",
      "\u001b[1;91mSOFTMAX\t\t[0.1111111111111111, 0.8888888888888888]\u001b[0m\n",
      "------------------------------------------------------------------------------------------\n",
      "------------------------------------------------------------------------------------------\n",
      "\u001b[91mraw\t\t[0, 0, 0, 0, 0, 1, 0, 1, 1, 1]\u001b[0m\n",
      "\u001b[91m\t\t[1, 1, 0, 0, 1, 1, 1, 0, 0, 1]\u001b[0m\n",
      "\u001b[92mcol_idx\t\t[5, 7, 8, 9, 0, 1, 4, 5, 6, 9]\u001b[0m\n",
      "\u001b[93mvalue\t\t[1, 1, 1, 1, 1, 1, 1, 1, 1, 1]\u001b[0m\n",
      "\u001b[94mnode_info\t['01000101', '01100100']\u001b[0m\n",
      "\u001b[95mSPMM\t\t[62, 50, 22, 25, 46, 59, 11, 25, 66, 39, 37, 30, 10, 26, 68, -33]\u001b[0m\n",
      "\u001b[95m\t\t[82, 88, 40, 30, 57, 98, 48, 19, 108, 134, 87, 94, -37, 46, 76, -5]\u001b[0m\n",
      "\u001b[96mDMVM\t\t[15336, 37982]\u001b[0m\n",
      "\u001b[97mCOEF\t\t[7, 13]\u001b[0m\n",
      "\u001b[1;91mSOFTMAX\t\t[0.015384615384615385, 0.9846153846153847]\u001b[0m\n",
      "------------------------------------------------------------------------------------------\n",
      "------------------------------------------------------------------------------------------\n",
      "\u001b[91mraw\t\t[0, 1, 1, 1, 1, 1, 0, 0, 1, 1]\u001b[0m\n",
      "\u001b[91m\t\t[0, 1, 0, 0, 1, 1, 0, 0, 0, 0]\u001b[0m\n",
      "\u001b[91m\t\t[1, 0, 1, 0, 1, 1, 0, 1, 0, 0]\u001b[0m\n",
      "\u001b[92mcol_idx\t\t[1, 2, 3, 4, 5, 8, 9, 1, 4, 5, 0, 2, 4, 5, 7]\u001b[0m\n",
      "\u001b[93mvalue\t\t[1, 1, 1, 1, 1, 1, 1, 1, 1, 1, 1, 1, 1, 1, 1]\u001b[0m\n",
      "\u001b[94mnode_info\t['01110111', '00110110', '01010110']\u001b[0m\n",
      "\u001b[95mSPMM\t\t[138, 63, 87, 12, 17, 109, 90, 51, 144, 156, 59, 54, -9, 53, 104, -27]\u001b[0m\n",
      "\u001b[95m\t\t[74, 37, 42, 35, 31, 65, 21, 24, 60, 84, 68, 48, -36, 33, 38, 7]\u001b[0m\n",
      "\u001b[95m\t\t[51, 43, 62, 2, 27, 4, 0, 46, 90, 67, 56, 91, -9, 27, 87, 85]\u001b[0m\n",
      "\u001b[96mDMVM\t\t[24616, 28570, 19650]\u001b[0m\n",
      "\u001b[97mCOEF\t\t[12, 12, 10]\u001b[0m\n",
      "\u001b[1;91mSOFTMAX\t\t[0.4444444444444444, 0.4444444444444444, 0.1111111111111111]\u001b[0m\n",
      "------------------------------------------------------------------------------------------\n",
      "------------------------------------------------------------------------------------------\n",
      "\u001b[91mraw\t\t[0, 0, 1, 1, 1, 0, 0, 1, 0, 0]\u001b[0m\n",
      "\u001b[91m\t\t[1, 1, 1, 1, 0, 0, 0, 0, 1, 0]\u001b[0m\n",
      "\u001b[91m\t\t[1, 1, 1, 0, 0, 1, 1, 1, 0, 0]\u001b[0m\n",
      "\u001b[92mcol_idx\t\t[2, 3, 4, 7, 0, 1, 2, 3, 8, 0, 1, 2, 5, 6, 7]\u001b[0m\n",
      "\u001b[93mvalue\t\t[1, 1, 1, 1, 1, 1, 1, 1, 1, 1, 1, 1, 1, 1, 1]\u001b[0m\n",
      "\u001b[94mnode_info\t['01000111', '01010110', '01100110']\u001b[0m\n",
      "\u001b[95mSPMM\t\t[75, 38, 67, -3, -15, -12, 20, 37, 93, 27, 30, 40, 2, 31, 65, 51]\u001b[0m\n",
      "\u001b[95m\t\t[45, 20, 54, -47, -29, 58, 70, 39, 114, 105, 45, 47, 19, 51, 60, -6]\u001b[0m\n",
      "\u001b[95m\t\t[53, 67, 47, 2, 10, 23, 7, 14, 124, 82, 79, 99, 35, 54, 80, 17]\u001b[0m\n",
      "\u001b[96mDMVM\t\t[18022, 14704, 20567]\u001b[0m\n",
      "\u001b[97mCOEF\t\t[8, 7, 9]\u001b[0m\n",
      "\u001b[1;91mSOFTMAX\t\t[0.2857142857142857, 0.14285714285714285, 0.5714285714285714]\u001b[0m\n",
      "------------------------------------------------------------------------------------------\n"
     ]
    }
   ],
   "source": [
    "print_sub_graphs()"
   ]
  },
  {
   "cell_type": "markdown",
   "metadata": {},
   "source": [
    "#### 6. Update testbench"
   ]
  },
  {
   "cell_type": "code",
   "execution_count": 52,
   "metadata": {},
   "outputs": [],
   "source": [
    "root_path       = os.path.abspath(\"../../\").replace(\"\\\\\", \"/\")\n",
    "filename        = os.path.join(root_path, \"tb/top_tb.sv\").replace(\"\\\\\", \"/\")\n",
    "file_path_input = os.path.join(root_path, \"tb/inputs\").replace(\"\\\\\", \"/\")\n",
    "params_pkg_file = os.path.join(root_path, \"rtl/others/pkgs/params_pkg.sv\").replace(\"\\\\\", \"/\")"
   ]
  },
  {
   "cell_type": "code",
   "execution_count": 53,
   "metadata": {},
   "outputs": [
    {
     "name": "stdout",
     "output_type": "stream",
     "text": [
      "d:/VLSI/Capstone/tb/inputs\n"
     ]
    }
   ],
   "source": [
    "print(file_path_input)"
   ]
  },
  {
   "cell_type": "markdown",
   "metadata": {},
   "source": [
    "##### Inputs"
   ]
  },
  {
   "cell_type": "code",
   "execution_count": 54,
   "metadata": {},
   "outputs": [],
   "source": [
    "def decimal_to_binary(number, bit_length):\n",
    "  if number < 0:\n",
    "    number = (1 << bit_length) + number  # Handle negative numbers with two's complement\n",
    "  binary_representation = bin(number & ((1 << bit_length) - 1))[2:]  # Mask to bit_length bits\n",
    "  return binary_representation.zfill(bit_length)"
   ]
  },
  {
   "cell_type": "code",
   "execution_count": 55,
   "metadata": {},
   "outputs": [],
   "source": [
    "wrt_data = []\n",
    "wrt_node_info = []\n",
    "\n",
    "for key, value in GRAPH.items():\n",
    "  wrt_node_info.append(value[\"node_info\"])\n",
    "\n",
    "  data_bin = []\n",
    "  for i in range(len(value[\"value\"])):\n",
    "    col_idx_bin = decimal_to_binary(value[\"col_idx\"][i], math.ceil(math.log2(params[\"H_NUM_OF_COLS\"])))\n",
    "    value_bin = decimal_to_binary(value[\"value\"][i], 8)\n",
    "    data_bin.append(col_idx_bin + value_bin)\n",
    "  wrt_data.append(data_bin)"
   ]
  },
  {
   "cell_type": "code",
   "execution_count": 56,
   "metadata": {},
   "outputs": [
    {
     "name": "stdout",
     "output_type": "stream",
     "text": [
      " open d:/VLSI/Capstone/tb/inputs/h_data.txt\n",
      " open d:/VLSI/Capstone/tb/inputs/node_info.txt\n",
      " open d:/VLSI/Capstone/tb/inputs/weight.txt\n",
      " open d:/VLSI/Capstone/tb/inputs/a.txt\n"
     ]
    }
   ],
   "source": [
    "def write_list_to_file(file_path, data_list):\n",
    "  with open(file_path, 'w') as file:\n",
    "    print(f\" open {file_path}\" )\n",
    "    for item in data_list:\n",
    "      for it in item:\n",
    "        file.write(f\"{it}\\n\")\n",
    "def write_list_to_file2(file_path, data_list):\n",
    "  with open(file_path, 'w') as file:\n",
    "    print(f\" open {file_path}\" )\n",
    "    for item in data_list:\n",
    "      file.write(f\"{item}\\n\")\n",
    "\n",
    "if (UPDATE_INPUT_TXT):\n",
    "  write_list_to_file(file_path_input + \"/h_data.txt\", wrt_data)\n",
    "  write_list_to_file(file_path_input + \"/node_info.txt\", wrt_node_info)\n",
    "  write_list_to_file(file_path_input + \"/weight.txt\", weight)\n",
    "  write_list_to_file2(file_path_input + \"/a.txt\", a)"
   ]
  },
  {
   "cell_type": "code",
   "execution_count": 57,
   "metadata": {},
   "outputs": [
    {
     "name": "stdout",
     "output_type": "stream",
     "text": [
      " open d:/VLSI/Capstone\\tb/outputs//WH.txt\n",
      " open d:/VLSI/Capstone\\tb/outputs//DMVM.txt\n",
      " open d:/VLSI/Capstone\\tb/outputs//COEF.txt\n"
     ]
    }
   ],
   "source": [
    "file_path_output = os.path.join(root_path, \"tb/outputs/\")\n",
    "\n",
    "def get_golden_values(golden_list):\n",
    "  golden_txt = []\n",
    "  for i in golden_list:\n",
    "    for j in i:\n",
    "      for k in j:\n",
    "        golden_txt.append(k)\n",
    "  return golden_txt\n",
    "\n",
    "write_list_to_file2(file_path_output + \"/WH.txt\", WH)\n",
    "write_list_to_file2(file_path_output + \"/DMVM.txt\", DMVM)\n",
    "write_list_to_file2(file_path_output + \"/COEF.txt\", COEF)"
   ]
  },
  {
   "cell_type": "markdown",
   "metadata": {},
   "source": [
    "##### Parameters"
   ]
  },
  {
   "cell_type": "code",
   "execution_count": 58,
   "metadata": {},
   "outputs": [
    {
     "name": "stdout",
     "output_type": "stream",
     "text": [
      "{'A_DEPTH': 32,\n",
      " 'H_DATA_DEPTH': 500,\n",
      " 'H_NUM_OF_COLS': 10,\n",
      " 'H_NUM_OF_ROWS': 100,\n",
      " 'NODE_INFO_DEPTH': 100,\n",
      " 'NUM_OF_NODES': 6,\n",
      " 'WEIGHT_DEPTH': 160,\n",
      " 'WH_DEPTH': 100,\n",
      " 'W_NUM_OF_COLS': 16,\n",
      " 'W_NUM_OF_ROWS': 10}\n"
     ]
    }
   ],
   "source": [
    "_value = [len(item) for item in wrt_data]\n",
    "len_value = 0\n",
    "for val in _value:\n",
    "  len_value += val\n",
    "\n",
    "_node_info = [len(item) for item in wrt_node_info]\n",
    "len_node_info = 0\n",
    "for node in _node_info:\n",
    "  len_node_info += node\n",
    "\n",
    "params[\"H_DATA_DEPTH\"] = len_value\n",
    "params[\"NODE_INFO_DEPTH\"] = len_node_info\n",
    "params[\"WEIGHT_DEPTH\"] = params[\"W_NUM_OF_ROWS\"] * params[\"W_NUM_OF_COLS\"]\n",
    "params[\"WH_DEPTH\"] = len_node_info\n",
    "params[\"A_DEPTH\"] = params[\"W_NUM_OF_COLS\"] * 2\n",
    "pprint(params)"
   ]
  },
  {
   "cell_type": "code",
   "execution_count": 59,
   "metadata": {},
   "outputs": [],
   "source": [
    "config_params = {\n",
    "  \"H_NUM_SPARSE_DATA\" : params[\"H_DATA_DEPTH\"],\n",
    "  \"TOTAL_NODES\"       : params[\"H_NUM_OF_ROWS\"],\n",
    "  \"NUM_FEATURE_IN\"    : params[\"W_NUM_OF_ROWS\"],\n",
    "  \"NUM_FEATURE_OUT\"   : params[\"W_NUM_OF_COLS\"],\n",
    "  \"NUM_SUBGRAPHS\"     : len(GRAPH),\n",
    "  \"MAX_NODES\"         : params[\"NUM_OF_NODES\"],\n",
    "}"
   ]
  },
  {
   "cell_type": "code",
   "execution_count": 60,
   "metadata": {},
   "outputs": [],
   "source": [
    "def update_parameters_in_ifdef(params_pkg_file, parameters, ifdef_condition=\"SIMULATION\"):\n",
    "  with open(params_pkg_file, 'r') as file:\n",
    "    file_data = file.readlines()\n",
    "\n",
    "  in_ifdef_block = False  # Track if we're inside the target `ifdef` block\n",
    "  for i, line in enumerate(file_data):\n",
    "    # Check for the start of the `ifdef block\n",
    "    if f\"`ifdef {ifdef_condition}\" in line:\n",
    "      in_ifdef_block = True\n",
    "      continue\n",
    "\n",
    "    # Check for the end of the `ifdef block\n",
    "    if in_ifdef_block and \"`endif\" in line:\n",
    "      in_ifdef_block = False\n",
    "      continue\n",
    "\n",
    "    # Update parameters only within the `ifdef block\n",
    "    if in_ifdef_block:\n",
    "      for param, new_value in parameters.items():\n",
    "        found_param = f\"parameter {param}\"\n",
    "        if found_param in line:\n",
    "          parts = line.split('=')\n",
    "          if len(parts) == 2:  # Ensure the line has an '=' sign\n",
    "            file_data[i] = f\"{parts[0]}= {new_value};\\n\"\n",
    "\n",
    "  # Write back the updated content\n",
    "  with open(params_pkg_file, 'w') as file:\n",
    "    file.writelines(file_data)\n",
    "\n",
    "# Example usage\n",
    "if UPDATE_INPUT_TXT:\n",
    "  update_parameters_in_ifdef(params_pkg_file, config_params)"
   ]
  },
  {
   "cell_type": "markdown",
   "metadata": {},
   "source": [
    "##### Root Path"
   ]
  },
  {
   "cell_type": "code",
   "execution_count": 61,
   "metadata": {},
   "outputs": [],
   "source": [
    "def update_root_path(filename, root_path):\n",
    "  with open(filename, 'r') as file:\n",
    "    file_data = file.readlines()\n",
    "\n",
    "  for i, line in enumerate(file_data):\n",
    "    if \"localparam string ROOT_PATH\" in line:\n",
    "      file_data[i] = f\"\\tlocalparam string ROOT_PATH = \\\"{root_path}\\\";\\n\"\n",
    "\n",
    "  with open(filename, 'w') as file:\n",
    "      file.writelines(file_data)\n",
    "\n",
    "update_root_path(filename, root_path)"
   ]
  }
 ],
 "metadata": {
  "kernelspec": {
   "display_name": "Python 3",
   "language": "python",
   "name": "python3"
  },
  "language_info": {
   "codemirror_mode": {
    "name": "ipython",
    "version": 3
   },
   "file_extension": ".py",
   "mimetype": "text/x-python",
   "name": "python",
   "nbconvert_exporter": "python",
   "pygments_lexer": "ipython3",
   "version": "3.12.8"
  }
 },
 "nbformat": 4,
 "nbformat_minor": 2
}
