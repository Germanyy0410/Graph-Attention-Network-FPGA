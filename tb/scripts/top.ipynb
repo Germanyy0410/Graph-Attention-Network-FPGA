{
 "cells": [
  {
   "cell_type": "code",
   "execution_count": 1,
   "metadata": {},
   "outputs": [],
   "source": [
    "import os\n",
    "import math\n",
    "import random\n",
    "from pprint import pprint"
   ]
  },
  {
   "cell_type": "markdown",
   "metadata": {},
   "source": [
    "#### 0. Configuration\n",
    "*(Modify here only)*"
   ]
  },
  {
   "cell_type": "code",
   "execution_count": 2,
   "metadata": {},
   "outputs": [],
   "source": [
    "params = {\n",
    "  \"H_NUM_OF_ROWS\" : 100,\n",
    "  \"H_NUM_OF_COLS\" : 10,         # WARNING: Do not set as powers of 2.\n",
    "\n",
    "  \"W_NUM_OF_ROWS\" : 10,\n",
    "  \"W_NUM_OF_COLS\" : 16,\n",
    "\n",
    "  \"NUM_OF_NODES\"  : 6,          # WARNING: Do not set as powers of 2.\n",
    "}"
   ]
  },
  {
   "cell_type": "code",
   "execution_count": 3,
   "metadata": {},
   "outputs": [],
   "source": [
    "CORA_DATASET_ENABLE = 1         # 1: enable for Cora dataset    0: enable for other dataset\n",
    "UPDATE_INPUT_TXT    = 1         # 1: update inputs/*.txt        0: do not update inputs/*.txt"
   ]
  },
  {
   "cell_type": "markdown",
   "metadata": {},
   "source": [
    "#### 1. Random Inputs"
   ]
  },
  {
   "cell_type": "code",
   "execution_count": 4,
   "metadata": {},
   "outputs": [],
   "source": [
    "params.update({\n",
    "  \"H_DATA_DEPTH\"    : 0,                                # số lượng col_idx tổng cộng\n",
    "  \"NODE_INFO_DEPTH\" : 0,                                # số lượng node tổng cộng\n",
    "  \"WEIGHT_DEPTH\"    : 0,                                # = W_ROWS * W_COLS\n",
    "  \"WH_DEPTH\"        : 0,                                # = số lượng node tổng cộng\n",
    "  \"A_DEPTH\"         : params[\"W_NUM_OF_COLS\"] * 2,      # = W_COLS * 2\n",
    "})"
   ]
  },
  {
   "cell_type": "code",
   "execution_count": 5,
   "metadata": {
    "notebookRunGroups": {
     "groupValue": "2"
    }
   },
   "outputs": [],
   "source": [
    "def random_matrix(rows, cols, sparsity_percent, min=-127, max=127):\n",
    "  neg_percent = 20\n",
    "  total_elements = rows * cols\n",
    "  num_zeros = int(total_elements * sparsity_percent / 100)\n",
    "  num_non_zeros = total_elements - num_zeros\n",
    "\n",
    "  num_negatives = int(num_non_zeros * neg_percent / 100)\n",
    "  num_positives = num_non_zeros - num_negatives\n",
    "\n",
    "  matrix_elements = (\n",
    "      [0] * num_zeros +\n",
    "      [random.randint(min, -1) for _ in range(num_negatives)] +\n",
    "      [random.randint(1, max) for _ in range(num_positives)]\n",
    "  )\n",
    "\n",
    "  random.shuffle(matrix_elements)\n",
    "\n",
    "  sparse_matrix = []\n",
    "  for i in range(rows):\n",
    "    sparse_matrix.append(matrix_elements[i * cols:(i + 1) * cols])\n",
    "\n",
    "  # Ensure no row is completely zero\n",
    "  for row in sparse_matrix:\n",
    "    if all(value == 0 for value in row):\n",
    "      row[random.randint(0, cols - 1)] = random.randint(1, 9)\n",
    "\n",
    "  return sparse_matrix"
   ]
  },
  {
   "cell_type": "markdown",
   "metadata": {},
   "source": [
    "##### Weight\n"
   ]
  },
  {
   "cell_type": "code",
   "execution_count": 6,
   "metadata": {},
   "outputs": [],
   "source": [
    "weight = random_matrix(params[\"W_NUM_OF_ROWS\"], params[\"W_NUM_OF_COLS\"], 0, -31, 31)"
   ]
  },
  {
   "cell_type": "markdown",
   "metadata": {},
   "source": [
    "##### Weight Vector a"
   ]
  },
  {
   "cell_type": "code",
   "execution_count": 7,
   "metadata": {},
   "outputs": [],
   "source": [
    "# a = [1 if i < params[\"A_DEPTH\"] / 2 else 2 for i in range(params[\"A_DEPTH\"])]\n",
    "a = random_matrix(1, params[\"A_DEPTH\"], 0)[0]\n",
    "\n",
    "midpoint = len(a) // 2\n",
    "a_1 = a[:midpoint]\n",
    "a_2 = a[midpoint:]"
   ]
  },
  {
   "cell_type": "markdown",
   "metadata": {},
   "source": [
    "##### SubGraph"
   ]
  },
  {
   "cell_type": "code",
   "execution_count": 8,
   "metadata": {
    "notebookRunGroups": {
     "groupValue": "1"
    }
   },
   "outputs": [],
   "source": [
    "subGraph = []\n",
    "sub_row = random.randint(2, params[\"NUM_OF_NODES\"])\n",
    "sub_cnt = 0\n",
    "source_node_list = []\n",
    "while sub_cnt < params[\"H_NUM_OF_ROWS\"]:\n",
    "  sub_row = random.randint(2, params[\"NUM_OF_NODES\"])\n",
    "  sub_cnt += sub_row\n",
    "  if sub_cnt >= params[\"H_NUM_OF_ROWS\"]:\n",
    "    sub_row = sub_row - (sub_cnt - params[\"H_NUM_OF_ROWS\"])\n",
    "    if sub_row == 1:\n",
    "      sub_row = 2\n",
    "      for item in subGraph:\n",
    "        if len(item) >= 3:\n",
    "          item.pop(-1)\n",
    "          break\n",
    "  subG = random_matrix(sub_row, params[\"H_NUM_OF_COLS\"], 50, -15, 15)\n",
    "  if (CORA_DATASET_ENABLE):\n",
    "    subG = [[1 if x != 0 else 0 for x in row] for row in subG]\n",
    "  subGraph.append(subG)"
   ]
  },
  {
   "cell_type": "markdown",
   "metadata": {},
   "source": [
    "##### Feature"
   ]
  },
  {
   "cell_type": "code",
   "execution_count": 9,
   "metadata": {},
   "outputs": [],
   "source": [
    "feature = []\n",
    "for i in range(len(subGraph)):\n",
    "  feature += subGraph[i]"
   ]
  },
  {
   "cell_type": "markdown",
   "metadata": {},
   "source": [
    "#### 2. Calculation"
   ]
  },
  {
   "cell_type": "markdown",
   "metadata": {},
   "source": [
    "Convert and calculate in binary format."
   ]
  },
  {
   "cell_type": "code",
   "execution_count": 10,
   "metadata": {},
   "outputs": [],
   "source": [
    "def decimal_to_binary(num):\n",
    "  if num < 0:\n",
    "    num = (1 << 8) + num\n",
    "  return format(num & 0xFF, '08b')\n",
    "\n",
    "def binary_to_decimal(bin_str):\n",
    "  num = int(bin_str, 2)\n",
    "  if bin_str[0] == '1':\n",
    "    num -= (1 << 8)\n",
    "  return num\n",
    "\n",
    "def sum_binary(a, b):\n",
    "  a = a.zfill(8)\n",
    "  b = b.zfill(8)\n",
    "  result = ''\n",
    "  carry = 0\n",
    "  for i in range(7, -1, -1):\n",
    "    bit_sum = int(a[i]) + int(b[i]) + carry\n",
    "    result = str(bit_sum % 2) + result\n",
    "    carry = bit_sum // 2\n",
    "  result = str(carry) + result\n",
    "  return result"
   ]
  },
  {
   "cell_type": "markdown",
   "metadata": {},
   "source": [
    "`sum_calc` and `product_calc` must be used to calculate."
   ]
  },
  {
   "cell_type": "code",
   "execution_count": 11,
   "metadata": {},
   "outputs": [],
   "source": [
    "def sum_calc(a, b):\n",
    "  a_bin   = decimal_to_binary(a)\n",
    "  b_bin   = decimal_to_binary(b)\n",
    "  res_bin = sum_binary(a_bin, b_bin)\n",
    "  if (a + b >= 128 or a + b <= -128):\n",
    "    return binary_to_decimal(res_bin[:-1])\n",
    "  return binary_to_decimal(res_bin[1:])\n",
    "\n",
    "def product_calc(a, b):\n",
    "  return math.floor((a * b) / 128)"
   ]
  },
  {
   "cell_type": "markdown",
   "metadata": {},
   "source": [
    "##### SPMM"
   ]
  },
  {
   "cell_type": "code",
   "execution_count": 12,
   "metadata": {
    "notebookRunGroups": {
     "groupValue": "2"
    }
   },
   "outputs": [],
   "source": [
    "wh = [[0 for _ in range(len(weight[0]))] for _ in range(len(feature))]\n",
    "for i in range(len(feature)):\n",
    "  for j in range(len(weight[0])):\n",
    "    for k in range(len(weight)):\n",
    "      if (feature[i][k] != 0):\n",
    "        wh[i][j] += feature[i][k] * weight[k][j]\n",
    "        # wh[i][j] = sum_calc(wh[i][j], product_calc(feature[i][k], weight[k][j]))\n",
    "\n",
    "def matrix_multiplication(subgraph, weight_matrix):\n",
    "  rows = len(subgraph)\n",
    "  cols = len(weight_matrix[0])\n",
    "  common_dim = len(weight_matrix)\n",
    "\n",
    "  result_matrix = [[0 for _ in range(cols)] for _ in range(rows)]\n",
    "\n",
    "  for i in range(rows):\n",
    "    for j in range(cols):\n",
    "      for k in range(common_dim):\n",
    "        result_matrix[i][j] += subgraph[i][k] * weight_matrix[k][j]\n",
    "        # result_matrix[i][j] = sum_calc(result_matrix[i][j], product_calc(subgraph[i][k], weight_matrix[k][j]))\n",
    "  return result_matrix\n",
    "\n",
    "WH = []\n",
    "for i in range(len(subGraph)):\n",
    "\twh = matrix_multiplication(subGraph[i], weight)\n",
    "\tWH.append(wh)"
   ]
  },
  {
   "cell_type": "markdown",
   "metadata": {},
   "source": [
    "##### DMVM"
   ]
  },
  {
   "cell_type": "code",
   "execution_count": 13,
   "metadata": {},
   "outputs": [],
   "source": [
    "DMVM = []\n",
    "COEF = []\n",
    "\n",
    "for wh in WH:\n",
    "  src = 0\n",
    "  dmvm_subgraph = []\n",
    "  coef_subgraph = []\n",
    "  for idx, row in enumerate(wh):\n",
    "    dst       = 0\n",
    "    node_row  = []\n",
    "    a_in      = a_1 if idx == 0 else a_2\n",
    "\n",
    "    # multiply\n",
    "    for i in range(len(row)):\n",
    "      # node_row.append(product_calc(row[i], a_in[i]))\n",
    "      node_row.append(row[i] * a_in[i])\n",
    "\n",
    "    # add\n",
    "    product_len = len(row)\n",
    "    while product_len > 1:\n",
    "      for j in range(len(row)):\n",
    "        if (2*j+1) < product_len:\n",
    "          # node_row[j] = sum_calc(node_row[2*j], node_row[2*j+1])\n",
    "          node_row[j] = node_row[2*j] + node_row[2*j+1]\n",
    "      product_len /= 2\n",
    "    dst = node_row[0]\n",
    "\n",
    "    # final\n",
    "    if (idx == 0):\n",
    "      src = dst\n",
    "    dmvm_subgraph.append(dst)\n",
    "\n",
    "    if (src + dst < 0):\n",
    "      coef_subgraph.append(0)\n",
    "    else:\n",
    "      coef_subgraph.append((src + dst) // pow(2, 12))\n",
    "  DMVM.append(dmvm_subgraph)\n",
    "  COEF.append(coef_subgraph)"
   ]
  },
  {
   "cell_type": "markdown",
   "metadata": {},
   "source": [
    "##### Softmax"
   ]
  },
  {
   "cell_type": "code",
   "execution_count": 14,
   "metadata": {},
   "outputs": [],
   "source": [
    "SOFTMAX = []\n",
    "for subgraph in COEF:\n",
    "  softmax = []\n",
    "  sum = 0\n",
    "  for ele in subgraph:\n",
    "    softmax.append(pow(2, ele))\n",
    "    sum += pow(2, ele)\n",
    "  for i in range(len(softmax)):\n",
    "    softmax[i] = softmax[i] / sum\n",
    "  SOFTMAX.append(softmax)"
   ]
  },
  {
   "cell_type": "markdown",
   "metadata": {},
   "source": [
    "Extend each size to `NUM_OF_NODES`"
   ]
  },
  {
   "cell_type": "code",
   "execution_count": 15,
   "metadata": {},
   "outputs": [],
   "source": [
    "DMVM    = [dmvm + [-1] * (params[\"NUM_OF_NODES\"] - len(dmvm)) for dmvm in DMVM]\n",
    "COEF    = [coef + [-1] * (params[\"NUM_OF_NODES\"] - len(coef)) for coef in COEF]\n",
    "SOFTMAX = [softmax + [-1] * (params[\"NUM_OF_NODES\"] - len(softmax)) for softmax in SOFTMAX]"
   ]
  },
  {
   "cell_type": "markdown",
   "metadata": {},
   "source": [
    "##### Aggregator"
   ]
  },
  {
   "cell_type": "code",
   "execution_count": 16,
   "metadata": {},
   "outputs": [],
   "source": [
    "# TODO:"
   ]
  },
  {
   "cell_type": "markdown",
   "metadata": {},
   "source": [
    "#### 3. GCSR structure"
   ]
  },
  {
   "cell_type": "code",
   "execution_count": 17,
   "metadata": {},
   "outputs": [],
   "source": [
    "source_node_list = []\n",
    "num_nodes_subgraph = []\n",
    "node_info = []\n",
    "col_idx = []\n",
    "value = []\n",
    "non_zero_ele = []\n",
    "\n",
    "row_length_bits = math.ceil(math.log2(params[\"H_NUM_OF_COLS\"]))\n",
    "num_of_nodes_bits = math.ceil(math.log2(params[\"NUM_OF_NODES\"]))\n",
    "\n",
    "for i in range(len(subGraph)):\n",
    "  source_node = subGraph[i][0]\n",
    "  num_node = len(subGraph[i])\n",
    "  source_node_list.append(source_node)\n",
    "  num_nodes_subgraph.append(num_node)\n",
    "  node_info_list = []\n",
    "  for j in range(len(subGraph[i])):\n",
    "    if j == 0:\n",
    "      flag = '1'\n",
    "    else:\n",
    "      flag = '0'\n",
    "    non_zero_values = [ele for k, ele in enumerate(subGraph[i][j]) if ele != 0]\n",
    "    # print(\"Non Zero Values = \", non_zero_values)\n",
    "    row_length = len(non_zero_values)\n",
    "    node_info_bin = (f\"{row_length:0{row_length_bits}b}\"f\"{num_node:0{num_of_nodes_bits}b}\" f\"{flag}\")\n",
    "    node_info_list.append(node_info_bin)\n",
    "\n",
    "  node_info.append(node_info_list)\n",
    "\n",
    "def decode_node_info(node_info_string):\n",
    "  # Extract each part from the string\n",
    "  flag_bits = 1\n",
    "  row_length = int(node_info_string[:row_length_bits], 2)\n",
    "  num_of_nodes = int(node_info_string[row_length_bits:row_length_bits+num_of_nodes_bits], 2)\n",
    "\n",
    "  flag = node_info_string[-flag_bits:]  # '1' for source node, '0' for neighbor node\n",
    "\n",
    "  # Return a dictionary for better readability\n",
    "  return {\n",
    "    'row_length': row_length,\n",
    "    'num_of_nodes': num_of_nodes,\n",
    "    'is_source_node': flag == '1'\n",
    "  }\n",
    "\n",
    "# Example usage\n",
    "decoded_node_info = []\n",
    "for nd_info in node_info:\n",
    "  decoded_info = [decode_node_info(info) for info in nd_info]\n",
    "  decoded_node_info.append(decoded_info)\n",
    "# pprint(decoded_node_info)"
   ]
  },
  {
   "cell_type": "code",
   "execution_count": 18,
   "metadata": {},
   "outputs": [],
   "source": [
    "def extract_from_raw(raw_list):\n",
    "\tcol_idx = []\n",
    "\tvalue = []\n",
    "\tnode_info = []\n",
    "\tfor row in raw_list:\n",
    "\t\tnon_zero_elements = [(j, ele) for j, ele in enumerate(row) if ele != 0]\n",
    "\t\tcol_idx.extend([idx for idx, _ in non_zero_elements])\n",
    "\t\tvalue.extend([val for _, val in non_zero_elements])\n",
    "\t\trow_len = len(non_zero_elements)\n",
    "\n",
    "\treturn col_idx, value"
   ]
  },
  {
   "cell_type": "markdown",
   "metadata": {},
   "source": [
    "#### 4. SubGraph"
   ]
  },
  {
   "cell_type": "code",
   "execution_count": 19,
   "metadata": {},
   "outputs": [],
   "source": [
    "GRAPH = {}\n",
    "idx = 0\n",
    "\n",
    "for i in range(len(subGraph)):\n",
    "  col_idx_, value_ = extract_from_raw(subGraph[i])\n",
    "  GRAPH[i] = {\"raw\" : subGraph[i], \"col_idx\" : col_idx_, \"value\" : value_, \"node_info\" : node_info[i], \"WH\": WH[i],  \"DMVM\": DMVM[i], \"Coef\": COEF[i], \"Softmax\": SOFTMAX[i]}"
   ]
  },
  {
   "cell_type": "code",
   "execution_count": 20,
   "metadata": {},
   "outputs": [],
   "source": [
    "colors = {\n",
    "  \"raw\": \"\\033[91m\",          # Red\n",
    "  \"col_idx\": \"\\033[92m\",      # Green\n",
    "  \"value\": \"\\033[93m\",        # Yellow\n",
    "  \"node_info\": \"\\033[94m\",    # Blue\n",
    "  \"WH\": \"\\033[95m\",           # Magenta\n",
    "  \"DMVM\": \"\\033[96m\",         # Cyan\n",
    "  \"Coef\": \"\\033[97m\",         # White\n",
    "  \"Softmax\": \"\\033[1;91m\",      # Bright Black (Gray)\n",
    "  \"Aggregator\": \"\\033[1;94m\", # Bright Blue (a lighter shade of blue)\n",
    "  \"reset\": \"\\033[0m\"          # Reset color\n",
    "}\n",
    "\n",
    "def print_sub_graphs():\n",
    "  for subgraph in GRAPH.values():\n",
    "    print(\"-\" * 90)\n",
    "    for i in range(len(subgraph[\"raw\"])):\n",
    "      if i == 0:\n",
    "        print(f\"{colors['raw']}raw\\t\\t{subgraph['raw'][i]}{colors['reset']}\")\n",
    "      else:\n",
    "        print(f\"{colors['raw']}\\t\\t{subgraph['raw'][i]}{colors['reset']}\")\n",
    "\n",
    "    print(f\"{colors['col_idx']}col_idx\\t\\t{subgraph['col_idx']}{colors['reset']}\")\n",
    "    print(f\"{colors['value']}value\\t\\t{subgraph['value']}{colors['reset']}\")\n",
    "    print(f\"{colors['node_info']}node_info\\t{subgraph['node_info']}{colors['reset']}\")\n",
    "\n",
    "    for i in range(len(subgraph[\"WH\"])):\n",
    "      if i == 0:\n",
    "        print(f\"{colors['WH']}SPMM\\t\\t{subgraph['WH'][i]}{colors['reset']}\")\n",
    "      else:\n",
    "        print(f\"{colors['WH']}\\t\\t{subgraph['WH'][i]}{colors['reset']}\")\n",
    "\n",
    "    print(f\"{colors['DMVM']}DMVM\\t\\t{[subgraph['DMVM'][idx] for idx in range(len(subgraph['raw']))]}{colors['reset']}\")\n",
    "    print(f\"{colors['Coef']}COEF\\t\\t{[subgraph['Coef'][idx] for idx in range(len(subgraph['raw']))]}{colors['reset']}\")\n",
    "    print(f\"{colors['Softmax']}SOFTMAX\\t\\t{[subgraph['Softmax'][idx] for idx in range(len(subgraph['raw']))]}{colors['reset']}\")\n",
    "    print(\"-\" * 90)"
   ]
  },
  {
   "cell_type": "markdown",
   "metadata": {},
   "source": [
    "#### 5. SubGraph Information"
   ]
  },
  {
   "cell_type": "code",
   "execution_count": 21,
   "metadata": {},
   "outputs": [
    {
     "name": "stdout",
     "output_type": "stream",
     "text": [
      "------------------------------------------------------------------------------------------\n",
      "\u001b[91mraw\t\t[0, 1, 1, 0, 1, 0, 1, 1, 0, 1]\u001b[0m\n",
      "\u001b[91m\t\t[1, 0, 0, 1, 0, 0, 1, 1, 1, 1]\u001b[0m\n",
      "\u001b[91m\t\t[1, 1, 0, 1, 0, 1, 0, 0, 1, 1]\u001b[0m\n",
      "\u001b[91m\t\t[0, 0, 0, 0, 1, 0, 1, 0, 0, 0]\u001b[0m\n",
      "\u001b[91m\t\t[1, 1, 1, 1, 0, 0, 0, 1, 0, 0]\u001b[0m\n",
      "\u001b[92mcol_idx\t\t[1, 2, 4, 6, 7, 9, 0, 3, 6, 7, 8, 9, 0, 1, 3, 5, 8, 9, 4, 6, 0, 1, 2, 3, 7]\u001b[0m\n",
      "\u001b[93mvalue\t\t[1, 1, 1, 1, 1, 1, 1, 1, 1, 1, 1, 1, 1, 1, 1, 1, 1, 1, 1, 1, 1, 1, 1, 1, 1]\u001b[0m\n",
      "\u001b[94mnode_info\t['01101011', '01101010', '01101010', '00101010', '01011010']\u001b[0m\n",
      "\u001b[95mSPMM\t\t[-28, 31, 69, 87, 53, 21, 47, 104, -16, 58, 52, 37, 111, -4, 58, 65]\u001b[0m\n",
      "\u001b[95m\t\t[-6, 110, 55, 58, 74, 50, 77, 106, 39, 57, 61, 43, 68, 89, 116, 75]\u001b[0m\n",
      "\u001b[95m\t\t[22, 103, 52, 73, 48, 30, 48, 146, 49, 107, 18, 39, 52, 108, 113, 128]\u001b[0m\n",
      "\u001b[95m\t\t[14, -51, 45, -7, 29, 2, 14, 38, -51, 30, 25, 9, 38, -18, 27, -13]\u001b[0m\n",
      "\u001b[95m\t\t[-2, 109, 90, 67, 57, 53, 96, 97, 23, 39, 83, 19, 81, 32, 82, 85]\u001b[0m\n",
      "\u001b[96mDMVM\t\t[35330, 43740, 41546, 11599, 32845]\u001b[0m\n",
      "\u001b[97mCOEF\t\t[17, 19, 18, 11, 16]\u001b[0m\n",
      "\u001b[1;91mSOFTMAX\t\t[0.13305613305613306, 0.5322245322245323, 0.2661122661122661, 0.002079002079002079, 0.06652806652806653]\u001b[0m\n",
      "------------------------------------------------------------------------------------------\n",
      "------------------------------------------------------------------------------------------\n",
      "\u001b[91mraw\t\t[0, 1, 0, 1, 0, 1, 0, 0, 0, 1]\u001b[0m\n",
      "\u001b[91m\t\t[1, 1, 1, 0, 0, 0, 1, 0, 0, 0]\u001b[0m\n",
      "\u001b[91m\t\t[1, 1, 0, 1, 1, 0, 1, 0, 1, 0]\u001b[0m\n",
      "\u001b[91m\t\t[1, 1, 0, 0, 1, 1, 0, 1, 0, 1]\u001b[0m\n",
      "\u001b[92mcol_idx\t\t[1, 3, 5, 9, 0, 1, 2, 6, 0, 1, 3, 4, 6, 8, 0, 1, 4, 5, 7, 9]\u001b[0m\n",
      "\u001b[93mvalue\t\t[1, 1, 1, 1, 1, 1, 1, 1, 1, 1, 1, 1, 1, 1, 1, 1, 1, 1, 1, 1]\u001b[0m\n",
      "\u001b[94mnode_info\t['01001001', '01001000', '01101000', '01101000']\u001b[0m\n",
      "\u001b[95mSPMM\t\t[-10, 55, 26, 71, 24, 27, 8, 99, 53, 80, -16, 28, 47, 66, 53, 89]\u001b[0m\n",
      "\u001b[95m\t\t[2, 31, 97, 33, 19, -11, 61, 89, -39, 43, 70, 26, 64, 21, 53, 48]\u001b[0m\n",
      "\u001b[95m\t\t[40, 34, 120, 40, 66, 27, 80, 137, -19, 105, 84, 6, 55, 45, 120, 59]\u001b[0m\n",
      "\u001b[95m\t\t[11, 49, 44, 42, 90, 37, 46, 107, 8, 42, 4, 49, 105, 41, 82, 138]\u001b[0m\n",
      "\u001b[96mDMVM\t\t[34538, 20392, 44724, 25399]\u001b[0m\n",
      "\u001b[97mCOEF\t\t[16, 13, 19, 14]\u001b[0m\n",
      "\u001b[1;91mSOFTMAX\t\t[0.10666666666666667, 0.013333333333333334, 0.8533333333333334, 0.02666666666666667]\u001b[0m\n",
      "------------------------------------------------------------------------------------------\n",
      "------------------------------------------------------------------------------------------\n",
      "\u001b[91mraw\t\t[1, 1, 0, 1, 0, 1, 0, 1, 0, 1]\u001b[0m\n",
      "\u001b[91m\t\t[0, 0, 0, 1, 0, 0, 0, 1, 0, 1]\u001b[0m\n",
      "\u001b[91m\t\t[1, 1, 0, 1, 1, 0, 0, 1, 0, 1]\u001b[0m\n",
      "\u001b[92mcol_idx\t\t[0, 1, 3, 5, 7, 9, 3, 7, 9, 0, 1, 3, 4, 7, 9]\u001b[0m\n",
      "\u001b[93mvalue\t\t[1, 1, 1, 1, 1, 1, 1, 1, 1, 1, 1, 1, 1, 1, 1]\u001b[0m\n",
      "\u001b[94mnode_info\t['01100111', '00110110', '01100110']\u001b[0m\n",
      "\u001b[95mSPMM\t\t[-7, 108, 50, 67, 78, 57, 61, 114, 60, 51, 14, 45, 90, 86, 93, 140]\u001b[0m\n",
      "\u001b[95m\t\t[-31, 82, -2, 53, 45, 54, 26, 44, 65, 22, 10, 28, 45, 38, 47, 50]\u001b[0m\n",
      "\u001b[95m\t\t[-2, 83, 61, 47, 93, 58, 62, 111, 39, 59, 43, 39, 85, 32, 100, 112]\u001b[0m\n",
      "\u001b[96mDMVM\t\t[49878, 23026, 38606]\u001b[0m\n",
      "\u001b[97mCOEF\t\t[24, 17, 21]\u001b[0m\n",
      "\u001b[1;91mSOFTMAX\t\t[0.8827586206896552, 0.006896551724137931, 0.1103448275862069]\u001b[0m\n",
      "------------------------------------------------------------------------------------------\n",
      "------------------------------------------------------------------------------------------\n",
      "\u001b[91mraw\t\t[0, 0, 0, 1, 1, 1, 1, 0, 0, 1]\u001b[0m\n",
      "\u001b[91m\t\t[0, 0, 1, 1, 0, 1, 1, 0, 1, 0]\u001b[0m\n",
      "\u001b[91m\t\t[0, 0, 0, 0, 1, 1, 0, 1, 1, 1]\u001b[0m\n",
      "\u001b[92mcol_idx\t\t[3, 4, 5, 6, 9, 2, 3, 5, 6, 8, 4, 5, 7, 8, 9]\u001b[0m\n",
      "\u001b[93mvalue\t\t[1, 1, 1, 1, 1, 1, 1, 1, 1, 1, 1, 1, 1, 1, 1]\u001b[0m\n",
      "\u001b[94mnode_info\t['01010111', '01010110', '01010110']\u001b[0m\n",
      "\u001b[95mSPMM\t\t[13, -5, 42, 34, 52, 36, 14, 115, -11, 93, 2, 52, 78, 45, 76, 46]\u001b[0m\n",
      "\u001b[95m\t\t[28, 46, 77, 82, 17, 32, 63, 126, -21, 102, 58, 22, 66, 69, 87, 27]\u001b[0m\n",
      "\u001b[95m\t\t[18, 42, 1, 66, 67, 43, 28, 88, 11, 56, -5, 33, 77, 44, 76, 85]\u001b[0m\n",
      "\u001b[96mDMVM\t\t[35931, 38726, 25476]\u001b[0m\n",
      "\u001b[97mCOEF\t\t[17, 18, 14]\u001b[0m\n",
      "\u001b[1;91mSOFTMAX\t\t[0.32, 0.64, 0.04]\u001b[0m\n",
      "------------------------------------------------------------------------------------------\n",
      "------------------------------------------------------------------------------------------\n",
      "\u001b[91mraw\t\t[0, 1, 1, 1, 0, 1, 1, 0, 0, 0]\u001b[0m\n",
      "\u001b[91m\t\t[0, 1, 1, 0, 1, 1, 0, 1, 0, 0]\u001b[0m\n",
      "\u001b[91m\t\t[1, 0, 0, 1, 0, 0, 0, 1, 1, 1]\u001b[0m\n",
      "\u001b[92mcol_idx\t\t[1, 2, 3, 5, 6, 1, 2, 4, 5, 7, 0, 3, 7, 8, 9]\u001b[0m\n",
      "\u001b[93mvalue\t\t[1, 1, 1, 1, 1, 1, 1, 1, 1, 1, 1, 1, 1, 1, 1]\u001b[0m\n",
      "\u001b[94mnode_info\t['01010111', '01010110', '01010110']\u001b[0m\n",
      "\u001b[95mSPMM\t\t[4, 30, 100, 84, 17, 24, 56, 123, -14, 90, 49, 17, 81, 48, 62, 49]\u001b[0m\n",
      "\u001b[95m\t\t[15, 21, 67, 78, 55, 39, 58, 94, -27, 46, 34, 13, 108, -4, 51, 81]\u001b[0m\n",
      "\u001b[95m\t\t[1, 130, 24, 55, 69, 57, 66, 91, 61, 49, 44, 39, 50, 80, 107, 89]\u001b[0m\n",
      "\u001b[96mDMVM\t\t[34478, 19258, 39063]\u001b[0m\n",
      "\u001b[97mCOEF\t\t[16, 13, 17]\u001b[0m\n",
      "\u001b[1;91mSOFTMAX\t\t[0.32, 0.04, 0.64]\u001b[0m\n",
      "------------------------------------------------------------------------------------------\n",
      "------------------------------------------------------------------------------------------\n",
      "\u001b[91mraw\t\t[0, 0, 1, 1, 0, 1, 0, 1, 1, 0]\u001b[0m\n",
      "\u001b[91m\t\t[0, 0, 1, 1, 0, 0, 1, 0, 1, 1]\u001b[0m\n",
      "\u001b[92mcol_idx\t\t[2, 3, 5, 7, 8, 2, 3, 6, 8, 9]\u001b[0m\n",
      "\u001b[93mvalue\t\t[1, 1, 1, 1, 1, 1, 1, 1, 1, 1]\u001b[0m\n",
      "\u001b[94mnode_info\t['01010101', '01010100']\u001b[0m\n",
      "\u001b[95mSPMM\t\t[21, 96, 50, 101, 43, 67, 80, 104, 18, 67, 53, 14, 78, 62, 87, 61]\u001b[0m\n",
      "\u001b[95m\t\t[-8, 76, 48, 88, 10, 21, 41, 121, 12, 106, 59, 42, 51, 60, 85, 25]\u001b[0m\n",
      "\u001b[96mDMVM\t\t[34702, 42097]\u001b[0m\n",
      "\u001b[97mCOEF\t\t[16, 18]\u001b[0m\n",
      "\u001b[1;91mSOFTMAX\t\t[0.2, 0.8]\u001b[0m\n",
      "------------------------------------------------------------------------------------------\n",
      "------------------------------------------------------------------------------------------\n",
      "\u001b[91mraw\t\t[0, 0, 1, 0, 1, 0, 1, 0, 1, 1]\u001b[0m\n",
      "\u001b[91m\t\t[1, 0, 1, 1, 0, 1, 1, 0, 0, 1]\u001b[0m\n",
      "\u001b[91m\t\t[0, 1, 1, 1, 0, 1, 0, 1, 0, 0]\u001b[0m\n",
      "\u001b[91m\t\t[0, 0, 1, 0, 1, 1, 0, 0, 1, 0]\u001b[0m\n",
      "\u001b[92mcol_idx\t\t[2, 4, 6, 8, 9, 0, 2, 3, 5, 6, 9, 1, 2, 3, 5, 7, 2, 4, 5, 8]\u001b[0m\n",
      "\u001b[93mvalue\t\t[1, 1, 1, 1, 1, 1, 1, 1, 1, 1, 1, 1, 1, 1, 1, 1, 1, 1, 1, 1]\u001b[0m\n",
      "\u001b[94mnode_info\t['01011001', '01101000', '01011000', '01001000']\u001b[0m\n",
      "\u001b[95mSPMM\t\t[10, 17, 42, 63, 22, 1, 26, 114, -40, 97, 49, 46, 66, 15, 74, 23]\u001b[0m\n",
      "\u001b[95m\t\t[10, 68, 65, 44, 41, 30, 53, 144, -12, 89, 40, 84, 97, 81, 98, 77]\u001b[0m\n",
      "\u001b[95m\t\t[-3, 80, 73, 103, 43, 59, 73, 101, 25, 55, 44, 9, 93, 41, 62, 83]\u001b[0m\n",
      "\u001b[95m\t\t[53, 7, 40, 54, 24, 19, 37, 104, -51, 85, 31, 22, 63, 15, 67, 39]\u001b[0m\n",
      "\u001b[96mDMVM\t\t[29129, 43189, 28068, 25239]\u001b[0m\n",
      "\u001b[97mCOEF\t\t[14, 17, 13, 13]\u001b[0m\n",
      "\u001b[1;91mSOFTMAX\t\t[0.1, 0.8, 0.05, 0.05]\u001b[0m\n",
      "------------------------------------------------------------------------------------------\n",
      "------------------------------------------------------------------------------------------\n",
      "\u001b[91mraw\t\t[0, 1, 0, 1, 1, 0, 1, 0, 1, 0]\u001b[0m\n",
      "\u001b[91m\t\t[1, 1, 0, 1, 0, 0, 1, 1, 0, 1]\u001b[0m\n",
      "\u001b[91m\t\t[0, 1, 1, 0, 1, 0, 0, 0, 1, 0]\u001b[0m\n",
      "\u001b[92mcol_idx\t\t[1, 3, 4, 6, 8, 0, 1, 3, 6, 7, 9, 1, 2, 4, 8]\u001b[0m\n",
      "\u001b[93mvalue\t\t[1, 1, 1, 1, 1, 1, 1, 1, 1, 1, 1, 1, 1, 1, 1]\u001b[0m\n",
      "\u001b[94mnode_info\t['01010111', '01100110', '01000110']\u001b[0m\n",
      "\u001b[95mSPMM\t\t[23, 11, 100, 66, 43, 25, 55, 115, -9, 107, 66, -15, 42, 27, 89, 28]\u001b[0m\n",
      "\u001b[95m\t\t[-30, 94, 78, 60, 74, 42, 70, 103, 46, 45, 52, 38, 83, 68, 91, 97]\u001b[0m\n",
      "\u001b[95m\t\t[28, 22, 66, 74, 16, 4, 43, 100, -30, 88, 59, -4, 45, -9, 60, 40]\u001b[0m\n",
      "\u001b[96mDMVM\t\t[27390, 36361, 24070]\u001b[0m\n",
      "\u001b[97mCOEF\t\t[13, 15, 12]\u001b[0m\n",
      "\u001b[1;91mSOFTMAX\t\t[0.18181818181818182, 0.7272727272727273, 0.09090909090909091]\u001b[0m\n",
      "------------------------------------------------------------------------------------------\n",
      "------------------------------------------------------------------------------------------\n",
      "\u001b[91mraw\t\t[1, 0, 1, 0, 0, 0, 0, 0, 1, 0]\u001b[0m\n",
      "\u001b[91m\t\t[0, 1, 1, 1, 1, 0, 1, 1, 1, 0]\u001b[0m\n",
      "\u001b[91m\t\t[0, 0, 1, 1, 0, 0, 1, 1, 0, 1]\u001b[0m\n",
      "\u001b[91m\t\t[0, 0, 1, 1, 0, 1, 0, 0, 1, 0]\u001b[0m\n",
      "\u001b[91m\t\t[0, 1, 0, 1, 0, 0, 1, 1, 1, 1]\u001b[0m\n",
      "\u001b[91m\t\t[0, 1, 0, 1, 0, 1, 1, 0, 0, 1]\u001b[0m\n",
      "\u001b[92mcol_idx\t\t[0, 2, 8, 1, 2, 3, 4, 6, 7, 8, 2, 3, 6, 7, 9, 2, 3, 5, 8, 1, 3, 6, 7, 8, 9, 1, 3, 5, 6, 9]\u001b[0m\n",
      "\u001b[93mvalue\t\t[1, 1, 1, 1, 1, 1, 1, 1, 1, 1, 1, 1, 1, 1, 1, 1, 1, 1, 1, 1, 1, 1, 1, 1, 1, 1, 1, 1, 1, 1]\u001b[0m\n",
      "\u001b[94mnode_info\t['00111101', '01111100', '01011100', '01001100', '01101100', '01011100']\u001b[0m\n",
      "\u001b[95mSPMM\t\t[33, 67, 43, 28, 14, 4, 57, 77, -24, 47, 62, 27, 31, 33, 69, 40]\u001b[0m\n",
      "\u001b[95m\t\t[10, 60, 121, 114, 64, 54, 100, 138, -12, 100, 106, -3, 98, 20, 107, 49]\u001b[0m\n",
      "\u001b[95m\t\t[-37, 81, 46, 82, 40, 48, 54, 89, 23, 50, 55, 48, 89, 38, 65, 37]\u001b[0m\n",
      "\u001b[95m\t\t[35, 66, 46, 79, 12, 39, 52, 111, 1, 94, 41, 18, 48, 60, 78, 41]\u001b[0m\n",
      "\u001b[95m\t\t[-32, 96, 64, 114, 52, 41, 60, 106, 62, 76, 50, 7, 62, 74, 89, 74]\u001b[0m\n",
      "\u001b[95m\t\t[-17, 35, 57, 74, 29, 20, 19, 114, 31, 88, 1, 32, 65, 75, 62, 75]\u001b[0m\n",
      "\u001b[96mDMVM\t\t[21283, 45877, 34760, 34049, 37794, 30186]\u001b[0m\n",
      "\u001b[97mCOEF\t\t[10, 16, 13, 13, 14, 12]\u001b[0m\n",
      "\u001b[1;91mSOFTMAX\t\t[0.009900990099009901, 0.6336633663366337, 0.07920792079207921, 0.07920792079207921, 0.15841584158415842, 0.039603960396039604]\u001b[0m\n",
      "------------------------------------------------------------------------------------------\n",
      "------------------------------------------------------------------------------------------\n",
      "\u001b[91mraw\t\t[1, 0, 1, 1, 1, 0, 0, 0, 1, 0]\u001b[0m\n",
      "\u001b[91m\t\t[0, 0, 0, 0, 1, 1, 0, 0, 1, 0]\u001b[0m\n",
      "\u001b[91m\t\t[1, 1, 1, 1, 0, 1, 0, 0, 0, 0]\u001b[0m\n",
      "\u001b[91m\t\t[1, 1, 1, 1, 0, 1, 1, 1, 0, 1]\u001b[0m\n",
      "\u001b[91m\t\t[1, 0, 1, 0, 1, 0, 0, 0, 0, 0]\u001b[0m\n",
      "\u001b[91m\t\t[1, 1, 0, 1, 0, 1, 1, 0, 0, 1]\u001b[0m\n",
      "\u001b[92mcol_idx\t\t[0, 2, 3, 4, 8, 4, 5, 8, 0, 1, 2, 3, 5, 0, 1, 2, 3, 5, 6, 7, 9, 0, 2, 4, 0, 1, 3, 5, 6, 9]\u001b[0m\n",
      "\u001b[93mvalue\t\t[1, 1, 1, 1, 1, 1, 1, 1, 1, 1, 1, 1, 1, 1, 1, 1, 1, 1, 1, 1, 1, 1, 1, 1, 1, 1, 1, 1, 1, 1]\u001b[0m\n",
      "\u001b[94mnode_info\t['01011101', '00111100', '01011100', '10001100', '00111100', '01101100']\u001b[0m\n",
      "\u001b[95mSPMM\t\t[57, 64, 77, 33, 50, 42, 78, 130, -30, 100, 88, 33, 56, 24, 116, 44]\u001b[0m\n",
      "\u001b[95m\t\t[52, -12, 23, 28, 34, 18, 20, 74, -31, 65, 3, 6, 37, 24, 58, 38]\u001b[0m\n",
      "\u001b[95m\t\t[28, 73, 89, 55, 35, 33, 70, 130, -2, 80, 50, 34, 76, 57, 84, 94]\u001b[0m\n",
      "\u001b[95m\t\t[-13, 107, 98, 96, 73, 51, 89, 159, 18, 79, 59, 65, 134, 86, 111, 127]\u001b[0m\n",
      "\u001b[95m\t\t[39, 11, 51, -10, 37, 12, 45, 75, -59, 40, 54, 42, 59, -18, 58, 33]\u001b[0m\n",
      "\u001b[95m\t\t[0, 58, 77, 48, 52, 22, 44, 136, 21, 86, 19, 53, 78, 93, 93, 106]\u001b[0m\n",
      "\u001b[96mDMVM\t\t[34917, 18182, 33972, 45943, 21281, 37488]\u001b[0m\n",
      "\u001b[97mCOEF\t\t[17, 12, 16, 19, 13, 17]\u001b[0m\n",
      "\u001b[1;91mSOFTMAX\t\t[0.15165876777251186, 0.004739336492890996, 0.07582938388625593, 0.6066350710900474, 0.009478672985781991, 0.15165876777251186]\u001b[0m\n",
      "------------------------------------------------------------------------------------------\n",
      "------------------------------------------------------------------------------------------\n",
      "\u001b[91mraw\t\t[0, 0, 0, 1, 1, 1, 1, 1, 1, 0]\u001b[0m\n",
      "\u001b[91m\t\t[0, 0, 0, 1, 0, 1, 1, 1, 0, 0]\u001b[0m\n",
      "\u001b[92mcol_idx\t\t[3, 4, 5, 6, 7, 8, 3, 5, 6, 7]\u001b[0m\n",
      "\u001b[93mvalue\t\t[1, 1, 1, 1, 1, 1, 1, 1, 1, 1]\u001b[0m\n",
      "\u001b[94mnode_info\t['01100101', '01000100']\u001b[0m\n",
      "\u001b[95mSPMM\t\t[34, 26, 78, 68, 82, 68, 77, 112, -13, 77, 50, 7, 90, 53, 105, 47]\u001b[0m\n",
      "\u001b[95m\t\t[-2, 32, 58, 50, 57, 58, 59, 64, 10, 26, 26, 12, 78, 56, 58, 38]\u001b[0m\n",
      "\u001b[96mDMVM\t\t[34319, 24332]\u001b[0m\n",
      "\u001b[97mCOEF\t\t[16, 14]\u001b[0m\n",
      "\u001b[1;91mSOFTMAX\t\t[0.8, 0.2]\u001b[0m\n",
      "------------------------------------------------------------------------------------------\n",
      "------------------------------------------------------------------------------------------\n",
      "\u001b[91mraw\t\t[1, 0, 0, 0, 1, 0, 1, 1, 1, 0]\u001b[0m\n",
      "\u001b[91m\t\t[0, 1, 1, 0, 1, 0, 1, 1, 1, 0]\u001b[0m\n",
      "\u001b[91m\t\t[0, 1, 1, 1, 1, 0, 1, 1, 0, 1]\u001b[0m\n",
      "\u001b[91m\t\t[1, 1, 1, 1, 0, 0, 0, 0, 0, 0]\u001b[0m\n",
      "\u001b[91m\t\t[0, 0, 1, 1, 1, 1, 0, 1, 0, 0]\u001b[0m\n",
      "\u001b[91m\t\t[0, 1, 0, 0, 0, 1, 0, 0, 1, 0]\u001b[0m\n",
      "\u001b[92mcol_idx\t\t[0, 4, 6, 7, 8, 1, 2, 4, 6, 7, 8, 1, 2, 3, 4, 6, 7, 9, 0, 1, 2, 3, 2, 3, 4, 5, 7, 1, 5, 8]\u001b[0m\n",
      "\u001b[93mvalue\t\t[1, 1, 1, 1, 1, 1, 1, 1, 1, 1, 1, 1, 1, 1, 1, 1, 1, 1, 1, 1, 1, 1, 1, 1, 1, 1, 1, 1, 1, 1]\u001b[0m\n",
      "\u001b[94mnode_info\t['01011101', '01101100', '01111100', '01001100', '01011100', '00111100']\u001b[0m\n",
      "\u001b[95mSPMM\t\t[32, 27, 75, 17, 84, 33, 82, 78, -38, 30, 71, 16, 73, 26, 96, 46]\u001b[0m\n",
      "\u001b[95m\t\t[7, 32, 101, 99, 52, 25, 82, 108, -35, 69, 88, -4, 93, 2, 78, 46]\u001b[0m\n",
      "\u001b[95m\t\t[-25, 59, 89, 102, 65, 50, 65, 134, 7, 89, 70, 38, 116, 14, 87, 68]\u001b[0m\n",
      "\u001b[95m\t\t[12, 79, 86, 45, 26, 25, 68, 104, 6, 66, 71, 23, 51, 30, 73, 65]\u001b[0m\n",
      "\u001b[95m\t\t[27, 40, 58, 63, 66, 75, 68, 102, -17, 60, 45, 29, 106, 11, 76, 54]\u001b[0m\n",
      "\u001b[95m\t\t[22, 28, 38, 68, 11, 2, 25, 73, 11, 60, 2, -14, 24, 54, 44, 67]\u001b[0m\n",
      "\u001b[96mDMVM\t\t[26238, 30145, 43038, 31447, 33634, 12616]\u001b[0m\n",
      "\u001b[97mCOEF\t\t[12, 13, 16, 14, 14, 9]\u001b[0m\n",
      "\u001b[1;91mSOFTMAX\t\t[0.03686635944700461, 0.07373271889400922, 0.5898617511520737, 0.14746543778801843, 0.14746543778801843, 0.004608294930875576]\u001b[0m\n",
      "------------------------------------------------------------------------------------------\n",
      "------------------------------------------------------------------------------------------\n",
      "\u001b[91mraw\t\t[0, 0, 0, 0, 1, 0, 1, 1, 0, 1]\u001b[0m\n",
      "\u001b[91m\t\t[0, 1, 1, 0, 0, 0, 0, 1, 1, 1]\u001b[0m\n",
      "\u001b[91m\t\t[1, 0, 1, 1, 1, 1, 0, 0, 1, 1]\u001b[0m\n",
      "\u001b[91m\t\t[0, 1, 0, 0, 1, 0, 0, 1, 0, 1]\u001b[0m\n",
      "\u001b[92mcol_idx\t\t[4, 6, 7, 9, 1, 2, 7, 8, 9, 0, 2, 3, 4, 5, 8, 9, 1, 4, 7, 9]\u001b[0m\n",
      "\u001b[93mvalue\t\t[1, 1, 1, 1, 1, 1, 1, 1, 1, 1, 1, 1, 1, 1, 1, 1, 1, 1, 1, 1]\u001b[0m\n",
      "\u001b[94mnode_info\t['01001001', '01011000', '01111000', '01001000']\u001b[0m\n",
      "\u001b[95mSPMM\t\t[-20, 3, 23, 31, 62, 27, 22, 52, -9, 21, 17, 36, 78, 2, 45, 34]\u001b[0m\n",
      "\u001b[95m\t\t[-27, 107, 30, 122, 25, 20, 48, 91, 41, 57, 43, 18, 65, 38, 60, 86]\u001b[0m\n",
      "\u001b[95m\t\t[53, 82, 54, 59, 61, 47, 60, 177, -13, 132, 47, 75, 91, 69, 136, 100]\u001b[0m\n",
      "\u001b[95m\t\t[-22, 32, 21, 58, 58, 27, 19, 59, 26, 30, 7, 17, 67, -4, 40, 78]\u001b[0m\n",
      "\u001b[96mDMVM\t\t[23186, 24442, 54169, 15572]\u001b[0m\n",
      "\u001b[97mCOEF\t\t[11, 11, 18, 9]\u001b[0m\n",
      "\u001b[1;91mSOFTMAX\t\t[0.007677543186180422, 0.007677543186180422, 0.982725527831094, 0.0019193857965451055]\u001b[0m\n",
      "------------------------------------------------------------------------------------------\n",
      "------------------------------------------------------------------------------------------\n",
      "\u001b[91mraw\t\t[0, 1, 1, 1, 1, 0, 1, 0, 0, 0]\u001b[0m\n",
      "\u001b[91m\t\t[1, 1, 1, 0, 1, 0, 1, 0, 0, 1]\u001b[0m\n",
      "\u001b[91m\t\t[0, 0, 1, 0, 0, 0, 1, 1, 1, 0]\u001b[0m\n",
      "\u001b[92mcol_idx\t\t[1, 2, 3, 4, 6, 0, 1, 2, 4, 6, 9, 2, 6, 7, 8]\u001b[0m\n",
      "\u001b[93mvalue\t\t[1, 1, 1, 1, 1, 1, 1, 1, 1, 1, 1, 1, 1, 1, 1]\u001b[0m\n",
      "\u001b[94mnode_info\t['01010111', '01100110', '01000110']\u001b[0m\n",
      "\u001b[95mSPMM\t\t[9, 5, 111, 64, 32, 25, 57, 120, -35, 98, 78, 11, 76, -6, 69, 21]\u001b[0m\n",
      "\u001b[95m\t\t[3, 24, 85, 39, 45, -5, 44, 133, -43, 83, 58, 62, 94, 12, 80, 76]\u001b[0m\n",
      "\u001b[95m\t\t[-5, 54, 58, 79, 27, 23, 71, 63, -19, 30, 73, 6, 66, 26, 56, 15]\u001b[0m\n",
      "\u001b[96mDMVM\t\t[30029, 33210, 21867]\u001b[0m\n",
      "\u001b[97mCOEF\t\t[14, 15, 12]\u001b[0m\n",
      "\u001b[1;91mSOFTMAX\t\t[0.3076923076923077, 0.6153846153846154, 0.07692307692307693]\u001b[0m\n",
      "------------------------------------------------------------------------------------------\n",
      "------------------------------------------------------------------------------------------\n",
      "\u001b[91mraw\t\t[0, 0, 0, 1, 0, 1, 1, 0, 0, 1]\u001b[0m\n",
      "\u001b[91m\t\t[1, 1, 0, 1, 1, 0, 1, 0, 0, 1]\u001b[0m\n",
      "\u001b[91m\t\t[0, 0, 0, 0, 1, 0, 1, 0, 1, 1]\u001b[0m\n",
      "\u001b[91m\t\t[1, 1, 0, 0, 0, 0, 0, 1, 1, 1]\u001b[0m\n",
      "\u001b[91m\t\t[0, 1, 0, 1, 0, 1, 1, 1, 1, 0]\u001b[0m\n",
      "\u001b[92mcol_idx\t\t[3, 5, 6, 9, 0, 1, 3, 4, 6, 9, 4, 6, 8, 9, 0, 1, 7, 8, 9, 1, 3, 5, 6, 7, 8]\u001b[0m\n",
      "\u001b[93mvalue\t\t[1, 1, 1, 1, 1, 1, 1, 1, 1, 1, 1, 1, 1, 1, 1, 1, 1, 1, 1, 1, 1, 1, 1, 1, 1]\u001b[0m\n",
      "\u001b[94mnode_info\t['01001011', '01101010', '01001010', '01011010', '01101010']\u001b[0m\n",
      "\u001b[95mSPMM\t\t[-8, 26, 28, 44, 28, 27, 11, 92, 18, 71, -6, 47, 58, 72, 58, 45]\u001b[0m\n",
      "\u001b[95m\t\t[5, 33, 88, 28, 67, 23, 45, 133, 0, 94, 48, 47, 73, 39, 100, 78]\u001b[0m\n",
      "\u001b[95m\t\t[9, -2, 25, 37, 32, 0, 9, 84, -20, 77, 21, 30, 40, 24, 65, 22]\u001b[0m\n",
      "\u001b[95m\t\t[-11, 111, 33, 70, 58, 21, 56, 83, 51, 35, 33, 23, 52, 65, 82, 116]\u001b[0m\n",
      "\u001b[95m\t\t[4, 66, 93, 108, 59, 52, 82, 111, 29, 72, 49, -13, 77, 83, 91, 76]\u001b[0m\n",
      "\u001b[96mDMVM\t\t[33605, 41885, 26230, 24687, 34423]\u001b[0m\n",
      "\u001b[97mCOEF\t\t[16, 18, 14, 14, 16]\u001b[0m\n",
      "\u001b[1;91mSOFTMAX\t\t[0.15384615384615385, 0.6153846153846154, 0.038461538461538464, 0.038461538461538464, 0.15384615384615385]\u001b[0m\n",
      "------------------------------------------------------------------------------------------\n",
      "------------------------------------------------------------------------------------------\n",
      "\u001b[91mraw\t\t[1, 1, 0, 0, 0, 1, 1, 1, 1, 1]\u001b[0m\n",
      "\u001b[91m\t\t[1, 0, 1, 0, 0, 1, 1, 0, 1, 1]\u001b[0m\n",
      "\u001b[91m\t\t[0, 1, 0, 0, 0, 0, 0, 1, 1, 0]\u001b[0m\n",
      "\u001b[91m\t\t[0, 0, 0, 0, 0, 1, 1, 1, 0, 1]\u001b[0m\n",
      "\u001b[91m\t\t[1, 0, 1, 1, 0, 1, 0, 1, 0, 0]\u001b[0m\n",
      "\u001b[92mcol_idx\t\t[0, 1, 5, 6, 7, 8, 9, 0, 2, 5, 6, 8, 9, 1, 7, 8, 5, 6, 7, 9, 0, 2, 3, 5, 7]\u001b[0m\n",
      "\u001b[93mvalue\t\t[1, 1, 1, 1, 1, 1, 1, 1, 1, 1, 1, 1, 1, 1, 1, 1, 1, 1, 1, 1, 1, 1, 1, 1, 1]\u001b[0m\n",
      "\u001b[94mnode_info\t['01111011', '01101010', '00111010', '01001010', '01011010']\u001b[0m\n",
      "\u001b[95mSPMM\t\t[-2, 85, 67, 83, 72, 22, 69, 124, 21, 57, 29, 38, 95, 101, 102, 131]\u001b[0m\n",
      "\u001b[95m\t\t[22, 65, 51, 57, 30, 2, 50, 139, -29, 87, 38, 73, 84, 87, 98, 82]\u001b[0m\n",
      "\u001b[95m\t\t[-8, 64, 39, 80, 33, 22, 51, 40, 36, 19, 35, -29, 29, 29, 42, 58]\u001b[0m\n",
      "\u001b[95m\t\t[-25, 28, 12, 51, 47, 26, 21, 55, 12, 13, -12, 42, 83, 56, 38, 62]\u001b[0m\n",
      "\u001b[95m\t\t[23, 94, 64, 47, 65, 68, 90, 101, 2, 36, 55, 45, 99, 56, 89, 84]\u001b[0m\n",
      "\u001b[96mDMVM\t\t[47142, 36192, 11489, 14496, 34014]\u001b[0m\n",
      "\u001b[97mCOEF\t\t[23, 20, 14, 15, 19]\u001b[0m\n",
      "\u001b[1;91mSOFTMAX\t\t[0.8379705400981997, 0.10474631751227496, 0.0016366612111292963, 0.0032733224222585926, 0.05237315875613748]\u001b[0m\n",
      "------------------------------------------------------------------------------------------\n",
      "------------------------------------------------------------------------------------------\n",
      "\u001b[91mraw\t\t[0, 1, 0, 0, 1, 1, 1, 1, 1, 1]\u001b[0m\n",
      "\u001b[91m\t\t[0, 1, 1, 0, 0, 1, 0, 1, 0, 1]\u001b[0m\n",
      "\u001b[91m\t\t[1, 0, 0, 0, 1, 0, 0, 0, 1, 1]\u001b[0m\n",
      "\u001b[91m\t\t[1, 0, 1, 0, 1, 0, 0, 0, 0, 1]\u001b[0m\n",
      "\u001b[92mcol_idx\t\t[1, 4, 5, 6, 7, 8, 9, 1, 2, 5, 7, 9, 0, 4, 8, 9, 0, 2, 4, 9]\u001b[0m\n",
      "\u001b[93mvalue\t\t[1, 1, 1, 1, 1, 1, 1, 1, 1, 1, 1, 1, 1, 1, 1, 1, 1, 1, 1, 1]\u001b[0m\n",
      "\u001b[94mnode_info\t['01111001', '01011000', '01001000', '01001000']\u001b[0m\n",
      "\u001b[95mSPMM\t\t[2, 31, 61, 99, 73, 29, 47, 125, 2, 81, 19, 22, 102, 56, 89, 101]\u001b[0m\n",
      "\u001b[95m\t\t[-26, 76, 27, 104, 33, 27, 35, 92, 27, 42, 6, 39, 98, 41, 42, 107]\u001b[0m\n",
      "\u001b[95m\t\t[33, 41, 14, 8, 50, 9, 23, 91, -8, 67, 22, 47, 35, 33, 87, 67]\u001b[0m\n",
      "\u001b[95m\t\t[19, 35, 25, 6, 39, 9, 25, 96, -34, 58, 34, 73, 69, 0, 67, 60]\u001b[0m\n",
      "\u001b[96mDMVM\t\t[39466, 18232, 28855, 27177]\u001b[0m\n",
      "\u001b[97mCOEF\t\t[19, 14, 16, 16]\u001b[0m\n",
      "\u001b[1;91mSOFTMAX\t\t[0.7804878048780488, 0.024390243902439025, 0.0975609756097561, 0.0975609756097561]\u001b[0m\n",
      "------------------------------------------------------------------------------------------\n",
      "------------------------------------------------------------------------------------------\n",
      "\u001b[91mraw\t\t[0, 0, 1, 0, 0, 1, 1, 0, 0, 1]\u001b[0m\n",
      "\u001b[91m\t\t[1, 0, 1, 1, 0, 0, 1, 1, 1, 0]\u001b[0m\n",
      "\u001b[92mcol_idx\t\t[2, 5, 6, 9, 0, 2, 3, 6, 7, 8]\u001b[0m\n",
      "\u001b[93mvalue\t\t[1, 1, 1, 1, 1, 1, 1, 1, 1, 1]\u001b[0m\n",
      "\u001b[94mnode_info\t['01000101', '01100100']\u001b[0m\n",
      "\u001b[95mSPMM\t\t[-10, 17, 25, 55, 6, -1, 10, 92, -25, 60, 4, 62, 79, 45, 38, 43]\u001b[0m\n",
      "\u001b[95m\t\t[15, 105, 98, 68, 62, 54, 114, 115, -6, 59, 109, 28, 84, 62, 116, 49]\u001b[0m\n",
      "\u001b[96mDMVM\t\t[29257, 44901]\u001b[0m\n",
      "\u001b[97mCOEF\t\t[14, 18]\u001b[0m\n",
      "\u001b[1;91mSOFTMAX\t\t[0.058823529411764705, 0.9411764705882353]\u001b[0m\n",
      "------------------------------------------------------------------------------------------\n",
      "------------------------------------------------------------------------------------------\n",
      "\u001b[91mraw\t\t[0, 0, 1, 0, 0, 0, 0, 0, 1, 1]\u001b[0m\n",
      "\u001b[91m\t\t[0, 0, 0, 1, 1, 1, 1, 1, 0, 1]\u001b[0m\n",
      "\u001b[91m\t\t[1, 0, 1, 0, 0, 1, 0, 1, 1, 1]\u001b[0m\n",
      "\u001b[92mcol_idx\t\t[2, 8, 9, 3, 4, 5, 6, 7, 9, 0, 2, 5, 7, 8, 9]\u001b[0m\n",
      "\u001b[93mvalue\t\t[1, 1, 1, 1, 1, 1, 1, 1, 1, 1, 1, 1, 1, 1, 1]\u001b[0m\n",
      "\u001b[94mnode_info\t['00110111', '01100110', '01100110']\u001b[0m\n",
      "\u001b[95mSPMM\t\t[-4, 68, -3, 70, -7, -1, 12, 76, 11, 67, 24, 37, 28, 33, 47, 36]\u001b[0m\n",
      "\u001b[95m\t\t[-1, 25, 46, 56, 83, 64, 42, 108, 6, 66, 14, 48, 108, 47, 85, 66]\u001b[0m\n",
      "\u001b[95m\t\t[15, 115, 24, 76, 56, 37, 67, 117, 10, 52, 33, 65, 96, 80, 98, 116]\u001b[0m\n",
      "\u001b[96mDMVM\t\t[22552, 37150, 32913]\u001b[0m\n",
      "\u001b[97mCOEF\t\t[11, 14, 13]\u001b[0m\n",
      "\u001b[1;91mSOFTMAX\t\t[0.07692307692307693, 0.6153846153846154, 0.3076923076923077]\u001b[0m\n",
      "------------------------------------------------------------------------------------------\n",
      "------------------------------------------------------------------------------------------\n",
      "\u001b[91mraw\t\t[0, 1, 1, 1, 1, 1, 1, 1, 0, 0]\u001b[0m\n",
      "\u001b[91m\t\t[1, 0, 0, 0, 0, 1, 1, 0, 1, 1]\u001b[0m\n",
      "\u001b[91m\t\t[0, 0, 0, 0, 0, 0, 1, 1, 1, 1]\u001b[0m\n",
      "\u001b[91m\t\t[1, 1, 0, 0, 0, 1, 1, 0, 1, 0]\u001b[0m\n",
      "\u001b[91m\t\t[1, 1, 1, 1, 0, 0, 0, 0, 0, 0]\u001b[0m\n",
      "\u001b[92mcol_idx\t\t[1, 2, 3, 4, 5, 6, 7, 0, 5, 6, 8, 9, 6, 7, 8, 9, 0, 1, 5, 6, 8, 0, 1, 2, 3]\u001b[0m\n",
      "\u001b[93mvalue\t\t[1, 1, 1, 1, 1, 1, 1, 1, 1, 1, 1, 1, 1, 1, 1, 1, 1, 1, 1, 1, 1, 1, 1, 1, 1]\u001b[0m\n",
      "\u001b[94mnode_info\t['01111011', '01011010', '01001010', '01011010', '01001010']\u001b[0m\n",
      "\u001b[95mSPMM\t\t[11, 29, 118, 96, 72, 61, 87, 139, -26, 85, 69, 18, 131, 23, 89, 70]\u001b[0m\n",
      "\u001b[95m\t\t[21, 46, 34, 31, 40, 1, 33, 109, -9, 67, 10, 57, 58, 96, 89, 81]\u001b[0m\n",
      "\u001b[95m\t\t[-26, 59, 15, 69, 39, 19, 34, 54, 26, 28, 25, 21, 50, 53, 56, 41]\u001b[0m\n",
      "\u001b[95m\t\t[32, 31, 89, 45, 39, -3, 61, 110, -21, 66, 37, 11, 55, 81, 84, 84]\u001b[0m\n",
      "\u001b[95m\t\t[12, 79, 86, 45, 26, 25, 68, 104, 6, 66, 71, 23, 51, 30, 73, 65]\u001b[0m\n",
      "\u001b[96mDMVM\t\t[42142, 29135, 20706, 24595, 31447]\u001b[0m\n",
      "\u001b[97mCOEF\t\t[20, 17, 15, 16, 17]\u001b[0m\n",
      "\u001b[1;91mSOFTMAX\t\t[0.7441860465116279, 0.09302325581395349, 0.023255813953488372, 0.046511627906976744, 0.09302325581395349]\u001b[0m\n",
      "------------------------------------------------------------------------------------------\n",
      "------------------------------------------------------------------------------------------\n",
      "\u001b[91mraw\t\t[1, 1, 0, 0, 1, 1, 0, 1, 0, 1]\u001b[0m\n",
      "\u001b[91m\t\t[1, 1, 1, 0, 0, 1, 1, 0, 0, 0]\u001b[0m\n",
      "\u001b[91m\t\t[0, 0, 1, 0, 1, 1, 1, 0, 0, 0]\u001b[0m\n",
      "\u001b[91m\t\t[1, 0, 0, 1, 1, 1, 0, 0, 0, 1]\u001b[0m\n",
      "\u001b[91m\t\t[1, 0, 1, 0, 1, 1, 0, 1, 0, 0]\u001b[0m\n",
      "\u001b[92mcol_idx\t\t[0, 1, 4, 5, 7, 9, 0, 1, 2, 5, 6, 2, 4, 5, 6, 0, 3, 4, 5, 9, 0, 2, 4, 5, 7]\u001b[0m\n",
      "\u001b[93mvalue\t\t[1, 1, 1, 1, 1, 1, 1, 1, 1, 1, 1, 1, 1, 1, 1, 1, 1, 1, 1, 1, 1, 1, 1, 1, 1]\u001b[0m\n",
      "\u001b[94mnode_info\t['01101011', '01011010', '01001010', '01011010', '01011010']\u001b[0m\n",
      "\u001b[95mSPMM\t\t[11, 49, 44, 42, 90, 37, 46, 107, 8, 42, 4, 49, 105, 41, 82, 138]\u001b[0m\n",
      "\u001b[95m\t\t[18, 25, 100, 43, 28, -3, 63, 115, -47, 57, 49, 37, 89, 48, 64, 77]\u001b[0m\n",
      "\u001b[95m\t\t[31, -38, 65, 29, 28, 11, 33, 94, -79, 64, 32, 36, 89, 0, 47, 17]\u001b[0m\n",
      "\u001b[95m\t\t[37, 38, 31, 5, 70, 45, 28, 122, 1, 83, 3, 69, 73, 54, 98, 91]\u001b[0m\n",
      "\u001b[95m\t\t[41, 35, 58, 22, 77, 48, 75, 94, -50, 27, 45, 49, 114, 11, 78, 82]\u001b[0m\n",
      "\u001b[96mDMVM\t\t[40896, 22917, 21181, 38377, 25204]\u001b[0m\n",
      "\u001b[97mCOEF\t\t[19, 15, 15, 19, 16]\u001b[0m\n",
      "\u001b[1;91mSOFTMAX\t\t[0.4444444444444444, 0.027777777777777776, 0.027777777777777776, 0.4444444444444444, 0.05555555555555555]\u001b[0m\n",
      "------------------------------------------------------------------------------------------\n",
      "------------------------------------------------------------------------------------------\n",
      "\u001b[91mraw\t\t[1, 0, 0, 0, 1, 1, 0, 1, 1, 0]\u001b[0m\n",
      "\u001b[91m\t\t[0, 1, 1, 0, 1, 0, 1, 0, 1, 0]\u001b[0m\n",
      "\u001b[91m\t\t[0, 1, 0, 0, 0, 1, 1, 1, 1, 0]\u001b[0m\n",
      "\u001b[92mcol_idx\t\t[0, 4, 5, 7, 8, 1, 2, 4, 6, 8, 1, 5, 6, 7, 8]\u001b[0m\n",
      "\u001b[93mvalue\t\t[1, 1, 1, 1, 1, 1, 1, 1, 1, 1, 1, 1, 1, 1, 1]\u001b[0m\n",
      "\u001b[94mnode_info\t['01010111', '01010110', '01010110']\u001b[0m\n",
      "\u001b[95mSPMM\t\t[55, 41, 47, 24, 88, 48, 73, 89, -24, 36, 33, 23, 80, 44, 98, 89]\u001b[0m\n",
      "\u001b[95m\t\t[21, 2, 97, 77, 21, -3, 54, 115, -52, 96, 76, 0, 63, 0, 69, 26]\u001b[0m\n",
      "\u001b[95m\t\t[1, 38, 73, 93, 47, 23, 64, 81, 6, 41, 31, -14, 72, 65, 62, 73]\u001b[0m\n",
      "\u001b[96mDMVM\t\t[28762, 28747, 18691]\u001b[0m\n",
      "\u001b[97mCOEF\t\t[14, 14, 11]\u001b[0m\n",
      "\u001b[1;91mSOFTMAX\t\t[0.47058823529411764, 0.47058823529411764, 0.058823529411764705]\u001b[0m\n",
      "------------------------------------------------------------------------------------------\n",
      "------------------------------------------------------------------------------------------\n",
      "\u001b[91mraw\t\t[0, 1, 1, 0, 1, 1, 0, 1, 0, 1]\u001b[0m\n",
      "\u001b[91m\t\t[1, 0, 0, 0, 1, 1, 1, 0, 0, 0]\u001b[0m\n",
      "\u001b[91m\t\t[1, 0, 1, 0, 1, 1, 1, 0, 0, 0]\u001b[0m\n",
      "\u001b[92mcol_idx\t\t[1, 2, 4, 5, 7, 9, 0, 4, 5, 6, 0, 2, 4, 5, 6]\u001b[0m\n",
      "\u001b[93mvalue\t\t[1, 1, 1, 1, 1, 1, 1, 1, 1, 1, 1, 1, 1, 1, 1]\u001b[0m\n",
      "\u001b[94mnode_info\t['01100111', '01000110', '01010110']\u001b[0m\n",
      "\u001b[95mSPMM\t\t[-5, 45, 41, 94, 57, 36, 38, 115, -2, 64, 14, 44, 118, 14, 60, 108]\u001b[0m\n",
      "\u001b[95m\t\t[47, -34, 68, -23, 61, 12, 41, 86, -69, 42, 22, 41, 76, 27, 69, 47]\u001b[0m\n",
      "\u001b[95m\t\t[48, -15, 85, 3, 51, 13, 58, 116, -89, 62, 50, 57, 102, 18, 78, 48]\u001b[0m\n",
      "\u001b[96mDMVM\t\t[37854, 21426, 28483]\u001b[0m\n",
      "\u001b[97mCOEF\t\t[18, 14, 16]\u001b[0m\n",
      "\u001b[1;91mSOFTMAX\t\t[0.7619047619047619, 0.047619047619047616, 0.19047619047619047]\u001b[0m\n",
      "------------------------------------------------------------------------------------------\n",
      "------------------------------------------------------------------------------------------\n",
      "\u001b[91mraw\t\t[1, 0, 1, 1, 0, 1, 1, 1, 1, 1]\u001b[0m\n",
      "\u001b[91m\t\t[0, 0, 1, 1, 1, 0, 0, 0, 0, 0]\u001b[0m\n",
      "\u001b[91m\t\t[1, 1, 0, 0, 0, 1, 0, 0, 1, 0]\u001b[0m\n",
      "\u001b[91m\t\t[0, 0, 0, 1, 1, 1, 1, 1, 0, 0]\u001b[0m\n",
      "\u001b[92mcol_idx\t\t[0, 2, 3, 5, 6, 7, 8, 9, 2, 3, 4, 0, 1, 5, 8, 3, 4, 5, 6, 7]\u001b[0m\n",
      "\u001b[93mvalue\t\t[1, 1, 1, 1, 1, 1, 1, 1, 1, 1, 1, 1, 1, 1, 1, 1, 1, 1, 1, 1]\u001b[0m\n",
      "\u001b[94mnode_info\t['10001001', '00111000', '01001000', '01011000']\u001b[0m\n",
      "\u001b[95mSPMM\t\t[11, 123, 75, 94, 73, 59, 96, 162, 11, 91, 68, 70, 119, 107, 136, 105]\u001b[0m\n",
      "\u001b[95m\t\t[25, 16, 51, 31, 26, 39, 38, 83, -26, 73, 54, 22, 51, -18, 56, 5]\u001b[0m\n",
      "\u001b[95m\t\t[39, 51, 58, 42, 34, 4, 50, 95, 1, 58, 20, 7, 37, 72, 75, 98]\u001b[0m\n",
      "\u001b[95m\t\t[19, 1, 72, 40, 81, 67, 62, 87, -19, 48, 34, 17, 98, 29, 76, 39]\u001b[0m\n",
      "\u001b[96mDMVM\t\t[60226, 29711, 19918, 31254]\u001b[0m\n",
      "\u001b[97mCOEF\t\t[29, 21, 19, 22]\u001b[0m\n",
      "\u001b[1;91mSOFTMAX\t\t[0.9874638379942141, 0.003857280617164899, 0.0009643201542912247, 0.007714561234329798]\u001b[0m\n",
      "------------------------------------------------------------------------------------------\n",
      "------------------------------------------------------------------------------------------\n",
      "\u001b[91mraw\t\t[0, 0, 0, 0, 1, 0, 1, 1, 1, 0]\u001b[0m\n",
      "\u001b[91m\t\t[1, 1, 0, 0, 1, 1, 1, 1, 0, 0]\u001b[0m\n",
      "\u001b[91m\t\t[1, 0, 0, 0, 0, 0, 1, 1, 1, 1]\u001b[0m\n",
      "\u001b[92mcol_idx\t\t[4, 6, 7, 8, 0, 1, 4, 5, 6, 7, 0, 6, 7, 8, 9]\u001b[0m\n",
      "\u001b[93mvalue\t\t[1, 1, 1, 1, 1, 1, 1, 1, 1, 1, 1, 1, 1, 1, 1]\u001b[0m\n",
      "\u001b[94mnode_info\t['01000111', '01100110', '01010110']\u001b[0m\n",
      "\u001b[95mSPMM\t\t[15, 4, 55, 43, 61, 31, 57, 56, -28, 32, 53, -5, 60, 8, 65, 15]\u001b[0m\n",
      "\u001b[95m\t\t[24, 5, 101, 29, 93, 33, 77, 101, -39, 32, 41, 22, 113, 32, 82, 97]\u001b[0m\n",
      "\u001b[95m\t\t[-9, 82, 35, 43, 62, 21, 59, 76, 16, 26, 43, 42, 63, 71, 87, 72]\u001b[0m\n",
      "\u001b[96mDMVM\t\t[16236, 24180, 28008]\u001b[0m\n",
      "\u001b[97mCOEF\t\t[7, 9, 10]\u001b[0m\n",
      "\u001b[1;91mSOFTMAX\t\t[0.07692307692307693, 0.3076923076923077, 0.6153846153846154]\u001b[0m\n",
      "------------------------------------------------------------------------------------------\n",
      "------------------------------------------------------------------------------------------\n",
      "\u001b[91mraw\t\t[1, 0, 0, 1, 1, 0, 0, 1, 1, 1]\u001b[0m\n",
      "\u001b[91m\t\t[0, 0, 1, 1, 1, 0, 1, 0, 1, 1]\u001b[0m\n",
      "\u001b[91m\t\t[0, 0, 1, 0, 1, 1, 1, 1, 0, 1]\u001b[0m\n",
      "\u001b[91m\t\t[1, 0, 0, 1, 0, 0, 0, 0, 0, 0]\u001b[0m\n",
      "\u001b[92mcol_idx\t\t[0, 3, 4, 7, 8, 9, 2, 3, 4, 6, 8, 9, 2, 4, 5, 6, 7, 9, 0, 3]\u001b[0m\n",
      "\u001b[93mvalue\t\t[1, 1, 1, 1, 1, 1, 1, 1, 1, 1, 1, 1, 1, 1, 1, 1, 1, 1, 1, 1]\u001b[0m\n",
      "\u001b[94mnode_info\t['01101001', '01101000', '01101000', '00101000']\u001b[0m\n",
      "\u001b[95mSPMM\t\t[22, 99, 38, 45, 93, 66, 69, 114, 32, 71, 52, 44, 70, 53, 125, 90]\u001b[0m\n",
      "\u001b[95m\t\t[13, 45, 62, 78, 34, 30, 44, 144, -17, 128, 67, 47, 71, 33, 103, 26]\u001b[0m\n",
      "\u001b[95m\t\t[-3, 16, 43, 67, 61, 36, 41, 108, -37, 55, 24, 63, 129, 20, 65, 64]\u001b[0m\n",
      "\u001b[95m\t\t[20, 51, 40, -11, 35, 31, 43, 52, 13, 29, 36, 22, 18, 36, 60, 34]\u001b[0m\n",
      "\u001b[96mDMVM\t\t[44566, 49019, 28475, 23034]\u001b[0m\n",
      "\u001b[97mCOEF\t\t[21, 22, 17, 16]\u001b[0m\n",
      "\u001b[1;91mSOFTMAX\t\t[0.32323232323232326, 0.6464646464646465, 0.020202020202020204, 0.010101010101010102]\u001b[0m\n",
      "------------------------------------------------------------------------------------------\n"
     ]
    }
   ],
   "source": [
    "print_sub_graphs()"
   ]
  },
  {
   "cell_type": "markdown",
   "metadata": {},
   "source": [
    "#### 6. Update testbench"
   ]
  },
  {
   "cell_type": "code",
   "execution_count": 22,
   "metadata": {},
   "outputs": [],
   "source": [
    "root_path       = os.path.abspath(\"../../\").replace(\"\\\\\", \"/\")\n",
    "filename        = os.path.join(root_path, \"tb/top_tb.sv\").replace(\"\\\\\", \"/\")\n",
    "file_path_input = os.path.join(root_path, \"tb/inputs\").replace(\"\\\\\", \"/\")\n",
    "params_pkg_file = os.path.join(root_path, \"rtl/others/pkgs/params_pkg.sv\").replace(\"\\\\\", \"/\")"
   ]
  },
  {
   "cell_type": "code",
   "execution_count": 23,
   "metadata": {},
   "outputs": [
    {
     "name": "stdout",
     "output_type": "stream",
     "text": [
      "d:/VLSI/Capstone/tb/inputs\n"
     ]
    }
   ],
   "source": [
    "print(file_path_input)"
   ]
  },
  {
   "cell_type": "markdown",
   "metadata": {},
   "source": [
    "##### Inputs"
   ]
  },
  {
   "cell_type": "code",
   "execution_count": 24,
   "metadata": {},
   "outputs": [],
   "source": [
    "def decimal_to_binary(number, bit_length):\n",
    "  if number < 0:\n",
    "    number = (1 << bit_length) + number  # Handle negative numbers with two's complement\n",
    "  binary_representation = bin(number & ((1 << bit_length) - 1))[2:]  # Mask to bit_length bits\n",
    "  return binary_representation.zfill(bit_length)"
   ]
  },
  {
   "cell_type": "code",
   "execution_count": 25,
   "metadata": {},
   "outputs": [],
   "source": [
    "wrt_data = []\n",
    "wrt_node_info = []\n",
    "\n",
    "for key, value in GRAPH.items():\n",
    "  wrt_node_info.append(value[\"node_info\"])\n",
    "\n",
    "  data_bin = []\n",
    "  for i in range(len(value[\"value\"])):\n",
    "    col_idx_bin = decimal_to_binary(value[\"col_idx\"][i], math.ceil(math.log2(params[\"H_NUM_OF_COLS\"])))\n",
    "    value_bin = decimal_to_binary(value[\"value\"][i], 8)\n",
    "    data_bin.append(col_idx_bin + value_bin)\n",
    "  wrt_data.append(data_bin)"
   ]
  },
  {
   "cell_type": "code",
   "execution_count": 26,
   "metadata": {},
   "outputs": [
    {
     "name": "stdout",
     "output_type": "stream",
     "text": [
      " open d:/VLSI/Capstone/tb/inputs/h_data.txt\n",
      " open d:/VLSI/Capstone/tb/inputs/node_info.txt\n",
      " open d:/VLSI/Capstone/tb/inputs/weight.txt\n",
      " open d:/VLSI/Capstone/tb/inputs/a.txt\n"
     ]
    }
   ],
   "source": [
    "def write_list_to_file(file_path, data_list):\n",
    "  with open(file_path, 'w') as file:\n",
    "    print(f\" open {file_path}\" )\n",
    "    for item in data_list:\n",
    "      for it in item:\n",
    "        file.write(f\"{it}\\n\")\n",
    "def write_list_to_file2(file_path, data_list):\n",
    "  with open(file_path, 'w') as file:\n",
    "    print(f\" open {file_path}\" )\n",
    "    for item in data_list:\n",
    "      file.write(f\"{item}\\n\")\n",
    "\n",
    "if (UPDATE_INPUT_TXT):\n",
    "  write_list_to_file(file_path_input + \"/h_data.txt\", wrt_data)\n",
    "  write_list_to_file(file_path_input + \"/node_info.txt\", wrt_node_info)\n",
    "  write_list_to_file(file_path_input + \"/weight.txt\", weight)\n",
    "  write_list_to_file2(file_path_input + \"/a.txt\", a)"
   ]
  },
  {
   "cell_type": "code",
   "execution_count": 27,
   "metadata": {},
   "outputs": [
    {
     "name": "stdout",
     "output_type": "stream",
     "text": [
      " open d:/VLSI/Capstone\\tb/outputs//WH.txt\n"
     ]
    }
   ],
   "source": [
    "#14/11/2024\n",
    "file_path_output = os.path.join(root_path, \"tb/outputs/\")\n",
    "wh_output = []\n",
    "for _WH in WH:\n",
    "  for _wh in _WH:\n",
    "    for wh in _wh:\n",
    "      wh_output.append(wh)\n",
    "write_list_to_file2(file_path_output + \"/WH.txt\", wh_output)"
   ]
  },
  {
   "cell_type": "markdown",
   "metadata": {},
   "source": [
    "##### Parameters"
   ]
  },
  {
   "cell_type": "code",
   "execution_count": 28,
   "metadata": {},
   "outputs": [
    {
     "name": "stdout",
     "output_type": "stream",
     "text": [
      "{'A_DEPTH': 32,\n",
      " 'H_DATA_DEPTH': 500,\n",
      " 'H_NUM_OF_COLS': 10,\n",
      " 'H_NUM_OF_ROWS': 100,\n",
      " 'NODE_INFO_DEPTH': 100,\n",
      " 'NUM_OF_NODES': 6,\n",
      " 'WEIGHT_DEPTH': 160,\n",
      " 'WH_DEPTH': 100,\n",
      " 'W_NUM_OF_COLS': 16,\n",
      " 'W_NUM_OF_ROWS': 10}\n"
     ]
    }
   ],
   "source": [
    "_value = [len(item) for item in wrt_data]\n",
    "len_value = 0\n",
    "for val in _value:\n",
    "  len_value += val\n",
    "\n",
    "_node_info = [len(item) for item in wrt_node_info]\n",
    "len_node_info = 0\n",
    "for node in _node_info:\n",
    "  len_node_info += node\n",
    "\n",
    "params[\"H_DATA_DEPTH\"] = len_value\n",
    "params[\"NODE_INFO_DEPTH\"] = len_node_info\n",
    "params[\"WEIGHT_DEPTH\"] = params[\"W_NUM_OF_ROWS\"] * params[\"W_NUM_OF_COLS\"]\n",
    "params[\"WH_DEPTH\"] = len_node_info\n",
    "params[\"A_DEPTH\"] = params[\"W_NUM_OF_COLS\"] * 2\n",
    "pprint(params)"
   ]
  },
  {
   "cell_type": "code",
   "execution_count": 29,
   "metadata": {},
   "outputs": [],
   "source": [
    "config_params = {\n",
    "  \"H_NUM_SPARSE_DATA\" : params[\"H_DATA_DEPTH\"],\n",
    "  \"TOTAL_NODES\"       : params[\"H_NUM_OF_ROWS\"],\n",
    "  \"NUM_FEATURE_IN\"    : params[\"W_NUM_OF_ROWS\"],\n",
    "  \"NUM_FEATURE_OUT\"   : params[\"W_NUM_OF_COLS\"],\n",
    "  \"NUM_SUBGRAPHS\"     : len(GRAPH),\n",
    "  \"MAX_NODES\"         : params[\"NUM_OF_NODES\"],\n",
    "}"
   ]
  },
  {
   "cell_type": "code",
   "execution_count": 30,
   "metadata": {},
   "outputs": [],
   "source": [
    "def update_parameters_in_ifdef(params_pkg_file, parameters, ifdef_condition=\"SIMULATION\"):\n",
    "  with open(params_pkg_file, 'r') as file:\n",
    "    file_data = file.readlines()\n",
    "\n",
    "  in_ifdef_block = False  # Track if we're inside the target `ifdef` block\n",
    "  for i, line in enumerate(file_data):\n",
    "    # Check for the start of the `ifdef block\n",
    "    if f\"`ifdef {ifdef_condition}\" in line:\n",
    "      in_ifdef_block = True\n",
    "      continue\n",
    "\n",
    "    # Check for the end of the `ifdef block\n",
    "    if in_ifdef_block and \"`endif\" in line:\n",
    "      in_ifdef_block = False\n",
    "      continue\n",
    "\n",
    "    # Update parameters only within the `ifdef block\n",
    "    if in_ifdef_block:\n",
    "      for param, new_value in parameters.items():\n",
    "        found_param = f\"parameter {param}\"\n",
    "        if found_param in line:\n",
    "          parts = line.split('=')\n",
    "          if len(parts) == 2:  # Ensure the line has an '=' sign\n",
    "            file_data[i] = f\"{parts[0]}= {new_value};\\n\"\n",
    "\n",
    "  # Write back the updated content\n",
    "  with open(params_pkg_file, 'w') as file:\n",
    "    file.writelines(file_data)\n",
    "\n",
    "# Example usage\n",
    "if UPDATE_INPUT_TXT:\n",
    "  update_parameters_in_ifdef(params_pkg_file, config_params)"
   ]
  },
  {
   "cell_type": "markdown",
   "metadata": {},
   "source": [
    "##### Root Path"
   ]
  },
  {
   "cell_type": "code",
   "execution_count": 31,
   "metadata": {},
   "outputs": [],
   "source": [
    "def update_root_path(filename, root_path):\n",
    "  with open(filename, 'r') as file:\n",
    "    file_data = file.readlines()\n",
    "\n",
    "  for i, line in enumerate(file_data):\n",
    "    if \"localparam string ROOT_PATH\" in line:\n",
    "      file_data[i] = f\"\\tlocalparam string ROOT_PATH = \\\"{root_path}\\\";\\n\"\n",
    "\n",
    "  with open(filename, 'w') as file:\n",
    "      file.writelines(file_data)\n",
    "\n",
    "update_root_path(filename, root_path)"
   ]
  }
 ],
 "metadata": {
  "kernelspec": {
   "display_name": "Python 3",
   "language": "python",
   "name": "python3"
  },
  "language_info": {
   "codemirror_mode": {
    "name": "ipython",
    "version": 3
   },
   "file_extension": ".py",
   "mimetype": "text/x-python",
   "name": "python",
   "nbconvert_exporter": "python",
   "pygments_lexer": "ipython3",
   "version": "3.12.8"
  }
 },
 "nbformat": 4,
 "nbformat_minor": 2
}
