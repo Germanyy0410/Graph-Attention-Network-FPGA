{
 "cells": [
  {
   "cell_type": "code",
   "execution_count": 146,
   "metadata": {},
   "outputs": [],
   "source": [
    "import os\n",
    "import math\n",
    "import random\n",
    "from pprint import pprint\n",
    "from pathlib import Path"
   ]
  },
  {
   "cell_type": "markdown",
   "metadata": {},
   "source": [
    "#### 0. Configuration\n",
    "*(Modify here only)*"
   ]
  },
  {
   "cell_type": "code",
   "execution_count": 147,
   "metadata": {},
   "outputs": [],
   "source": [
    "params = {\n",
    "  \"H_NUM_OF_ROWS\" : 100,\n",
    "  \"H_NUM_OF_COLS\" : 5,         # WARNING: Do not set as powers of 2.\n",
    "\n",
    "  \"W_NUM_OF_ROWS\" : 5,\n",
    "  \"W_NUM_OF_COLS\" : 6,\n",
    "\n",
    "  \"NUM_OF_NODES\"  : 6,          # WARNING: Do not set as powers of 2.\n",
    "}"
   ]
  },
  {
   "cell_type": "code",
   "execution_count": 148,
   "metadata": {},
   "outputs": [],
   "source": [
    "CORA_DATASET_ENABLE = 0         # 1: enable for Cora dataset    0: enable for other dataset\n",
    "UPDATE_INPUT_TXT    = 1         # 1: update inputs/*.txt        0: do not update inputs/*.txt"
   ]
  },
  {
   "cell_type": "markdown",
   "metadata": {},
   "source": [
    "#### 1. Random Inputs"
   ]
  },
  {
   "cell_type": "code",
   "execution_count": 149,
   "metadata": {},
   "outputs": [],
   "source": [
    "params.update({\n",
    "  \"COL_IDX_DEPTH\"   : 0,                                # số lượng col_idx tổng cộng\n",
    "  \"VALUE_DEPTH\"     : 0,                                # số lượng value tổng cộng\n",
    "  \"NODE_INFO_DEPTH\" : 0,                                # số lượng node tổng cộng\n",
    "  \"WEIGHT_DEPTH\"    : 0,                                # = W_ROWS * W_COLS\n",
    "  \"WH_DEPTH\"        : 0,                                # = số lượng node tổng cộng\n",
    "  \"A_DEPTH\"         : params[\"W_NUM_OF_COLS\"] * 2,      # = W_COLS * 2\n",
    "})"
   ]
  },
  {
   "cell_type": "code",
   "execution_count": 150,
   "metadata": {
    "notebookRunGroups": {
     "groupValue": "2"
    }
   },
   "outputs": [],
   "source": [
    "def random_matrix(rows, cols, sparsity_percent, min=-127, max=127):\n",
    "  neg_percent = 20\n",
    "  total_elements = rows * cols\n",
    "  num_zeros = int(total_elements * sparsity_percent / 100)\n",
    "  num_non_zeros = total_elements - num_zeros\n",
    "\n",
    "  num_negatives = int(num_non_zeros * neg_percent / 100)\n",
    "  num_positives = num_non_zeros - num_negatives\n",
    "\n",
    "  matrix_elements = (\n",
    "      [0] * num_zeros +\n",
    "      [random.randint(min, -1) for _ in range(num_negatives)] +\n",
    "      [random.randint(1, max) for _ in range(num_positives)]\n",
    "  )\n",
    "\n",
    "  random.shuffle(matrix_elements)\n",
    "\n",
    "  sparse_matrix = []\n",
    "  for i in range(rows):\n",
    "    sparse_matrix.append(matrix_elements[i * cols:(i + 1) * cols])\n",
    "\n",
    "  # Ensure no row is completely zero\n",
    "  for row in sparse_matrix:\n",
    "    if all(value == 0 for value in row):\n",
    "      row[random.randint(0, cols - 1)] = random.randint(1, 9)\n",
    "\n",
    "  return sparse_matrix"
   ]
  },
  {
   "cell_type": "markdown",
   "metadata": {},
   "source": [
    "##### Weight\n"
   ]
  },
  {
   "cell_type": "code",
   "execution_count": 151,
   "metadata": {},
   "outputs": [],
   "source": [
    "weight = random_matrix(params[\"W_NUM_OF_ROWS\"], params[\"W_NUM_OF_COLS\"], 0, -31, 31)"
   ]
  },
  {
   "cell_type": "markdown",
   "metadata": {},
   "source": [
    "##### Weight Vector a"
   ]
  },
  {
   "cell_type": "code",
   "execution_count": 152,
   "metadata": {},
   "outputs": [],
   "source": [
    "# a = [1 if i < params[\"A_DEPTH\"] / 2 else 2 for i in range(params[\"A_DEPTH\"])]\n",
    "a = random_matrix(1, params[\"A_DEPTH\"], 0)[0]\n",
    "\n",
    "midpoint = len(a) // 2\n",
    "a_1 = a[:midpoint]\n",
    "a_2 = a[midpoint:]"
   ]
  },
  {
   "cell_type": "markdown",
   "metadata": {},
   "source": [
    "##### SubGraph"
   ]
  },
  {
   "cell_type": "code",
   "execution_count": 153,
   "metadata": {
    "notebookRunGroups": {
     "groupValue": "1"
    }
   },
   "outputs": [],
   "source": [
    "subGraph = []\n",
    "sub_row = random.randint(2, params[\"NUM_OF_NODES\"])\n",
    "sub_cnt = 0\n",
    "source_node_list = []\n",
    "while sub_cnt < params[\"H_NUM_OF_ROWS\"]:\n",
    "  sub_row = random.randint(2, params[\"NUM_OF_NODES\"])\n",
    "  sub_cnt += sub_row\n",
    "  if sub_cnt >= params[\"H_NUM_OF_ROWS\"]:\n",
    "    sub_row = sub_row - (sub_cnt - params[\"H_NUM_OF_ROWS\"])\n",
    "    if sub_row == 1:\n",
    "      sub_row = 2\n",
    "      for item in subGraph:\n",
    "        if len(item) >= 3:\n",
    "          item.pop(-1)\n",
    "          break\n",
    "  subG = random_matrix(sub_row, params[\"H_NUM_OF_COLS\"], 50, -15, 15)\n",
    "  if (CORA_DATASET_ENABLE):\n",
    "    subG = [[1 if x != 0 else 0 for x in row] for row in subG]\n",
    "  subGraph.append(subG)"
   ]
  },
  {
   "cell_type": "markdown",
   "metadata": {},
   "source": [
    "##### Feature"
   ]
  },
  {
   "cell_type": "code",
   "execution_count": 154,
   "metadata": {},
   "outputs": [],
   "source": [
    "feature = []\n",
    "for i in range(len(subGraph)):\n",
    "  feature += subGraph[i]"
   ]
  },
  {
   "cell_type": "markdown",
   "metadata": {},
   "source": [
    "#### 2. Calculation"
   ]
  },
  {
   "cell_type": "markdown",
   "metadata": {},
   "source": [
    "Convert and calculate in binary format."
   ]
  },
  {
   "cell_type": "code",
   "execution_count": 155,
   "metadata": {},
   "outputs": [],
   "source": [
    "def decimal_to_binary(num):\n",
    "  if num < 0:\n",
    "    num = (1 << 8) + num\n",
    "  return format(num & 0xFF, '08b')\n",
    "\n",
    "def binary_to_decimal(bin_str):\n",
    "  num = int(bin_str, 2)\n",
    "  if bin_str[0] == '1':\n",
    "    num -= (1 << 8)\n",
    "  return num\n",
    "\n",
    "def sum_binary(a, b):\n",
    "  a = a.zfill(8)\n",
    "  b = b.zfill(8)\n",
    "  result = ''\n",
    "  carry = 0\n",
    "  for i in range(7, -1, -1):\n",
    "    bit_sum = int(a[i]) + int(b[i]) + carry\n",
    "    result = str(bit_sum % 2) + result\n",
    "    carry = bit_sum // 2\n",
    "  result = str(carry) + result\n",
    "  return result"
   ]
  },
  {
   "cell_type": "markdown",
   "metadata": {},
   "source": [
    "`sum_calc` and `product_calc` must be used to calculate."
   ]
  },
  {
   "cell_type": "code",
   "execution_count": 156,
   "metadata": {},
   "outputs": [],
   "source": [
    "def sum_calc(a, b):\n",
    "  a_bin   = decimal_to_binary(a)\n",
    "  b_bin   = decimal_to_binary(b)\n",
    "  res_bin = sum_binary(a_bin, b_bin)\n",
    "  if (a + b >= 128 or a + b <= -128):\n",
    "    return binary_to_decimal(res_bin[:-1])\n",
    "  return binary_to_decimal(res_bin[1:])\n",
    "\n",
    "def product_calc(a, b):\n",
    "  return math.floor((a * b) / 128)"
   ]
  },
  {
   "cell_type": "markdown",
   "metadata": {},
   "source": [
    "##### SPMM"
   ]
  },
  {
   "cell_type": "code",
   "execution_count": 157,
   "metadata": {
    "notebookRunGroups": {
     "groupValue": "2"
    }
   },
   "outputs": [],
   "source": [
    "wh = [[0 for _ in range(len(weight[0]))] for _ in range(len(feature))]\n",
    "for i in range(len(feature)):\n",
    "  for j in range(len(weight[0])):\n",
    "    for k in range(len(weight)):\n",
    "      if (feature[i][k] != 0):\n",
    "        wh[i][j] += feature[i][k] * weight[k][j]\n",
    "        # wh[i][j] = sum_calc(wh[i][j], product_calc(feature[i][k], weight[k][j]))\n",
    "\n",
    "def matrix_multiplication(subgraph, weight_matrix):\n",
    "  rows = len(subgraph)\n",
    "  cols = len(weight_matrix[0])\n",
    "  common_dim = len(weight_matrix)\n",
    "\n",
    "  result_matrix = [[0 for _ in range(cols)] for _ in range(rows)]\n",
    "\n",
    "  for i in range(rows):\n",
    "    for j in range(cols):\n",
    "      for k in range(common_dim):\n",
    "        result_matrix[i][j] += subgraph[i][k] * weight_matrix[k][j]\n",
    "        # result_matrix[i][j] = sum_calc(result_matrix[i][j], product_calc(subgraph[i][k], weight_matrix[k][j]))\n",
    "  return result_matrix\n",
    "\n",
    "WH = []\n",
    "for i in range(len(subGraph)):\n",
    "\twh = matrix_multiplication(subGraph[i], weight)\n",
    "\tWH.append(wh)"
   ]
  },
  {
   "cell_type": "markdown",
   "metadata": {},
   "source": [
    "##### DMVM"
   ]
  },
  {
   "cell_type": "code",
   "execution_count": 158,
   "metadata": {},
   "outputs": [],
   "source": [
    "DMVM = []\n",
    "COEF = []\n",
    "\n",
    "for wh in WH:\n",
    "  src = 0\n",
    "  dmvm_subgraph = []\n",
    "  coef_subgraph = []\n",
    "  for idx, row in enumerate(wh):\n",
    "    dst       = 0\n",
    "    node_row  = []\n",
    "    a_in      = a_1 if idx == 0 else a_2\n",
    "\n",
    "    # multiply\n",
    "    for i in range(len(row)):\n",
    "      # node_row.append(product_calc(row[i], a_in[i]))\n",
    "      node_row.append(row[i] * a_in[i])\n",
    "\n",
    "    # add\n",
    "    product_len = len(row)\n",
    "    while product_len > 1:\n",
    "      for j in range(len(row)):\n",
    "        if (2*j+1) < product_len:\n",
    "          # node_row[j] = sum_calc(node_row[2*j], node_row[2*j+1])\n",
    "          node_row[j] = node_row[2*j] + node_row[2*j+1]\n",
    "      product_len /= 2\n",
    "    dst = node_row[0]\n",
    "\n",
    "    # final\n",
    "    if (idx == 0):\n",
    "      src = dst\n",
    "    dmvm_subgraph.append(dst)\n",
    "\n",
    "    if (src + dst < 0):\n",
    "      coef_subgraph.append(0)\n",
    "    else:\n",
    "      coef_subgraph.append((src + dst) // pow(2, 12))\n",
    "  DMVM.append(dmvm_subgraph)\n",
    "  COEF.append(coef_subgraph)"
   ]
  },
  {
   "cell_type": "markdown",
   "metadata": {},
   "source": [
    "##### Softmax"
   ]
  },
  {
   "cell_type": "code",
   "execution_count": 159,
   "metadata": {},
   "outputs": [],
   "source": [
    "SOFTMAX = []\n",
    "for subgraph in COEF:\n",
    "  softmax = []\n",
    "  sum = 0\n",
    "  for ele in subgraph:\n",
    "    softmax.append(pow(2, ele))\n",
    "    sum += pow(2, ele)\n",
    "  for i in range(len(softmax)):\n",
    "    softmax[i] = softmax[i] / sum\n",
    "  SOFTMAX.append(softmax)"
   ]
  },
  {
   "cell_type": "markdown",
   "metadata": {},
   "source": [
    "Extend each size to `NUM_OF_NODES`"
   ]
  },
  {
   "cell_type": "code",
   "execution_count": 160,
   "metadata": {},
   "outputs": [],
   "source": [
    "DMVM    = [dmvm + [-1] * (params[\"NUM_OF_NODES\"] - len(dmvm)) for dmvm in DMVM]\n",
    "COEF    = [coef + [-1] * (params[\"NUM_OF_NODES\"] - len(coef)) for coef in COEF]\n",
    "SOFTMAX = [softmax + [-1] * (params[\"NUM_OF_NODES\"] - len(softmax)) for softmax in SOFTMAX]"
   ]
  },
  {
   "cell_type": "markdown",
   "metadata": {},
   "source": [
    "##### Aggregator"
   ]
  },
  {
   "cell_type": "code",
   "execution_count": 161,
   "metadata": {},
   "outputs": [],
   "source": [
    "# TODO:"
   ]
  },
  {
   "cell_type": "markdown",
   "metadata": {},
   "source": [
    "#### 3. GCSR structure"
   ]
  },
  {
   "cell_type": "code",
   "execution_count": 162,
   "metadata": {},
   "outputs": [],
   "source": [
    "source_node_list = []\n",
    "num_nodes_subgraph = []\n",
    "node_info = []\n",
    "col_idx = []\n",
    "value = []\n",
    "non_zero_ele = []\n",
    "\n",
    "row_length_bits = math.ceil(math.log2(params[\"H_NUM_OF_COLS\"]))\n",
    "num_of_nodes_bits = math.ceil(math.log2(params[\"NUM_OF_NODES\"]))\n",
    "\n",
    "for i in range(len(subGraph)):\n",
    "  source_node = subGraph[i][0]\n",
    "  num_node = len(subGraph[i])\n",
    "  source_node_list.append(source_node)\n",
    "  num_nodes_subgraph.append(num_node)\n",
    "  node_info_list = []\n",
    "  for j in range(len(subGraph[i])):\n",
    "    if j == 0:\n",
    "      flag = '1'\n",
    "    else:\n",
    "      flag = '0'\n",
    "    non_zero_values = [ele for k, ele in enumerate(subGraph[i][j]) if ele != 0]\n",
    "    # print(\"Non Zero Values = \", non_zero_values)\n",
    "    row_length = len(non_zero_values)\n",
    "    node_info_bin = (f\"{row_length:0{row_length_bits}b}\"f\"{num_node:0{num_of_nodes_bits}b}\" f\"{flag}\")\n",
    "    node_info_list.append(node_info_bin)\n",
    "\n",
    "  node_info.append(node_info_list)\n",
    "\n",
    "def decode_node_info(node_info_string):\n",
    "  # Extract each part from the string\n",
    "  flag_bits = 1\n",
    "  row_length = int(node_info_string[:row_length_bits], 2)\n",
    "  num_of_nodes = int(node_info_string[row_length_bits:row_length_bits+num_of_nodes_bits], 2)\n",
    "\n",
    "  flag = node_info_string[-flag_bits:]  # '1' for source node, '0' for neighbor node\n",
    "\n",
    "  # Return a dictionary for better readability\n",
    "  return {\n",
    "    'row_length': row_length,\n",
    "    'num_of_nodes': num_of_nodes,\n",
    "    'is_source_node': flag == '1'\n",
    "  }\n",
    "\n",
    "# Example usage\n",
    "decoded_node_info = []\n",
    "for nd_info in node_info:\n",
    "  decoded_info = [decode_node_info(info) for info in nd_info]\n",
    "  decoded_node_info.append(decoded_info)\n",
    "# pprint(decoded_node_info)"
   ]
  },
  {
   "cell_type": "code",
   "execution_count": 163,
   "metadata": {},
   "outputs": [],
   "source": [
    "def extract_from_raw(raw_list):\n",
    "\tcol_idx = []\n",
    "\tvalue = []\n",
    "\tnode_info = []\n",
    "\tfor row in raw_list:\n",
    "\t\tnon_zero_elements = [(j, ele) for j, ele in enumerate(row) if ele != 0]\n",
    "\t\tcol_idx.extend([idx for idx, _ in non_zero_elements])\n",
    "\t\tvalue.extend([val for _, val in non_zero_elements])\n",
    "\t\trow_len = len(non_zero_elements)\n",
    "\n",
    "\treturn col_idx, value"
   ]
  },
  {
   "cell_type": "markdown",
   "metadata": {},
   "source": [
    "#### 4. SubGraph"
   ]
  },
  {
   "cell_type": "code",
   "execution_count": 164,
   "metadata": {},
   "outputs": [],
   "source": [
    "GRAPH = {}\n",
    "idx = 0\n",
    "\n",
    "for i in range(len(subGraph)):\n",
    "  col_idx_, value_ = extract_from_raw(subGraph[i])\n",
    "  GRAPH[i] = {\"raw\" : subGraph[i], \"col_idx\" : col_idx_, \"value\" : value_, \"node_info\" : node_info[i], \"WH\": WH[i],  \"DMVM\": DMVM[i], \"Coef\": COEF[i], \"Softmax\": SOFTMAX[i]}"
   ]
  },
  {
   "cell_type": "code",
   "execution_count": 165,
   "metadata": {},
   "outputs": [],
   "source": [
    "colors = {\n",
    "  \"raw\": \"\\033[91m\",          # Red\n",
    "  \"col_idx\": \"\\033[92m\",      # Green\n",
    "  \"value\": \"\\033[93m\",        # Yellow\n",
    "  \"node_info\": \"\\033[94m\",    # Blue\n",
    "  \"WH\": \"\\033[95m\",           # Magenta\n",
    "  \"DMVM\": \"\\033[96m\",         # Cyan\n",
    "  \"Coef\": \"\\033[97m\",         # White\n",
    "  \"Softmax\": \"\\033[1;91m\",      # Bright Black (Gray)\n",
    "  \"Aggregator\": \"\\033[1;94m\", # Bright Blue (a lighter shade of blue)\n",
    "  \"reset\": \"\\033[0m\"          # Reset color\n",
    "}\n",
    "\n",
    "def print_sub_graphs():\n",
    "  for subgraph in GRAPH.values():\n",
    "    print(\"-\" * 90)\n",
    "    for i in range(len(subgraph[\"raw\"])):\n",
    "      if i == 0:\n",
    "        print(f\"{colors['raw']}raw\\t\\t{subgraph['raw'][i]}{colors['reset']}\")\n",
    "      else:\n",
    "        print(f\"{colors['raw']}\\t\\t{subgraph['raw'][i]}{colors['reset']}\")\n",
    "\n",
    "    print(f\"{colors['col_idx']}col_idx\\t\\t{subgraph['col_idx']}{colors['reset']}\")\n",
    "    print(f\"{colors['value']}value\\t\\t{subgraph['value']}{colors['reset']}\")\n",
    "    print(f\"{colors['node_info']}node_info\\t{subgraph['node_info']}{colors['reset']}\")\n",
    "\n",
    "    for i in range(len(subgraph[\"WH\"])):\n",
    "      if i == 0:\n",
    "        print(f\"{colors['WH']}SPMM\\t\\t{subgraph['WH'][i]}{colors['reset']}\")\n",
    "      else:\n",
    "        print(f\"{colors['WH']}\\t\\t{subgraph['WH'][i]}{colors['reset']}\")\n",
    "\n",
    "    print(f\"{colors['DMVM']}DMVM\\t\\t{[subgraph['DMVM'][idx] for idx in range(len(subgraph['raw']))]}{colors['reset']}\")\n",
    "    print(f\"{colors['Coef']}COEF\\t\\t{[subgraph['Coef'][idx] for idx in range(len(subgraph['raw']))]}{colors['reset']}\")\n",
    "    print(f\"{colors['Softmax']}SOFTMAX\\t\\t{[subgraph['Softmax'][idx] for idx in range(len(subgraph['raw']))]}{colors['reset']}\")\n",
    "    print(\"-\" * 90)"
   ]
  },
  {
   "cell_type": "markdown",
   "metadata": {},
   "source": [
    "#### 5. SubGraph Information"
   ]
  },
  {
   "cell_type": "code",
   "execution_count": 167,
   "metadata": {},
   "outputs": [
    {
     "name": "stdout",
     "output_type": "stream",
     "text": [
      "------------------------------------------------------------------------------------------\n",
      "\u001b[91mraw\t\t[11, 0, 0, 0, 3]\u001b[0m\n",
      "\u001b[91m\t\t[0, 3, 0, 0, 1]\u001b[0m\n",
      "\u001b[91m\t\t[2, 9, 4, 0, 0]\u001b[0m\n",
      "\u001b[91m\t\t[0, 13, 8, 0, 5]\u001b[0m\n",
      "\u001b[92mcol_idx\t\t[0, 4, 1, 4, 0, 1, 2, 1, 2, 4]\u001b[0m\n",
      "\u001b[93mvalue\t\t[11, 3, 3, 1, 2, 9, 4, 13, 8, 5]\u001b[0m\n",
      "\u001b[94mnode_info\t['0101001', '0101000', '0111000', '0111000']\u001b[0m\n",
      "\u001b[95mSPMM\t\t[186, 214, 170, 66, 311, -302]\u001b[0m\n",
      "\u001b[95m\t\t[16, 83, 79, 17, 7, -85]\u001b[0m\n",
      "\u001b[95m\t\t[254, 253, 246, -12, -14, -241]\u001b[0m\n",
      "\u001b[95m\t\t[212, 445, 539, 9, -145, -215]\u001b[0m\n",
      "\u001b[96mDMVM\t\t[33070, -9014, -26708, -81798]\u001b[0m\n",
      "\u001b[97mCOEF\t\t[16, 5, 1, 0]\u001b[0m\n",
      "\u001b[1;91mSOFTMAX\t\t[0.9994662274481096, 0.0004880206188711473, 3.0501288679446705e-05, 1.5250644339723353e-05]\u001b[0m\n",
      "------------------------------------------------------------------------------------------\n",
      "------------------------------------------------------------------------------------------\n",
      "\u001b[91mraw\t\t[0, 12, 0, 10, 0]\u001b[0m\n",
      "\u001b[91m\t\t[9, 0, 3, 0, 10]\u001b[0m\n",
      "\u001b[91m\t\t[14, 13, -13, 0, 0]\u001b[0m\n",
      "\u001b[91m\t\t[0, 10, 0, 0, 13]\u001b[0m\n",
      "\u001b[91m\t\t[0, 11, 0, 0, 0]\u001b[0m\n",
      "\u001b[91m\t\t[-11, 3, -10, 0, 3]\u001b[0m\n",
      "\u001b[92mcol_idx\t\t[1, 3, 0, 2, 4, 0, 1, 2, 1, 4, 1, 0, 1, 2, 4]\u001b[0m\n",
      "\u001b[93mvalue\t\t[12, 10, 9, 3, 10, 14, 13, -13, 10, 13, 11, -11, 3, -10, 3]\u001b[0m\n",
      "\u001b[94mnode_info\t['0101101', '0111100', '0111100', '0101100', '0011100', '1001100']\u001b[0m\n",
      "\u001b[95mSPMM\t\t[328, 382, 372, 154, 44, -378]\u001b[0m\n",
      "\u001b[95m\t\t[16, 353, 439, 110, 196, -175]\u001b[0m\n",
      "\u001b[95m\t\t[258, 352, 20, 185, 704, -1016]\u001b[0m\n",
      "\u001b[95m\t\t[-198, 470, 563, 163, 33, -264]\u001b[0m\n",
      "\u001b[95m\t\t[154, 231, 176, 22, 22, -319]\u001b[0m\n",
      "\u001b[95m\t\t[-500, -121, -156, 96, -79, 37]\u001b[0m\n",
      "\u001b[96mDMVM\t\t[71238, -60380, 67068, -85514, -12012, 13982]\u001b[0m\n",
      "\u001b[97mCOEF\t\t[34, 2, 33, 0, 14, 20]\u001b[0m\n",
      "\u001b[1;91mSOFTMAX\t\t[0.6666391170844698, 1.5521401471562445e-10, 0.3333195585422349, 3.8803503678906113e-11, 6.357566042751978e-07, 4.068842267361266e-05]\u001b[0m\n",
      "------------------------------------------------------------------------------------------\n",
      "------------------------------------------------------------------------------------------\n",
      "\u001b[91mraw\t\t[2, -2, 0, 0, 0]\u001b[0m\n",
      "\u001b[91m\t\t[0, 0, 2, 0, 0]\u001b[0m\n",
      "\u001b[91m\t\t[0, 0, 4, 10, 6]\u001b[0m\n",
      "\u001b[91m\t\t[1, 0, 0, 9, 0]\u001b[0m\n",
      "\u001b[91m\t\t[0, 5, 0, 0, 13]\u001b[0m\n",
      "\u001b[91m\t\t[15, -2, -9, 12, 4]\u001b[0m\n",
      "\u001b[92mcol_idx\t\t[0, 1, 2, 2, 3, 4, 0, 3, 1, 4, 0, 1, 2, 3, 4]\u001b[0m\n",
      "\u001b[93mvalue\t\t[2, -2, 2, 4, 10, 6, 1, 9, 5, 13, 15, -2, -9, 12, 4]\u001b[0m\n",
      "\u001b[94mnode_info\t['0101101', '0011100', '0111100', '0101100', '0101100', '1011100']\u001b[0m\n",
      "\u001b[95mSPMM\t\t[20, -14, -18, 2, 52, 2]\u001b[0m\n",
      "\u001b[95m\t\t[40, 18, 44, -18, -44, 38]\u001b[0m\n",
      "\u001b[95m\t\t[84, 286, 454, 160, -62, 58]\u001b[0m\n",
      "\u001b[95m\t\t[168, 131, 169, 120, 46, -55]\u001b[0m\n",
      "\u001b[95m\t\t[-268, 365, 483, 153, 23, -119]\u001b[0m\n",
      "\u001b[95m\t\t[240, 323, 215, 322, 642, -561]\u001b[0m\n",
      "\u001b[96mDMVM\t\t[-986, -9728, -57324, -1808, -80054, 38200]\u001b[0m\n",
      "\u001b[97mCOEF\t\t[0, 0, 0, 0, 0, 9]\u001b[0m\n",
      "\u001b[1;91mSOFTMAX\t\t[0.0019342359767891683, 0.0019342359767891683, 0.0019342359767891683, 0.0019342359767891683, 0.0019342359767891683, 0.9903288201160542]\u001b[0m\n",
      "------------------------------------------------------------------------------------------\n",
      "------------------------------------------------------------------------------------------\n",
      "\u001b[91mraw\t\t[0, 1, 11, 0, 11]\u001b[0m\n",
      "\u001b[91m\t\t[0, 6, 0, -6, 0]\u001b[0m\n",
      "\u001b[91m\t\t[0, 12, 0, 8, -10]\u001b[0m\n",
      "\u001b[91m\t\t[0, 0, 14, 5, 0]\u001b[0m\n",
      "\u001b[91m\t\t[0, 13, 0, 0, 7]\u001b[0m\n",
      "\u001b[91m\t\t[-15, 0, 0, 15, 13]\u001b[0m\n",
      "\u001b[92mcol_idx\t\t[1, 2, 4, 1, 3, 1, 3, 4, 2, 3, 1, 4, 0, 3, 4]\u001b[0m\n",
      "\u001b[93mvalue\t\t[1, 11, 11, 6, -6, 12, 8, -10, 14, 5, 13, 7, -15, 15, 13]\u001b[0m\n",
      "\u001b[94mnode_info\t['0111101', '0101100', '0111100', '0101100', '0101100', '0111100']\u001b[0m\n",
      "\u001b[95mSPMM\t\t[-52, 340, 599, 24, -229, 202]\u001b[0m\n",
      "\u001b[95m\t\t[-12, 48, -12, -66, 0, -156]\u001b[0m\n",
      "\u001b[95m\t\t[556, 156, 26, 18, 30, -392]\u001b[0m\n",
      "\u001b[95m\t\t[360, 191, 398, -61, -298, 251]\u001b[0m\n",
      "\u001b[95m\t\t[0, 413, 425, 103, 33, -363]\u001b[0m\n",
      "\u001b[95m\t\t[-458, 245, 568, 293, -377, 401]\u001b[0m\n",
      "\u001b[96mDMVM\t\t[58378, -4488, 41524, -69816, -54362, -99074]\u001b[0m\n",
      "\u001b[97mCOEF\t\t[28, 13, 24, 0, 0, 0]\u001b[0m\n",
      "\u001b[1;91mSOFTMAX\t\t[0.9411494285935257, 2.872160121440203e-05, 0.058821839287095355, 3.506054835742435e-09, 3.506054835742435e-09, 3.506054835742435e-09]\u001b[0m\n",
      "------------------------------------------------------------------------------------------\n",
      "------------------------------------------------------------------------------------------\n",
      "\u001b[91mraw\t\t[0, 0, 12, 0, 8]\u001b[0m\n",
      "\u001b[91m\t\t[14, 2, 4, -6, 9]\u001b[0m\n",
      "\u001b[91m\t\t[8, -10, 0, 5, 0]\u001b[0m\n",
      "\u001b[91m\t\t[0, 2, 0, 0, 1]\u001b[0m\n",
      "\u001b[91m\t\t[0, 0, 9, 0, 0]\u001b[0m\n",
      "\u001b[92mcol_idx\t\t[2, 4, 0, 1, 2, 3, 4, 0, 1, 3, 1, 4, 2]\u001b[0m\n",
      "\u001b[93mvalue\t\t[12, 8, 14, 2, 4, -6, 9, 8, -10, 5, 2, 1, 9]\u001b[0m\n",
      "\u001b[94mnode_info\t['0101011', '1011010', '0111010', '0101010', '0011010']\u001b[0m\n",
      "\u001b[95mSPMM\t\t[32, 268, 512, -20, -256, 244]\u001b[0m\n",
      "\u001b[95m\t\t[114, 376, 389, 31, 305, -338]\u001b[0m\n",
      "\u001b[95m\t\t[132, -33, -14, 69, 214, 51]\u001b[0m\n",
      "\u001b[95m\t\t[2, 62, 63, 15, 5, -56]\u001b[0m\n",
      "\u001b[95m\t\t[180, 81, 198, -81, -198, 171]\u001b[0m\n",
      "\u001b[96mDMVM\t\t[43436, -53186, 19504, -7922, -43776]\u001b[0m\n",
      "\u001b[97mCOEF\t\t[21, 0, 15, 8, 0]\u001b[0m\n",
      "\u001b[1;91mSOFTMAX\t\t[0.9844961313092145, 4.6944433751545646e-07, 0.015382752051706477, 0.00012017775040395685, 4.6944433751545646e-07]\u001b[0m\n",
      "------------------------------------------------------------------------------------------\n",
      "------------------------------------------------------------------------------------------\n",
      "\u001b[91mraw\t\t[0, 0, 14, 0, -12]\u001b[0m\n",
      "\u001b[91m\t\t[0, 3, 6, 0, 8]\u001b[0m\n",
      "\u001b[92mcol_idx\t\t[2, 4, 1, 2, 4]\u001b[0m\n",
      "\u001b[93mvalue\t\t[14, -12, 3, 6, 8]\u001b[0m\n",
      "\u001b[94mnode_info\t['0100101', '0110100']\u001b[0m\n",
      "\u001b[95mSPMM\t\t[592, -114, -64, -258, -320, 242]\u001b[0m\n",
      "\u001b[95m\t\t[-46, 277, 428, 40, -118, 43]\u001b[0m\n",
      "\u001b[96mDMVM\t\t[-44002, -78364]\u001b[0m\n",
      "\u001b[97mCOEF\t\t[0, 0]\u001b[0m\n",
      "\u001b[1;91mSOFTMAX\t\t[0.5, 0.5]\u001b[0m\n",
      "------------------------------------------------------------------------------------------\n",
      "------------------------------------------------------------------------------------------\n",
      "\u001b[91mraw\t\t[12, 12, 0, 0, 0]\u001b[0m\n",
      "\u001b[91m\t\t[8, 0, 0, 7, 11]\u001b[0m\n",
      "\u001b[91m\t\t[11, -1, 8, 0, 0]\u001b[0m\n",
      "\u001b[92mcol_idx\t\t[0, 1, 0, 3, 4, 0, 1, 2]\u001b[0m\n",
      "\u001b[93mvalue\t\t[12, 12, 8, 7, 11, 11, -1, 8]\u001b[0m\n",
      "\u001b[94mnode_info\t['0100111', '0110110', '0110110']\u001b[0m\n",
      "\u001b[95mSPMM\t\t[456, 420, 276, 60, 360, -684]\u001b[0m\n",
      "\u001b[95m\t\t[18, 423, 523, 236, 249, -223]\u001b[0m\n",
      "\u001b[95m\t\t[410, 205, 237, -41, 130, -127]\u001b[0m\n",
      "\u001b[96mDMVM\t\t[49020, -55222, -23652]\u001b[0m\n",
      "\u001b[97mCOEF\t\t[23, 0, 6]\u001b[0m\n",
      "\u001b[1;91mSOFTMAX\t\t[0.9999922514562196, 1.1920836585238214e-07, 7.629335414552457e-06]\u001b[0m\n",
      "------------------------------------------------------------------------------------------\n",
      "------------------------------------------------------------------------------------------\n",
      "\u001b[91mraw\t\t[0, 0, 10, 0, 6]\u001b[0m\n",
      "\u001b[91m\t\t[15, 3, 0, 6, 0]\u001b[0m\n",
      "\u001b[91m\t\t[7, 0, 0, -8, 3]\u001b[0m\n",
      "\u001b[91m\t\t[2, 0, 0, 3, 0]\u001b[0m\n",
      "\u001b[91m\t\t[-7, 0, 5, 4, 0]\u001b[0m\n",
      "\u001b[92mcol_idx\t\t[2, 4, 0, 1, 3, 0, 3, 4, 0, 3, 0, 2, 3]\u001b[0m\n",
      "\u001b[93mvalue\t\t[10, 6, 15, 3, 6, 7, -8, 3, 2, 3, -7, 5, 4]\u001b[0m\n",
      "\u001b[94mnode_info\t['0101011', '0111010', '0111010', '0101010', '0111010']\u001b[0m\n",
      "\u001b[95mSPMM\t\t[44, 210, 406, -24, -214, 202]\u001b[0m\n",
      "\u001b[95m\t\t[498, 351, 261, 129, 438, -525]\u001b[0m\n",
      "\u001b[95m\t\t[-38, 54, -2, -50, 183, -166]\u001b[0m\n",
      "\u001b[95m\t\t[96, 67, 68, 45, 62, -65]\u001b[0m\n",
      "\u001b[95m\t\t[-4, -1, 133, -14, -298, 279]\u001b[0m\n",
      "\u001b[96mDMVM\t\t[33238, 13980, -5446, 1544, -34712]\u001b[0m\n",
      "\u001b[97mCOEF\t\t[16, 11, 6, 8, 0]\u001b[0m\n",
      "\u001b[1;91mSOFTMAX\t\t[0.9651130255504013, 0.030159782048450042, 0.0009424931890140638, 0.0037699727560562553, 1.4726456078344747e-05]\u001b[0m\n",
      "------------------------------------------------------------------------------------------\n",
      "------------------------------------------------------------------------------------------\n",
      "\u001b[91mraw\t\t[-1, 8, 0, 0, 0]\u001b[0m\n",
      "\u001b[91m\t\t[0, 4, 0, 0, 7]\u001b[0m\n",
      "\u001b[91m\t\t[7, 5, 6, 0, 9]\u001b[0m\n",
      "\u001b[92mcol_idx\t\t[0, 1, 1, 4, 0, 1, 2, 4]\u001b[0m\n",
      "\u001b[93mvalue\t\t[-1, 8, 4, 7, 7, 5, 6, 9]\u001b[0m\n",
      "\u001b[94mnode_info\t['0100111', '0100110', '1000110']\u001b[0m\n",
      "\u001b[95mSPMM\t\t[88, 154, 121, 13, -12, -204]\u001b[0m\n",
      "\u001b[95m\t\t[-126, 224, 281, 85, 15, -102]\u001b[0m\n",
      "\u001b[95m\t\t[124, 437, 540, 76, 83, -209]\u001b[0m\n",
      "\u001b[96mDMVM\t\t[16516, -44534, -77270]\u001b[0m\n",
      "\u001b[97mCOEF\t\t[8, 0, 0]\u001b[0m\n",
      "\u001b[1;91mSOFTMAX\t\t[0.9922480620155039, 0.003875968992248062, 0.003875968992248062]\u001b[0m\n",
      "------------------------------------------------------------------------------------------\n",
      "------------------------------------------------------------------------------------------\n",
      "\u001b[91mraw\t\t[7, 0, 0, 4, 6]\u001b[0m\n",
      "\u001b[91m\t\t[0, 0, 0, 0, -6]\u001b[0m\n",
      "\u001b[91m\t\t[2, 0, 0, -7, 4]\u001b[0m\n",
      "\u001b[91m\t\t[9, 14, 0, 5, 1]\u001b[0m\n",
      "\u001b[91m\t\t[10, 0, 0, 5, 0]\u001b[0m\n",
      "\u001b[92mcol_idx\t\t[0, 3, 4, 4, 0, 3, 4, 0, 1, 3, 4, 0, 3]\u001b[0m\n",
      "\u001b[93mvalue\t\t[7, 4, 6, -6, 2, -7, 4, 9, 14, 5, 1, 10, 5]\u001b[0m\n",
      "\u001b[94mnode_info\t['0111011', '0011010', '0111010', '1001010', '0101010']\u001b[0m\n",
      "\u001b[95mSPMM\t\t[76, 270, 307, 139, 210, -196]\u001b[0m\n",
      "\u001b[95m\t\t[156, -120, -186, -66, -6, -12]\u001b[0m\n",
      "\u001b[95m\t\t[-168, 17, 12, -41, 46, -27]\u001b[0m\n",
      "\u001b[95m\t\t[466, 505, 408, 131, 291, -671]\u001b[0m\n",
      "\u001b[95m\t\t[320, 205, 160, 95, 290, -295]\u001b[0m\n",
      "\u001b[96mDMVM\t\t[56708, 34428, -17968, -11154, 11160]\u001b[0m\n",
      "\u001b[97mCOEF\t\t[27, 22, 9, 11, 16]\u001b[0m\n",
      "\u001b[1;91mSOFTMAX\t\t[0.9692201324366193, 0.030288129138644353, 3.697281388994672e-06, 1.4789125555978688e-05, 0.000473252017791318]\u001b[0m\n",
      "------------------------------------------------------------------------------------------\n",
      "------------------------------------------------------------------------------------------\n",
      "\u001b[91mraw\t\t[0, -2, 10, 9, 0]\u001b[0m\n",
      "\u001b[91m\t\t[13, 1, 0, 11, 0]\u001b[0m\n",
      "\u001b[91m\t\t[0, 6, 0, 6, 0]\u001b[0m\n",
      "\u001b[92mcol_idx\t\t[1, 2, 3, 0, 1, 3, 1, 3]\u001b[0m\n",
      "\u001b[93mvalue\t\t[-2, 10, 9, 13, 1, 11, 6, 6]\u001b[0m\n",
      "\u001b[94mnode_info\t['0110111', '0110110', '0100110']\u001b[0m\n",
      "\u001b[95mSPMM\t\t[316, 165, 350, 23, -206, 221]\u001b[0m\n",
      "\u001b[95m\t\t[502, 346, 305, 184, 388, -426]\u001b[0m\n",
      "\u001b[95m\t\t[180, 204, 204, 90, 24, -192]\u001b[0m\n",
      "\u001b[96mDMVM\t\t[41425, 11868, -8616]\u001b[0m\n",
      "\u001b[97mCOEF\t\t[20, 13, 8]\u001b[0m\n",
      "\u001b[1;91mSOFTMAX\t\t[0.9920077500605473, 0.007750060547348026, 0.0002421893921046258]\u001b[0m\n",
      "------------------------------------------------------------------------------------------\n",
      "------------------------------------------------------------------------------------------\n",
      "\u001b[91mraw\t\t[4, 0, 10, 0, 0]\u001b[0m\n",
      "\u001b[91m\t\t[9, 0, 8, -13, 0]\u001b[0m\n",
      "\u001b[92mcol_idx\t\t[0, 2, 0, 2, 3]\u001b[0m\n",
      "\u001b[93mvalue\t\t[4, 10, 9, 8, -13]\u001b[0m\n",
      "\u001b[94mnode_info\t['0100101', '0110100']\u001b[0m\n",
      "\u001b[95mSPMM\t\t[296, 146, 248, -78, -108, 78]\u001b[0m\n",
      "\u001b[95m\t\t[168, 29, 5, -214, 50, -61]\u001b[0m\n",
      "\u001b[96mDMVM\t\t[13794, -22848]\u001b[0m\n",
      "\u001b[97mCOEF\t\t[6, 0]\u001b[0m\n",
      "\u001b[1;91mSOFTMAX\t\t[0.9846153846153847, 0.015384615384615385]\u001b[0m\n",
      "------------------------------------------------------------------------------------------\n",
      "------------------------------------------------------------------------------------------\n",
      "\u001b[91mraw\t\t[12, 0, 0, 4, 1]\u001b[0m\n",
      "\u001b[91m\t\t[1, 0, 0, -1, 0]\u001b[0m\n",
      "\u001b[92mcol_idx\t\t[0, 3, 4, 0, 3]\u001b[0m\n",
      "\u001b[93mvalue\t\t[12, 4, 1, 1, -1]\u001b[0m\n",
      "\u001b[94mnode_info\t['0110101', '0100100']\u001b[0m\n",
      "\u001b[95mSPMM\t\t[326, 240, 187, 99, 345, -346]\u001b[0m\n",
      "\u001b[95m\t\t[8, 1, -11, -10, 26, -25]\u001b[0m\n",
      "\u001b[96mDMVM\t\t[43498, 1632]\u001b[0m\n",
      "\u001b[97mCOEF\t\t[21, 11]\u001b[0m\n",
      "\u001b[1;91mSOFTMAX\t\t[0.9990243902439024, 0.000975609756097561]\u001b[0m\n",
      "------------------------------------------------------------------------------------------\n",
      "------------------------------------------------------------------------------------------\n",
      "\u001b[91mraw\t\t[0, 0, 0, 14, 0]\u001b[0m\n",
      "\u001b[91m\t\t[0, 8, -8, 0, 10]\u001b[0m\n",
      "\u001b[91m\t\t[8, 0, 0, 6, 0]\u001b[0m\n",
      "\u001b[91m\t\t[2, 3, -9, 13, 0]\u001b[0m\n",
      "\u001b[92mcol_idx\t\t[3, 1, 2, 4, 0, 3, 0, 1, 2, 3]\u001b[0m\n",
      "\u001b[93mvalue\t\t[14, 8, -8, 10, 8, 6, 2, 3, -9, 13]\u001b[0m\n",
      "\u001b[94mnode_info\t['0011001', '0111000', '0101000', '1001000']\u001b[0m\n",
      "\u001b[95mSPMM\t\t[224, 182, 252, 182, 28, -42]\u001b[0m\n",
      "\u001b[95m\t\t[-308, 296, 262, 198, 202, -364]\u001b[0m\n",
      "\u001b[95m\t\t[288, 190, 164, 102, 236, -242]\u001b[0m\n",
      "\u001b[95m\t\t[118, 179, 98, 262, 286, -353]\u001b[0m\n",
      "\u001b[96mDMVM\t\t[61278, -27204, 8240, 38604]\u001b[0m\n",
      "\u001b[97mCOEF\t\t[29, 8, 16, 24]\u001b[0m\n",
      "\u001b[1;91mSOFTMAX\t\t[0.9695817508073483, 4.6233260670058647e-07, 0.00011835714731535014, 0.030299429712729635]\u001b[0m\n",
      "------------------------------------------------------------------------------------------\n",
      "------------------------------------------------------------------------------------------\n",
      "\u001b[91mraw\t\t[-4, 8, 12, 0, 0]\u001b[0m\n",
      "\u001b[91m\t\t[0, 0, 2, 0, 12]\u001b[0m\n",
      "\u001b[91m\t\t[15, -7, 0, 1, 0]\u001b[0m\n",
      "\u001b[91m\t\t[0, 8, 8, 0, 0]\u001b[0m\n",
      "\u001b[92mcol_idx\t\t[0, 1, 2, 2, 4, 0, 1, 3, 1, 2]\u001b[0m\n",
      "\u001b[93mvalue\t\t[-4, 8, 12, 2, 12, 15, -7, 1, 8, 8]\u001b[0m\n",
      "\u001b[94mnode_info\t['0111001', '0101000', '0111000', '0101000']\u001b[0m\n",
      "\u001b[95mSPMM\t\t[256, 220, 364, -104, -360, 108]\u001b[0m\n",
      "\u001b[95m\t\t[-272, 258, 416, 114, -32, 62]\u001b[0m\n",
      "\u001b[95m\t\t[278, 76, 11, 44, 408, -220]\u001b[0m\n",
      "\u001b[95m\t\t[272, 240, 304, -56, -160, -80]\u001b[0m\n",
      "\u001b[96mDMVM\t\t[19060, -78584, 26620, -47648]\u001b[0m\n",
      "\u001b[97mCOEF\t\t[9, 0, 11, 0]\u001b[0m\n",
      "\u001b[1;91mSOFTMAX\t\t[0.19984387197501952, 0.00039032006245121, 0.7993754879000781, 0.00039032006245121]\u001b[0m\n",
      "------------------------------------------------------------------------------------------\n",
      "------------------------------------------------------------------------------------------\n",
      "\u001b[91mraw\t\t[1, 7, 0, 0, 11]\u001b[0m\n",
      "\u001b[91m\t\t[14, 0, 0, 0, 13]\u001b[0m\n",
      "\u001b[91m\t\t[0, 6, 0, -7, 5]\u001b[0m\n",
      "\u001b[92mcol_idx\t\t[0, 1, 4, 0, 4, 1, 3, 4]\u001b[0m\n",
      "\u001b[93mvalue\t\t[1, 7, 11, 14, 13, 6, -7, 5]\u001b[0m\n",
      "\u001b[94mnode_info\t['0110111', '0100110', '0110110']\u001b[0m\n",
      "\u001b[95mSPMM\t\t[-164, 381, 460, 138, 53, -209]\u001b[0m\n",
      "\u001b[95m\t\t[-2, 456, 501, 185, 405, -366]\u001b[0m\n",
      "\u001b[95m\t\t[-158, 135, 125, -24, 3, -143]\u001b[0m\n",
      "\u001b[96mDMVM\t\t[66637, -56562, -32834]\u001b[0m\n",
      "\u001b[97mCOEF\t\t[32, 2, 8]\u001b[0m\n",
      "\u001b[1;91mSOFTMAX\t\t[0.9999999394640363, 9.31322518236969e-10, 5.9604641167166013e-08]\u001b[0m\n",
      "------------------------------------------------------------------------------------------\n",
      "------------------------------------------------------------------------------------------\n",
      "\u001b[91mraw\t\t[0, 13, 0, 1, 0]\u001b[0m\n",
      "\u001b[91m\t\t[5, -13, 0, 14, 0]\u001b[0m\n",
      "\u001b[91m\t\t[0, 0, 9, 0, 0]\u001b[0m\n",
      "\u001b[91m\t\t[4, 14, 0, 0, 1]\u001b[0m\n",
      "\u001b[91m\t\t[-1, 7, 14, 5, 3]\u001b[0m\n",
      "\u001b[92mcol_idx\t\t[1, 3, 0, 1, 3, 2, 0, 1, 4, 0, 1, 2, 3, 4]\u001b[0m\n",
      "\u001b[93mvalue\t\t[13, 1, 5, -13, 14, 9, 4, 14, 1, -1, 7, 14, 5, 3]\u001b[0m\n",
      "\u001b[94mnode_info\t['0101011', '0111010', '0011010', '0111010', '1011010']\u001b[0m\n",
      "\u001b[95mSPMM\t\t[198, 286, 226, 39, 28, -380]\u001b[0m\n",
      "\u001b[95m\t\t[162, -21, 79, 171, 142, 195]\u001b[0m\n",
      "\u001b[95m\t\t[180, 81, 198, -81, -198, 171]\u001b[0m\n",
      "\u001b[95m\t\t[266, 370, 283, 51, 141, -516]\u001b[0m\n",
      "\u001b[95m\t\t[356, 384, 596, -17, -309, 82]\u001b[0m\n",
      "\u001b[96mDMVM\t\t[34134, 15820, -43776, -15874, -95962]\u001b[0m\n",
      "\u001b[97mCOEF\t\t[16, 12, 0, 4, 0]\u001b[0m\n",
      "\u001b[1;91mSOFTMAX\t\t[0.9409332376166547, 0.05880832735104092, 1.4357501794687724e-05, 0.0002297200287150036, 1.4357501794687724e-05]\u001b[0m\n",
      "------------------------------------------------------------------------------------------\n",
      "------------------------------------------------------------------------------------------\n",
      "\u001b[91mraw\t\t[0, 6, 7, 5, -11]\u001b[0m\n",
      "\u001b[91m\t\t[6, 0, 0, 0, 0]\u001b[0m\n",
      "\u001b[91m\t\t[0, 11, 0, 4, 11]\u001b[0m\n",
      "\u001b[92mcol_idx\t\t[1, 2, 3, 4, 0, 1, 3, 4]\u001b[0m\n",
      "\u001b[93mvalue\t\t[6, 7, 5, -11, 6, 11, 4, 11]\u001b[0m\n",
      "\u001b[94mnode_info\t['1000111', '0010110', '0110110']\u001b[0m\n",
      "\u001b[95mSPMM\t\t[590, 34, -1, -107, -143, -78]\u001b[0m\n",
      "\u001b[95m\t\t[144, 84, 42, 18, 168, -168]\u001b[0m\n",
      "\u001b[95m\t\t[-68, 503, 589, 195, 41, -309]\u001b[0m\n",
      "\u001b[96mDMVM\t\t[-8572, 7728, -76506]\u001b[0m\n",
      "\u001b[97mCOEF\t\t[0, 0, 0]\u001b[0m\n",
      "\u001b[1;91mSOFTMAX\t\t[0.3333333333333333, 0.3333333333333333, 0.3333333333333333]\u001b[0m\n",
      "------------------------------------------------------------------------------------------\n",
      "------------------------------------------------------------------------------------------\n",
      "\u001b[91mraw\t\t[0, 9, 11, -5, 11]\u001b[0m\n",
      "\u001b[91m\t\t[0, 8, 0, 0, 0]\u001b[0m\n",
      "\u001b[91m\t\t[0, 0, 1, 9, 0]\u001b[0m\n",
      "\u001b[91m\t\t[12, 8, 0, -12, 0]\u001b[0m\n",
      "\u001b[91m\t\t[0, 4, -4, 0, 0]\u001b[0m\n",
      "\u001b[91m\t\t[0, 11, 0, 7, 1]\u001b[0m\n",
      "\u001b[92mcol_idx\t\t[1, 2, 3, 4, 1, 2, 3, 0, 1, 3, 1, 2, 1, 3, 4]\u001b[0m\n",
      "\u001b[93mvalue\t\t[9, 11, -5, 11, 8, 1, 9, 12, 8, -12, 4, -4, 11, 7, 1]\u001b[0m\n",
      "\u001b[94mnode_info\t['1001101', '0011100', '0101100', '0111100', '0101100', '0111100']\u001b[0m\n",
      "\u001b[95mSPMM\t\t[-20, 443, 637, -25, -223, -15]\u001b[0m\n",
      "\u001b[95m\t\t[112, 168, 128, 16, 16, -232]\u001b[0m\n",
      "\u001b[95m\t\t[164, 126, 184, 108, -4, -8]\u001b[0m\n",
      "\u001b[95m\t\t[208, 180, -4, -104, 328, -532]\u001b[0m\n",
      "\u001b[95m\t\t[-24, 48, -24, 44, 96, -192]\u001b[0m\n",
      "\u001b[95m\t\t[240, 342, 333, 124, 37, -338]\u001b[0m\n",
      "\u001b[96mDMVM\t\t[54805, -8736, -7960, 10848, 15088, -20158]\u001b[0m\n",
      "\u001b[97mCOEF\t\t[26, 11, 11, 16, 17, 8]\u001b[0m\n",
      "\u001b[1;91mSOFTMAX\t\t[0.9970144031278406, 3.042646493920412e-05, 3.042646493920412e-05, 0.0009736468780545319, 0.0019472937561090637, 3.803308117400515e-06]\u001b[0m\n",
      "------------------------------------------------------------------------------------------\n",
      "------------------------------------------------------------------------------------------\n",
      "\u001b[91mraw\t\t[-5, 3, -10, 13, -1]\u001b[0m\n",
      "\u001b[91m\t\t[0, 7, 0, 0, 0]\u001b[0m\n",
      "\u001b[91m\t\t[0, 1, 15, 0, 0]\u001b[0m\n",
      "\u001b[91m\t\t[0, 6, 0, 0, 0]\u001b[0m\n",
      "\u001b[91m\t\t[13, 5, 0, 6, 0]\u001b[0m\n",
      "\u001b[91m\t\t[15, 12, 0, 0, 2]\u001b[0m\n",
      "\u001b[92mcol_idx\t\t[0, 1, 2, 3, 4, 1, 1, 2, 1, 0, 1, 3, 0, 1, 4]\u001b[0m\n",
      "\u001b[93mvalue\t\t[-5, 3, -10, 13, -1, 7, 1, 15, 6, 13, 5, 6, 15, 12, 2]\u001b[0m\n",
      "\u001b[94mnode_info\t['1011101', '0011100', '0101100', '0011100', '0111100', '0111100']\u001b[0m\n",
      "\u001b[95mSPMM\t\t[-44, 52, -4, 239, 111, -178]\u001b[0m\n",
      "\u001b[95m\t\t[98, 147, 112, 14, 14, -203]\u001b[0m\n",
      "\u001b[95m\t\t[314, 156, 346, -133, -328, 256]\u001b[0m\n",
      "\u001b[95m\t\t[84, 126, 96, 12, 12, -174]\u001b[0m\n",
      "\u001b[95m\t\t[478, 365, 279, 127, 386, -527]\u001b[0m\n",
      "\u001b[95m\t\t[476, 502, 359, 91, 446, -764]\u001b[0m\n",
      "\u001b[96mDMVM\t\t[43740, -7644, -74052, -6552, 9220, -5260]\u001b[0m\n",
      "\u001b[97mCOEF\t\t[21, 8, 0, 9, 12, 9]\u001b[0m\n",
      "\u001b[1;91mSOFTMAX\t\t[0.9974426036454194, 0.00012175813032780998, 4.7561769659300774e-07, 0.00024351626065561996, 0.0019481300852449597, 0.00024351626065561996]\u001b[0m\n",
      "------------------------------------------------------------------------------------------\n",
      "------------------------------------------------------------------------------------------\n",
      "\u001b[91mraw\t\t[0, 0, 4, 9, 0]\u001b[0m\n",
      "\u001b[91m\t\t[-15, 12, -3, 0, 0]\u001b[0m\n",
      "\u001b[91m\t\t[0, 3, 9, 5, 0]\u001b[0m\n",
      "\u001b[91m\t\t[5, 0, 0, 11, 0]\u001b[0m\n",
      "\u001b[91m\t\t[0, 5, 15, 6, 0]\u001b[0m\n",
      "\u001b[92mcol_idx\t\t[2, 3, 0, 1, 2, 1, 2, 3, 0, 3, 1, 2, 3]\u001b[0m\n",
      "\u001b[93mvalue\t\t[4, 9, -15, 12, -3, 3, 9, 5, 5, 11, 5, 15, 6]\u001b[0m\n",
      "\u001b[94mnode_info\t['0101011', '0111010', '0111010', '0101010', '0111010']\u001b[0m\n",
      "\u001b[95mSPMM\t\t[224, 153, 250, 81, -70, 49]\u001b[0m\n",
      "\u001b[95m\t\t[-252, 15, 21, 6, -330, 15]\u001b[0m\n",
      "\u001b[95m\t\t[302, 209, 336, -10, -182, 69]\u001b[0m\n",
      "\u001b[95m\t\t[296, 213, 233, 158, 162, -173]\u001b[0m\n",
      "\u001b[95m\t\t[466, 318, 518, -47, -308, 122]\u001b[0m\n",
      "\u001b[96mDMVM\t\t[42037, -17832, -48772, 2656, -80484]\u001b[0m\n",
      "\u001b[97mCOEF\t\t[20, 5, 0, 10, 0]\u001b[0m\n",
      "\u001b[1;91mSOFTMAX\t\t[0.9989920296026996, 3.0486817309652698e-05, 9.527130409266468e-07, 0.0009755781539088863, 9.527130409266468e-07]\u001b[0m\n",
      "------------------------------------------------------------------------------------------\n",
      "------------------------------------------------------------------------------------------\n",
      "\u001b[91mraw\t\t[0, 1, 0, 3, 0]\u001b[0m\n",
      "\u001b[91m\t\t[0, 0, -12, 15, 13]\u001b[0m\n",
      "\u001b[91m\t\t[-12, 1, 0, 3, 0]\u001b[0m\n",
      "\u001b[91m\t\t[0, 8, 9, 0, 0]\u001b[0m\n",
      "\u001b[92mcol_idx\t\t[1, 3, 2, 3, 4, 0, 1, 3, 1, 2]\u001b[0m\n",
      "\u001b[93mvalue\t\t[1, 3, -12, 15, 13, -12, 1, 3, 8, 9]\u001b[0m\n",
      "\u001b[94mnode_info\t['0101001', '0111000', '0111000', '0101000']\u001b[0m\n",
      "\u001b[95mSPMM\t\t[62, 60, 70, 41, 8, -38]\u001b[0m\n",
      "\u001b[95m\t\t[-338, 347, 409, 446, 307, -247]\u001b[0m\n",
      "\u001b[95m\t\t[-226, -108, -14, 5, -328, 298]\u001b[0m\n",
      "\u001b[95m\t\t[292, 249, 326, -65, -182, -61]\u001b[0m\n",
      "\u001b[96mDMVM\t\t[15420, -21386, -17580, -52512]\u001b[0m\n",
      "\u001b[97mCOEF\t\t[7, 0, 0, 0]\u001b[0m\n",
      "\u001b[1;91mSOFTMAX\t\t[0.9770992366412213, 0.007633587786259542, 0.007633587786259542, 0.007633587786259542]\u001b[0m\n",
      "------------------------------------------------------------------------------------------\n",
      "------------------------------------------------------------------------------------------\n",
      "\u001b[91mraw\t\t[7, -9, -8, 0, 0]\u001b[0m\n",
      "\u001b[91m\t\t[4, 11, 9, 6, 0]\u001b[0m\n",
      "\u001b[91m\t\t[0, 5, 5, 0, 0]\u001b[0m\n",
      "\u001b[91m\t\t[-13, 11, 0, 0, 12]\u001b[0m\n",
      "\u001b[91m\t\t[9, 0, 0, 0, 0]\u001b[0m\n",
      "\u001b[91m\t\t[13, 0, 0, 0, 4]\u001b[0m\n",
      "\u001b[92mcol_idx\t\t[0, 1, 2, 0, 1, 2, 3, 1, 2, 0, 1, 4, 0, 0, 4]\u001b[0m\n",
      "\u001b[93mvalue\t\t[7, -9, -8, 4, 11, 9, 6, 5, 5, -13, 11, 12, 9, 13, 4]\u001b[0m\n",
      "\u001b[94mnode_info\t['0111101', '1001100', '0101100', '0111100', '0011100', '0101100']\u001b[0m\n",
      "\u001b[95mSPMM\t\t[-118, -163, -271, 75, 354, -87]\u001b[0m\n",
      "\u001b[95m\t\t[526, 446, 510, 31, -52, -278]\u001b[0m\n",
      "\u001b[95m\t\t[170, 150, 190, -35, -100, -50]\u001b[0m\n",
      "\u001b[95m\t\t[-470, 289, 457, 115, -330, 69]\u001b[0m\n",
      "\u001b[95m\t\t[216, 126, 63, 27, 252, -252]\u001b[0m\n",
      "\u001b[95m\t\t[208, 262, 215, 83, 368, -356]\u001b[0m\n",
      "\u001b[96mDMVM\t\t[-13317, -52700, -29780, -97612, 11592, -6208]\u001b[0m\n",
      "\u001b[97mCOEF\t\t[0, 0, 0, 0, 0, 0]\u001b[0m\n",
      "\u001b[1;91mSOFTMAX\t\t[0.16666666666666666, 0.16666666666666666, 0.16666666666666666, 0.16666666666666666, 0.16666666666666666, 0.16666666666666666]\u001b[0m\n",
      "------------------------------------------------------------------------------------------\n",
      "------------------------------------------------------------------------------------------\n",
      "\u001b[91mraw\t\t[6, 0, 15, -14, 0]\u001b[0m\n",
      "\u001b[91m\t\t[3, 0, 0, 7, 0]\u001b[0m\n",
      "\u001b[92mcol_idx\t\t[0, 2, 3, 0, 3]\u001b[0m\n",
      "\u001b[93mvalue\t\t[6, 15, -14, 3, 7]\u001b[0m\n",
      "\u001b[94mnode_info\t['0110101', '0100100']\u001b[0m\n",
      "\u001b[95mSPMM\t\t[220, 37, 120, -299, -190, 159]\u001b[0m\n",
      "\u001b[95m\t\t[184, 133, 147, 100, 98, -105]\u001b[0m\n",
      "\u001b[96mDMVM\t\t[-40587, 1456]\u001b[0m\n",
      "\u001b[97mCOEF\t\t[0, 0]\u001b[0m\n",
      "\u001b[1;91mSOFTMAX\t\t[0.5, 0.5]\u001b[0m\n",
      "------------------------------------------------------------------------------------------\n"
     ]
    }
   ],
   "source": [
    "print_sub_graphs()"
   ]
  },
  {
   "cell_type": "markdown",
   "metadata": {},
   "source": [
    "#### 6. Update testbench"
   ]
  },
  {
   "cell_type": "code",
   "execution_count": 168,
   "metadata": {},
   "outputs": [],
   "source": [
    "root_path       = os.path.abspath(\"../../\").replace(\"\\\\\", \"/\")\n",
    "filename        = os.path.join(root_path, \"tb/v2/top_tb.sv\").replace(\"\\\\\", \"/\")\n",
    "file_path_input = os.path.join(root_path, \"tb/inputs\").replace(\"\\\\\", \"/\")\n",
    "params_pkg_file = os.path.join(root_path, \"rtl/others/params_pkg.sv\").replace(\"\\\\\", \"/\")"
   ]
  },
  {
   "cell_type": "markdown",
   "metadata": {},
   "source": [
    "##### Inputs"
   ]
  },
  {
   "cell_type": "code",
   "execution_count": 169,
   "metadata": {},
   "outputs": [],
   "source": [
    "wrt_col_idx = []\n",
    "wrt_value = []\n",
    "wrt_node_info = []\n",
    "\n",
    "for key, value in GRAPH.items():\n",
    "  wrt_col_idx.append(value[\"col_idx\"])\n",
    "  wrt_value.append(value[\"value\"])\n",
    "  wrt_node_info.append(value[\"node_info\"])"
   ]
  },
  {
   "cell_type": "code",
   "execution_count": 170,
   "metadata": {},
   "outputs": [
    {
     "name": "stdout",
     "output_type": "stream",
     "text": [
      " open d:/VLSI/Capstone/tb/inputs/col_idx.txt\n",
      " open d:/VLSI/Capstone/tb/inputs/value.txt\n",
      " open d:/VLSI/Capstone/tb/inputs/node_info.txt\n",
      " open d:/VLSI/Capstone/tb/inputs/weight.txt\n",
      " open d:/VLSI/Capstone/tb/inputs/a.txt\n"
     ]
    }
   ],
   "source": [
    "def write_list_to_file(file_path, data_list):\n",
    "  with open(file_path, 'w') as file:\n",
    "    print(f\" open {file_path}\" )\n",
    "    for item in data_list:\n",
    "      for it in item:\n",
    "        file.write(f\"{it}\\n\")\n",
    "def write_list_to_file2(file_path, data_list):\n",
    "  with open(file_path, 'w') as file:\n",
    "    print(f\" open {file_path}\" )\n",
    "    for item in data_list:\n",
    "      file.write(f\"{item}\\n\")\n",
    "\n",
    "if (UPDATE_INPUT_TXT):\n",
    "  write_list_to_file(file_path_input + \"/col_idx.txt\", wrt_col_idx)\n",
    "  write_list_to_file(file_path_input + \"/value.txt\", wrt_value)\n",
    "  write_list_to_file(file_path_input + \"/node_info.txt\", wrt_node_info)\n",
    "  write_list_to_file(file_path_input + \"/weight.txt\", weight)\n",
    "  write_list_to_file2(file_path_input + \"/a.txt\", a)"
   ]
  },
  {
   "cell_type": "code",
   "execution_count": 171,
   "metadata": {},
   "outputs": [
    {
     "name": "stdout",
     "output_type": "stream",
     "text": [
      " open d:/VLSI/Capstone\\tb/outputs//WH.txt\n"
     ]
    }
   ],
   "source": [
    "#14/11/2024\n",
    "file_path_output = os.path.join(root_path, \"tb/outputs/\")\n",
    "wh_output = []\n",
    "for _WH in WH:\n",
    "  for _wh in _WH:\n",
    "    for wh in _wh:\n",
    "      wh_output.append(wh)\n",
    "write_list_to_file2(file_path_output + \"/WH.txt\", wh_output)"
   ]
  },
  {
   "cell_type": "markdown",
   "metadata": {},
   "source": [
    "##### Parameters"
   ]
  },
  {
   "cell_type": "code",
   "execution_count": 172,
   "metadata": {},
   "outputs": [
    {
     "name": "stdout",
     "output_type": "stream",
     "text": [
      "{'A_DEPTH': 12,\n",
      " 'COL_IDX_DEPTH': 256,\n",
      " 'H_NUM_OF_COLS': 5,\n",
      " 'H_NUM_OF_ROWS': 100,\n",
      " 'NODE_INFO_DEPTH': 100,\n",
      " 'NUM_OF_NODES': 6,\n",
      " 'VALUE_DEPTH': 256,\n",
      " 'WEIGHT_DEPTH': 30,\n",
      " 'WH_DEPTH': 100,\n",
      " 'W_NUM_OF_COLS': 6,\n",
      " 'W_NUM_OF_ROWS': 5}\n"
     ]
    }
   ],
   "source": [
    "_col_idx = [len(item) for item in wrt_col_idx]\n",
    "len_col_idx = 0\n",
    "for col in _col_idx:\n",
    "  len_col_idx += col\n",
    "\n",
    "_value = [len(item) for item in wrt_value]\n",
    "len_value = 0\n",
    "for val in _value:\n",
    "  len_value += val\n",
    "\n",
    "_node_info = [len(item) for item in wrt_node_info]\n",
    "len_node_info = 0\n",
    "for node in _node_info:\n",
    "  len_node_info += node\n",
    "\n",
    "params[\"COL_IDX_DEPTH\"] = len_col_idx\n",
    "params[\"VALUE_DEPTH\"] = len_value\n",
    "params[\"NODE_INFO_DEPTH\"] = len_node_info\n",
    "params[\"WEIGHT_DEPTH\"] = params[\"W_NUM_OF_ROWS\"] * params[\"W_NUM_OF_COLS\"]\n",
    "params[\"WH_DEPTH\"] = len_node_info\n",
    "params[\"A_DEPTH\"] = params[\"W_NUM_OF_COLS\"] * 2\n",
    "pprint(params)"
   ]
  },
  {
   "cell_type": "code",
   "execution_count": 173,
   "metadata": {},
   "outputs": [],
   "source": [
    "def update_parameters(params_pkg_file, parameters):\n",
    "  with open(params_pkg_file, 'r') as file:\n",
    "    file_data = file.readlines()\n",
    "\n",
    "  for i, line in enumerate(file_data):\n",
    "    for param, new_value in parameters.items():\n",
    "      found_param = \"parameter \" + param\n",
    "      # print(param)\n",
    "      if found_param in line:\n",
    "        # file_data[i] = f\"  parameter {param}\\t\\t\\t= {new_value},\\n\"\n",
    "        file_data[i] = line.split(\"=\")[0] + \"= \" + new_value + \";\\n\"\n",
    "\n",
    "  with open(params_pkg_file, 'w') as file:\n",
    "      file.writelines(file_data)\n",
    "\n",
    "if (UPDATE_INPUT_TXT):\n",
    "  update_parameters(params_pkg_file, params)"
   ]
  },
  {
   "cell_type": "markdown",
   "metadata": {},
   "source": [
    "##### Root Path"
   ]
  },
  {
   "cell_type": "code",
   "execution_count": 174,
   "metadata": {},
   "outputs": [],
   "source": [
    "def update_root_path(filename, root_path):\n",
    "  with open(filename, 'r') as file:\n",
    "    file_data = file.readlines()\n",
    "\n",
    "  for i, line in enumerate(file_data):\n",
    "    if \"localparam string ROOT_PATH\" in line:\n",
    "      file_data[i] = f\"\\tlocalparam string ROOT_PATH = \\\"{root_path}\\\";\\n\"\n",
    "\n",
    "  with open(filename, 'w') as file:\n",
    "      file.writelines(file_data)\n",
    "\n",
    "update_root_path(filename, root_path)"
   ]
  }
 ],
 "metadata": {
  "kernelspec": {
   "display_name": "Python 3",
   "language": "python",
   "name": "python3"
  },
  "language_info": {
   "codemirror_mode": {
    "name": "ipython",
    "version": 3
   },
   "file_extension": ".py",
   "mimetype": "text/x-python",
   "name": "python",
   "nbconvert_exporter": "python",
   "pygments_lexer": "ipython3",
   "version": "3.12.7"
  }
 },
 "nbformat": 4,
 "nbformat_minor": 2
}
