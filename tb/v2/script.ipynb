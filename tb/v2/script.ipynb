{
 "cells": [
  {
   "cell_type": "code",
   "execution_count": 245,
   "metadata": {},
   "outputs": [],
   "source": [
    "import os\n",
    "import math\n",
    "import random\n",
    "from pprint import pprint\n",
    "from pathlib import Path"
   ]
  },
  {
   "cell_type": "markdown",
   "metadata": {},
   "source": [
    "#### 0. Configuration\n",
    "*(Modify here only)*"
   ]
  },
  {
   "cell_type": "code",
   "execution_count": 246,
   "metadata": {},
   "outputs": [],
   "source": [
    "params = {\n",
    "  \"H_NUM_OF_ROWS\" : 100,\n",
    "  \"H_NUM_OF_COLS\" : 10,         # WARNING: Do not set as powers of 2.\n",
    "\n",
    "  \"W_NUM_OF_ROWS\" : 10,\n",
    "  \"W_NUM_OF_COLS\" : 16,\n",
    "\n",
    "  \"NUM_OF_NODES\"  : 6,          # WARNING: Do not set as powers of 2.\n",
    "}"
   ]
  },
  {
   "cell_type": "code",
   "execution_count": 247,
   "metadata": {},
   "outputs": [],
   "source": [
    "CORA_DATASET_ENABLE = 0         # 1: enable for Cora dataset    0: enable for other dataset\n",
    "UPDATE_INPUT_TXT    = 1         # 1: update inputs/*.txt        0: do not update inputs/*.txt"
   ]
  },
  {
   "cell_type": "markdown",
   "metadata": {},
   "source": [
    "#### 1. Random Inputs"
   ]
  },
  {
   "cell_type": "code",
   "execution_count": 248,
   "metadata": {},
   "outputs": [],
   "source": [
    "params.update({\n",
    "  \"COL_IDX_DEPTH\"   : 0,                                # số lượng col_idx tổng cộng\n",
    "  \"VALUE_DEPTH\"     : 0,                                # số lượng value tổng cộng\n",
    "  \"NODE_INFO_DEPTH\" : 0,                                # số lượng node tổng cộng\n",
    "  \"WEIGHT_DEPTH\"    : 0,                                # = W_ROWS * W_COLS\n",
    "  \"WH_DEPTH\"        : 0,                                # = số lượng node tổng cộng\n",
    "  \"A_DEPTH\"         : params[\"W_NUM_OF_COLS\"] * 2,      # = W_COLS * 2\n",
    "})"
   ]
  },
  {
   "cell_type": "code",
   "execution_count": 249,
   "metadata": {
    "notebookRunGroups": {
     "groupValue": "2"
    }
   },
   "outputs": [],
   "source": [
    "def random_matrix(rows, cols, sparsity_percent):\n",
    "  neg_percent = 20\n",
    "  total_elements = rows * cols\n",
    "  num_zeros = int(total_elements * sparsity_percent / 100)\n",
    "  num_non_zeros = total_elements - num_zeros\n",
    "\n",
    "  num_negatives = int(num_non_zeros * neg_percent / 100)\n",
    "  num_positives = num_non_zeros - num_negatives\n",
    "\n",
    "  matrix_elements = (\n",
    "      [0] * num_zeros +\n",
    "      [random.randint(-127, -1) for _ in range(num_negatives)] +\n",
    "      [random.randint(1, 127) for _ in range(num_positives)]\n",
    "  )\n",
    "\n",
    "  random.shuffle(matrix_elements)\n",
    "\n",
    "  sparse_matrix = []\n",
    "  for i in range(rows):\n",
    "    sparse_matrix.append(matrix_elements[i * cols:(i + 1) * cols])\n",
    "\n",
    "  # Ensure no row is completely zero\n",
    "  for row in sparse_matrix:\n",
    "    if all(value == 0 for value in row):\n",
    "      row[random.randint(0, cols - 1)] = random.randint(1, 9)\n",
    "\n",
    "  return sparse_matrix"
   ]
  },
  {
   "cell_type": "markdown",
   "metadata": {},
   "source": [
    "##### Weight\n"
   ]
  },
  {
   "cell_type": "code",
   "execution_count": 250,
   "metadata": {},
   "outputs": [],
   "source": [
    "weight = random_matrix(params[\"W_NUM_OF_ROWS\"], params[\"W_NUM_OF_COLS\"], 0)"
   ]
  },
  {
   "cell_type": "markdown",
   "metadata": {},
   "source": [
    "##### Weight Vector a"
   ]
  },
  {
   "cell_type": "code",
   "execution_count": 251,
   "metadata": {},
   "outputs": [],
   "source": [
    "# a = [1 if i < params[\"A_DEPTH\"] / 2 else 2 for i in range(params[\"A_DEPTH\"])]\n",
    "a = random_matrix(1, params[\"A_DEPTH\"], 0)[0]\n",
    "\n",
    "midpoint = len(a) // 2\n",
    "a_1 = a[:midpoint]\n",
    "a_2 = a[midpoint:]"
   ]
  },
  {
   "cell_type": "markdown",
   "metadata": {},
   "source": [
    "##### SubGraph"
   ]
  },
  {
   "cell_type": "code",
   "execution_count": 252,
   "metadata": {
    "notebookRunGroups": {
     "groupValue": "1"
    }
   },
   "outputs": [],
   "source": [
    "subGraph = []\n",
    "sub_row = random.randint(2, params[\"NUM_OF_NODES\"])\n",
    "sub_cnt = 0\n",
    "source_node_list = []\n",
    "while sub_cnt < params[\"H_NUM_OF_ROWS\"]:\n",
    "  sub_row = random.randint(2, params[\"NUM_OF_NODES\"])\n",
    "  sub_cnt += sub_row\n",
    "  if sub_cnt >= params[\"H_NUM_OF_ROWS\"]:\n",
    "    sub_row = sub_row - (sub_cnt - params[\"H_NUM_OF_ROWS\"])\n",
    "    if sub_row == 1:\n",
    "      sub_row = 2\n",
    "      for item in subGraph:\n",
    "        if len(item) >= 3:\n",
    "          item.pop(-1)\n",
    "          break\n",
    "  subG = random_matrix(sub_row, params[\"H_NUM_OF_COLS\"], 50)\n",
    "  if (CORA_DATASET_ENABLE):\n",
    "    subG = [[1 if x != 0 else 0 for x in row] for row in subG]\n",
    "  subGraph.append(subG)"
   ]
  },
  {
   "cell_type": "markdown",
   "metadata": {},
   "source": [
    "##### Feature"
   ]
  },
  {
   "cell_type": "code",
   "execution_count": 253,
   "metadata": {},
   "outputs": [],
   "source": [
    "feature = []\n",
    "for i in range(len(subGraph)):\n",
    "  feature += subGraph[i]"
   ]
  },
  {
   "cell_type": "markdown",
   "metadata": {},
   "source": [
    "#### 2. Calculation"
   ]
  },
  {
   "cell_type": "markdown",
   "metadata": {},
   "source": [
    "Convert and calculate in binary format."
   ]
  },
  {
   "cell_type": "code",
   "execution_count": 254,
   "metadata": {},
   "outputs": [],
   "source": [
    "def decimal_to_binary(num):\n",
    "  if num < 0:\n",
    "    num = (1 << 8) + num\n",
    "  return format(num & 0xFF, '08b')\n",
    "\n",
    "def binary_to_decimal(bin_str):\n",
    "  num = int(bin_str, 2)\n",
    "  if bin_str[0] == '1':\n",
    "    num -= (1 << 8)\n",
    "  return num\n",
    "\n",
    "def sum_binary(a, b):\n",
    "  a = a.zfill(8)\n",
    "  b = b.zfill(8)\n",
    "  result = ''\n",
    "  carry = 0\n",
    "  for i in range(7, -1, -1):\n",
    "    bit_sum = int(a[i]) + int(b[i]) + carry\n",
    "    result = str(bit_sum % 2) + result\n",
    "    carry = bit_sum // 2\n",
    "  result = str(carry) + result\n",
    "  return result"
   ]
  },
  {
   "cell_type": "markdown",
   "metadata": {},
   "source": [
    "`sum_calc` and `product_calc` must be used to calculate."
   ]
  },
  {
   "cell_type": "code",
   "execution_count": 255,
   "metadata": {},
   "outputs": [],
   "source": [
    "def sum_calc(a, b):\n",
    "  a_bin   = decimal_to_binary(a)\n",
    "  b_bin   = decimal_to_binary(b)\n",
    "  res_bin = sum_binary(a_bin, b_bin)\n",
    "  if (a + b >= 128 or a + b <= -128):\n",
    "    return binary_to_decimal(res_bin[:-1])\n",
    "  return binary_to_decimal(res_bin[1:])\n",
    "\n",
    "def product_calc(a, b):\n",
    "  return math.floor((a * b) / 128)"
   ]
  },
  {
   "cell_type": "markdown",
   "metadata": {},
   "source": [
    "##### SPMM"
   ]
  },
  {
   "cell_type": "code",
   "execution_count": 256,
   "metadata": {
    "notebookRunGroups": {
     "groupValue": "2"
    }
   },
   "outputs": [],
   "source": [
    "wh = [[0 for _ in range(len(weight[0]))] for _ in range(len(feature))]\n",
    "for i in range(len(feature)):\n",
    "  for j in range(len(weight[0])):\n",
    "    for k in range(len(weight)):\n",
    "      if (feature[i][k] != 0):\n",
    "        wh[i][j] = sum_calc(wh[i][j], product_calc(feature[i][k], weight[k][j]))\n",
    "\n",
    "def matrix_multiplication(subgraph, weight_matrix):\n",
    "  rows = len(subgraph)\n",
    "  cols = len(weight_matrix[0])\n",
    "  common_dim = len(weight_matrix)\n",
    "\n",
    "  result_matrix = [[0 for _ in range(cols)] for _ in range(rows)]\n",
    "\n",
    "  for i in range(rows):\n",
    "    for j in range(cols):\n",
    "      for k in range(common_dim):\n",
    "        result_matrix[i][j] = sum_calc(result_matrix[i][j], product_calc(subgraph[i][k], weight_matrix[k][j]))\n",
    "  return result_matrix\n",
    "\n",
    "WH = []\n",
    "for i in range(len(subGraph)):\n",
    "\twh = matrix_multiplication(subGraph[i], weight)\n",
    "\tWH.append(wh)"
   ]
  },
  {
   "cell_type": "markdown",
   "metadata": {},
   "source": [
    "##### DMVM"
   ]
  },
  {
   "cell_type": "code",
   "execution_count": 257,
   "metadata": {},
   "outputs": [],
   "source": [
    "DMVM = []\n",
    "COEF = []\n",
    "\n",
    "for wh in WH:\n",
    "  src = 0\n",
    "  dmvm_subgraph = []\n",
    "  coef_subgraph = []\n",
    "  for idx, row in enumerate(wh):\n",
    "    dst       = 0\n",
    "    node_row  = []\n",
    "    a_in      = a_1 if idx == 0 else a_2\n",
    "\n",
    "    # multiply\n",
    "    for i in range(len(row)):\n",
    "      node_row.append(product_calc(row[i], a_in[i]))\n",
    "\n",
    "    # add\n",
    "    product_len = len(row)\n",
    "    while product_len > 1:\n",
    "      for j in range(len(row)):\n",
    "        if (2*j+1) < product_len:\n",
    "          node_row[j] = sum_calc(node_row[2*j], node_row[2*j+1])\n",
    "      product_len /= 2\n",
    "    dst = node_row[0]\n",
    "\n",
    "    # final\n",
    "    if (idx == 0):\n",
    "      src = dst\n",
    "    dmvm_subgraph.append(dst)\n",
    "\n",
    "    if (sum_calc(src, dst) < 0):\n",
    "      coef_subgraph.append(0)\n",
    "    else:\n",
    "      coef_subgraph.append(sum_calc(src, dst))\n",
    "  DMVM.append(dmvm_subgraph)\n",
    "  COEF.append(coef_subgraph)"
   ]
  },
  {
   "cell_type": "markdown",
   "metadata": {},
   "source": [
    "Extend each DMVM size = `NUM_OF_NODES` "
   ]
  },
  {
   "cell_type": "code",
   "execution_count": 258,
   "metadata": {},
   "outputs": [],
   "source": [
    "DMVM = [dmvm + [-1] * (params[\"NUM_OF_NODES\"] - len(dmvm)) for dmvm in DMVM]\n",
    "COEF = [coef + [-1] * (params[\"NUM_OF_NODES\"] - len(coef)) for coef in COEF]"
   ]
  },
  {
   "cell_type": "markdown",
   "metadata": {},
   "source": [
    "##### Softmax"
   ]
  },
  {
   "cell_type": "code",
   "execution_count": 259,
   "metadata": {},
   "outputs": [],
   "source": [
    "# TODO:"
   ]
  },
  {
   "cell_type": "markdown",
   "metadata": {},
   "source": [
    "##### Aggregator"
   ]
  },
  {
   "cell_type": "code",
   "execution_count": 260,
   "metadata": {},
   "outputs": [],
   "source": [
    "# TODO:"
   ]
  },
  {
   "cell_type": "markdown",
   "metadata": {},
   "source": [
    "#### 3. GCSR structure"
   ]
  },
  {
   "cell_type": "code",
   "execution_count": 261,
   "metadata": {},
   "outputs": [],
   "source": [
    "source_node_list = []\n",
    "num_nodes_subgraph = []\n",
    "node_info = []\n",
    "col_idx = []\n",
    "value = []\n",
    "non_zero_ele = []\n",
    "\n",
    "row_length_bits = math.ceil(math.log2(params[\"H_NUM_OF_COLS\"]))\n",
    "num_of_nodes_bits = math.ceil(math.log2(params[\"NUM_OF_NODES\"]))\n",
    "\n",
    "for i in range(len(subGraph)):\n",
    "  source_node = subGraph[i][0]\n",
    "  num_node = len(subGraph[i])\n",
    "  source_node_list.append(source_node)\n",
    "  num_nodes_subgraph.append(num_node)\n",
    "  node_info_list = []\n",
    "  for j in range(len(subGraph[i])):\n",
    "    if j == 0:\n",
    "      flag = '1'\n",
    "    else:\n",
    "      flag = '0'\n",
    "    non_zero_values = [ele for k, ele in enumerate(subGraph[i][j]) if ele != 0]\n",
    "    # print(\"Non Zero Values = \", non_zero_values)\n",
    "    row_length = len(non_zero_values)\n",
    "    node_info_bin = (f\"{row_length:0{row_length_bits}b}\"f\"{num_node:0{num_of_nodes_bits}b}\" f\"{flag}\")\n",
    "    node_info_list.append(node_info_bin)\n",
    "\n",
    "  node_info.append(node_info_list)\n",
    "\n",
    "def decode_node_info(node_info_string):\n",
    "  # Extract each part from the string\n",
    "  flag_bits = 1\n",
    "  row_length = int(node_info_string[:row_length_bits], 2)\n",
    "  num_of_nodes = int(node_info_string[row_length_bits:row_length_bits+num_of_nodes_bits], 2)\n",
    "\n",
    "  flag = node_info_string[-flag_bits:]  # '1' for source node, '0' for neighbor node\n",
    "\n",
    "  # Return a dictionary for better readability\n",
    "  return {\n",
    "    'row_length': row_length,\n",
    "    'num_of_nodes': num_of_nodes,\n",
    "    'is_source_node': flag == '1'\n",
    "  }\n",
    "\n",
    "# Example usage\n",
    "decoded_node_info = []\n",
    "for nd_info in node_info:\n",
    "  decoded_info = [decode_node_info(info) for info in nd_info]\n",
    "  decoded_node_info.append(decoded_info)\n",
    "# pprint(decoded_node_info)"
   ]
  },
  {
   "cell_type": "code",
   "execution_count": 262,
   "metadata": {},
   "outputs": [],
   "source": [
    "def extract_from_raw(raw_list):\n",
    "\tcol_idx = []\n",
    "\tvalue = []\n",
    "\tnode_info = []\n",
    "\tfor row in raw_list:\n",
    "\t\tnon_zero_elements = [(j, ele) for j, ele in enumerate(row) if ele != 0]\n",
    "\t\tcol_idx.extend([idx for idx, _ in non_zero_elements])\n",
    "\t\tvalue.extend([val for _, val in non_zero_elements])\n",
    "\t\trow_len = len(non_zero_elements)\n",
    "\n",
    "\treturn col_idx, value"
   ]
  },
  {
   "cell_type": "markdown",
   "metadata": {},
   "source": [
    "#### 4. SubGraph"
   ]
  },
  {
   "cell_type": "code",
   "execution_count": 263,
   "metadata": {},
   "outputs": [],
   "source": [
    "GRAPH = {}\n",
    "idx = 0\n",
    "\n",
    "for i in range(len(subGraph)):\n",
    "  col_idx_, value_ = extract_from_raw(subGraph[i])\n",
    "  GRAPH[i] = {\"raw\" : subGraph[i], \"col_idx\" : col_idx_, \"value\" : value_, \"node_info\" : node_info[i], \"WH\": WH[i],  \"DMVM\": DMVM[i], \"Coef\": COEF[i]}"
   ]
  },
  {
   "cell_type": "code",
   "execution_count": 264,
   "metadata": {},
   "outputs": [],
   "source": [
    "colors = {\n",
    "  \"raw\": \"\\033[91m\",       # Red\n",
    "  \"col_idx\": \"\\033[92m\",   # Green\n",
    "  \"value\": \"\\033[93m\",     # Yellow\n",
    "  \"node_info\": \"\\033[94m\", # Blue\n",
    "  \"WH\": \"\\033[95m\",        # Magenta\n",
    "  \"DMVM\": \"\\033[96m\",      # Cyan\n",
    "  \"Coef\": \"\\033[97m\",      # White\n",
    "  \"reset\": \"\\033[0m\"       # Reset color\n",
    "}\n",
    "\n",
    "def print_sub_graphs():\n",
    "  for subgraph in GRAPH.values():\n",
    "    print(\"-\" * 90)\n",
    "    for i in range(len(subgraph[\"raw\"])):\n",
    "      if i == 0:\n",
    "        print(f\"{colors['raw']}raw\\t\\t{subgraph['raw'][i]}{colors['reset']}\")\n",
    "      else:\n",
    "        print(f\"{colors['raw']}\\t\\t{subgraph['raw'][i]}{colors['reset']}\")\n",
    "\n",
    "    print(f\"{colors['col_idx']}col_idx\\t\\t{subgraph['col_idx']}{colors['reset']}\")\n",
    "    print(f\"{colors['value']}value\\t\\t{subgraph['value']}{colors['reset']}\")\n",
    "    print(f\"{colors['node_info']}node_info\\t{subgraph['node_info']}{colors['reset']}\")\n",
    "\n",
    "    for i in range(len(subgraph[\"WH\"])):\n",
    "      if i == 0:\n",
    "        print(f\"{colors['WH']}SPMM\\t\\t{subgraph['WH'][i]}{colors['reset']}\")\n",
    "      else:\n",
    "        print(f\"{colors['WH']}\\t\\t{subgraph['WH'][i]}{colors['reset']}\")\n",
    "\n",
    "    print(f\"{colors['DMVM']}DMVM\\t\\t{[subgraph['DMVM'][idx] for idx in range(len(subgraph['raw']))]}{colors['reset']}\")\n",
    "    print(f\"{colors['Coef']}COEF\\t\\t{[subgraph['Coef'][idx] for idx in range(len(subgraph['raw']))]}{colors['reset']}\")\n",
    "    print(\"-\" * 90)"
   ]
  },
  {
   "cell_type": "markdown",
   "metadata": {},
   "source": [
    "#### 5. SubGraph Information"
   ]
  },
  {
   "cell_type": "code",
   "execution_count": 265,
   "metadata": {},
   "outputs": [
    {
     "name": "stdout",
     "output_type": "stream",
     "text": [
      "------------------------------------------------------------------------------------------\n",
      "\u001b[91mraw\t\t[27, 45, 0, 0, -26, 0, 74, 0, 47, 33]\u001b[0m\n",
      "\u001b[91m\t\t[0, -64, 0, 105, 84, 18, 0, 0, 0, 0]\u001b[0m\n",
      "\u001b[92mcol_idx\t\t[0, 1, 4, 6, 8, 9, 1, 3, 4, 5]\u001b[0m\n",
      "\u001b[93mvalue\t\t[27, 45, -26, 74, 47, 33, -64, 105, 84, 18]\u001b[0m\n",
      "\u001b[94mnode_info\t['01100101', '01000100']\u001b[0m\n",
      "\u001b[95mSPMM\t\t[97, 66, 120, 84, -39, 60, 26, 93, -11, 25, 83, 76, 42, 72, 92, -11]\u001b[0m\n",
      "\u001b[95m\t\t[-25, 95, 29, -88, 69, 77, 72, -107, 73, -57, -47, -56, 33, 73, 114, 66]\u001b[0m\n",
      "\u001b[96mDMVM\t\t[80, 20]\u001b[0m\n",
      "\u001b[97mCOEF\t\t[80, 100]\u001b[0m\n",
      "------------------------------------------------------------------------------------------\n",
      "------------------------------------------------------------------------------------------\n",
      "\u001b[91mraw\t\t[-14, 0, 0, 0, 0, 11, 20, 119, 0, 0]\u001b[0m\n",
      "\u001b[91m\t\t[54, 98, 119, 0, -93, 109, 0, 0, 0, 0]\u001b[0m\n",
      "\u001b[91m\t\t[0, 77, -22, 0, 84, 106, 0, 42, 64, 0]\u001b[0m\n",
      "\u001b[92mcol_idx\t\t[0, 5, 6, 7, 0, 1, 2, 4, 5, 1, 2, 4, 5, 7, 8]\u001b[0m\n",
      "\u001b[93mvalue\t\t[-14, 11, 20, 119, 54, 98, 119, -93, 109, 77, -22, 84, 106, 42, 64]\u001b[0m\n",
      "\u001b[94mnode_info\t['01000111', '01010110', '01100110']\u001b[0m\n",
      "\u001b[95mSPMM\t\t[113, 41, 65, 18, 70, 80, 9, -86, 75, 67, 41, -12, 18, 18, 88, -70]\u001b[0m\n",
      "\u001b[95m\t\t[71, 77, 76, 27, -100, 99, -71, 79, -34, 68, -49, 104, 18, 92, 83, -15]\u001b[0m\n",
      "\u001b[95m\t\t[65, 82, 118, 18, -73, 113, 118, 38, 99, -1, 1, 69, 77, 66, 117, 32]\u001b[0m\n",
      "\u001b[96mDMVM\t\t[99, 88, 119]\u001b[0m\n",
      "\u001b[97mCOEF\t\t[99, 93, 109]\u001b[0m\n",
      "------------------------------------------------------------------------------------------\n",
      "------------------------------------------------------------------------------------------\n",
      "\u001b[91mraw\t\t[67, 0, 7, -115, 0, 105, 0, 71, 15, 118]\u001b[0m\n",
      "\u001b[91m\t\t[44, 119, 114, 0, 0, 35, 46, 0, 75, 102]\u001b[0m\n",
      "\u001b[91m\t\t[-36, 0, 14, 0, 0, -35, 0, 0, 0, 0]\u001b[0m\n",
      "\u001b[91m\t\t[0, -112, 0, 103, -52, 0, 15, 0, 0, 0]\u001b[0m\n",
      "\u001b[91m\t\t[96, 0, 0, 0, 0, 114, 0, 116, 0, -100]\u001b[0m\n",
      "\u001b[91m\t\t[0, 0, 95, 0, 0, 0, 61, 28, 84, 46]\u001b[0m\n",
      "\u001b[92mcol_idx\t\t[0, 2, 3, 5, 7, 8, 9, 0, 1, 2, 5, 6, 8, 9, 0, 2, 5, 1, 3, 4, 6, 0, 5, 7, 9, 2, 6, 7, 8, 9]\u001b[0m\n",
      "\u001b[93mvalue\t\t[67, 7, -115, 105, 71, 15, 118, 44, 119, 114, 35, 46, 75, 102, -36, 14, -35, -112, 103, -52, 15, 96, 114, 116, -100, 95, 61, 28, 84, 46]\u001b[0m\n",
      "\u001b[94mnode_info\t['01111101', '01111100', '00111100', '01001100', '01001100', '01011100']\u001b[0m\n",
      "\u001b[95mSPMM\t\t[124, 66, 77, -38, -81, -50, -30, 109, 28, -18, 76, 118, -71, 101, 69, 58]\u001b[0m\n",
      "\u001b[95m\t\t[114, 94, 104, 67, -99, 78, 12, 86, 105, 97, 74, 93, 38, 97, 104, -41]\u001b[0m\n",
      "\u001b[95m\t\t[-34, -45, -11, 15, -4, -7, -16, -24, -7, 11, 2, 0, -14, -55, -17, -79]\u001b[0m\n",
      "\u001b[95m\t\t[-27, 36, -16, -113, 50, -18, 39, -53, -55, 19, -106, -106, -88, -61, 46, -29]\u001b[0m\n",
      "\u001b[95m\t\t[67, 46, -10, 4, 77, 101, -19, -79, 87, 64, -32, -113, 119, 15, 41, 27]\u001b[0m\n",
      "\u001b[95m\t\t[125, 117, 104, 83, -32, 64, 2, 56, 30, 87, 107, 115, 38, 104, 91, -83]\u001b[0m\n",
      "\u001b[96mDMVM\t\t[59, 105, -82, -97, 19, 71]\u001b[0m\n",
      "\u001b[97mCOEF\t\t[118, 82, 0, 0, 78, 65]\u001b[0m\n",
      "------------------------------------------------------------------------------------------\n",
      "------------------------------------------------------------------------------------------\n",
      "\u001b[91mraw\t\t[62, -102, 0, 78, 44, 0, 52, 0, 0, 0]\u001b[0m\n",
      "\u001b[91m\t\t[41, 33, 28, 0, 39, 0, 0, -66, -124, 98]\u001b[0m\n",
      "\u001b[91m\t\t[0, 0, -87, 0, 21, 81, -13, 11, 0, 0]\u001b[0m\n",
      "\u001b[91m\t\t[61, 0, 0, 0, 96, 0, 0, 90, 0, 0]\u001b[0m\n",
      "\u001b[91m\t\t[0, 0, 0, 83, 0, 0, 79, 71, 49, 0]\u001b[0m\n",
      "\u001b[91m\t\t[0, 38, 0, 0, -24, 68, 0, 79, 25, 83]\u001b[0m\n",
      "\u001b[92mcol_idx\t\t[0, 1, 3, 4, 6, 0, 1, 2, 4, 7, 8, 9, 2, 4, 5, 6, 7, 0, 4, 7, 3, 6, 7, 8, 1, 4, 5, 7, 8, 9]\u001b[0m\n",
      "\u001b[93mvalue\t\t[62, -102, 78, 44, 52, 41, 33, 28, 39, -66, -124, 98, -87, 21, 81, -13, 11, 61, 96, 90, 83, 79, 71, 49, 38, -24, 68, 79, 25, 83]\u001b[0m\n",
      "\u001b[94mnode_info\t['01011101', '01111100', '01011100', '00111100', '01001100', '01101100']\u001b[0m\n",
      "\u001b[95mSPMM\t\t[10, 109, -19, -54, 107, 1, 102, -83, 21, -101, 33, -39, 38, 92, 92, 108]\u001b[0m\n",
      "\u001b[95m\t\t[-59, 45, -33, -69, 82, -51, -20, 66, -20, -60, 86, 40, -57, 87, -83, 111]\u001b[0m\n",
      "\u001b[95m\t\t[21, -18, 32, -90, -27, 34, 73, -4, -24, -92, -70, -30, -30, 33, 37, 61]\u001b[0m\n",
      "\u001b[95m\t\t[101, 96, 71, 54, 126, 68, 87, -122, 102, -13, 64, 11, 96, 64, 73, 75]\u001b[0m\n",
      "\u001b[95m\t\t[120, 103, 109, 49, 26, 87, 103, -104, 64, 69, 28, -1, 66, 64, 113, -70]\u001b[0m\n",
      "\u001b[95m\t\t[95, 77, 79, -21, -34, 94, 34, 81, 65, 119, 27, 120, -18, 71, 120, -17]\u001b[0m\n",
      "\u001b[96mDMVM\t\t[92, -29, 58, 84, 66, 96]\u001b[0m\n",
      "\u001b[97mCOEF\t\t[92, 63, 75, 88, 79, 94]\u001b[0m\n",
      "------------------------------------------------------------------------------------------\n",
      "------------------------------------------------------------------------------------------\n",
      "\u001b[91mraw\t\t[0, 0, 118, 0, 115, -42, 0, 0, 0, 0]\u001b[0m\n",
      "\u001b[91m\t\t[117, -50, 80, 0, 0, 63, 114, 0, 32, 5]\u001b[0m\n",
      "\u001b[92mcol_idx\t\t[2, 4, 5, 0, 1, 2, 5, 6, 8, 9]\u001b[0m\n",
      "\u001b[93mvalue\t\t[118, 115, -42, 117, -50, 80, 63, 114, 32, 5]\u001b[0m\n",
      "\u001b[94mnode_info\t['00110101', '01110100']\u001b[0m\n",
      "\u001b[95mSPMM\t\t[-12, 91, 1, 67, 73, 31, 3, -56, 118, -1, 117, 66, 116, 32, 60, -29]\u001b[0m\n",
      "\u001b[95m\t\t[83, 111, 70, 31, 67, 13, -16, 71, -55, -50, 64, 90, 85, 107, 99, 84]\u001b[0m\n",
      "\u001b[96mDMVM\t\t[89, 75]\u001b[0m\n",
      "\u001b[97mCOEF\t\t[89, 82]\u001b[0m\n",
      "------------------------------------------------------------------------------------------\n",
      "------------------------------------------------------------------------------------------\n",
      "\u001b[91mraw\t\t[33, 32, 0, 8, 0, 0, -95, 59, 0, 79]\u001b[0m\n",
      "\u001b[91m\t\t[0, 0, -41, 0, 23, 0, 22, 23, 0, 0]\u001b[0m\n",
      "\u001b[91m\t\t[7, 0, -51, 0, 127, 6, 119, 0, 0, 0]\u001b[0m\n",
      "\u001b[92mcol_idx\t\t[0, 1, 3, 6, 7, 9, 2, 4, 6, 7, 0, 2, 4, 5, 6]\u001b[0m\n",
      "\u001b[93mvalue\t\t[33, 32, 8, -95, 59, 79, -41, 23, 22, 23, 7, -51, 127, 6, 119]\u001b[0m\n",
      "\u001b[94mnode_info\t['01100111', '01000110', '01010110']\u001b[0m\n",
      "\u001b[95mSPMM\t\t[69, 65, 96, -6, 4, 12, 39, 3, 72, 88, 27, 25, -93, 34, -42, -24]\u001b[0m\n",
      "\u001b[95m\t\t[18, -13, 22, 3, 28, 24, 47, -43, 13, -58, 25, 0, 20, 19, 24, 27]\u001b[0m\n",
      "\u001b[95m\t\t[28, 58, 51, 32, 94, 85, 73, -62, -23, -89, 69, 93, 89, 91, 74, 79]\u001b[0m\n",
      "\u001b[96mDMVM\t\t[-31, 87, 70]\u001b[0m\n",
      "\u001b[97mCOEF\t\t[0, 56, 39]\u001b[0m\n",
      "------------------------------------------------------------------------------------------\n",
      "------------------------------------------------------------------------------------------\n",
      "\u001b[91mraw\t\t[0, 123, 0, 65, 0, -50, 0, 0, 4, 0]\u001b[0m\n",
      "\u001b[91m\t\t[0, 55, 0, 0, 105, 27, 59, 20, 98, -76]\u001b[0m\n",
      "\u001b[91m\t\t[0, 111, 0, 0, 61, 26, 0, 16, 99, -109]\u001b[0m\n",
      "\u001b[91m\t\t[74, 123, 0, 0, 97, -100, 116, 0, 0, 0]\u001b[0m\n",
      "\u001b[91m\t\t[0, 0, 43, 0, 0, 0, 0, 12, 0, -41]\u001b[0m\n",
      "\u001b[92mcol_idx\t\t[1, 3, 5, 8, 1, 4, 5, 6, 7, 8, 9, 1, 4, 5, 7, 8, 9, 0, 1, 4, 5, 6, 2, 7, 9]\u001b[0m\n",
      "\u001b[93mvalue\t\t[123, 65, -50, 4, 55, 105, 27, 59, 20, 98, -76, 111, 61, 26, 16, 99, -109, 74, 123, 97, -100, 116, 43, 12, -41]\u001b[0m\n",
      "\u001b[94mnode_info\t['01001011', '01111010', '01101010', '01011010', '00111010']\u001b[0m\n",
      "\u001b[95mSPMM\t\t[18, 92, 39, 121, 9, 64, 57, 11, 69, 84, 9, 44, 66, 62, 9, -112]\u001b[0m\n",
      "\u001b[95m\t\t[81, 32, 16, 127, -43, 102, 38, -54, 78, -69, 52, 25, 119, 28, 51, 45]\u001b[0m\n",
      "\u001b[95m\t\t[65, 4, -8, 95, -108, 113, 60, -19, 44, 58, -24, -7, 98, -21, 42, -13]\u001b[0m\n",
      "\u001b[95m\t\t[67, 67, 75, 112, 96, 64, 92, 11, -27, -54, 87, 67, 86, 87, 55, 15]\u001b[0m\n",
      "\u001b[95m\t\t[2, 10, -16, 23, 10, 13, -46, -25, 2, 38, -13, -31, 41, -16, 10, -35]\u001b[0m\n",
      "\u001b[96mDMVM\t\t[117, 109, 74, 71, -81]\u001b[0m\n",
      "\u001b[97mCOEF\t\t[117, 113, 95, 94, 36]\u001b[0m\n",
      "------------------------------------------------------------------------------------------\n",
      "------------------------------------------------------------------------------------------\n",
      "\u001b[91mraw\t\t[0, 0, 0, -84, 0, 0, 3, 0, 0, 16]\u001b[0m\n",
      "\u001b[91m\t\t[27, 66, 0, 95, 95, 93, 115, 90, 0, 101]\u001b[0m\n",
      "\u001b[91m\t\t[0, 0, -32, 0, 0, 0, -82, 0, 0, 99]\u001b[0m\n",
      "\u001b[91m\t\t[42, 4, 0, 0, -119, 0, 0, 0, 83, 78]\u001b[0m\n",
      "\u001b[91m\t\t[0, 124, 13, 79, 74, 0, 0, 111, 0, -22]\u001b[0m\n",
      "\u001b[92mcol_idx\t\t[3, 6, 9, 0, 1, 3, 4, 5, 6, 7, 9, 2, 6, 9, 0, 1, 4, 8, 9, 1, 2, 3, 4, 7, 9]\u001b[0m\n",
      "\u001b[93mvalue\t\t[-84, 3, 16, 27, 66, 95, 95, 93, 115, 90, 101, -32, -82, 99, 42, 4, -119, 83, 78, 124, 13, 79, 74, 111, -22]\u001b[0m\n",
      "\u001b[94mnode_info\t['00111011', '10001010', '00111010', '01011010', '01101010']\u001b[0m\n",
      "\u001b[95mSPMM\t\t[6, -70, -39, 17, -70, -81, -62, 78, -47, -64, 67, 97, -38, -17, -49, 24]\u001b[0m\n",
      "\u001b[95m\t\t[66, 82, 82, -6, 76, 70, 65, 7, 33, 14, 64, 75, 34, 85, 92, 31]\u001b[0m\n",
      "\u001b[95m\t\t[-4, -8, 35, -65, -35, -47, 54, 37, 100, 52, -3, 35, -78, -6, -65, 12]\u001b[0m\n",
      "\u001b[95m\t\t[106, 117, 109, 38, -112, -34, -11, 66, 14, 84, 16, 123, -63, 59, 11, -63]\u001b[0m\n",
      "\u001b[95m\t\t[58, 106, 69, 113, 107, 92, 113, -112, 86, 95, 38, 13, 69, 71, 69, -89]\u001b[0m\n",
      "\u001b[96mDMVM\t\t[-76, 92, -104, 80, 8]\u001b[0m\n",
      "\u001b[97mCOEF\t\t[0, 16, 0, 4, 0]\u001b[0m\n",
      "------------------------------------------------------------------------------------------\n",
      "------------------------------------------------------------------------------------------\n",
      "\u001b[91mraw\t\t[0, 0, 0, -116, -78, 70, -112, 0, 0, 83]\u001b[0m\n",
      "\u001b[91m\t\t[-104, 65, 76, 49, 0, 108, 86, 50, 0, 0]\u001b[0m\n",
      "\u001b[91m\t\t[0, 18, 0, 0, 0, 0, 0, -90, 66, 0]\u001b[0m\n",
      "\u001b[91m\t\t[110, 41, 19, 95, 0, 102, 0, 0, 0, 0]\u001b[0m\n",
      "\u001b[91m\t\t[0, 110, 90, 5, 6, 55, -39, 63, 0, 0]\u001b[0m\n",
      "\u001b[91m\t\t[0, 0, 53, 0, 0, 98, 0, 0, 0, 65]\u001b[0m\n",
      "\u001b[92mcol_idx\t\t[3, 4, 5, 6, 9, 0, 1, 2, 3, 5, 6, 7, 1, 7, 8, 0, 1, 2, 3, 5, 1, 2, 3, 4, 5, 6, 7, 2, 5, 9]\u001b[0m\n",
      "\u001b[93mvalue\t\t[-116, -78, 70, -112, 83, -104, 65, 76, 49, 108, 86, 50, 18, -90, 66, 110, 41, 19, 95, 102, 110, 90, 5, 6, 55, -39, 63, 53, 98, 65]\u001b[0m\n",
      "\u001b[94mnode_info\t['01011101', '01111100', '00111100', '01011100', '01111100', '00111100']\u001b[0m\n",
      "\u001b[95mSPMM\t\t[25, -24, -20, -96, -71, -93, -53, 71, 41, 71, -41, 105, -77, -7, -59, 34]\u001b[0m\n",
      "\u001b[95m\t\t[109, 64, 116, -42, -17, 100, -16, 74, -39, 15, 1, 80, 71, 78, 106, -17]\u001b[0m\n",
      "\u001b[95m\t\t[-43, 24, -33, 28, -124, -15, 27, 87, -45, -31, -29, 92, 46, 45, 3, 27]\u001b[0m\n",
      "\u001b[95m\t\t[118, 74, 65, -27, 70, 72, 77, 39, 15, 48, -50, -43, 64, 88, 126, 74]\u001b[0m\n",
      "\u001b[95m\t\t[116, 104, 108, 58, -40, 85, -48, 10, 65, 73, -5, 87, 37, 45, 85, -78]\u001b[0m\n",
      "\u001b[95m\t\t[77, 77, 64, -89, -39, 38, -12, 126, -45, 34, -15, 86, -21, 73, 114, 65]\u001b[0m\n",
      "\u001b[96mDMVM\t\t[-92, 98, 115, 115, 92, 107]\u001b[0m\n",
      "\u001b[97mCOEF\t\t[0, 6, 23, 23, 0, 15]\u001b[0m\n",
      "------------------------------------------------------------------------------------------\n",
      "------------------------------------------------------------------------------------------\n",
      "\u001b[91mraw\t\t[100, 0, 0, 43, 0, 54, 0, 0, 79, 0]\u001b[0m\n",
      "\u001b[91m\t\t[0, 81, -87, 16, 0, 0, 0, 0, 0, 77]\u001b[0m\n",
      "\u001b[91m\t\t[0, 0, -52, 0, 0, 0, 8, 0, 0, 64]\u001b[0m\n",
      "\u001b[91m\t\t[33, 55, 0, 113, 113, 0, 3, -124, 0, 18]\u001b[0m\n",
      "\u001b[91m\t\t[-85, 21, 73, 64, -27, 0, 22, 62, 0, 0]\u001b[0m\n",
      "\u001b[92mcol_idx\t\t[0, 3, 5, 8, 1, 2, 3, 9, 2, 6, 9, 0, 1, 3, 4, 6, 7, 9, 0, 1, 2, 3, 4, 6, 7]\u001b[0m\n",
      "\u001b[93mvalue\t\t[100, 43, 54, 79, 81, -87, 16, 77, -52, 8, 64, 33, 55, 113, 113, 3, -124, 18, -85, 21, 73, 64, -27, 22, 62]\u001b[0m\n",
      "\u001b[94mnode_info\t['01001011', '01001010', '00111010', '01111010', '01111010']\u001b[0m\n",
      "\u001b[95mSPMM\t\t[116, 66, 84, 32, -9, 63, 89, 13, 111, 62, 7, 36, 104, 120, 104, 47]\u001b[0m\n",
      "\u001b[95m\t\t[37, 35, 119, 14, -35, 70, 104, 73, 66, 16, 29, 103, -5, 81, 0, 21]\u001b[0m\n",
      "\u001b[95m\t\t[16, 3, 48, -29, -4, -9, 60, 27, 4, -42, 33, 51, -55, 34, 1, 34]\u001b[0m\n",
      "\u001b[95m\t\t[-87, 79, 5, -3, -14, 42, 86, -2, -19, -66, -20, 10, 70, 100, 62, 64]\u001b[0m\n",
      "\u001b[95m\t\t[42, 84, 80, -3, 38, 67, -27, -51, -2, 96, -59, -30, 32, -11, 123, -71]\u001b[0m\n",
      "\u001b[96mDMVM\t\t[97, 86, 119, 83, -10]\u001b[0m\n",
      "\u001b[97mCOEF\t\t[97, 91, 108, 90, 87]\u001b[0m\n",
      "------------------------------------------------------------------------------------------\n",
      "------------------------------------------------------------------------------------------\n",
      "\u001b[91mraw\t\t[0, 23, 92, 0, -95, 0, 0, 0, 0, 23]\u001b[0m\n",
      "\u001b[91m\t\t[0, 0, 0, 64, -122, 0, 0, 18, 13, 108]\u001b[0m\n",
      "\u001b[91m\t\t[25, 98, 0, -99, 0, 0, 0, 16, 0, 46]\u001b[0m\n",
      "\u001b[91m\t\t[-89, 91, 19, 1, 0, 0, 19, -28, 0, 55]\u001b[0m\n",
      "\u001b[91m\t\t[0, 0, 73, 0, 0, 7, 0, 0, 93, 121]\u001b[0m\n",
      "\u001b[92mcol_idx\t\t[1, 2, 4, 9, 3, 4, 7, 8, 9, 0, 1, 3, 7, 9, 0, 1, 2, 3, 6, 7, 9, 2, 5, 8, 9]\u001b[0m\n",
      "\u001b[93mvalue\t\t[23, 92, -95, 23, 64, -122, 18, 13, 108, 25, 98, -99, 16, 46, -89, 91, 19, 1, 19, -28, 55, 73, 7, 93, 121]\u001b[0m\n",
      "\u001b[94mnode_info\t['01001011', '01011010', '01011010', '01111010', '01001010']\u001b[0m\n",
      "\u001b[95mSPMM\t\t[43, 83, 55, 24, -50, -10, -60, 119, -44, 94, -16, 44, -26, -5, -5, -64]\u001b[0m\n",
      "\u001b[95m\t\t[74, 121, 78, -46, -8, 17, 9, 79, 0, 113, -35, 18, -122, 23, 24, -116]\u001b[0m\n",
      "\u001b[95m\t\t[74, 10, 60, 100, -110, -10, -56, 97, 43, 27, 66, 66, 34, 82, -47, 11]\u001b[0m\n",
      "\u001b[95m\t\t[-13, 23, 124, 17, -100, 86, -4, 64, -56, 48, -9, 76, 24, 41, 48, -46]\u001b[0m\n",
      "\u001b[95m\t\t[108, 103, 90, 29, -86, 22, 46, 115, 80, 108, 94, 114, -3, 91, 125, -55]\u001b[0m\n",
      "\u001b[96mDMVM\t\t[-82, -27, 69, 78, 74]\u001b[0m\n",
      "\u001b[97mCOEF\t\t[0, 0, 0, 0, 0]\u001b[0m\n",
      "------------------------------------------------------------------------------------------\n",
      "------------------------------------------------------------------------------------------\n",
      "\u001b[91mraw\t\t[64, 32, 0, 0, 0, -34, 0, 88, 45, 0]\u001b[0m\n",
      "\u001b[91m\t\t[0, 0, -119, 0, 7, 115, 0, 0, 107, 36]\u001b[0m\n",
      "\u001b[91m\t\t[-88, 117, 0, 0, 60, 103, 0, 75, 0, 0]\u001b[0m\n",
      "\u001b[92mcol_idx\t\t[0, 1, 5, 7, 8, 2, 4, 5, 8, 9, 0, 1, 4, 5, 7]\u001b[0m\n",
      "\u001b[93mvalue\t\t[64, 32, -34, 88, 45, -119, 7, 115, 107, 36, -88, 117, 60, 103, 75]\u001b[0m\n",
      "\u001b[94mnode_info\t['01010111', '01010110', '01010110']\u001b[0m\n",
      "\u001b[95mSPMM\t\t[65, 101, 98, 64, 42, 59, 39, -61, 110, 122, 109, 50, 85, 81, 32, -45]\u001b[0m\n",
      "\u001b[95m\t\t[98, 74, 69, -72, -73, 68, 85, 56, -19, -23, -74, 103, -2, 69, 74, 64]\u001b[0m\n",
      "\u001b[95m\t\t[101, 92, 78, -14, -65, 79, 43, 51, 34, 62, -52, 107, 111, 125, 107, -30]\u001b[0m\n",
      "\u001b[96mDMVM\t\t[98, 98, 99]\u001b[0m\n",
      "\u001b[97mCOEF\t\t[98, 98, 98]\u001b[0m\n",
      "------------------------------------------------------------------------------------------\n",
      "------------------------------------------------------------------------------------------\n",
      "\u001b[91mraw\t\t[0, 9, 0, 0, 84, 23, 0, 0, 0, 56]\u001b[0m\n",
      "\u001b[91m\t\t[0, 0, 0, 98, 0, -87, 32, 0, 0, 54]\u001b[0m\n",
      "\u001b[91m\t\t[0, 0, 0, -100, 0, 76, 0, 0, 19, 96]\u001b[0m\n",
      "\u001b[91m\t\t[29, 70, 8, 0, -41, 0, 70, 44, 0, 81]\u001b[0m\n",
      "\u001b[91m\t\t[48, 0, 38, 100, 20, 84, 52, 0, 90, 0]\u001b[0m\n",
      "\u001b[91m\t\t[0, 0, 0, 0, 0, 43, -127, 0, -104, -45]\u001b[0m\n",
      "\u001b[92mcol_idx\t\t[1, 4, 5, 9, 3, 5, 6, 9, 3, 5, 8, 9, 0, 1, 2, 4, 6, 7, 9, 0, 2, 3, 4, 5, 6, 8, 5, 6, 8, 9]\u001b[0m\n",
      "\u001b[93mvalue\t\t[9, 84, 23, 56, 98, -87, 32, 54, -100, 76, 19, 96, 29, 70, 8, -41, 70, 44, 81, 48, 38, 100, 20, 84, 52, 90, 43, -127, -104, -45]\u001b[0m\n",
      "\u001b[94mnode_info\t['01001101', '01001100', '01001100', '01111100', '01111100', '01001100']\u001b[0m\n",
      "\u001b[95mSPMM\t\t[23, 74, 70, -26, 20, 40, 84, 9, 63, -68, 66, 86, 26, 127, 69, 79]\u001b[0m\n",
      "\u001b[95m\t\t[-10, 86, 71, 40, 122, 59, 100, -24, 96, 71, 49, -28, 24, 34, 30, -107]\u001b[0m\n",
      "\u001b[95m\t\t[79, 32, 76, -55, -69, -68, -34, 65, -73, -70, 74, 106, -86, 107, 33, 101]\u001b[0m\n",
      "\u001b[95m\t\t[69, 81, 97, 74, 7, 82, 6, 120, 29, 93, 123, 83, 65, 81, 81, -46]\u001b[0m\n",
      "\u001b[95m\t\t[67, 80, 122, 3, 20, 110, 125, -7, 52, 68, -31, 41, 115, 118, 91, 71]\u001b[0m\n",
      "\u001b[95m\t\t[-104, -71, -72, -57, 29, -59, -84, -40, 23, 48, -78, -67, -60, -104, -90, 47]\u001b[0m\n",
      "\u001b[96mDMVM\t\t[117, -65, 82, 79, 70, -97]\u001b[0m\n",
      "\u001b[97mCOEF\t\t[117, 52, 99, 98, 93, 20]\u001b[0m\n",
      "------------------------------------------------------------------------------------------\n",
      "------------------------------------------------------------------------------------------\n",
      "\u001b[91mraw\t\t[0, 0, -81, 0, 0, 56, 3, -127, -76, 0]\u001b[0m\n",
      "\u001b[91m\t\t[60, 0, -84, 67, 92, 111, 5, 0, 0, 27]\u001b[0m\n",
      "\u001b[91m\t\t[0, 52, 85, 0, 0, 0, 0, 20, 0, 0]\u001b[0m\n",
      "\u001b[91m\t\t[0, 51, 117, 0, 96, 0, 0, 74, 0, 81]\u001b[0m\n",
      "\u001b[92mcol_idx\t\t[2, 5, 6, 7, 8, 0, 2, 3, 4, 5, 6, 9, 1, 2, 7, 1, 2, 4, 7, 9]\u001b[0m\n",
      "\u001b[93mvalue\t\t[-81, 56, 3, -127, -76, 60, -84, 67, 92, 111, 5, 27, 52, 85, 20, 51, 117, 96, 74, 81]\u001b[0m\n",
      "\u001b[94mnode_info\t['01011001', '01111000', '00111000', '01011000']\u001b[0m\n",
      "\u001b[95mSPMM\t\t[-73, -116, -76, -71, -42, -76, 3, 106, -125, -117, -112, -70, -78, -42, -101, 104]\u001b[0m\n",
      "\u001b[95m\t\t[65, 89, 101, -106, 74, 119, 103, 25, 1, -119, -30, -31, 68, 122, 75, 91]\u001b[0m\n",
      "\u001b[95m\t\t[50, 103, 77, 64, -9, 64, -56, 54, 52, 64, 34, 68, 79, 66, 43, -80]\u001b[0m\n",
      "\u001b[95m\t\t[122, 73, 68, 65, 65, 55, 29, 20, 110, 48, 82, 87, 25, 70, 71, -57]\u001b[0m\n",
      "\u001b[96mDMVM\t\t[-82, 111, 92, 74]\u001b[0m\n",
      "\u001b[97mCOEF\t\t[0, 29, 10, 0]\u001b[0m\n",
      "------------------------------------------------------------------------------------------\n",
      "------------------------------------------------------------------------------------------\n",
      "\u001b[91mraw\t\t[-38, 0, 0, 6, 0, 0, 15, 93, 92, 0]\u001b[0m\n",
      "\u001b[91m\t\t[0, 12, 51, 104, 0, 0, -125, 0, 86, 0]\u001b[0m\n",
      "\u001b[92mcol_idx\t\t[0, 3, 6, 7, 8, 1, 2, 3, 6, 8]\u001b[0m\n",
      "\u001b[93mvalue\t\t[-38, 6, 15, 93, 92, 12, 51, 104, -125, 86]\u001b[0m\n",
      "\u001b[94mnode_info\t['01010101', '01010100']\u001b[0m\n",
      "\u001b[95mSPMM\t\t[118, 66, 80, 62, -31, 96, 55, -80, 92, 87, 22, 69, 54, 41, 68, -116]\u001b[0m\n",
      "\u001b[95m\t\t[6, 56, 73, 1, -37, 88, 84, -87, 67, 112, -66, 1, -9, 11, 31, -104]\u001b[0m\n",
      "\u001b[96mDMVM\t\t[79, 5]\u001b[0m\n",
      "\u001b[97mCOEF\t\t[79, 84]\u001b[0m\n",
      "------------------------------------------------------------------------------------------\n",
      "------------------------------------------------------------------------------------------\n",
      "\u001b[91mraw\t\t[69, 0, 0, -1, 0, 116, 0, 0, 76, 116]\u001b[0m\n",
      "\u001b[91m\t\t[71, -72, 0, 89, 91, -97, -39, 0, 0, 0]\u001b[0m\n",
      "\u001b[91m\t\t[93, 102, 0, 0, 6, 49, 0, 5, 54, 0]\u001b[0m\n",
      "\u001b[91m\t\t[0, 41, 0, 43, 0, 31, 0, 0, 0, 4]\u001b[0m\n",
      "\u001b[91m\t\t[0, 110, 0, 0, 0, 60, 119, 59, 0, 14]\u001b[0m\n",
      "\u001b[91m\t\t[0, -58, 0, 0, 85, 0, 0, 0, -24, 79]\u001b[0m\n",
      "\u001b[92mcol_idx\t\t[0, 3, 5, 8, 9, 0, 1, 3, 4, 5, 6, 0, 1, 4, 5, 7, 8, 1, 3, 5, 9, 1, 5, 6, 7, 9, 1, 4, 8, 9]\u001b[0m\n",
      "\u001b[93mvalue\t\t[69, -1, 116, 76, 116, 71, -72, 89, 91, -97, -39, 93, 102, 6, 49, 5, 54, 41, 43, 31, 4, 110, 60, 119, 59, 14, -58, 85, -24, 79]\u001b[0m\n",
      "\u001b[94mnode_info\t['01011101', '01101100', '01101100', '01001100', '01011100', '01001100']\u001b[0m\n",
      "\u001b[95mSPMM\t\t[106, 97, 100, -57, -85, 42, 93, 82, 47, 30, 45, 96, -2, 104, 92, 75]\u001b[0m\n",
      "\u001b[95m\t\t[-63, 32, -96, 23, 59, -26, 68, -86, 101, -19, 65, -82, 14, 6, -45, -33]\u001b[0m\n",
      "\u001b[95m\t\t[67, 68, 122, 109, -67, 110, 48, 114, 67, 102, 52, 72, 100, 73, 67, 87]\u001b[0m\n",
      "\u001b[95m\t\t[27, 85, 80, -9, 2, 88, 36, 19, 25, 59, -43, -2, 48, 67, 54, 1]\u001b[0m\n",
      "\u001b[95m\t\t[87, 109, 85, 83, 1, 115, 22, 37, -34, 30, 87, 88, 99, 120, 114, -1]\u001b[0m\n",
      "\u001b[95m\t\t[-14, 23, 10, -78, 80, -41, 77, -43, 38, -62, 84, 26, -64, 72, 33, 89]\u001b[0m\n",
      "\u001b[96mDMVM\t\t[70, -69, 96, 106, 105, 9]\u001b[0m\n",
      "\u001b[97mCOEF\t\t[70, 1, 83, 88, 87, 79]\u001b[0m\n",
      "------------------------------------------------------------------------------------------\n",
      "------------------------------------------------------------------------------------------\n",
      "\u001b[91mraw\t\t[65, 0, 0, -11, 0, 49, -4, 0, 0, 108]\u001b[0m\n",
      "\u001b[91m\t\t[54, 53, 0, 83, 13, 0, 0, 0, 0, 0]\u001b[0m\n",
      "\u001b[91m\t\t[0, 0, 42, 0, -104, 32, 0, 0, -41, 0]\u001b[0m\n",
      "\u001b[91m\t\t[0, 0, 65, 94, 51, 0, 13, 0, 82, 0]\u001b[0m\n",
      "\u001b[91m\t\t[117, 0, -70, 1, 0, 73, 0, 37, 76, 76]\u001b[0m\n",
      "\u001b[92mcol_idx\t\t[0, 3, 5, 6, 9, 0, 1, 3, 4, 2, 4, 5, 8, 2, 3, 4, 6, 8, 0, 2, 3, 5, 7, 8, 9]\u001b[0m\n",
      "\u001b[93mvalue\t\t[65, -11, 49, -4, 108, 54, 53, 83, 13, 42, -104, 32, -41, 65, 94, 51, 13, 82, 117, -70, 1, 73, 37, 76, 76]\u001b[0m\n",
      "\u001b[94mnode_info\t['01011011', '01001010', '01001010', '01011010', '01111010']\u001b[0m\n",
      "\u001b[95mSPMM\t\t[92, 73, 97, -45, -6, -19, 40, 120, 46, 9, 82, 118, -49, 84, 37, 116]\u001b[0m\n",
      "\u001b[95m\t\t[41, 77, 80, 41, 72, 116, 84, -28, 64, 101, -4, -31, 108, 119, 46, 17]\u001b[0m\n",
      "\u001b[95m\t\t[12, 8, 1, -50, -23, -33, -65, 92, -115, 44, -75, -54, -76, -62, -37, -59]\u001b[0m\n",
      "\u001b[95m\t\t[52, 71, 64, 44, 34, 69, 112, -79, 121, 93, -7, 26, 72, 77, 87, -50]\u001b[0m\n",
      "\u001b[95m\t\t[102, 125, 73, 4, -24, 30, 67, 58, 67, 7, 79, 120, 23, 85, 96, 35]\u001b[0m\n",
      "\u001b[96mDMVM\t\t[80, 95, -123, 48, 79]\u001b[0m\n",
      "\u001b[97mCOEF\t\t[80, 87, 0, 64, 79]\u001b[0m\n",
      "------------------------------------------------------------------------------------------\n",
      "------------------------------------------------------------------------------------------\n",
      "\u001b[91mraw\t\t[0, 0, 0, 0, 0, 0, 0, 53, 51, 26]\u001b[0m\n",
      "\u001b[91m\t\t[0, 0, 109, 67, -114, 0, 69, 36, -83, 17]\u001b[0m\n",
      "\u001b[91m\t\t[33, 0, 91, 123, 0, 0, 39, 0, 0, -73]\u001b[0m\n",
      "\u001b[92mcol_idx\t\t[7, 8, 9, 2, 3, 4, 6, 7, 8, 9, 0, 2, 3, 6, 9]\u001b[0m\n",
      "\u001b[93mvalue\t\t[53, 51, 26, 109, 67, -114, 69, 36, -83, 17, 33, 91, 123, 39, -73]\u001b[0m\n",
      "\u001b[94mnode_info\t['00110111', '01110110', '01010110']\u001b[0m\n",
      "\u001b[95mSPMM\t\t[83, 65, 103, 34, -14, 41, 41, -24, 82, 59, 39, 62, 13, 54, 68, -43]\u001b[0m\n",
      "\u001b[95m\t\t[54, 59, 29, -24, 125, 49, -67, 44, -107, 31, -21, -90, -4, 2, 50, -76]\u001b[0m\n",
      "\u001b[95m\t\t[21, 16, 46, 36, 68, 72, 12, -107, 46, 43, -61, -70, 86, 13, 51, -58]\u001b[0m\n",
      "\u001b[96mDMVM\t\t[81, -71, -116]\u001b[0m\n",
      "\u001b[97mCOEF\t\t[81, 10, 0]\u001b[0m\n",
      "------------------------------------------------------------------------------------------\n",
      "------------------------------------------------------------------------------------------\n",
      "\u001b[91mraw\t\t[16, 0, 6, 0, 0, 98, 0, -56, 0, 0]\u001b[0m\n",
      "\u001b[91m\t\t[44, 32, 0, 0, 61, 0, 0, 22, -24, -92]\u001b[0m\n",
      "\u001b[91m\t\t[0, 97, 7, -10, 0, 101, 0, 0, 0, 0]\u001b[0m\n",
      "\u001b[91m\t\t[1, 8, 30, 0, 74, 0, 36, 0, 0, 0]\u001b[0m\n",
      "\u001b[91m\t\t[0, 74, 85, 105, 107, 127, -126, 0, 0, 0]\u001b[0m\n",
      "\u001b[92mcol_idx\t\t[0, 2, 5, 7, 0, 1, 4, 7, 8, 9, 1, 2, 3, 5, 0, 1, 2, 4, 6, 1, 2, 3, 4, 5, 6]\u001b[0m\n",
      "\u001b[93mvalue\t\t[16, 6, 98, -56, 44, 32, 61, 22, -24, -92, 97, 7, -10, 101, 1, 8, 30, 74, 36, 74, 85, 105, 107, 127, -126]\u001b[0m\n",
      "\u001b[94mnode_info\t['01001011', '01101010', '01001010', '01011010', '01101010']\u001b[0m\n",
      "\u001b[95mSPMM\t\t[2, 69, 4, -88, -67, 6, -8, 110, -107, -54, -78, 17, 8, 88, 51, 67]\u001b[0m\n",
      "\u001b[95m\t\t[-3, -7, -63, 62, 67, 53, 3, -89, 78, -32, 15, -74, 68, 17, -10, 61]\u001b[0m\n",
      "\u001b[95m\t\t[80, 116, 65, -6, -95, 121, -11, 75, -23, 58, -48, 102, 88, 68, 85, 59]\u001b[0m\n",
      "\u001b[95m\t\t[12, 64, 30, 28, 41, 48, 36, -20, 25, -67, 72, 58, 100, 100, 76, 35]\u001b[0m\n",
      "\u001b[95m\t\t[32, 35, 10, -95, 7, 39, 98, -10, 122, 49, -78, -53, -49, -8, -25, 73]\u001b[0m\n",
      "\u001b[96mDMVM\t\t[-109, 0, 88, 96, -30]\u001b[0m\n",
      "\u001b[97mCOEF\t\t[0, 0, 0, 0, 0]\u001b[0m\n",
      "------------------------------------------------------------------------------------------\n",
      "------------------------------------------------------------------------------------------\n",
      "\u001b[91mraw\t\t[0, 0, 0, 31, -25, 0, -32, -46, 52, 105]\u001b[0m\n",
      "\u001b[91m\t\t[86, 0, 90, 0, 72, 0, 0, 0, 0, 19]\u001b[0m\n",
      "\u001b[91m\t\t[75, 0, 35, 26, 0, 0, 0, 0, 0, 126]\u001b[0m\n",
      "\u001b[91m\t\t[0, 79, 0, 107, 17, 0, 84, 0, 5, -88]\u001b[0m\n",
      "\u001b[92mcol_idx\t\t[3, 4, 6, 7, 8, 9, 0, 2, 4, 9, 0, 2, 3, 9, 1, 3, 4, 6, 8, 9]\u001b[0m\n",
      "\u001b[93mvalue\t\t[31, -25, -32, -46, 52, 105, 86, 90, 72, 19, 75, 35, 26, 126, 79, 107, 17, 84, 5, -88]\u001b[0m\n",
      "\u001b[94mnode_info\t['01101001', '01001000', '01001000', '01101000']\u001b[0m\n",
      "\u001b[95mSPMM\t\t[10, 93, 79, -34, -80, -16, 67, 91, 37, 69, -5, 100, -82, 74, 15, -14]\u001b[0m\n",
      "\u001b[95m\t\t[57, 99, 16, 55, 75, 9, 10, 10, 69, 22, 65, 68, 106, 95, 49, 82]\u001b[0m\n",
      "\u001b[95m\t\t[89, 100, 115, -5, 52, -4, 53, 86, 112, 77, 119, 111, -29, 92, 37, 50]\u001b[0m\n",
      "\u001b[95m\t\t[26, 64, 33, 89, 84, 66, 73, -77, 11, -24, -50, -62, 78, 19, 60, -45]\u001b[0m\n",
      "\u001b[96mDMVM\t\t[-126, 99, 79, -12]\u001b[0m\n",
      "\u001b[97mCOEF\t\t[0, 0, 0, 0]\u001b[0m\n",
      "------------------------------------------------------------------------------------------\n",
      "------------------------------------------------------------------------------------------\n",
      "\u001b[91mraw\t\t[0, 0, 0, 75, -123, 0, -47, 0, 0, 0]\u001b[0m\n",
      "\u001b[91m\t\t[-7, 0, 0, 5, 126, 100, 45, -85, 0, 116]\u001b[0m\n",
      "\u001b[91m\t\t[51, 7, 0, 76, 79, 0, 57, 0, 0, 0]\u001b[0m\n",
      "\u001b[91m\t\t[38, 0, 0, 0, 0, 0, 0, 116, 62, 0]\u001b[0m\n",
      "\u001b[91m\t\t[0, 68, 99, 0, 0, 74, -27, 50, 41, 24]\u001b[0m\n",
      "\u001b[92mcol_idx\t\t[3, 4, 6, 0, 3, 4, 5, 6, 7, 9, 0, 1, 3, 4, 6, 0, 7, 8, 1, 2, 5, 6, 7, 8, 9]\u001b[0m\n",
      "\u001b[93mvalue\t\t[75, -123, -47, -7, 5, 126, 100, 45, -85, 116, 51, 7, 76, 79, 57, 38, 116, 62, 68, 99, 74, -27, 50, 41, 24]\u001b[0m\n",
      "\u001b[94mnode_info\t['00111011', '01111010', '01011010', '00111010', '01111010']\u001b[0m\n",
      "\u001b[95mSPMM\t\t[-7, 20, 21, -44, -10, 7, -37, -1, -4, 121, -76, -69, -101, -105, -53, -117]\u001b[0m\n",
      "\u001b[95m\t\t[8, 84, 109, -123, -27, 48, 68, 70, -74, -67, 60, 96, 41, 101, 96, 76]\u001b[0m\n",
      "\u001b[95m\t\t[40, 99, 71, 30, 68, 114, 65, -86, 18, -50, 67, -9, 79, 113, 122, 86]\u001b[0m\n",
      "\u001b[95m\t\t[78, 106, 68, 81, 36, 73, 47, -88, 102, 113, 75, 35, 58, 77, 92, -46]\u001b[0m\n",
      "\u001b[95m\t\t[72, 124, 121, 31, -73, 61, -34, 37, 92, 65, -1, 64, 82, 91, 69, -55]\u001b[0m\n",
      "\u001b[96mDMVM\t\t[-73, 67, 64, 112, 99]\u001b[0m\n",
      "\u001b[97mCOEF\t\t[0, 0, 0, 39, 26]\u001b[0m\n",
      "------------------------------------------------------------------------------------------\n",
      "------------------------------------------------------------------------------------------\n",
      "\u001b[91mraw\t\t[0, 0, 0, 0, -32, 0, 0, 96, 78, 0]\u001b[0m\n",
      "\u001b[91m\t\t[23, 85, 0, 0, 0, 37, 0, 0, 0, 0]\u001b[0m\n",
      "\u001b[91m\t\t[-120, 0, 122, 70, 0, 46, 72, 85, 0, 0]\u001b[0m\n",
      "\u001b[91m\t\t[74, 0, -114, 61, 0, 101, 75, -105, 49, 108]\u001b[0m\n",
      "\u001b[92mcol_idx\t\t[4, 7, 8, 0, 1, 5, 0, 2, 3, 5, 6, 7, 0, 2, 3, 5, 6, 7, 8, 9]\u001b[0m\n",
      "\u001b[93mvalue\t\t[-32, 96, 78, 23, 85, 37, -120, 122, 70, 46, 72, 85, 74, -114, 61, 101, 75, -105, 49, 108]\u001b[0m\n",
      "\u001b[94mnode_info\t['00111001', '00111000', '01101000', '10001000']\u001b[0m\n",
      "\u001b[95mSPMM\t\t[65, 71, 68, 67, -23, 64, 26, -57, 108, 64, 25, 45, 28, 29, 88, -98]\u001b[0m\n",
      "\u001b[95m\t\t[56, 89, 81, 44, -46, 86, 6, 92, 39, 66, 2, 77, 88, 101, 29, 27]\u001b[0m\n",
      "\u001b[95m\t\t[86, 94, 81, -39, 66, 122, -32, -53, 5, 64, 14, -1, 86, 67, 112, -113]\u001b[0m\n",
      "\u001b[95m\t\t[60, 69, 118, -100, -51, 46, 65, 80, -24, -67, -7, 64, 34, 97, 71, 62]\u001b[0m\n",
      "\u001b[96mDMVM\t\t[94, 74, 30, 87]\u001b[0m\n",
      "\u001b[97mCOEF\t\t[94, 84, 124, 90]\u001b[0m\n",
      "------------------------------------------------------------------------------------------\n",
      "------------------------------------------------------------------------------------------\n",
      "\u001b[91mraw\t\t[8, 0, 117, 0, -40, 85, 54, 0, 76, 0]\u001b[0m\n",
      "\u001b[91m\t\t[0, 0, 28, -68, 88, 0, 0, 72, 82, 0]\u001b[0m\n",
      "\u001b[91m\t\t[0, 78, 0, 27, 0, 99, 0, -89, 0, 0]\u001b[0m\n",
      "\u001b[91m\t\t[0, 60, 55, 43, 32, -48, -10, 87, 0, 0]\u001b[0m\n",
      "\u001b[91m\t\t[0, 0, 10, 10, 0, 0, 0, 0, 91, 0]\u001b[0m\n",
      "\u001b[92mcol_idx\t\t[0, 2, 4, 5, 6, 8, 2, 3, 4, 7, 8, 1, 3, 5, 7, 1, 2, 3, 4, 5, 6, 7, 2, 3, 8]\u001b[0m\n",
      "\u001b[93mvalue\t\t[8, 117, -40, 85, 54, 76, 28, -68, 88, 72, 82, 78, 27, 99, -89, 60, 55, 43, 32, -48, -10, 87, 10, 10, 91]\u001b[0m\n",
      "\u001b[94mnode_info\t['01101011', '01011010', '01001010', '01111010', '00111010']\u001b[0m\n",
      "\u001b[95mSPMM\t\t[64, 77, 74, 17, -90, 73, -67, 67, -84, 33, -9, 67, 113, 112, 125, -22]\u001b[0m\n",
      "\u001b[95m\t\t[101, 48, 80, 94, -44, 30, 41, -45, 68, -28, 66, 79, 92, 103, 100, 2]\u001b[0m\n",
      "\u001b[95m\t\t[-11, 40, -16, -52, -111, 19, 16, 86, -96, -2, -110, 63, 76, 61, 60, 108]\u001b[0m\n",
      "\u001b[95m\t\t[76, 108, 65, 104, 92, 65, 27, -94, 102, 89, 68, 9, 102, 54, 56, -71]\u001b[0m\n",
      "\u001b[95m\t\t[47, 76, 63, 52, -71, 36, 50, -4, 51, 46, 2, 77, 56, 61, 75, -32]\u001b[0m\n",
      "\u001b[96mDMVM\t\t[16, 111, 86, 18, 67]\u001b[0m\n",
      "\u001b[97mCOEF\t\t[32, 127, 102, 34, 83]\u001b[0m\n",
      "------------------------------------------------------------------------------------------\n"
     ]
    }
   ],
   "source": [
    "print_sub_graphs()"
   ]
  },
  {
   "cell_type": "markdown",
   "metadata": {},
   "source": [
    "#### 6. Update testbench"
   ]
  },
  {
   "cell_type": "code",
   "execution_count": 266,
   "metadata": {},
   "outputs": [],
   "source": [
    "root_path       = os.path.abspath(\"../../\").replace(\"\\\\\", \"/\")\n",
    "filename        = os.path.join(root_path, \"tb/v2/top_tb.sv\").replace(\"\\\\\", \"/\")\n",
    "file_path_input = os.path.join(root_path, \"tb/inputs\").replace(\"\\\\\", \"/\")"
   ]
  },
  {
   "cell_type": "markdown",
   "metadata": {},
   "source": [
    "##### Inputs"
   ]
  },
  {
   "cell_type": "code",
   "execution_count": 267,
   "metadata": {},
   "outputs": [],
   "source": [
    "wrt_col_idx = []\n",
    "wrt_value = []\n",
    "wrt_node_info = []\n",
    "\n",
    "for key, value in GRAPH.items():\n",
    "  wrt_col_idx.append(value[\"col_idx\"])\n",
    "  wrt_value.append(value[\"value\"])\n",
    "  wrt_node_info.append(value[\"node_info\"])"
   ]
  },
  {
   "cell_type": "code",
   "execution_count": 268,
   "metadata": {},
   "outputs": [
    {
     "name": "stdout",
     "output_type": "stream",
     "text": [
      " open d:/VLSI/Capstone/tb/inputs/col_idx.txt\n",
      " open d:/VLSI/Capstone/tb/inputs/value.txt\n",
      " open d:/VLSI/Capstone/tb/inputs/node_info.txt\n",
      " open d:/VLSI/Capstone/tb/inputs/weight.txt\n",
      " open d:/VLSI/Capstone/tb/inputs/a.txt\n"
     ]
    }
   ],
   "source": [
    "def write_list_to_file(file_path, data_list):\n",
    "  with open(file_path, 'w') as file:\n",
    "    print(f\" open {file_path}\" )\n",
    "    for item in data_list:\n",
    "      for it in item:\n",
    "        file.write(f\"{it}\\n\")\n",
    "def write_list_to_file2(file_path, data_list):\n",
    "  with open(file_path, 'w') as file:\n",
    "    print(f\" open {file_path}\" )\n",
    "    for item in data_list:\n",
    "      file.write(f\"{item}\\n\")\n",
    "\n",
    "if (UPDATE_INPUT_TXT):\n",
    "  write_list_to_file(file_path_input + \"/col_idx.txt\", wrt_col_idx)\n",
    "  write_list_to_file(file_path_input + \"/value.txt\", wrt_value)\n",
    "  write_list_to_file(file_path_input + \"/node_info.txt\", wrt_node_info)\n",
    "  write_list_to_file(file_path_input + \"/weight.txt\", weight)\n",
    "  write_list_to_file2(file_path_input + \"/a.txt\", a)"
   ]
  },
  {
   "cell_type": "code",
   "execution_count": 269,
   "metadata": {},
   "outputs": [
    {
     "name": "stdout",
     "output_type": "stream",
     "text": [
      " open d:/VLSI/Capstone\\tb/outputs//WH.txt\n"
     ]
    }
   ],
   "source": [
    "#14/11/2024\n",
    "file_path_output = os.path.join(root_path, \"tb/outputs/\")\n",
    "wh_output = []\n",
    "for _WH in WH:\n",
    "  for _wh in _WH:\n",
    "    for wh in _wh:\n",
    "      wh_output.append(wh)\n",
    "write_list_to_file2(file_path_output + \"/WH.txt\", wh_output)"
   ]
  },
  {
   "cell_type": "markdown",
   "metadata": {},
   "source": [
    "##### Parameters"
   ]
  },
  {
   "cell_type": "code",
   "execution_count": 270,
   "metadata": {},
   "outputs": [
    {
     "name": "stdout",
     "output_type": "stream",
     "text": [
      "{'A_DEPTH': 32,\n",
      " 'COL_IDX_DEPTH': 500,\n",
      " 'H_NUM_OF_COLS': 10,\n",
      " 'H_NUM_OF_ROWS': 100,\n",
      " 'NODE_INFO_DEPTH': 100,\n",
      " 'NUM_OF_NODES': 6,\n",
      " 'VALUE_DEPTH': 500,\n",
      " 'WEIGHT_DEPTH': 160,\n",
      " 'WH_DEPTH': 100,\n",
      " 'W_NUM_OF_COLS': 16,\n",
      " 'W_NUM_OF_ROWS': 10}\n"
     ]
    }
   ],
   "source": [
    "_col_idx = [len(item) for item in wrt_col_idx]\n",
    "len_col_idx = 0\n",
    "for col in _col_idx:\n",
    "  len_col_idx += col\n",
    "\n",
    "_value = [len(item) for item in wrt_value]\n",
    "len_value = 0\n",
    "for val in _value:\n",
    "  len_value += val\n",
    "\n",
    "_node_info = [len(item) for item in wrt_node_info]\n",
    "len_node_info = 0\n",
    "for node in _node_info:\n",
    "  len_node_info += node\n",
    "\n",
    "params[\"COL_IDX_DEPTH\"] = len_col_idx\n",
    "params[\"VALUE_DEPTH\"] = len_value\n",
    "params[\"NODE_INFO_DEPTH\"] = len_node_info\n",
    "params[\"WEIGHT_DEPTH\"] = params[\"W_NUM_OF_ROWS\"] * params[\"W_NUM_OF_COLS\"]\n",
    "params[\"WH_DEPTH\"] = len_node_info\n",
    "params[\"A_DEPTH\"] = params[\"W_NUM_OF_COLS\"] * 2\n",
    "pprint(params)"
   ]
  },
  {
   "cell_type": "code",
   "execution_count": 271,
   "metadata": {},
   "outputs": [],
   "source": [
    "def update_parameters(filename, parameters):\n",
    "  with open(filename, 'r') as file:\n",
    "    file_data = file.readlines()\n",
    "\n",
    "  for i, line in enumerate(file_data):\n",
    "    for param, new_value in parameters.items():\n",
    "      found_param = \"parameter \" + param\n",
    "      # print(param)\n",
    "      if found_param in line:\n",
    "        file_data[i] = f\"  parameter {param}\\t\\t\\t= {new_value},\\n\"\n",
    "\n",
    "  with open(filename, 'w') as file:\n",
    "      file.writelines(file_data)\n",
    "\n",
    "if (UPDATE_INPUT_TXT):\n",
    "  update_parameters(filename, params)"
   ]
  },
  {
   "cell_type": "markdown",
   "metadata": {},
   "source": [
    "##### Root Path"
   ]
  },
  {
   "cell_type": "code",
   "execution_count": 272,
   "metadata": {},
   "outputs": [],
   "source": [
    "def update_root_path(filename, root_path):\n",
    "  with open(filename, 'r') as file:\n",
    "    file_data = file.readlines()\n",
    "\n",
    "  for i, line in enumerate(file_data):\n",
    "    if \"localparam string ROOT_PATH\" in line:\n",
    "      file_data[i] = f\"\\tlocalparam string ROOT_PATH = \\\"{root_path}\\\";\\n\"\n",
    "\n",
    "  with open(filename, 'w') as file:\n",
    "      file.writelines(file_data)\n",
    "\n",
    "update_root_path(filename, root_path)"
   ]
  }
 ],
 "metadata": {
  "kernelspec": {
   "display_name": "Python 3",
   "language": "python",
   "name": "python3"
  },
  "language_info": {
   "codemirror_mode": {
    "name": "ipython",
    "version": 3
   },
   "file_extension": ".py",
   "mimetype": "text/x-python",
   "name": "python",
   "nbconvert_exporter": "python",
   "pygments_lexer": "ipython3",
   "version": "3.11.9"
  }
 },
 "nbformat": 4,
 "nbformat_minor": 2
}
