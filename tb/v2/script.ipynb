{
 "cells": [
  {
   "cell_type": "code",
   "execution_count": 109,
   "metadata": {},
   "outputs": [],
   "source": [
    "import os\n",
    "import math\n",
    "import random\n",
    "from pprint import pprint\n",
    "from pathlib import Path"
   ]
  },
  {
   "cell_type": "markdown",
   "metadata": {},
   "source": [
    "#### 0. Configuration\n",
    "*(Modify here only)*"
   ]
  },
  {
   "cell_type": "code",
   "execution_count": 110,
   "metadata": {},
   "outputs": [],
   "source": [
    "params = {\n",
    "  \"H_NUM_OF_ROWS\" : 100,\n",
    "  \"H_NUM_OF_COLS\" : 10,         # WARNING: Do not set as powers of 2.\n",
    "\n",
    "  \"W_NUM_OF_ROWS\" : 10,\n",
    "  \"W_NUM_OF_COLS\" : 16,\n",
    "\n",
    "  \"NUM_OF_NODES\"  : 6,          # WARNING: Do not set as powers of 2.\n",
    "}"
   ]
  },
  {
   "cell_type": "code",
   "execution_count": 111,
   "metadata": {},
   "outputs": [],
   "source": [
    "CORA_DATASET_ENABLE = 0         # 1: enable for Cora dataset    0: enable for other dataset\n",
    "UPDATE_INPUT_TXT    = 1         # 1: update inputs/*.txt        0: do not update inputs/*.txt"
   ]
  },
  {
   "cell_type": "markdown",
   "metadata": {},
   "source": [
    "#### 1. Random Inputs"
   ]
  },
  {
   "cell_type": "code",
   "execution_count": 112,
   "metadata": {},
   "outputs": [],
   "source": [
    "params.update({\n",
    "  \"COL_IDX_DEPTH\"   : 0,                                # số lượng col_idx tổng cộng\n",
    "  \"VALUE_DEPTH\"     : 0,                                # số lượng value tổng cộng\n",
    "  \"NODE_INFO_DEPTH\" : 0,                                # số lượng node tổng cộng\n",
    "  \"WEIGHT_DEPTH\"    : 0,                                # = W_ROWS * W_COLS\n",
    "  \"WH_DEPTH\"        : 0,                                # = số lượng node tổng cộng\n",
    "  \"A_DEPTH\"         : params[\"W_NUM_OF_COLS\"] * 2,      # = W_COLS * 2\n",
    "})"
   ]
  },
  {
   "cell_type": "code",
   "execution_count": 113,
   "metadata": {
    "notebookRunGroups": {
     "groupValue": "2"
    }
   },
   "outputs": [],
   "source": [
    "def random_matrix(rows, cols, sparsity_percent):\n",
    "  neg_percent = 20\n",
    "  total_elements = rows * cols\n",
    "  num_zeros = int(total_elements * sparsity_percent / 100)\n",
    "  num_non_zeros = total_elements - num_zeros\n",
    "\n",
    "  num_negatives = int(num_non_zeros * neg_percent / 100)\n",
    "  num_positives = num_non_zeros - num_negatives\n",
    "\n",
    "  matrix_elements = (\n",
    "      [0] * num_zeros +\n",
    "      [random.randint(-127, -1) for _ in range(num_negatives)] +\n",
    "      [random.randint(1, 127) for _ in range(num_positives)]\n",
    "  )\n",
    "\n",
    "  random.shuffle(matrix_elements)\n",
    "\n",
    "  sparse_matrix = []\n",
    "  for i in range(rows):\n",
    "    sparse_matrix.append(matrix_elements[i * cols:(i + 1) * cols])\n",
    "\n",
    "  # Ensure no row is completely zero\n",
    "  for row in sparse_matrix:\n",
    "    if all(value == 0 for value in row):\n",
    "      row[random.randint(0, cols - 1)] = random.randint(1, 9)\n",
    "\n",
    "  return sparse_matrix"
   ]
  },
  {
   "cell_type": "markdown",
   "metadata": {},
   "source": [
    "##### Weight\n"
   ]
  },
  {
   "cell_type": "code",
   "execution_count": 114,
   "metadata": {},
   "outputs": [],
   "source": [
    "weight = random_matrix(params[\"W_NUM_OF_ROWS\"], params[\"W_NUM_OF_COLS\"], 0)"
   ]
  },
  {
   "cell_type": "markdown",
   "metadata": {},
   "source": [
    "##### Weight Vector a"
   ]
  },
  {
   "cell_type": "code",
   "execution_count": 115,
   "metadata": {},
   "outputs": [],
   "source": [
    "# a = [1 if i < params[\"A_DEPTH\"] / 2 else 2 for i in range(params[\"A_DEPTH\"])]\n",
    "a = random_matrix(1, params[\"A_DEPTH\"], 0)[0]\n",
    "\n",
    "midpoint = len(a) // 2\n",
    "a_1 = a[:midpoint]\n",
    "a_2 = a[midpoint:]"
   ]
  },
  {
   "cell_type": "markdown",
   "metadata": {},
   "source": [
    "##### SubGraph"
   ]
  },
  {
   "cell_type": "code",
   "execution_count": 116,
   "metadata": {
    "notebookRunGroups": {
     "groupValue": "1"
    }
   },
   "outputs": [],
   "source": [
    "subGraph = []\n",
    "sub_row = random.randint(2, params[\"NUM_OF_NODES\"])\n",
    "sub_cnt = 0\n",
    "source_node_list = []\n",
    "while sub_cnt < params[\"H_NUM_OF_ROWS\"]:\n",
    "  sub_row = random.randint(2, params[\"NUM_OF_NODES\"])\n",
    "  sub_cnt += sub_row\n",
    "  if sub_cnt >= params[\"H_NUM_OF_ROWS\"]:\n",
    "    sub_row = sub_row - (sub_cnt - params[\"H_NUM_OF_ROWS\"])\n",
    "    if sub_row == 1:\n",
    "      sub_row = 2\n",
    "      for item in subGraph:\n",
    "        if len(item) >= 3:\n",
    "          item.pop(-1)\n",
    "          break\n",
    "  subG = random_matrix(sub_row, params[\"H_NUM_OF_COLS\"], 50)\n",
    "  if (CORA_DATASET_ENABLE):\n",
    "    subG = [[1 if x != 0 else 0 for x in row] for row in subG]\n",
    "  subGraph.append(subG)"
   ]
  },
  {
   "cell_type": "markdown",
   "metadata": {},
   "source": [
    "##### Feature"
   ]
  },
  {
   "cell_type": "code",
   "execution_count": 117,
   "metadata": {},
   "outputs": [],
   "source": [
    "feature = []\n",
    "for i in range(len(subGraph)):\n",
    "  feature += subGraph[i]"
   ]
  },
  {
   "cell_type": "markdown",
   "metadata": {},
   "source": [
    "#### 2. Calculation"
   ]
  },
  {
   "cell_type": "markdown",
   "metadata": {},
   "source": [
    "Convert and calculate in binary format."
   ]
  },
  {
   "cell_type": "code",
   "execution_count": 118,
   "metadata": {},
   "outputs": [],
   "source": [
    "def decimal_to_binary(num):\n",
    "  if num < 0:\n",
    "    num = (1 << 8) + num\n",
    "  return format(num & 0xFF, '08b')\n",
    "\n",
    "def binary_to_decimal(bin_str):\n",
    "  num = int(bin_str, 2)\n",
    "  if bin_str[0] == '1':\n",
    "    num -= (1 << 8)\n",
    "  return num\n",
    "\n",
    "def sum_binary(a, b):\n",
    "  a = a.zfill(8)\n",
    "  b = b.zfill(8)\n",
    "  result = ''\n",
    "  carry = 0\n",
    "  for i in range(7, -1, -1):\n",
    "    bit_sum = int(a[i]) + int(b[i]) + carry\n",
    "    result = str(bit_sum % 2) + result\n",
    "    carry = bit_sum // 2\n",
    "  result = str(carry) + result\n",
    "  return result"
   ]
  },
  {
   "cell_type": "markdown",
   "metadata": {},
   "source": [
    "`sum_calc` and `product_calc` must be used to calculate."
   ]
  },
  {
   "cell_type": "code",
   "execution_count": 119,
   "metadata": {},
   "outputs": [],
   "source": [
    "def sum_calc(a, b):\n",
    "  a_bin   = decimal_to_binary(a)\n",
    "  b_bin   = decimal_to_binary(b)\n",
    "  res_bin = sum_binary(a_bin, b_bin)\n",
    "  if (a + b >= 128 or a + b <= -128):\n",
    "    return binary_to_decimal(res_bin[:-1])\n",
    "  return binary_to_decimal(res_bin[1:])\n",
    "\n",
    "def product_calc(a, b):\n",
    "  return math.floor((a * b) / 128)"
   ]
  },
  {
   "cell_type": "markdown",
   "metadata": {},
   "source": [
    "##### SPMM"
   ]
  },
  {
   "cell_type": "code",
   "execution_count": 120,
   "metadata": {
    "notebookRunGroups": {
     "groupValue": "2"
    }
   },
   "outputs": [],
   "source": [
    "wh = [[0 for _ in range(len(weight[0]))] for _ in range(len(feature))]\n",
    "for i in range(len(feature)):\n",
    "  for j in range(len(weight[0])):\n",
    "    for k in range(len(weight)):\n",
    "      if (feature[i][k] != 0):\n",
    "        wh[i][j] = sum_calc(wh[i][j], product_calc(feature[i][k], weight[k][j]))\n",
    "\n",
    "def matrix_multiplication(subgraph, weight_matrix):\n",
    "  rows = len(subgraph)\n",
    "  cols = len(weight_matrix[0])\n",
    "  common_dim = len(weight_matrix)\n",
    "\n",
    "  result_matrix = [[0 for _ in range(cols)] for _ in range(rows)]\n",
    "\n",
    "  for i in range(rows):\n",
    "    for j in range(cols):\n",
    "      for k in range(common_dim):\n",
    "        result_matrix[i][j] = sum_calc(result_matrix[i][j], product_calc(subgraph[i][k], weight_matrix[k][j]))\n",
    "  return result_matrix\n",
    "\n",
    "WH = []\n",
    "for i in range(len(subGraph)):\n",
    "\twh = matrix_multiplication(subGraph[i], weight)\n",
    "\tWH.append(wh)"
   ]
  },
  {
   "cell_type": "markdown",
   "metadata": {},
   "source": [
    "##### DMVM"
   ]
  },
  {
   "cell_type": "code",
   "execution_count": 121,
   "metadata": {},
   "outputs": [],
   "source": [
    "DMVM = []\n",
    "COEF = []\n",
    "\n",
    "for wh in WH:\n",
    "  src = 0\n",
    "  dmvm_subgraph = []\n",
    "  coef_subgraph = []\n",
    "  for idx, row in enumerate(wh):\n",
    "    dst       = 0\n",
    "    node_row  = []\n",
    "    a_in      = a_1 if idx == 0 else a_2\n",
    "\n",
    "    # multiply\n",
    "    for i in range(len(row)):\n",
    "      node_row.append(product_calc(row[i], a_in[i]))\n",
    "\n",
    "    # add\n",
    "    product_len = len(row)\n",
    "    while product_len > 1:\n",
    "      for j in range(len(row)):\n",
    "        if (2*j+1) < product_len:\n",
    "          node_row[j] = sum_calc(node_row[2*j], node_row[2*j+1])\n",
    "      product_len /= 2\n",
    "    dst = node_row[0]\n",
    "\n",
    "    # final\n",
    "    if (idx == 0):\n",
    "      src = dst\n",
    "    dmvm_subgraph.append(dst)\n",
    "\n",
    "    if (sum_calc(src, dst) < 0):\n",
    "      coef_subgraph.append(0)\n",
    "    else:\n",
    "      coef_subgraph.append(sum_calc(src, dst))\n",
    "  DMVM.append(dmvm_subgraph)\n",
    "  COEF.append(coef_subgraph)"
   ]
  },
  {
   "cell_type": "markdown",
   "metadata": {},
   "source": [
    "Extend each DMVM size = `NUM_OF_NODES` "
   ]
  },
  {
   "cell_type": "code",
   "execution_count": 122,
   "metadata": {},
   "outputs": [],
   "source": [
    "DMVM = [dmvm + [-1] * (params[\"NUM_OF_NODES\"] - len(dmvm)) for dmvm in DMVM]\n",
    "COEF = [coef + [-1] * (params[\"NUM_OF_NODES\"] - len(coef)) for coef in COEF]"
   ]
  },
  {
   "cell_type": "markdown",
   "metadata": {},
   "source": [
    "##### Softmax"
   ]
  },
  {
   "cell_type": "code",
   "execution_count": 123,
   "metadata": {},
   "outputs": [],
   "source": [
    "# TODO:"
   ]
  },
  {
   "cell_type": "markdown",
   "metadata": {},
   "source": [
    "##### Aggregator"
   ]
  },
  {
   "cell_type": "code",
   "execution_count": 124,
   "metadata": {},
   "outputs": [],
   "source": [
    "# TODO:"
   ]
  },
  {
   "cell_type": "markdown",
   "metadata": {},
   "source": [
    "#### 3. GCSR structure"
   ]
  },
  {
   "cell_type": "code",
   "execution_count": 125,
   "metadata": {},
   "outputs": [],
   "source": [
    "source_node_list = []\n",
    "num_nodes_subgraph = []\n",
    "node_info = []\n",
    "col_idx = []\n",
    "value = []\n",
    "non_zero_ele = []\n",
    "\n",
    "row_length_bits = math.ceil(math.log2(params[\"H_NUM_OF_COLS\"]))\n",
    "num_of_nodes_bits = math.ceil(math.log2(params[\"NUM_OF_NODES\"]))\n",
    "\n",
    "for i in range(len(subGraph)):\n",
    "  source_node = subGraph[i][0]\n",
    "  num_node = len(subGraph[i])\n",
    "  source_node_list.append(source_node)\n",
    "  num_nodes_subgraph.append(num_node)\n",
    "  node_info_list = []\n",
    "  for j in range(len(subGraph[i])):\n",
    "    if j == 0:\n",
    "      flag = '1'\n",
    "    else:\n",
    "      flag = '0'\n",
    "    non_zero_values = [ele for k, ele in enumerate(subGraph[i][j]) if ele != 0]\n",
    "    # print(\"Non Zero Values = \", non_zero_values)\n",
    "    row_length = len(non_zero_values)\n",
    "    node_info_bin = (f\"{row_length:0{row_length_bits}b}\"f\"{num_node:0{num_of_nodes_bits}b}\" f\"{flag}\")\n",
    "    node_info_list.append(node_info_bin)\n",
    "\n",
    "  node_info.append(node_info_list)\n",
    "\n",
    "def decode_node_info(node_info_string):\n",
    "  # Extract each part from the string\n",
    "  flag_bits = 1\n",
    "  row_length = int(node_info_string[:row_length_bits], 2)\n",
    "  num_of_nodes = int(node_info_string[row_length_bits:row_length_bits+num_of_nodes_bits], 2)\n",
    "\n",
    "  flag = node_info_string[-flag_bits:]  # '1' for source node, '0' for neighbor node\n",
    "\n",
    "  # Return a dictionary for better readability\n",
    "  return {\n",
    "    'row_length': row_length,\n",
    "    'num_of_nodes': num_of_nodes,\n",
    "    'is_source_node': flag == '1'\n",
    "  }\n",
    "\n",
    "# Example usage\n",
    "decoded_node_info = []\n",
    "for nd_info in node_info:\n",
    "  decoded_info = [decode_node_info(info) for info in nd_info]\n",
    "  decoded_node_info.append(decoded_info)\n",
    "# pprint(decoded_node_info)"
   ]
  },
  {
   "cell_type": "code",
   "execution_count": 126,
   "metadata": {},
   "outputs": [],
   "source": [
    "def extract_from_raw(raw_list):\n",
    "\tcol_idx = []\n",
    "\tvalue = []\n",
    "\tnode_info = []\n",
    "\tfor row in raw_list:\n",
    "\t\tnon_zero_elements = [(j, ele) for j, ele in enumerate(row) if ele != 0]\n",
    "\t\tcol_idx.extend([idx for idx, _ in non_zero_elements])\n",
    "\t\tvalue.extend([val for _, val in non_zero_elements])\n",
    "\t\trow_len = len(non_zero_elements)\n",
    "\n",
    "\treturn col_idx, value"
   ]
  },
  {
   "cell_type": "markdown",
   "metadata": {},
   "source": [
    "#### 4. SubGraph"
   ]
  },
  {
   "cell_type": "code",
   "execution_count": 127,
   "metadata": {},
   "outputs": [],
   "source": [
    "GRAPH = {}\n",
    "idx = 0\n",
    "\n",
    "for i in range(len(subGraph)):\n",
    "  col_idx_, value_ = extract_from_raw(subGraph[i])\n",
    "  GRAPH[i] = {\"raw\" : subGraph[i], \"col_idx\" : col_idx_, \"value\" : value_, \"node_info\" : node_info[i], \"WH\": WH[i],  \"DMVM\": DMVM[i], \"Coef\": COEF[i]}"
   ]
  },
  {
   "cell_type": "code",
   "execution_count": 128,
   "metadata": {},
   "outputs": [],
   "source": [
    "colors = {\n",
    "  \"raw\": \"\\033[91m\",       # Red\n",
    "  \"col_idx\": \"\\033[92m\",   # Green\n",
    "  \"value\": \"\\033[93m\",     # Yellow\n",
    "  \"node_info\": \"\\033[94m\", # Blue\n",
    "  \"WH\": \"\\033[95m\",        # Magenta\n",
    "  \"DMVM\": \"\\033[96m\",      # Cyan\n",
    "  \"Coef\": \"\\033[97m\",      # White\n",
    "  \"reset\": \"\\033[0m\"       # Reset color\n",
    "}\n",
    "\n",
    "def print_sub_graphs():\n",
    "  for subgraph in GRAPH.values():\n",
    "    print(\"-\" * 90)\n",
    "    for i in range(len(subgraph[\"raw\"])):\n",
    "      if i == 0:\n",
    "        print(f\"{colors['raw']}raw\\t\\t{subgraph['raw'][i]}{colors['reset']}\")\n",
    "      else:\n",
    "        print(f\"{colors['raw']}\\t\\t{subgraph['raw'][i]}{colors['reset']}\")\n",
    "\n",
    "    print(f\"{colors['col_idx']}col_idx\\t\\t{subgraph['col_idx']}{colors['reset']}\")\n",
    "    print(f\"{colors['value']}value\\t\\t{subgraph['value']}{colors['reset']}\")\n",
    "    print(f\"{colors['node_info']}node_info\\t{subgraph['node_info']}{colors['reset']}\")\n",
    "\n",
    "    for i in range(len(subgraph[\"WH\"])):\n",
    "      if i == 0:\n",
    "        print(f\"{colors['WH']}SPMM\\t\\t{subgraph['WH'][i]}{colors['reset']}\")\n",
    "      else:\n",
    "        print(f\"{colors['WH']}\\t\\t{subgraph['WH'][i]}{colors['reset']}\")\n",
    "\n",
    "    print(f\"{colors['DMVM']}DMVM\\t\\t{[subgraph['DMVM'][idx] for idx in range(len(subgraph['raw']))]}{colors['reset']}\")\n",
    "    print(f\"{colors['Coef']}COEF\\t\\t{[subgraph['Coef'][idx] for idx in range(len(subgraph['raw']))]}{colors['reset']}\")\n",
    "    print(\"-\" * 90)"
   ]
  },
  {
   "cell_type": "markdown",
   "metadata": {},
   "source": [
    "#### 5. SubGraph Information"
   ]
  },
  {
   "cell_type": "code",
   "execution_count": 129,
   "metadata": {},
   "outputs": [
    {
     "name": "stdout",
     "output_type": "stream",
     "text": [
      "------------------------------------------------------------------------------------------\n",
      "\u001b[91mraw\t\t[0, 0, 0, 0, 9, 0, 126, 47, 80, 26]\u001b[0m\n",
      "\u001b[91m\t\t[63, 0, 0, 0, 58, 76, 100, -5, -34, 0]\u001b[0m\n",
      "\u001b[91m\t\t[-88, 95, 0, 58, 47, -111, 0, 85, 0, 0]\u001b[0m\n",
      "\u001b[92mcol_idx\t\t[4, 6, 7, 8, 9, 0, 4, 5, 6, 7, 8, 0, 1, 3, 4, 5, 7]\u001b[0m\n",
      "\u001b[93mvalue\t\t[9, 126, 47, 80, 26, 63, 58, 76, 100, -5, -34, -88, 95, 58, 47, -111, 85]\u001b[0m\n",
      "\u001b[94mnode_info\t['01010111', '01100110', '01100110']\u001b[0m\n",
      "\u001b[95mSPMM\t\t[124, 79, -73, 49, 61, 87, 20, 90, 63, 18, 68, 73, 19, 17, -24, 66]\u001b[0m\n",
      "\u001b[95m\t\t[72, 68, -42, 98, 36, 37, 65, 102, 56, 58, -17, 50, -61, 0, -121, 45]\u001b[0m\n",
      "\u001b[95m\t\t[36, -53, 71, 96, -9, 60, 6, 10, 84, 124, 65, -77, 59, 21, 76, 28]\u001b[0m\n",
      "\u001b[96mDMVM\t\t[73, 34, 79]\u001b[0m\n",
      "\u001b[97mCOEF\t\t[73, 107, 76]\u001b[0m\n",
      "------------------------------------------------------------------------------------------\n",
      "------------------------------------------------------------------------------------------\n",
      "\u001b[91mraw\t\t[32, 6, 0, 0, 0, 0, 96, 0, 87, -109]\u001b[0m\n",
      "\u001b[91m\t\t[0, 64, 78, 0, -78, 0, 0, 52, 0, 0]\u001b[0m\n",
      "\u001b[91m\t\t[72, 0, 30, 109, 0, 0, 0, 37, 0, 0]\u001b[0m\n",
      "\u001b[91m\t\t[0, 0, 0, 0, -38, 0, 0, -110, 0, 61]\u001b[0m\n",
      "\u001b[91m\t\t[12, 7, 0, 0, 101, 102, 121, 25, 0, 107]\u001b[0m\n",
      "\u001b[91m\t\t[88, -30, 0, 30, 18, 122, -126, 0, 0, 8]\u001b[0m\n",
      "\u001b[92mcol_idx\t\t[0, 1, 6, 8, 9, 1, 2, 4, 7, 0, 2, 3, 7, 4, 7, 9, 0, 1, 4, 5, 6, 7, 9, 0, 1, 3, 4, 5, 6, 9]\u001b[0m\n",
      "\u001b[93mvalue\t\t[32, 6, 96, 87, -109, 64, 78, -78, 52, 72, 30, 109, 37, -38, -110, 61, 12, 7, 101, 102, 121, 25, 107, 88, -30, 30, 18, 122, -126, 8]\u001b[0m\n",
      "\u001b[94mnode_info\t['01011101', '01001100', '01001100', '00111100', '01111100', '01111100']\u001b[0m\n",
      "\u001b[95mSPMM\t\t[12, 81, -45, -50, -16, 35, 23, 17, 80, 59, 51, 106, 118, 10, -69, -19]\u001b[0m\n",
      "\u001b[95m\t\t[25, 11, 18, 117, -17, -9, -27, -122, 44, -30, 72, -27, 111, 32, 75, -16]\u001b[0m\n",
      "\u001b[95m\t\t[116, 127, 92, 118, 61, 98, 44, 76, 91, -100, 48, 48, -36, 119, 46, -19]\u001b[0m\n",
      "\u001b[95m\t\t[-43, -75, -90, -28, 0, -60, 79, 21, -122, -124, 19, 45, -67, -77, 30, -54]\u001b[0m\n",
      "\u001b[95m\t\t[101, 10, -36, 106, 112, 97, 90, 85, 27, -9, 85, 101, -118, 47, 2, 92]\u001b[0m\n",
      "\u001b[95m\t\t[93, 29, 64, -22, 15, 49, 75, 12, -81, -66, -67, 43, -12, 92, -44, -2]\u001b[0m\n",
      "\u001b[96mDMVM\t\t[38, 91, 89, -47, 31, 119]\u001b[0m\n",
      "\u001b[97mCOEF\t\t[76, 64, 127, 0, 69, 78]\u001b[0m\n",
      "------------------------------------------------------------------------------------------\n",
      "------------------------------------------------------------------------------------------\n",
      "\u001b[91mraw\t\t[12, 122, 63, 0, 0, 0, -60, 0, 0, 39]\u001b[0m\n",
      "\u001b[91m\t\t[95, -26, 0, 82, 22, 37, 0, 119, 0, 57]\u001b[0m\n",
      "\u001b[91m\t\t[106, 0, 0, -3, 107, 0, 94, 0, 0, 0]\u001b[0m\n",
      "\u001b[91m\t\t[40, -101, 0, 0, 0, 80, 0, 83, 0, 46]\u001b[0m\n",
      "\u001b[91m\t\t[0, 0, 76, -101, 41, 0, 0, 0, 28, 0]\u001b[0m\n",
      "\u001b[92mcol_idx\t\t[0, 1, 2, 6, 9, 0, 1, 3, 4, 5, 7, 9, 0, 3, 4, 6, 0, 1, 5, 7, 9, 2, 3, 4, 8]\u001b[0m\n",
      "\u001b[93mvalue\t\t[12, 122, 63, -60, 39, 95, -26, 82, 22, 37, 119, 57, 106, -3, 107, 94, 40, -101, 80, 83, 46, 76, -101, 41, 28]\u001b[0m\n",
      "\u001b[94mnode_info\t['01011011', '01111010', '01001010', '01011010', '01001010']\u001b[0m\n",
      "\u001b[95mSPMM\t\t[99, -64, 79, 49, -44, 41, 117, -35, -23, -45, 52, -73, 35, 81, 107, 4]\u001b[0m\n",
      "\u001b[95m\t\t[65, 33, 59, 126, 88, 90, -7, 80, 76, -47, 11, 40, -37, 93, 11, 83]\u001b[0m\n",
      "\u001b[95m\t\t[85, 69, 29, 121, 28, 78, 91, 121, 64, 32, 4, 64, 22, 36, -69, -8]\u001b[0m\n",
      "\u001b[95m\t\t[99, 44, 53, 60, 88, 56, -86, 73, -41, -53, -46, 46, -37, 89, -88, 92]\u001b[0m\n",
      "\u001b[95m\t\t[77, -29, 54, -47, -14, 5, -58, 25, -12, 70, 16, 22, 113, 5, 39, -2]\u001b[0m\n",
      "\u001b[96mDMVM\t\t[45, 13, 73, 54, 75]\u001b[0m\n",
      "\u001b[97mCOEF\t\t[90, 58, 118, 99, 120]\u001b[0m\n",
      "------------------------------------------------------------------------------------------\n",
      "------------------------------------------------------------------------------------------\n",
      "\u001b[91mraw\t\t[0, 10, 0, 0, 1, 0, 0, 0, 0, 76]\u001b[0m\n",
      "\u001b[91m\t\t[-3, 0, -64, 0, 0, 89, 0, 52, 0, 0]\u001b[0m\n",
      "\u001b[91m\t\t[92, 10, 0, -2, 0, 0, 14, 0, 65, 0]\u001b[0m\n",
      "\u001b[91m\t\t[0, 0, 0, 0, 81, 48, 32, 25, 0, 0]\u001b[0m\n",
      "\u001b[91m\t\t[19, 42, 77, 0, 2, 47, -101, 19, 0, 64]\u001b[0m\n",
      "\u001b[91m\t\t[-25, 12, 0, 0, 95, 0, 0, -64, 119, 104]\u001b[0m\n",
      "\u001b[92mcol_idx\t\t[1, 4, 9, 0, 2, 5, 7, 0, 1, 3, 6, 8, 4, 5, 6, 7, 0, 1, 2, 4, 5, 6, 7, 9, 0, 1, 4, 7, 8, 9]\u001b[0m\n",
      "\u001b[93mvalue\t\t[10, 1, 76, -3, -64, 89, 52, 92, 10, -2, 14, 65, 81, 48, 32, 25, 19, 42, 77, 2, 47, -101, 19, 64, -25, 12, 95, -64, 119, 104]\u001b[0m\n",
      "\u001b[94mnode_info\t['00111101', '01001100', '01011100', '01001100', '10001100', '01101100']\u001b[0m\n",
      "\u001b[95mSPMM\t\t[64, -66, -27, 76, 23, 26, 32, 60, -42, -62, 34, -8, -55, 8, 67, 49]\u001b[0m\n",
      "\u001b[95m\t\t[-5, 105, -4, 71, 0, 62, -16, -25, -35, 28, -66, -17, -54, 50, -113, 118]\u001b[0m\n",
      "\u001b[95m\t\t[126, 74, -3, -1, -11, 97, 71, 75, 39, -112, 7, 112, 71, 80, -44, -42]\u001b[0m\n",
      "\u001b[95m\t\t[83, 92, 67, 89, 39, 111, 60, 84, 38, 97, 7, 30, 8, 49, -12, 110]\u001b[0m\n",
      "\u001b[95m\t\t[65, -37, 63, 79, 11, 32, 51, -27, -106, -88, 11, 10, 77, 70, 81, 37]\u001b[0m\n",
      "\u001b[95m\t\t[103, -111, -2, -9, 68, 108, 75, 83, -61, -62, 68, 67, -23, 82, 86, 84]\u001b[0m\n",
      "\u001b[96mDMVM\t\t[89, 49, 110, 85, 123, 113]\u001b[0m\n",
      "\u001b[97mCOEF\t\t[89, 69, 99, 87, 106, 101]\u001b[0m\n",
      "------------------------------------------------------------------------------------------\n",
      "------------------------------------------------------------------------------------------\n",
      "\u001b[91mraw\t\t[92, 0, 66, 0, -122, 0, 0, 114, 127, -100]\u001b[0m\n",
      "\u001b[91m\t\t[0, 0, 0, 0, 0, 88, 14, 0, 73, 50]\u001b[0m\n",
      "\u001b[92mcol_idx\t\t[0, 2, 4, 7, 8, 9, 5, 6, 8, 9]\u001b[0m\n",
      "\u001b[93mvalue\t\t[92, 66, -122, 114, 127, -100, 88, 14, 73, 50]\u001b[0m\n",
      "\u001b[94mnode_info\t['01100101', '01000100']\u001b[0m\n",
      "\u001b[95mSPMM\t\t[8, 75, 68, -61, -27, 73, -127, -73, 72, -32, 45, 68, 77, 75, -96, -3]\u001b[0m\n",
      "\u001b[95m\t\t[109, 42, -39, 72, 51, 66, 59, 94, -61, -58, 55, 98, -23, 87, -2, 74]\u001b[0m\n",
      "\u001b[96mDMVM\t\t[-25, 78]\u001b[0m\n",
      "\u001b[97mCOEF\t\t[0, 53]\u001b[0m\n",
      "------------------------------------------------------------------------------------------\n",
      "------------------------------------------------------------------------------------------\n",
      "\u001b[91mraw\t\t[81, 0, 0, 0, 18, 48, 0, 0, -24, 0]\u001b[0m\n",
      "\u001b[91m\t\t[0, 76, 2, 0, 0, 0, -114, 0, 7, 0]\u001b[0m\n",
      "\u001b[91m\t\t[109, 0, 103, 0, 95, 116, -80, 0, 56, 43]\u001b[0m\n",
      "\u001b[92mcol_idx\t\t[0, 4, 5, 8, 1, 2, 6, 8, 0, 2, 4, 5, 6, 8, 9]\u001b[0m\n",
      "\u001b[93mvalue\t\t[81, 18, 48, -24, 76, 2, -114, 7, 109, 103, 95, 116, -80, 56, 43]\u001b[0m\n",
      "\u001b[94mnode_info\t['01000111', '01000110', '01110110']\u001b[0m\n",
      "\u001b[95mSPMM\t\t[60, 93, 19, 65, -4, 40, 75, 25, -12, -43, -69, 83, -5, 49, -75, -37]\u001b[0m\n",
      "\u001b[95m\t\t[17, -55, 104, -38, -69, -14, 35, -67, -73, -42, -41, -100, 80, 83, 104, -20]\u001b[0m\n",
      "\u001b[95m\t\t[81, 37, 57, 3, 68, 113, 108, 89, -79, -95, 2, 77, 71, 109, 98, 68]\u001b[0m\n",
      "\u001b[96mDMVM\t\t[45, 3, 92]\u001b[0m\n",
      "\u001b[97mCOEF\t\t[90, 48, 68]\u001b[0m\n",
      "------------------------------------------------------------------------------------------\n",
      "------------------------------------------------------------------------------------------\n",
      "\u001b[91mraw\t\t[60, 0, 99, 0, 0, -29, 0, 0, 19, 0]\u001b[0m\n",
      "\u001b[91m\t\t[-102, 86, 0, 0, 95, 0, 0, 66, 13, 60]\u001b[0m\n",
      "\u001b[92mcol_idx\t\t[0, 2, 5, 8, 0, 1, 4, 7, 8, 9]\u001b[0m\n",
      "\u001b[93mvalue\t\t[60, 99, -29, 19, -102, 86, 95, 66, 13, 60]\u001b[0m\n",
      "\u001b[94mnode_info\t['01000101', '01100100']\u001b[0m\n",
      "\u001b[95mSPMM\t\t[117, 22, 69, 17, 22, 26, 36, 54, 53, -63, 61, 109, 64, 56, 80, -86]\u001b[0m\n",
      "\u001b[95m\t\t[108, -50, 49, 81, 24, 67, 45, 21, 42, 61, 107, -98, 34, 56, 126, 101]\u001b[0m\n",
      "\u001b[96mDMVM\t\t[-46, 45]\u001b[0m\n",
      "\u001b[97mCOEF\t\t[0, 0]\u001b[0m\n",
      "------------------------------------------------------------------------------------------\n",
      "------------------------------------------------------------------------------------------\n",
      "\u001b[91mraw\t\t[0, 7, -48, 0, -76, 72, 39, 0, 0, 0]\u001b[0m\n",
      "\u001b[91m\t\t[3, 1, 5, 0, 0, -69, 5, 0, 0, 88]\u001b[0m\n",
      "\u001b[91m\t\t[0, 0, 69, 80, 0, -10, 0, 38, 44, 0]\u001b[0m\n",
      "\u001b[91m\t\t[0, 0, 47, -110, 40, 0, 0, 0, 53, 0]\u001b[0m\n",
      "\u001b[91m\t\t[101, 0, 13, 0, 12, 0, 0, 100, 0, 124]\u001b[0m\n",
      "\u001b[92mcol_idx\t\t[1, 2, 4, 5, 6, 0, 1, 2, 5, 6, 9, 2, 3, 5, 7, 8, 2, 3, 4, 8, 0, 2, 4, 7, 9]\u001b[0m\n",
      "\u001b[93mvalue\t\t[7, -48, -76, 72, 39, 3, 1, 5, -69, 5, 88, 69, 80, -10, 38, 44, 47, -110, 40, 53, 101, 13, 12, 100, 124]\u001b[0m\n",
      "\u001b[94mnode_info\t['01011011', '01101010', '01011010', '01001010', '01011010']\u001b[0m\n",
      "\u001b[95mSPMM\t\t[-82, 45, -75, 62, -15, -7, -13, -71, -45, -41, -34, 14, -101, -35, -72, 35]\u001b[0m\n",
      "\u001b[95m\t\t[70, -126, -26, 36, 19, -8, 4, 90, -6, -86, 57, -33, -45, -25, 111, -6]\u001b[0m\n",
      "\u001b[95m\t\t[114, 65, 103, 66, 75, 98, 50, 73, 86, -40, 126, 80, 41, 107, 125, 48]\u001b[0m\n",
      "\u001b[95m\t\t[77, -31, 34, -78, -26, 21, -66, 33, -20, 58, 7, 13, 122, 10, 12, 16]\u001b[0m\n",
      "\u001b[95m\t\t[88, -30, 77, 102, 49, 118, 32, 82, 20, -76, 16, 55, 15, 127, 62, 53]\u001b[0m\n",
      "\u001b[96mDMVM\t\t[23, -12, 65, 73, 84]\u001b[0m\n",
      "\u001b[97mCOEF\t\t[46, 11, 88, 96, 107]\u001b[0m\n",
      "------------------------------------------------------------------------------------------\n",
      "------------------------------------------------------------------------------------------\n",
      "\u001b[91mraw\t\t[0, 0, -103, 106, 0, 106, 0, 17, 0, 0]\u001b[0m\n",
      "\u001b[91m\t\t[75, 65, 0, 17, -109, 0, 0, 81, 0, 0]\u001b[0m\n",
      "\u001b[91m\t\t[0, 53, 0, 33, 68, 0, 25, 50, 0, -80]\u001b[0m\n",
      "\u001b[92mcol_idx\t\t[2, 3, 5, 7, 0, 1, 3, 4, 7, 1, 3, 4, 6, 7, 9]\u001b[0m\n",
      "\u001b[93mvalue\t\t[-103, 106, 106, 17, 75, 65, 17, -109, 81, 53, 33, 68, 25, 50, -80]\u001b[0m\n",
      "\u001b[94mnode_info\t['01000111', '01010110', '01100110']\u001b[0m\n",
      "\u001b[95mSPMM\t\t[-21, 69, -27, 109, 42, 112, 110, 12, -30, -33, -44, 30, -57, 81, -104, 75]\u001b[0m\n",
      "\u001b[95m\t\t[32, 78, -22, 65, -54, 6, -17, -65, 59, -51, -11, -20, 58, 59, -47, -66]\u001b[0m\n",
      "\u001b[95m\t\t[33, 71, 125, -4, -16, 101, -2, -41, 74, 72, 14, -43, 90, 58, -5, 43]\u001b[0m\n",
      "\u001b[96mDMVM\t\t[126, 56, 97]\u001b[0m\n",
      "\u001b[97mCOEF\t\t[126, 91, 111]\u001b[0m\n",
      "------------------------------------------------------------------------------------------\n",
      "------------------------------------------------------------------------------------------\n",
      "\u001b[91mraw\t\t[66, 0, 0, 0, 0, 0, 70, 34, 105, -26]\u001b[0m\n",
      "\u001b[91m\t\t[82, 0, 107, 99, 0, 0, 73, 126, 0, 0]\u001b[0m\n",
      "\u001b[91m\t\t[0, 0, 93, 0, 85, 78, 0, 0, 0, 0]\u001b[0m\n",
      "\u001b[91m\t\t[0, -18, 98, 0, 48, -31, 42, 0, 0, 0]\u001b[0m\n",
      "\u001b[91m\t\t[125, 0, -100, 0, 2, 0, 38, 88, -17, 0]\u001b[0m\n",
      "\u001b[91m\t\t[-117, 0, 0, 35, 17, 0, 0, 55, 6, 94]\u001b[0m\n",
      "\u001b[92mcol_idx\t\t[0, 6, 7, 8, 9, 0, 2, 3, 6, 7, 2, 4, 5, 1, 2, 4, 5, 6, 0, 2, 4, 6, 7, 8, 0, 3, 4, 7, 8, 9]\u001b[0m\n",
      "\u001b[93mvalue\t\t[66, 70, 34, 105, -26, 82, 107, 99, 73, 126, 93, 85, 78, -18, 98, 48, -31, 42, 125, -100, 2, 38, 88, -17, -117, 35, 17, 55, 6, 94]\u001b[0m\n",
      "\u001b[94mnode_info\t['01011101', '01011100', '00111100', '01011100', '01101100', '01101100']\u001b[0m\n",
      "\u001b[95mSPMM\t\t[58, 67, -17, 13, 16, 74, 33, 42, 122, -49, 67, 63, 107, 82, -74, 24]\u001b[0m\n",
      "\u001b[95m\t\t[73, 82, 75, 90, 112, 85, -2, 65, 77, -33, 70, 15, 78, 75, 70, 34]\u001b[0m\n",
      "\u001b[95m\t\t[64, 87, 62, 97, 69, 111, 94, 84, 0, 91, 47, 106, 79, 94, 80, 98]\u001b[0m\n",
      "\u001b[95m\t\t[90, 10, 70, 41, 58, 37, 23, 104, 83, 57, 97, 75, 85, 3, 100, -8]\u001b[0m\n",
      "\u001b[95m\t\t[73, 79, -5, 94, -42, 71, 6, 39, 89, -8, -54, 10, -21, 48, -109, -40]\u001b[0m\n",
      "\u001b[95m\t\t[40, -95, 29, 115, 82, 50, -42, 73, -23, 45, 120, -107, -98, 12, 86, 70]\u001b[0m\n",
      "\u001b[96mDMVM\t\t[111, 66, 90, 79, 69, 37]\u001b[0m\n",
      "\u001b[97mCOEF\t\t[111, 88, 100, 95, 90, 74]\u001b[0m\n",
      "------------------------------------------------------------------------------------------\n",
      "------------------------------------------------------------------------------------------\n",
      "\u001b[91mraw\t\t[0, -46, 85, 0, 0, 0, 0, 0, 38, 108]\u001b[0m\n",
      "\u001b[91m\t\t[0, 0, 59, 59, 0, 113, 0, 0, -59, -18]\u001b[0m\n",
      "\u001b[91m\t\t[0, 59, 0, 107, 101, 73, 0, 118, -82, 0]\u001b[0m\n",
      "\u001b[91m\t\t[0, 0, 0, 102, 78, 66, 20, 96, 1, 0]\u001b[0m\n",
      "\u001b[91m\t\t[0, 121, 0, 67, 0, 68, 0, 0, -106, 0]\u001b[0m\n",
      "\u001b[92mcol_idx\t\t[1, 2, 8, 9, 2, 3, 5, 8, 9, 1, 3, 4, 5, 7, 8, 3, 4, 5, 6, 7, 8, 1, 3, 5, 8]\u001b[0m\n",
      "\u001b[93mvalue\t\t[-46, 85, 38, 108, 59, 59, 113, -59, -18, 59, 107, 101, 73, 118, -82, 102, 78, 66, 20, 96, 1, 121, 67, 68, -106]\u001b[0m\n",
      "\u001b[94mnode_info\t['01001011', '01011010', '01101010', '01101010', '01001010']\u001b[0m\n",
      "\u001b[95mSPMM\t\t[80, -79, 13, 59, 102, 52, 5, 92, -52, -110, 119, 115, -1, 52, 76, 66]\u001b[0m\n",
      "\u001b[95m\t\t[-9, 121, 46, 85, 58, 29, 90, -36, -29, 39, -3, 91, -73, 52, -9, 53]\u001b[0m\n",
      "\u001b[95m\t\t[23, 97, 80, 74, 64, 5, -3, 9, 51, 70, 7, -57, -59, 10, 6, 29]\u001b[0m\n",
      "\u001b[95m\t\t[71, 69, 84, 65, 101, 125, 27, 114, 108, 72, 55, 48, -47, 78, 42, 126]\u001b[0m\n",
      "\u001b[95m\t\t[-47, 50, 10, 94, -31, 20, 98, -87, 6, 54, -21, -95, -115, 8, 37, 33]\u001b[0m\n",
      "\u001b[96mDMVM\t\t[48, 81, 31, 58, 50]\u001b[0m\n",
      "\u001b[97mCOEF\t\t[96, 64, 79, 106, 98]\u001b[0m\n",
      "------------------------------------------------------------------------------------------\n",
      "------------------------------------------------------------------------------------------\n",
      "\u001b[91mraw\t\t[0, 0, 22, 34, 0, 127, 0, 0, 23, 0]\u001b[0m\n",
      "\u001b[91m\t\t[0, 0, 123, 122, 50, 0, 2, 0, 45, 0]\u001b[0m\n",
      "\u001b[91m\t\t[0, 59, 0, -45, 120, -116, 11, 63, 0, 13]\u001b[0m\n",
      "\u001b[91m\t\t[0, 0, 0, 29, -66, 0, 0, 9, 0, -5]\u001b[0m\n",
      "\u001b[92mcol_idx\t\t[2, 3, 5, 8, 2, 3, 4, 6, 8, 1, 3, 4, 5, 6, 7, 9, 3, 4, 7, 9]\u001b[0m\n",
      "\u001b[93mvalue\t\t[22, 34, 127, 23, 123, 122, 50, 2, 45, 59, -45, 120, -116, 11, 63, 13, 29, -66, 9, -5]\u001b[0m\n",
      "\u001b[94mnode_info\t['01001001', '01011000', '01111000', '01001000']\u001b[0m\n",
      "\u001b[95mSPMM\t\t[49, 117, 10, 100, 55, 104, 82, 18, -55, -5, 16, 113, -41, 96, -31, 123]\u001b[0m\n",
      "\u001b[95m\t\t[106, 80, 80, 36, 64, 77, 82, 73, 102, -22, 110, 92, 31, 72, 121, 63]\u001b[0m\n",
      "\u001b[95m\t\t[65, -43, 75, 29, -40, 69, 3, 57, 68, 60, 34, -89, 95, 12, 65, 20]\u001b[0m\n",
      "\u001b[95m\t\t[-47, 4, -47, 9, -1, -36, -27, -55, -1, -62, 10, 4, -37, -9, -18, -31]\u001b[0m\n",
      "\u001b[96mDMVM\t\t[88, 94, 59, -71]\u001b[0m\n",
      "\u001b[97mCOEF\t\t[88, 91, 73, 17]\u001b[0m\n",
      "------------------------------------------------------------------------------------------\n",
      "------------------------------------------------------------------------------------------\n",
      "\u001b[91mraw\t\t[-68, 0, 0, 122, 25, 0, -4, 0, 0, 0]\u001b[0m\n",
      "\u001b[91m\t\t[124, 77, -107, 0, 0, 57, 0, 42, 56, 100]\u001b[0m\n",
      "\u001b[91m\t\t[-11, 0, 0, 110, 0, 0, 57, 51, 0, 0]\u001b[0m\n",
      "\u001b[91m\t\t[0, 8, 0, 0, 115, 4, 0, 108, 0, 75]\u001b[0m\n",
      "\u001b[91m\t\t[0, 0, 55, 42, 0, 0, 0, 0, 68, 0]\u001b[0m\n",
      "\u001b[91m\t\t[121, 9, 15, 0, 0, 77, -102, -46, 103, 0]\u001b[0m\n",
      "\u001b[92mcol_idx\t\t[0, 3, 4, 6, 0, 1, 2, 5, 7, 8, 9, 0, 3, 6, 7, 1, 4, 5, 7, 9, 2, 3, 8, 0, 1, 2, 5, 6, 7, 8]\u001b[0m\n",
      "\u001b[93mvalue\t\t[-68, 122, 25, -4, 124, 77, -107, 57, 42, 56, 100, -11, 110, 57, 51, 8, 115, 4, 108, 75, 55, 42, 68, 121, 9, 15, 77, -102, -46, 103]\u001b[0m\n",
      "\u001b[94mnode_info\t['01001101', '01111100', '01001100', '01011100', '00111100', '01111100']\u001b[0m\n",
      "\u001b[95mSPMM\t\t[-10, 14, 57, 59, 79, 62, 84, 41, 42, 29, 97, -10, -65, 39, 118, 104]\u001b[0m\n",
      "\u001b[95m\t\t[101, -3, -56, 91, -39, 111, 85, 73, -35, -101, 14, 23, -60, 76, -6, 85]\u001b[0m\n",
      "\u001b[95m\t\t[44, 104, 26, 76, 80, 103, 70, 70, 126, 5, 99, 36, -34, 46, 37, 86]\u001b[0m\n",
      "\u001b[95m\t\t[68, 58, 78, 82, 63, 92, 24, 81, 62, 6, 39, -47, 44, 118, 115, 116]\u001b[0m\n",
      "\u001b[95m\t\t[98, 30, 47, 4, 52, 90, 50, 71, 40, -47, 107, 92, 54, 84, 91, 38]\u001b[0m\n",
      "\u001b[95m\t\t[82, 8, 66, -100, -21, 110, 126, 42, -52, -70, -58, 113, 104, 123, -22, -51]\u001b[0m\n",
      "\u001b[96mDMVM\t\t[101, 36, 35, 45, 73, 94]\u001b[0m\n",
      "\u001b[97mCOEF\t\t[101, 68, 68, 73, 87, 97]\u001b[0m\n",
      "------------------------------------------------------------------------------------------\n",
      "------------------------------------------------------------------------------------------\n",
      "\u001b[91mraw\t\t[-124, 0, 31, 50, 43, 0, 0, 0, 0, 0]\u001b[0m\n",
      "\u001b[91m\t\t[0, 0, 64, -90, 0, 16, 0, 0, 0, 0]\u001b[0m\n",
      "\u001b[91m\t\t[57, -98, 44, 0, 73, 0, 97, 77, 88, 0]\u001b[0m\n",
      "\u001b[91m\t\t[42, 0, 0, 0, 80, 0, 117, 83, 0, 0]\u001b[0m\n",
      "\u001b[91m\t\t[0, 0, 0, -13, 113, 19, 40, 68, 0, 31]\u001b[0m\n",
      "\u001b[91m\t\t[51, 0, 0, 0, 40, -86, 120, -39, 0, 101]\u001b[0m\n",
      "\u001b[92mcol_idx\t\t[0, 2, 3, 4, 2, 3, 5, 0, 1, 2, 4, 6, 7, 8, 0, 4, 6, 7, 3, 4, 5, 6, 7, 9, 0, 4, 5, 6, 7, 9]\u001b[0m\n",
      "\u001b[93mvalue\t\t[-124, 31, 50, 43, 64, -90, 16, 57, -98, 44, 73, 97, 77, 88, 42, 80, 117, 83, -13, 113, 19, 40, 68, 31, 51, 40, -86, 120, -39, 101]\u001b[0m\n",
      "\u001b[94mnode_info\t['01001101', '00111100', '01111100', '01001100', '01101100', '01101100']\u001b[0m\n",
      "\u001b[95mSPMM\t\t[-35, -50, 62, 19, 66, 22, 1, 14, 15, 66, 110, -67, -49, -11, 72, 70]\u001b[0m\n",
      "\u001b[95m\t\t[19, -28, 8, -22, -22, -39, -70, -28, -36, 46, -10, 11, 67, -21, 1, -22]\u001b[0m\n",
      "\u001b[95m\t\t[75, 98, 86, 31, 120, 96, -28, 66, 85, 20, 96, 82, 107, 102, -45, 91]\u001b[0m\n",
      "\u001b[95m\t\t[72, 81, 50, 92, 51, 99, 45, 76, 119, 108, 51, 45, 43, 32, -53, 95]\u001b[0m\n",
      "\u001b[95m\t\t[76, 83, 53, 64, 51, 77, 37, 71, 77, 46, 28, -7, 39, 65, 33, 84]\u001b[0m\n",
      "\u001b[95m\t\t[125, -92, -64, 64, 45, 68, 119, 79, 0, -75, 108, 58, -100, -84, 54, -21]\u001b[0m\n",
      "\u001b[96mDMVM\t\t[75, -10, 81, 97, 71, 94]\u001b[0m\n",
      "\u001b[97mCOEF\t\t[75, 65, 78, 86, 73, 84]\u001b[0m\n",
      "------------------------------------------------------------------------------------------\n",
      "------------------------------------------------------------------------------------------\n",
      "\u001b[91mraw\t\t[63, 0, 0, 102, 58, -122, 0, 25, -8, 55]\u001b[0m\n",
      "\u001b[91m\t\t[0, 0, 108, 0, 0, 118, 39, 0, 0, 0]\u001b[0m\n",
      "\u001b[91m\t\t[12, 0, 10, 0, 0, 93, -94, 0, 0, -112]\u001b[0m\n",
      "\u001b[91m\t\t[60, 50, 123, 72, 53, 0, 0, 0, 0, 0]\u001b[0m\n",
      "\u001b[92mcol_idx\t\t[0, 3, 4, 5, 7, 8, 9, 2, 5, 6, 0, 2, 5, 6, 9, 0, 1, 2, 3, 4]\u001b[0m\n",
      "\u001b[93mvalue\t\t[63, 102, 58, -122, 25, -8, 55, 108, 118, 39, 12, 10, 93, -94, -112, 60, 50, 123, 72, 53]\u001b[0m\n",
      "\u001b[94mnode_info\t['01111001', '00111000', '01011000', '01011000']\u001b[0m\n",
      "\u001b[95mSPMM\t\t[79, -19, 44, 68, 52, 76, 55, 108, 55, -112, 75, 14, -62, 62, 79, -56]\u001b[0m\n",
      "\u001b[95m\t\t[75, 110, 18, 78, 74, 81, 65, 29, -15, 46, 68, 82, 42, 61, 11, 91]\u001b[0m\n",
      "\u001b[95m\t\t[-74, 67, 120, -121, -49, -27, -22, -83, -1, 52, -127, 30, 103, 91, -96, -36]\u001b[0m\n",
      "\u001b[95m\t\t[121, 84, 77, 81, 59, 125, 113, 71, 100, -25, 113, 121, 15, 64, 97, -19]\u001b[0m\n",
      "\u001b[96mDMVM\t\t[41, 115, 11, 83]\u001b[0m\n",
      "\u001b[97mCOEF\t\t[82, 78, 52, 124]\u001b[0m\n",
      "------------------------------------------------------------------------------------------\n",
      "------------------------------------------------------------------------------------------\n",
      "\u001b[91mraw\t\t[84, 0, 45, 0, 93, 84, 55, 0, 0, 68]\u001b[0m\n",
      "\u001b[91m\t\t[0, 0, 67, 105, 105, 0, 0, 0, 76, -104]\u001b[0m\n",
      "\u001b[91m\t\t[0, 0, 0, 86, 0, 0, 0, 0, 7, 0]\u001b[0m\n",
      "\u001b[91m\t\t[0, -46, 58, 0, 78, 15, 44, 0, 69, 0]\u001b[0m\n",
      "\u001b[91m\t\t[0, -2, 97, 84, 0, 0, 99, -6, 36, 0]\u001b[0m\n",
      "\u001b[91m\t\t[0, -35, 52, 0, 0, -61, 0, 0, 11, 98]\u001b[0m\n",
      "\u001b[92mcol_idx\t\t[0, 2, 4, 5, 6, 9, 2, 3, 4, 8, 9, 3, 8, 1, 2, 4, 5, 6, 8, 1, 2, 3, 6, 7, 8, 1, 2, 5, 8, 9]\u001b[0m\n",
      "\u001b[93mvalue\t\t[84, 45, 93, 84, 55, 68, 67, 105, 105, 76, -104, 86, 7, -46, 58, 78, 15, 44, 69, -2, 97, 84, 99, -6, 36, -35, 52, -61, 11, 98]\u001b[0m\n",
      "\u001b[94mnode_info\t['01101101', '01011100', '00101100', '01101100', '01101100', '01011100']\u001b[0m\n",
      "\u001b[95mSPMM\t\t[72, 39, 44, 68, 80, 115, 110, 67, 11, -16, 31, 96, -16, 38, 10, 98]\u001b[0m\n",
      "\u001b[95m\t\t[-18, 89, 124, -37, 74, 40, 57, 28, 81, 96, 35, 64, 114, 72, 14, 53]\u001b[0m\n",
      "\u001b[95m\t\t[23, 40, 26, 48, 47, 53, 79, 38, 38, -41, 52, 40, -82, 48, 48, 25]\u001b[0m\n",
      "\u001b[95m\t\t[73, 67, 69, -6, 86, 67, 39, 120, 61, 48, 97, 69, 76, 67, 46, 90]\u001b[0m\n",
      "\u001b[95m\t\t[103, 80, -12, 61, 111, 125, 119, 66, 68, -6, 109, 90, -17, 32, 21, 50]\u001b[0m\n",
      "\u001b[95m\t\t[105, -124, 3, 22, 63, -6, -17, 73, -19, -101, 91, 34, -17, -4, 73, 1]\u001b[0m\n",
      "\u001b[96mDMVM\t\t[68, 102, 79, 108, 69, 118]\u001b[0m\n",
      "\u001b[97mCOEF\t\t[68, 85, 73, 88, 68, 93]\u001b[0m\n",
      "------------------------------------------------------------------------------------------\n",
      "------------------------------------------------------------------------------------------\n",
      "\u001b[91mraw\t\t[0, 63, 96, 2, -73, 0, -2, 9, 17, 81]\u001b[0m\n",
      "\u001b[91m\t\t[119, 103, 0, 44, 70, 69, -78, 112, 91, 0]\u001b[0m\n",
      "\u001b[91m\t\t[0, 0, 0, 0, 28, 0, 0, 0, 0, 0]\u001b[0m\n",
      "\u001b[91m\t\t[0, 0, 96, 0, 0, -8, 0, 0, 0, 124]\u001b[0m\n",
      "\u001b[91m\t\t[0, 0, -99, 105, 11, 76, 32, 0, 0, 0]\u001b[0m\n",
      "\u001b[92mcol_idx\t\t[1, 2, 3, 4, 6, 7, 8, 9, 0, 1, 3, 4, 5, 6, 7, 8, 4, 2, 5, 9, 2, 3, 4, 5, 6]\u001b[0m\n",
      "\u001b[93mvalue\t\t[63, 96, 2, -73, -2, 9, 17, 81, 119, 103, 44, 70, 69, -78, 112, 91, 28, 96, -8, 124, -99, 105, 11, 76, 32]\u001b[0m\n",
      "\u001b[94mnode_info\t['10001011', '10001010', '00011010', '00111010', '01011010']\u001b[0m\n",
      "\u001b[95mSPMM\t\t[94, -87, -32, 76, 20, 17, 38, -29, -26, -117, 126, 12, 46, 35, 83, 16]\u001b[0m\n",
      "\u001b[95m\t\t[76, 82, 91, 13, -15, 106, 9, 28, 74, -83, -3, 53, 65, 79, 66, 116]\u001b[0m\n",
      "\u001b[95m\t\t[22, 8, 27, 3, 6, 22, 18, 25, 8, 23, 0, 0, 7, 11, 12, 16]\u001b[0m\n",
      "\u001b[95m\t\t[78, -108, 16, 70, 82, 36, 47, 66, -47, -95, 124, 59, -7, 35, 99, 55]\u001b[0m\n",
      "\u001b[95m\t\t[-22, 118, -57, 108, 44, 112, 64, 43, 5, -21, -15, 35, -67, 43, -97, 121]\u001b[0m\n",
      "\u001b[96mDMVM\t\t[-106, 15, 73, 81, -50]\u001b[0m\n",
      "\u001b[97mCOEF\t\t[0, 0, 0, 0, 0]\u001b[0m\n",
      "------------------------------------------------------------------------------------------\n",
      "------------------------------------------------------------------------------------------\n",
      "\u001b[91mraw\t\t[68, 31, 0, 71, 118, 4, 0, -47, 0, 19]\u001b[0m\n",
      "\u001b[91m\t\t[87, 83, 101, 0, 0, 0, 0, 104, 36, 0]\u001b[0m\n",
      "\u001b[91m\t\t[112, 121, 0, 0, 0, 75, 77, 0, 44, -19]\u001b[0m\n",
      "\u001b[91m\t\t[0, -76, -27, 0, 0, 0, 0, 0, 0, 0]\u001b[0m\n",
      "\u001b[91m\t\t[0, 0, 124, 0, 88, 75, 0, 0, 91, -65]\u001b[0m\n",
      "\u001b[92mcol_idx\t\t[0, 1, 3, 4, 5, 7, 9, 0, 1, 2, 7, 8, 0, 1, 5, 6, 8, 9, 1, 2, 2, 4, 5, 8, 9]\u001b[0m\n",
      "\u001b[93mvalue\t\t[68, 31, 71, 118, 4, -47, 19, 87, 83, 101, 104, 36, 112, 121, 75, 77, 44, -19, -76, -27, 124, 88, 75, 91, -65]\u001b[0m\n",
      "\u001b[94mnode_info\t['01111011', '01011010', '01101010', '00101010', '01011010']\u001b[0m\n",
      "\u001b[95mSPMM\t\t[72, 58, 21, 86, 36, 69, 113, 80, 42, -24, 21, 87, -60, 93, 76, 14]\u001b[0m\n",
      "\u001b[95m\t\t[94, 71, 82, 48, -4, 72, -8, -9, 70, -40, 80, 49, 98, 98, 101, 3]\u001b[0m\n",
      "\u001b[95m\t\t[62, 95, -59, 52, -51, 114, 65, -31, 90, -45, 22, 93, 71, 92, -91, 17]\u001b[0m\n",
      "\u001b[95m\t\t[-33, 8, -18, -86, 28, -35, -72, 70, -29, -17, -41, 43, -57, -22, -68, -10]\u001b[0m\n",
      "\u001b[95m\t\t[22, 77, 97, -6, 68, 79, 85, 16, 60, 105, 38, 86, 77, 77, 2, 29]\u001b[0m\n",
      "\u001b[96mDMVM\t\t[119, 92, 75, -108, 82]\u001b[0m\n",
      "\u001b[97mCOEF\t\t[119, 105, 97, 11, 100]\u001b[0m\n",
      "------------------------------------------------------------------------------------------\n",
      "------------------------------------------------------------------------------------------\n",
      "\u001b[91mraw\t\t[3, -16, 31, 0, 0, -17, 0, 75, 48, 47]\u001b[0m\n",
      "\u001b[91m\t\t[54, 0, 0, 41, 0, 84, 0, 0, -62, 25]\u001b[0m\n",
      "\u001b[91m\t\t[27, 0, 3, 39, 0, 99, 0, 121, 0, 0]\u001b[0m\n",
      "\u001b[91m\t\t[0, -19, 0, 0, 0, 0, 0, 60, 91, 0]\u001b[0m\n",
      "\u001b[92mcol_idx\t\t[0, 1, 2, 5, 7, 8, 9, 0, 3, 5, 8, 9, 0, 2, 3, 5, 7, 1, 7, 8]\u001b[0m\n",
      "\u001b[93mvalue\t\t[3, -16, 31, -17, 75, 48, 47, 54, 41, 84, -62, 25, 27, 3, 39, 99, 121, -19, 60, 91]\u001b[0m\n",
      "\u001b[94mnode_info\t['01111001', '01011000', '01011000', '00111000']\u001b[0m\n",
      "\u001b[95mSPMM\t\t[67, 16, 70, 47, 48, 75, -57, 96, 41, -44, 73, 21, 73, 81, 77, 76]\u001b[0m\n",
      "\u001b[95m\t\t[24, 88, -3, 87, 29, 27, 101, 9, -48, -47, -57, 75, -117, 41, -56, 10]\u001b[0m\n",
      "\u001b[95m\t\t[106, 103, 113, 90, 52, 65, -5, 13, 44, 16, -12, 44, 21, 74, -50, 71]\u001b[0m\n",
      "\u001b[95m\t\t[105, 63, 55, -33, 30, 102, -55, 78, 47, -28, 57, 41, 96, 97, 12, 84]\u001b[0m\n",
      "\u001b[96mDMVM\t\t[116, 76, 74, 121]\u001b[0m\n",
      "\u001b[97mCOEF\t\t[116, 96, 95, 118]\u001b[0m\n",
      "------------------------------------------------------------------------------------------\n",
      "------------------------------------------------------------------------------------------\n",
      "\u001b[91mraw\t\t[40, 88, 71, 0, 0, -93, 120, 0, 0, 88]\u001b[0m\n",
      "\u001b[91m\t\t[0, 107, 67, 0, 0, 0, 0, 0, -47, 127]\u001b[0m\n",
      "\u001b[92mcol_idx\t\t[0, 1, 2, 5, 6, 9, 1, 2, 8, 9]\u001b[0m\n",
      "\u001b[93mvalue\t\t[40, 88, 71, -93, 120, 88, 107, 67, -47, 127]\u001b[0m\n",
      "\u001b[94mnode_info\t['01100101', '01000100']\u001b[0m\n",
      "\u001b[95mSPMM\t\t[78, -82, -84, 80, 16, 84, 68, 98, 50, -53, 110, 2, -46, -51, 80, -20]\u001b[0m\n",
      "\u001b[95m\t\t[124, -127, -5, 102, 9, 40, 69, -9, -36, -58, 98, -70, -29, 16, 107, 61]\u001b[0m\n",
      "\u001b[96mDMVM\t\t[24, 9]\u001b[0m\n",
      "\u001b[97mCOEF\t\t[48, 33]\u001b[0m\n",
      "------------------------------------------------------------------------------------------\n",
      "------------------------------------------------------------------------------------------\n",
      "\u001b[91mraw\t\t[3, 33, 0, 47, 20, 0, 0, 0, 101, 15]\u001b[0m\n",
      "\u001b[91m\t\t[85, 0, 0, 73, 15, 0, 0, 0, 0, 103]\u001b[0m\n",
      "\u001b[91m\t\t[68, -37, 0, -114, 0, 60, 0, 102, -123, 0]\u001b[0m\n",
      "\u001b[91m\t\t[0, -10, 0, 61, 0, 0, 100, 36, 0, 0]\u001b[0m\n",
      "\u001b[92mcol_idx\t\t[0, 1, 3, 4, 8, 9, 0, 3, 4, 9, 0, 1, 3, 5, 7, 8, 1, 3, 6, 7]\u001b[0m\n",
      "\u001b[93mvalue\t\t[3, 33, 47, 20, 101, 15, 85, 73, 15, 103, 68, -37, -114, 60, 102, -123, -10, 61, 100, 36]\u001b[0m\n",
      "\u001b[94mnode_info\t['01101001', '01001000', '01101000', '01001000']\u001b[0m\n",
      "\u001b[95mSPMM\t\t[65, 25, 29, 15, 30, 79, 100, 84, 40, -65, 105, 53, 30, 109, 86, 91]\u001b[0m\n",
      "\u001b[95m\t\t[88, 7, 9, 77, 68, 107, 80, 85, -8, -93, 44, 107, -125, 93, 81, 14]\u001b[0m\n",
      "\u001b[95m\t\t[-22, 103, 52, 89, -51, -104, -91, -76, -35, 81, -102, -42, -4, -34, -109, -56]\u001b[0m\n",
      "\u001b[95m\t\t[33, 96, -41, 72, 66, 88, 47, 89, 64, 27, 89, 55, -82, -9, -27, 65]\u001b[0m\n",
      "\u001b[96mDMVM\t\t[83, 112, 16, 54]\u001b[0m\n",
      "\u001b[97mCOEF\t\t[83, 97, 99, 68]\u001b[0m\n",
      "------------------------------------------------------------------------------------------\n",
      "------------------------------------------------------------------------------------------\n",
      "\u001b[91mraw\t\t[-95, 98, 83, 0, 46, 0, 0, 0, 0, 0]\u001b[0m\n",
      "\u001b[91m\t\t[40, 100, 4, 32, 57, 60, 77, 0, 94, 0]\u001b[0m\n",
      "\u001b[91m\t\t[-84, 0, 0, 0, 39, 0, 0, 0, 29, 0]\u001b[0m\n",
      "\u001b[91m\t\t[5, 40, 0, 0, 0, -8, 53, -18, 0, 0]\u001b[0m\n",
      "\u001b[92mcol_idx\t\t[0, 1, 2, 4, 0, 1, 2, 3, 4, 5, 6, 8, 0, 4, 8, 0, 1, 5, 6, 7]\u001b[0m\n",
      "\u001b[93mvalue\t\t[-95, 98, 83, 46, 40, 100, 4, 32, 57, 60, 77, 94, -84, 39, 29, 5, 40, -8, 53, -18]\u001b[0m\n",
      "\u001b[94mnode_info\t['01001001', '10001000', '00111000', '01011000']\u001b[0m\n",
      "\u001b[95mSPMM\t\t[29, -63, 85, 110, 4, 52, 69, -13, 39, 75, 66, -28, 97, 11, 113, 114]\u001b[0m\n",
      "\u001b[95m\t\t[95, 67, -3, 32, 15, 97, 95, 79, 107, 10, 118, 85, 52, 124, 18, 73]\u001b[0m\n",
      "\u001b[95m\t\t[-11, -43, 28, -32, 25, 30, -25, 21, -2, 95, 60, -57, 4, -6, 72, 113]\u001b[0m\n",
      "\u001b[95m\t\t[0, -3, -66, 70, -14, 29, 62, -9, 46, 16, 38, -8, -15, -37, -8, -1]\u001b[0m\n",
      "\u001b[96mDMVM\t\t[104, 125, -57, 48]\u001b[0m\n",
      "\u001b[97mCOEF\t\t[104, 114, 47, 76]\u001b[0m\n",
      "------------------------------------------------------------------------------------------\n",
      "------------------------------------------------------------------------------------------\n",
      "\u001b[91mraw\t\t[85, -1, 0, 0, 0, 0, 34, 0, 0, 118]\u001b[0m\n",
      "\u001b[91m\t\t[70, -91, 61, 42, 77, 0, 0, 0, 0, 100]\u001b[0m\n",
      "\u001b[92mcol_idx\t\t[0, 1, 6, 9, 0, 1, 2, 3, 4, 9]\u001b[0m\n",
      "\u001b[93mvalue\t\t[85, -1, 34, 118, 70, -91, 61, 42, 77, 100]\u001b[0m\n",
      "\u001b[94mnode_info\t['01000101', '01100100']\u001b[0m\n",
      "\u001b[95mSPMM\t\t[81, -29, -64, 76, 40, 75, 97, 80, -25, -82, 27, 88, -82, 31, 27, 6]\u001b[0m\n",
      "\u001b[95m\t\t[76, 16, 30, 70, 67, 96, 86, 81, -15, -116, 51, 64, -64, 94, 105, 26]\u001b[0m\n",
      "\u001b[96mDMVM\t\t[86, 91]\u001b[0m\n",
      "\u001b[97mCOEF\t\t[86, 88]\u001b[0m\n",
      "------------------------------------------------------------------------------------------\n",
      "------------------------------------------------------------------------------------------\n",
      "\u001b[91mraw\t\t[79, 60, 0, 0, 109, 11, 0, 102, 0, -9]\u001b[0m\n",
      "\u001b[91m\t\t[0, 82, 0, 0, 79, 0, -93, 0, 0, 103]\u001b[0m\n",
      "\u001b[92mcol_idx\t\t[0, 1, 4, 5, 7, 9, 1, 4, 6, 9]\u001b[0m\n",
      "\u001b[93mvalue\t\t[79, 60, 109, 11, 102, -9, 82, 79, -93, 103]\u001b[0m\n",
      "\u001b[94mnode_info\t['01100101', '01000100']\u001b[0m\n",
      "\u001b[95mSPMM\t\t[60, 89, 105, 73, -11, 112, 8, 55, 66, 70, -24, -16, 76, 77, 20, 69]\u001b[0m\n",
      "\u001b[95m\t\t[79, -113, 44, 92, -10, 84, 65, 29, -91, -47, 13, -98, 8, 108, 74, 95]\u001b[0m\n",
      "\u001b[96mDMVM\t\t[104, -1]\u001b[0m\n",
      "\u001b[97mCOEF\t\t[104, 103]\u001b[0m\n",
      "------------------------------------------------------------------------------------------\n"
     ]
    }
   ],
   "source": [
    "print_sub_graphs()"
   ]
  },
  {
   "cell_type": "markdown",
   "metadata": {},
   "source": [
    "#### 6. Update testbench"
   ]
  },
  {
   "cell_type": "code",
   "execution_count": 130,
   "metadata": {},
   "outputs": [
    {
     "name": "stdout",
     "output_type": "stream",
     "text": [
      "d:/VLSI/Capstone d:/VLSI/Capstone/tb/v2/top_tb.sv d:/VLSI/Capstone/tb/inputs\n"
     ]
    }
   ],
   "source": [
    "root_path       = os.path.abspath(\"../../\").replace(\"\\\\\", \"/\")\n",
    "filename        = os.path.join(root_path, \"tb/v2/top_tb.sv\").replace(\"\\\\\", \"/\")\n",
    "file_path_input = os.path.join(root_path, \"tb/inputs\").replace(\"\\\\\", \"/\")"
   ]
  },
  {
   "cell_type": "markdown",
   "metadata": {},
   "source": [
    "##### Inputs"
   ]
  },
  {
   "cell_type": "code",
   "execution_count": 131,
   "metadata": {},
   "outputs": [],
   "source": [
    "wrt_col_idx = []\n",
    "wrt_value = []\n",
    "wrt_node_info = []\n",
    "\n",
    "for key, value in GRAPH.items():\n",
    "  wrt_col_idx.append(value[\"col_idx\"])\n",
    "  wrt_value.append(value[\"value\"])\n",
    "  wrt_node_info.append(value[\"node_info\"])"
   ]
  },
  {
   "cell_type": "code",
   "execution_count": 132,
   "metadata": {},
   "outputs": [
    {
     "name": "stdout",
     "output_type": "stream",
     "text": [
      " open d:/VLSI/Capstone/tb/inputs/col_idx.txt\n",
      " open d:/VLSI/Capstone/tb/inputs/value.txt\n",
      " open d:/VLSI/Capstone/tb/inputs/node_info.txt\n",
      " open d:/VLSI/Capstone/tb/inputs/weight.txt\n",
      " open d:/VLSI/Capstone/tb/inputs/a.txt\n"
     ]
    }
   ],
   "source": [
    "def write_list_to_file(file_path, data_list):\n",
    "  with open(file_path, 'w') as file:\n",
    "    print(f\" open {file_path}\" )\n",
    "    for item in data_list:\n",
    "      for it in item:\n",
    "        file.write(f\"{it}\\n\")\n",
    "def write_list_to_file2(file_path, data_list):\n",
    "  with open(file_path, 'w') as file:\n",
    "    print(f\" open {file_path}\" )\n",
    "    for item in data_list:\n",
    "      file.write(f\"{item}\\n\")\n",
    "\n",
    "if (UPDATE_INPUT_TXT):\n",
    "  write_list_to_file(file_path_input + \"/col_idx.txt\", wrt_col_idx)\n",
    "  write_list_to_file(file_path_input + \"/value.txt\", wrt_value)\n",
    "  write_list_to_file(file_path_input + \"/node_info.txt\", wrt_node_info)\n",
    "  write_list_to_file(file_path_input + \"/weight.txt\", weight)\n",
    "  write_list_to_file2(file_path_input + \"/a.txt\", a)"
   ]
  },
  {
   "cell_type": "markdown",
   "metadata": {},
   "source": [
    "##### Parameters"
   ]
  },
  {
   "cell_type": "code",
   "execution_count": 133,
   "metadata": {},
   "outputs": [
    {
     "name": "stdout",
     "output_type": "stream",
     "text": [
      "{'A_DEPTH': 32,\n",
      " 'COL_IDX_DEPTH': 502,\n",
      " 'H_NUM_OF_COLS': 10,\n",
      " 'H_NUM_OF_ROWS': 100,\n",
      " 'NODE_INFO_DEPTH': 100,\n",
      " 'NUM_OF_NODES': 6,\n",
      " 'VALUE_DEPTH': 502,\n",
      " 'WEIGHT_DEPTH': 160,\n",
      " 'WH_DEPTH': 100,\n",
      " 'W_NUM_OF_COLS': 16,\n",
      " 'W_NUM_OF_ROWS': 10}\n"
     ]
    }
   ],
   "source": [
    "_col_idx = [len(item) for item in wrt_col_idx]\n",
    "len_col_idx = 0\n",
    "for col in _col_idx:\n",
    "  len_col_idx += col\n",
    "\n",
    "_value = [len(item) for item in wrt_value]\n",
    "len_value = 0\n",
    "for val in _value:\n",
    "  len_value += val\n",
    "\n",
    "_node_info = [len(item) for item in wrt_node_info]\n",
    "len_node_info = 0\n",
    "for node in _node_info:\n",
    "  len_node_info += node\n",
    "\n",
    "params[\"COL_IDX_DEPTH\"] = len_col_idx\n",
    "params[\"VALUE_DEPTH\"] = len_value\n",
    "params[\"NODE_INFO_DEPTH\"] = len_node_info\n",
    "params[\"WEIGHT_DEPTH\"] = params[\"W_NUM_OF_ROWS\"] * params[\"W_NUM_OF_COLS\"]\n",
    "params[\"WH_DEPTH\"] = len_node_info\n",
    "params[\"A_DEPTH\"] = params[\"W_NUM_OF_COLS\"] * 2\n",
    "pprint(params)"
   ]
  },
  {
   "cell_type": "code",
   "execution_count": 134,
   "metadata": {},
   "outputs": [],
   "source": [
    "def update_parameters(filename, parameters):\n",
    "  with open(filename, 'r') as file:\n",
    "    file_data = file.readlines()\n",
    "\n",
    "  for i, line in enumerate(file_data):\n",
    "    for param, new_value in parameters.items():\n",
    "      found_param = \"parameter \" + param\n",
    "      # print(param)\n",
    "      if found_param in line:\n",
    "        file_data[i] = f\"  parameter {param}\\t\\t\\t= {new_value},\\n\"\n",
    "\n",
    "  with open(filename, 'w') as file:\n",
    "      file.writelines(file_data)\n",
    "\n",
    "if (UPDATE_INPUT_TXT):\n",
    "  update_parameters(filename, params)"
   ]
  },
  {
   "cell_type": "markdown",
   "metadata": {},
   "source": [
    "##### Root Path"
   ]
  },
  {
   "cell_type": "code",
   "execution_count": 135,
   "metadata": {},
   "outputs": [],
   "source": [
    "def update_root_path(filename, root_path):\n",
    "  with open(filename, 'r') as file:\n",
    "    file_data = file.readlines()\n",
    "\n",
    "  for i, line in enumerate(file_data):\n",
    "    if \"localparam string ROOT_PATH\" in line:\n",
    "      file_data[i] = f\"\\tlocalparam string ROOT_PATH = \\\"{root_path}\\\";\\n\"\n",
    "\n",
    "  with open(filename, 'w') as file:\n",
    "      file.writelines(file_data)\n",
    "\n",
    "update_root_path(filename, root_path)"
   ]
  }
 ],
 "metadata": {
  "kernelspec": {
   "display_name": "Python 3",
   "language": "python",
   "name": "python3"
  },
  "language_info": {
   "codemirror_mode": {
    "name": "ipython",
    "version": 3
   },
   "file_extension": ".py",
   "mimetype": "text/x-python",
   "name": "python",
   "nbconvert_exporter": "python",
   "pygments_lexer": "ipython3",
   "version": "3.12.7"
  }
 },
 "nbformat": 4,
 "nbformat_minor": 2
}
